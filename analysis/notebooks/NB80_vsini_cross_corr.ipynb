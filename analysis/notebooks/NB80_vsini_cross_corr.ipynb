{
 "cells": [
  {
   "cell_type": "markdown",
   "metadata": {},
   "source": [
    "## Spectral grid fitting for the SALT spectra"
   ]
  },
  {
   "cell_type": "markdown",
   "metadata": {},
   "source": [
    "We could do this with BT-Settl\n",
    "\n",
    "The spectra are available here, on a one-by-one basis:\n",
    "\n",
    "http://svo2.cab.inta-csic.es/theory/newov2/index.php?models=bt-settl\n",
    "\n",
    "\n",
    "The spectra then need to be rotationally broadened. The broadening can be done with the eniric python package:\n",
    "\n",
    "https://eniric.readthedocs.io/en/latest/\n",
    "\n",
    "and the sampling to the instrument resolution of SALT's spectrograph can be done with a native astropy tool via \"convolve\":\n",
    "\n",
    "https://docs.astropy.org/en/stable/convolution/\n",
    "\n",
    "\n",
    "CARMENES spectra:\n",
    "\n",
    "http://carmenes.cab.inta-csic.es/gto/jsp/reinersetal2018.jsp"
   ]
  },
  {
   "cell_type": "code",
   "execution_count": 1,
   "metadata": {},
   "outputs": [],
   "source": [
    "import numpy as np\n",
    "import pandas as pd\n",
    "\n",
    "import matplotlib.pyplot as plt\n",
    "\n",
    "from astropy.io import fits\n",
    "from astropy.constants import R_sun"
   ]
  },
  {
   "cell_type": "markdown",
   "metadata": {},
   "source": [
    "# Get spectra"
   ]
  },
  {
   "cell_type": "code",
   "execution_count": 51,
   "metadata": {},
   "outputs": [],
   "source": [
    "dirr = \"/home/ekaterina/Documents/001_science/MalachiteMountains/data\"\n",
    "sps = []\n",
    "sp = pd.read_csv(f\"{dirr}/salt/R202002090014.1.ffc.hwl.txt\", delimiter=\"\\s+\", names=[\"lambd\",\"flux\",\"flux_err\"])\n",
    "sps.append(sp)\n",
    "sps.append(pd.read_csv(f\"{dirr}/salt/R202002080017.1.ffc.hwl.txt\", delimiter=\"\\s+\", names=[\"lambd\",\"flux\",\"flux_err\"]))\n",
    "sps.append(pd.read_csv(f\"{dirr}/salt/R202002080014.1.ffc.hwl.txt\", delimiter=\"\\s+\", names=[\"lambd\",\"flux\",\"flux_err\"]))\n",
    "settl7 = pd.read_csv(f\"{dirr}/btsettl/2700K.tsv\", delimiter=\"\\s+\", skiprows=10, names=[\"lambd\",\"flux\"])\n",
    "settl8 = pd.read_csv(f\"{dirr}/btsettl/2800K.tsv\", delimiter=\"\\s+\", skiprows=10, names=[\"lambd\",\"flux\"])\n",
    "settl0 = pd.read_csv(f\"{dirr}/btsettl/3000K.tsv\", delimiter=\"\\s+\", skiprows=10, names=[\"lambd\",\"flux\"])\n",
    "settl6 = pd.read_csv(f\"{dirr}/btsettl/2600K.tsv\", delimiter=\"\\s+\", skiprows=10, names=[\"lambd\",\"flux\"])"
   ]
  },
  {
   "cell_type": "code",
   "execution_count": 3,
   "metadata": {},
   "outputs": [
    {
     "ename": "NameError",
     "evalue": "name 'dirr' is not defined",
     "output_type": "error",
     "traceback": [
      "\u001b[0;31m---------------------------------------------------------------------------\u001b[0m",
      "\u001b[0;31mNameError\u001b[0m                                 Traceback (most recent call last)",
      "\u001b[0;32m<ipython-input-3-29732f552b96>\u001b[0m in \u001b[0;36m<module>\u001b[0;34m\u001b[0m\n\u001b[1;32m      1\u001b[0m \u001b[0;32mfrom\u001b[0m \u001b[0mastropy\u001b[0m\u001b[0;34m.\u001b[0m\u001b[0mio\u001b[0m \u001b[0;32mimport\u001b[0m \u001b[0mfits\u001b[0m\u001b[0;34m\u001b[0m\u001b[0;34m\u001b[0m\u001b[0m\n\u001b[0;32m----> 2\u001b[0;31m \u001b[0mhdu\u001b[0m \u001b[0;34m=\u001b[0m \u001b[0mfits\u001b[0m\u001b[0;34m.\u001b[0m\u001b[0mopen\u001b[0m\u001b[0;34m(\u001b[0m\u001b[0;34mf\"{dirr}/carmenes/carmenes_cnleo_vis.fits\"\u001b[0m\u001b[0;34m)\u001b[0m\u001b[0;34m\u001b[0m\u001b[0;34m\u001b[0m\u001b[0m\n\u001b[0m\u001b[1;32m      3\u001b[0m \u001b[0;34m\u001b[0m\u001b[0m\n\u001b[1;32m      4\u001b[0m \u001b[0mlambd\u001b[0m \u001b[0;34m=\u001b[0m \u001b[0mhdu\u001b[0m\u001b[0;34m[\u001b[0m\u001b[0;36m4\u001b[0m\u001b[0;34m]\u001b[0m\u001b[0;34m.\u001b[0m\u001b[0mdata\u001b[0m\u001b[0;34m.\u001b[0m\u001b[0mflatten\u001b[0m\u001b[0;34m(\u001b[0m\u001b[0;34m)\u001b[0m\u001b[0;34m.\u001b[0m\u001b[0mbyteswap\u001b[0m\u001b[0;34m(\u001b[0m\u001b[0;34m)\u001b[0m\u001b[0;34m.\u001b[0m\u001b[0mnewbyteorder\u001b[0m\u001b[0;34m(\u001b[0m\u001b[0;34m)\u001b[0m\u001b[0;34m\u001b[0m\u001b[0;34m\u001b[0m\u001b[0m\n\u001b[1;32m      5\u001b[0m \u001b[0mflux\u001b[0m \u001b[0;34m=\u001b[0m \u001b[0mhdu\u001b[0m\u001b[0;34m[\u001b[0m\u001b[0;36m1\u001b[0m\u001b[0;34m]\u001b[0m\u001b[0;34m.\u001b[0m\u001b[0mdata\u001b[0m\u001b[0;34m.\u001b[0m\u001b[0mflatten\u001b[0m\u001b[0;34m(\u001b[0m\u001b[0;34m)\u001b[0m\u001b[0;34m.\u001b[0m\u001b[0mbyteswap\u001b[0m\u001b[0;34m(\u001b[0m\u001b[0;34m)\u001b[0m\u001b[0;34m.\u001b[0m\u001b[0mnewbyteorder\u001b[0m\u001b[0;34m(\u001b[0m\u001b[0;34m)\u001b[0m\u001b[0;34m\u001b[0m\u001b[0;34m\u001b[0m\u001b[0m\n",
      "\u001b[0;31mNameError\u001b[0m: name 'dirr' is not defined"
     ]
    }
   ],
   "source": [
    "from astropy.io import fits\n",
    "hdu = fits.open(f\"{dirr}/carmenes/carmenes_cnleo_vis.fits\")\n",
    "\n",
    "lambd = hdu[4].data.flatten().byteswap().newbyteorder()\n",
    "flux = hdu[1].data.flatten().byteswap().newbyteorder()\n",
    "sp4 = pd.DataFrame({\"lambd\":lambd, \"flux\":flux}).sort_values(by=\"lambd\", ascending=True)\n",
    "#plt.plot(lambd,flux)"
   ]
  },
  {
   "cell_type": "code",
   "execution_count": 106,
   "metadata": {},
   "outputs": [
    {
     "data": {
      "text/plain": [
       "(0.0, 5.0)"
      ]
     },
     "execution_count": 106,
     "metadata": {},
     "output_type": "execute_result"
    },
    {
     "data": {
      "image/png": "[encoded data removed]",
      "text/plain": [
       "<Figure size 864x288 with 1 Axes>"
      ]
     },
     "metadata": {
      "needs_background": "light"
     },
     "output_type": "display_data"
    }
   ],
   "source": [
    "%matplotlib inline\n",
    "\n",
    "\n",
    "\n",
    "plt.figure(figsize=(12,4))\n",
    "\n",
    "# CARMENES CN Leo\n",
    "#plt.scatter(lambd,flux*1e2, c=\"k\", s=2)\n",
    "\n",
    "plt.plot(settl7.lambd, settl7.flux/np.mean(settl7.flux), c=\"grey\")\n",
    "#plt.plot(settl8.lambd, settl8.flux/np.mean(settl8.flux), c=\"k\")\n",
    "#plt.plot(settl6.lambd, settl6.flux/np.mean(settl6.flux), c=\"k\")\n",
    "plt.plot(sp.lambd, sp.flux/np.mean(sp.flux),)\n",
    "\n",
    "plt.xlim(4000,8880)\n",
    "#plt.xlim(6570,6580)\n",
    "#plt.xlim(8100,8320) # Natrium\n",
    "\n",
    "# plt.xlim(4680,4690) # HeII nothing to be seen\n",
    "#plt.xlim(7940, 7950) # RbI as 7948\n",
    "#plt.xlim(5880,5900) # 5885 5887 Na I D doublet is in emission\n",
    "#plt.xlim(6500,6600) # 6565 H alpha is in emission, different intensities\n",
    "\n",
    "# sodium doublet, shift seen in the tellurics of the three spectra\n",
    "# Jenkins+2009 https://iopscience.iop.org/article/10.1088/0004-637X/704/2/975/pdf\n",
    "#plt.xlim(8170,8200) \n",
    "\n",
    "#plt.xlim(7640, 8050) #Fuhrmeister 2008 7699A KI line\n",
    "\n",
    "plt.ylim(0,5)"
   ]
  },
  {
   "cell_type": "code",
   "execution_count": 107,
   "metadata": {},
   "outputs": [
    {
     "data": {
      "text/plain": [
       "((116074, 3), (388718, 2))"
      ]
     },
     "execution_count": 107,
     "metadata": {},
     "output_type": "execute_result"
    }
   ],
   "source": [
    "sp.shape, settl7.shape"
   ]
  },
  {
   "cell_type": "code",
   "execution_count": 108,
   "metadata": {},
   "outputs": [],
   "source": [
    "wavmin, wavmax = 8000, 8200\n",
    "settl = settl7"
   ]
  },
  {
   "cell_type": "code",
   "execution_count": 109,
   "metadata": {},
   "outputs": [
    {
     "data": {
      "text/plain": [
       "(4625,)"
      ]
     },
     "execution_count": 109,
     "metadata": {},
     "output_type": "execute_result"
    }
   ],
   "source": [
    "wav = settl.loc[(settl.lambd>wavmin) & (settl.lambd<wavmax),\"lambd\"].values\n",
    "\n",
    "wav.shape"
   ]
  },
  {
   "cell_type": "markdown",
   "metadata": {},
   "source": [
    "# Rotational broadening\n",
    "\n",
    "[see eniric docs](https://eniric.readthedocs.io/en/latest/broadening.html#rotational-broadening)"
   ]
  },
  {
   "cell_type": "code",
   "execution_count": 110,
   "metadata": {},
   "outputs": [],
   "source": [
    "from eniric import broaden"
   ]
  },
  {
   "cell_type": "code",
   "execution_count": 111,
   "metadata": {},
   "outputs": [],
   "source": [
    "from astropy.convolution import Gaussian1DKernel, convolve\n"
   ]
  },
  {
   "cell_type": "code",
   "execution_count": 59,
   "metadata": {},
   "outputs": [
    {
     "data": {
      "text/plain": [
       "array([ 10,  30,  50,  70,  90, 110])"
      ]
     },
     "execution_count": 59,
     "metadata": {},
     "output_type": "execute_result"
    }
   ],
   "source": [
    "vsinis = np.arange(10,120,20)\n",
    "vsinis"
   ]
  },
  {
   "cell_type": "code",
   "execution_count": 60,
   "metadata": {},
   "outputs": [
    {
     "name": "stderr",
     "output_type": "stream",
     "text": [
      "100%|██████████| 4625/4625 [00:06<00:00, 690.55it/s]\n",
      "100%|██████████| 4625/4625 [00:06<00:00, 721.77it/s]\n",
      "100%|██████████| 4625/4625 [00:06<00:00, 739.75it/s]\n",
      "100%|██████████| 4625/4625 [00:05<00:00, 820.16it/s]\n",
      "100%|██████████| 4625/4625 [00:06<00:00, 744.45it/s]\n",
      "100%|██████████| 4625/4625 [00:05<00:00, 806.02it/s]\n"
     ]
    }
   ],
   "source": [
    "specs = pd.DataFrame({\"wav\":wav})\n",
    "\n",
    "for vsini in vsinis:\n",
    "    specs[vsini] = broaden.rotational_convolution(wav, settl.lambd, settl.flux, vsini)\n"
   ]
  },
  {
   "cell_type": "code",
   "execution_count": 62,
   "metadata": {},
   "outputs": [],
   "source": [
    "specs.to_csv(\"../../data/eniric/broad_settl7.csv\")"
   ]
  },
  {
   "cell_type": "code",
   "execution_count": 16,
   "metadata": {
    "scrolled": true
   },
   "outputs": [
    {
     "name": "stdout",
     "output_type": "stream",
     "text": [
      "(4625,)\n"
     ]
    },
    {
     "data": {
      "image/png": "[encoded data removed]",
      "text/plain": [
       "<Figure size 1152x432 with 1 Axes>"
      ]
     },
     "metadata": {
      "needs_background": "light"
     },
     "output_type": "display_data"
    }
   ],
   "source": [
    "plt.figure(figsize=(16,6))\n",
    "\n",
    "# Create kernel\n",
    "g = Gaussian1DKernel(stddev=.004)\n",
    "g2 = Gaussian1DKernel(stddev=.04)\n",
    "#specs.append(settl2.flux)\n",
    "sp[\"conv_flux\"] = convolve(sp.flux, g2)\n",
    "plt.errorbar(sp.lambd, convolve(sp.flux, g2), \n",
    "             yerr=sp.flux_err, c=\"k\", linewidth=1, label=\"SALT\")\n",
    "#plt.plot(lamb, settl2.flux, c=\"k\", linewidth=.5)\n",
    "for vsini, broad_spectrum in zip(vsinis, specs):\n",
    "    # Convolve data\n",
    "    z = convolve(broad_spectrum, g)\n",
    "    z = broad_spectrum\n",
    "    print(z.shape)\n",
    "    plt.scatter(wav, z, label=f\"{vsini} km/s\", s=2)\n",
    "\n",
    "    \n",
    "plt.xlim(wavmin,wavmax)\n",
    "#plt.xlim(wavmin,7960)\n",
    "#plt.xlim(8193,8200)\n",
    "#plt.xlim(4180,4200)\n",
    "#plt.xlim(5888,5899)\n",
    "plt.axvline(7699, c=\"r\")\n",
    "#plt.ylim(0,4)\n",
    "plt.legend();"
   ]
  },
  {
   "cell_type": "code",
   "execution_count": 112,
   "metadata": {},
   "outputs": [
    {
     "name": "stdout",
     "output_type": "stream",
     "text": [
      "(4625, 6) (4625,)\n"
     ]
    },
    {
     "data": {
      "text/html": [
       "<div>\n",
       "<style scoped>\n",
       "    .dataframe tbody tr th:only-of-type {\n",
       "        vertical-align: middle;\n",
       "    }\n",
       "\n",
       "    .dataframe tbody tr th {\n",
       "        vertical-align: top;\n",
       "    }\n",
       "\n",
       "    .dataframe thead th {\n",
       "        text-align: right;\n",
       "    }\n",
       "</style>\n",
       "<table border=\"1\" class=\"dataframe\">\n",
       "  <thead>\n",
       "    <tr style=\"text-align: right;\">\n",
       "      <th></th>\n",
       "      <th>10</th>\n",
       "      <th>30</th>\n",
       "      <th>50</th>\n",
       "      <th>70</th>\n",
       "      <th>90</th>\n",
       "      <th>110</th>\n",
       "    </tr>\n",
       "    <tr>\n",
       "      <th>wav</th>\n",
       "      <th></th>\n",
       "      <th></th>\n",
       "      <th></th>\n",
       "      <th></th>\n",
       "      <th></th>\n",
       "      <th></th>\n",
       "    </tr>\n",
       "  </thead>\n",
       "  <tbody>\n",
       "    <tr>\n",
       "      <th>8000.05</th>\n",
       "      <td>92991.982753</td>\n",
       "      <td>109862.902402</td>\n",
       "      <td>110641.474621</td>\n",
       "      <td>110818.895151</td>\n",
       "      <td>110008.114786</td>\n",
       "      <td>110200.157237</td>\n",
       "    </tr>\n",
       "    <tr>\n",
       "      <th>8000.05</th>\n",
       "      <td>92991.982753</td>\n",
       "      <td>109862.902402</td>\n",
       "      <td>110641.474621</td>\n",
       "      <td>110818.895151</td>\n",
       "      <td>110008.114786</td>\n",
       "      <td>110200.157237</td>\n",
       "    </tr>\n",
       "    <tr>\n",
       "      <th>8000.10</th>\n",
       "      <td>95739.471167</td>\n",
       "      <td>109947.823588</td>\n",
       "      <td>110548.466537</td>\n",
       "      <td>110845.876875</td>\n",
       "      <td>110184.011914</td>\n",
       "      <td>110275.839712</td>\n",
       "    </tr>\n",
       "    <tr>\n",
       "      <th>8000.15</th>\n",
       "      <td>104615.775945</td>\n",
       "      <td>109806.022205</td>\n",
       "      <td>110327.233310</td>\n",
       "      <td>110820.861262</td>\n",
       "      <td>110326.898810</td>\n",
       "      <td>110352.389567</td>\n",
       "    </tr>\n",
       "    <tr>\n",
       "      <th>8000.19</th>\n",
       "      <td>112515.198353</td>\n",
       "      <td>109947.584301</td>\n",
       "      <td>110222.786181</td>\n",
       "      <td>110810.088093</td>\n",
       "      <td>110377.217550</td>\n",
       "      <td>110356.657046</td>\n",
       "    </tr>\n",
       "    <tr>\n",
       "      <th>...</th>\n",
       "      <td>...</td>\n",
       "      <td>...</td>\n",
       "      <td>...</td>\n",
       "      <td>...</td>\n",
       "      <td>...</td>\n",
       "      <td>...</td>\n",
       "    </tr>\n",
       "    <tr>\n",
       "      <th>8199.79</th>\n",
       "      <td>149408.443519</td>\n",
       "      <td>144665.635042</td>\n",
       "      <td>143288.170736</td>\n",
       "      <td>144610.615494</td>\n",
       "      <td>145672.208446</td>\n",
       "      <td>145357.527562</td>\n",
       "    </tr>\n",
       "    <tr>\n",
       "      <th>8199.84</th>\n",
       "      <td>147552.167897</td>\n",
       "      <td>144703.503466</td>\n",
       "      <td>143630.190351</td>\n",
       "      <td>144921.795453</td>\n",
       "      <td>146219.901482</td>\n",
       "      <td>145902.605153</td>\n",
       "    </tr>\n",
       "    <tr>\n",
       "      <th>8199.89</th>\n",
       "      <td>145890.675307</td>\n",
       "      <td>144682.831191</td>\n",
       "      <td>144029.667380</td>\n",
       "      <td>145270.569047</td>\n",
       "      <td>146742.502657</td>\n",
       "      <td>146392.565177</td>\n",
       "    </tr>\n",
       "    <tr>\n",
       "      <th>8199.94</th>\n",
       "      <td>145169.422139</td>\n",
       "      <td>144660.639928</td>\n",
       "      <td>144440.875387</td>\n",
       "      <td>145660.214556</td>\n",
       "      <td>147242.777532</td>\n",
       "      <td>146882.076693</td>\n",
       "    </tr>\n",
       "    <tr>\n",
       "      <th>8199.99</th>\n",
       "      <td>146804.451221</td>\n",
       "      <td>144766.296770</td>\n",
       "      <td>144919.341915</td>\n",
       "      <td>146128.405775</td>\n",
       "      <td>147724.445623</td>\n",
       "      <td>147389.695621</td>\n",
       "    </tr>\n",
       "  </tbody>\n",
       "</table>\n",
       "<p>4625 rows × 6 columns</p>\n",
       "</div>"
      ],
      "text/plain": [
       "                   10             30             50             70   \\\n",
       "wav                                                                   \n",
       "8000.05   92991.982753  109862.902402  110641.474621  110818.895151   \n",
       "8000.05   92991.982753  109862.902402  110641.474621  110818.895151   \n",
       "8000.10   95739.471167  109947.823588  110548.466537  110845.876875   \n",
       "8000.15  104615.775945  109806.022205  110327.233310  110820.861262   \n",
       "8000.19  112515.198353  109947.584301  110222.786181  110810.088093   \n",
       "...                ...            ...            ...            ...   \n",
       "8199.79  149408.443519  144665.635042  143288.170736  144610.615494   \n",
       "8199.84  147552.167897  144703.503466  143630.190351  144921.795453   \n",
       "8199.89  145890.675307  144682.831191  144029.667380  145270.569047   \n",
       "8199.94  145169.422139  144660.639928  144440.875387  145660.214556   \n",
       "8199.99  146804.451221  144766.296770  144919.341915  146128.405775   \n",
       "\n",
       "                   90             110  \n",
       "wav                                    \n",
       "8000.05  110008.114786  110200.157237  \n",
       "8000.05  110008.114786  110200.157237  \n",
       "8000.10  110184.011914  110275.839712  \n",
       "8000.15  110326.898810  110352.389567  \n",
       "8000.19  110377.217550  110356.657046  \n",
       "...                ...            ...  \n",
       "8199.79  145672.208446  145357.527562  \n",
       "8199.84  146219.901482  145902.605153  \n",
       "8199.89  146742.502657  146392.565177  \n",
       "8199.94  147242.777532  146882.076693  \n",
       "8199.99  147724.445623  147389.695621  \n",
       "\n",
       "[4625 rows x 6 columns]"
      ]
     },
     "execution_count": 112,
     "metadata": {},
     "output_type": "execute_result"
    }
   ],
   "source": [
    "print(specs.shape, wav.shape)\n",
    "sp2 = sp[(sp.lambd>wavmin+.05) & (sp.lambd<wavmax-0.05)]\n",
    "sp2.lambd.min(), wav.min()\n",
    "specs"
   ]
  },
  {
   "cell_type": "code",
   "execution_count": 113,
   "metadata": {},
   "outputs": [],
   "source": [
    "import matplotlib.pyplot as plt\n",
    "from scipy import interpolate"
   ]
  },
  {
   "cell_type": "code",
   "execution_count": 114,
   "metadata": {},
   "outputs": [
    {
     "ename": "KeyError",
     "evalue": "\"None of ['wav'] are in the columns\"",
     "output_type": "error",
     "traceback": [
      "\u001b[0;31m---------------------------------------------------------------------------\u001b[0m",
      "\u001b[0;31mKeyError\u001b[0m                                  Traceback (most recent call last)",
      "\u001b[0;32m<ipython-input-114-cb0302f624c2>\u001b[0m in \u001b[0;36m<module>\u001b[0;34m\u001b[0m\n\u001b[0;32m----> 1\u001b[0;31m \u001b[0mspecs\u001b[0m \u001b[0;34m=\u001b[0m \u001b[0mspecs\u001b[0m\u001b[0;34m.\u001b[0m\u001b[0mset_index\u001b[0m\u001b[0;34m(\u001b[0m\u001b[0;34m\"wav\"\u001b[0m\u001b[0;34m)\u001b[0m\u001b[0;34m\u001b[0m\u001b[0;34m\u001b[0m\u001b[0m\n\u001b[0m\u001b[1;32m      2\u001b[0m \u001b[0mspecs\u001b[0m\u001b[0;34m\u001b[0m\u001b[0;34m\u001b[0m\u001b[0m\n",
      "\u001b[0;32m~/Documents/000_envs/forallpurposes/lib/python3.6/site-packages/pandas/core/frame.py\u001b[0m in \u001b[0;36mset_index\u001b[0;34m(self, keys, drop, append, inplace, verify_integrity)\u001b[0m\n\u001b[1;32m   4301\u001b[0m \u001b[0;34m\u001b[0m\u001b[0m\n\u001b[1;32m   4302\u001b[0m         \u001b[0;32mif\u001b[0m \u001b[0mmissing\u001b[0m\u001b[0;34m:\u001b[0m\u001b[0;34m\u001b[0m\u001b[0;34m\u001b[0m\u001b[0m\n\u001b[0;32m-> 4303\u001b[0;31m             \u001b[0;32mraise\u001b[0m \u001b[0mKeyError\u001b[0m\u001b[0;34m(\u001b[0m\u001b[0;34mf\"None of {missing} are in the columns\"\u001b[0m\u001b[0;34m)\u001b[0m\u001b[0;34m\u001b[0m\u001b[0;34m\u001b[0m\u001b[0m\n\u001b[0m\u001b[1;32m   4304\u001b[0m \u001b[0;34m\u001b[0m\u001b[0m\n\u001b[1;32m   4305\u001b[0m         \u001b[0;32mif\u001b[0m \u001b[0minplace\u001b[0m\u001b[0;34m:\u001b[0m\u001b[0;34m\u001b[0m\u001b[0;34m\u001b[0m\u001b[0m\n",
      "\u001b[0;31mKeyError\u001b[0m: \"None of ['wav'] are in the columns\""
     ]
    }
   ],
   "source": [
    "specs = specs.set_index(\"wav\")\n",
    "specs"
   ]
  },
  {
   "cell_type": "code",
   "execution_count": 115,
   "metadata": {},
   "outputs": [
    {
     "name": "stderr",
     "output_type": "stream",
     "text": [
      "/home/ekaterina/Documents/000_envs/forallpurposes/lib/python3.6/site-packages/ipykernel_launcher.py:7: SettingWithCopyWarning: \n",
      "A value is trying to be set on a copy of a slice from a DataFrame.\n",
      "Try using .loc[row_indexer,col_indexer] = value instead\n",
      "\n",
      "See the caveats in the documentation: https://pandas.pydata.org/pandas-docs/stable/user_guide/indexing.html#returning-a-view-versus-a-copy\n",
      "  import sys\n"
     ]
    }
   ],
   "source": [
    "for col in specs: \n",
    "\n",
    "    f = interpolate.interp1d( specs.index, specs[col],)\n",
    "\n",
    "    xnew = sp2.lambd.values\n",
    "    ynew = f(xnew)   # use interpolation function returned by `interp1d`\n",
    "    sp2[\"broad_flux_\" + str(col)] = ynew"
   ]
  },
  {
   "cell_type": "code",
   "execution_count": 142,
   "metadata": {},
   "outputs": [],
   "source": [
    "def corr_rot(vsini, wav, settl, sp):\n",
    "    # broaden\n",
    "    print(wav.shape, settl.lambd.shape, settl.flux.shape, vsini)\n",
    "    b = broaden.rotational_convolution(wav, settl.lambd, settl.flux, vsini[0], verbose=False)\n",
    "    # interpolate\n",
    "    f = interpolate.interp1d(wav, b,)\n",
    "    # use interpolation function returned by `interp1d`\n",
    "    ynew = pd.Series(f(sp.lambd.values))   \n",
    "    # correlate with flux\n",
    "    corr =  1.- sp.reset_index().flux.corr(ynew) #need to be minimized\n",
    "\n",
    "    return corr"
   ]
  },
  {
   "cell_type": "code",
   "execution_count": 143,
   "metadata": {},
   "outputs": [],
   "source": [
    "def corr_rot_opt(vsini):\n",
    "    return corr_rot(vsini, wav, settl, sp2)"
   ]
  },
  {
   "cell_type": "code",
   "execution_count": 144,
   "metadata": {},
   "outputs": [],
   "source": [
    "from scipy.optimize import minimize"
   ]
  },
  {
   "cell_type": "code",
   "execution_count": 145,
   "metadata": {},
   "outputs": [
    {
     "name": "stdout",
     "output_type": "stream",
     "text": [
      "(4625,) (388718,) (388718,) [58.]\n",
      "(4625,) (388718,) (388718,) [58.]\n",
      "(4625,) (388718,) (388718,) [59.]\n",
      "(4625,) (388718,) (388718,) [60.618034]\n",
      "(4625,) (388718,) (388718,) [59.]\n"
     ]
    },
    {
     "data": {
      "text/plain": [
       "array(59.)"
      ]
     },
     "execution_count": 145,
     "metadata": {},
     "output_type": "execute_result"
    }
   ],
   "source": [
    "x0 = []\n",
    "res = minimize(corr_rot_opt, 58, method='Powell', tol=1e-2)\n",
    "res.x"
   ]
  },
  {
   "cell_type": "markdown",
   "metadata": {},
   "source": [
    "- mehrere Modell-Lichtkurven kreuzkorrelieren ($\\log 5-5.5, T_{eff}=2600-2900$ K)\n",
    "- vsini - Korrelationswert Verteilung: Gauss? oder empirisch lassen?\n",
    "- nested sampling fuer die MCMC verwenden\n",
    "- einzelne Linien fitten wie Reiners und Basri oder Kreuzkorrelation wie bei Bailer-Jones?"
   ]
  },
  {
   "cell_type": "code",
   "execution_count": null,
   "metadata": {},
   "outputs": [],
   "source": []
  }
 ],
 "metadata": {
  "kernelspec": {
   "display_name": "forallpurposes",
   "language": "python",
   "name": "forallpurposes"
  },
  "language_info": {
   "codemirror_mode": {
    "name": "ipython",
    "version": 3
   },
   "file_extension": ".py",
   "mimetype": "text/x-python",
   "name": "python",
   "nbconvert_exporter": "python",
   "pygments_lexer": "ipython3",
   "version": "3.6.9"
  }
 },
 "nbformat": 4,
 "nbformat_minor": 1
}
