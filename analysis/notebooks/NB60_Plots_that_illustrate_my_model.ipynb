{
 "cells": [
  {
   "cell_type": "code",
   "execution_count": 2,
   "metadata": {},
   "outputs": [],
   "source": [
    "import numpy as np\n",
    "import pandas as pd\n",
    "\n",
    "import matplotlib.pyplot as plt\n",
    "%matplotlib inline\n",
    "\n",
    "from altaipony.fakeflares import aflare\n",
    "\n",
    "import os\n",
    "CWD = \"/\".join(os.getcwd().split(\"/\")[:-2])\n",
    "\n",
    "import pytest\n",
    "\n",
    "from funcs.model import daylength, on_off, lambert, great_circle_distance, dot_ensemble_circular, full_model\n",
    "from funcs.helper import no_nan_inf\n",
    "import matplotlib \n",
    "matplotlib.rc('xtick', labelsize=14) \n",
    "matplotlib.rc('ytick', labelsize=14) \n",
    "\n",
    "\n",
    "import astropy.units as u\n",
    "from astropy.constants import R_sun"
   ]
  },
  {
   "cell_type": "markdown",
   "metadata": {},
   "source": [
    "### Plots "
   ]
  },
  {
   "cell_type": "code",
   "execution_count": null,
   "metadata": {
    "scrolled": false
   },
   "outputs": [],
   "source": [
    "# plot a grid\n",
    "\n",
    "#latitudes, longitudes = dot_ensemble(np.pi/2-np.pi/8,np.pi/2-np.pi/10,4,num_pts=1e6)\n",
    "latitudes, longitudes, pos = dot_ensemble_circular(25/180*np.pi,np.pi/2-np.pi/8,3,num_pts=300)\n",
    "plt.figure(figsize=(8,8))\n",
    "plt.scatter(longitudes/np.pi*180, latitudes/np.pi*180)\n",
    "#plt.scatter([180/2-180/10],[180/2-180/8],)\n",
    "plt.xlabel(\"longitude [deg]\")\n",
    "plt.ylabel(\"latitude [deg]\")\n",
    "#plt.savefig(f\"{CWD}/analysis/plots/model/dot_ensemble.png\",dpi=300)"
   ]
  },
  {
   "cell_type": "code",
   "execution_count": null,
   "metadata": {},
   "outputs": [],
   "source": [
    "# Plot a model consisting of an ensemble of rotating flaring points on a sphere\n",
    "\n",
    "I = 65.5 * np.pi / 180.\n",
    "phi = np.linspace(0,6*np.pi,2000)\n",
    "ampl = 20\n",
    "fwhm = 3.\n",
    "flare = aflare(phi, 2.9, fwhm, ampl,)\n",
    "\n",
    "lamb, onoff, m = model(phi, latitudes, -longitudes, flare, I)"
   ]
  },
  {
   "cell_type": "code",
   "execution_count": null,
   "metadata": {},
   "outputs": [],
   "source": [
    "plt.figure(figsize=(10,4))\n",
    "for l,oo in zip(lamb,onoff):\n",
    "    plt.plot(phi/2/np.pi, l*oo*flare+1, alpha=.1, c=\"grey\")\n",
    "plt.plot(phi/2/np.pi,m+1,c=\"k\",linewidth=4, label=\"model light curve\")#,\\naverage of individual\\ngrid dots (in grey)\")\n",
    "plt.plot(phi/2/np.pi,flare+1, label=\"underlying flare\",c=\"r\",linestyle=\"dashed\",linewidth=4)\n",
    "plt.xlabel(\"time [rotation periods]\",fontsize=20)\n",
    "plt.ylabel(\"rel. flux\",fontsize=20)\n",
    "plt.xlim(0,3)\n",
    "plt.legend(fontsize=20)\n",
    "#plt.yscale(\"log\")\n",
    "plt.tight_layout()\n",
    "#plt.title(f\"Flare with rel. amplitude={ampl}, and FWHM={fwhm} rotation periods\",fontsize=20)\n",
    "#plt.savefig(f\"{CWD}/analysis/plots/model/rotating_flaring_ensemble_lightcurve.png\",dpi=300);\n"
   ]
  },
  {
   "cell_type": "code",
   "execution_count": null,
   "metadata": {},
   "outputs": [],
   "source": [
    "# create a heatmap of an ensemble of rotating flaring points on a sphere (need the cell above)\n",
    "from matplotlib.colors import LogNorm\n",
    "plt.figure(figsize=(15,10))\n",
    "plt.imshow((lamb*onoff*flare)[:,:], norm=LogNorm(),aspect=\"auto\")\n",
    "plt.colorbar(label=\"flux\")\n",
    "plt.xlabel(\"time\",fontsize=15)\n",
    "plt.ylabel(\"index of grid dot\",fontsize=15)\n",
    "#plt.savefig(f\"{CWD}/analysis/plots/model/rotating_flaring_ensemble_heatmap.png\",dpi=300)"
   ]
  },
  {
   "cell_type": "code",
   "execution_count": null,
   "metadata": {},
   "outputs": [],
   "source": [
    "# 10% percent area spot on the stellar surface\n",
    "percent = 10\n",
    "num_pts=1e4\n",
    "indices = np.arange(0, num_pts, dtype=float) + 0.5\n",
    "\n",
    "phi = np.arccos(1 - 2*indices/num_pts) #latitude\n",
    "theta = np.pi * (1 + 5**0.5) * indices  #longitude\n",
    "\n",
    "a = np.where(great_circle_distance(np.pi/3,- np.pi/4, np.pi/2 - phi%(2*np.pi), theta%(np.pi*2))<(percent/180*np.pi))[0]\n",
    "phi2 = phi[a]\n",
    "theta2 = theta[a]\n",
    "\n",
    "x, y, z = np.cos(theta) * np.sin(phi), np.sin(theta) * np.sin(phi), np.cos(phi);\n",
    "x2, y2, z2 = np.cos(theta2) * np.sin(phi2), np.sin(theta2) * np.sin(phi2), np.cos(phi2);\n",
    "ax = plt.figure(figsize=(10,10)).add_subplot(111, projection='3d')\n",
    "ax.scatter(x, y, z, s=.1);\n",
    "ax.scatter(x2, y2, z2, s=3.5, c=\"k\");\n",
    "#plt.savefig(f\"{CWD}/analysis/plots/model/10percent_spot_on_a_sphere.png\",dpi=300)"
   ]
  },
  {
   "cell_type": "code",
   "execution_count": null,
   "metadata": {},
   "outputs": [],
   "source": [
    "# plot a rotaionally modulated dot-flare\n",
    "flare = aflare(phi, 1.5, 1.3, 1,)\n",
    "plt.figure(figsize=(8,16))\n",
    "l = 80/180*np.pi\n",
    "I = np.arange(30,91,10)/180*np.pi\n",
    "for i in I:\n",
    "    D = daylength(l,i)\n",
    "    modulation = lambert(phi,i,l)\n",
    "    #plt.plot(phi/2/np.pi,modulation*on_off(D,phi),label=f\"i={i/np.pi*180:.0f}\" + r\"$^{\\circ}$\")\n",
    "    plt.plot(phi/2/np.pi,modulation*on_off(phi,D)*flare + i,label=f\"i={i/np.pi*180:.0f}\" + r\"$^{\\circ}$\",\n",
    "            linewidth=2,)\n",
    "    plt.plot(phi/2/np.pi,flare + i,c=\"grey\",linestyle=\"dotted\")\n",
    "plt.title(r\"bright flaring dot at latitude 80$^{\\circ}$ \",fontsize=15)\n",
    "plt.xlabel(\"time [rotation periods]\",fontsize=15)\n",
    "plt.ylabel(\"flux\",fontsize=15)\n",
    "plt.legend(loc=(1.1,0),fontsize=15)\n",
    "plt.xlim(0,3)\n",
    "plt.tight_layout()\n",
    "#plt.savefig(f\"{CWD}/analysis/plots/model/rotating_bright_dot_flare.png\",dpi=300)"
   ]
  },
  {
   "cell_type": "code",
   "execution_count": null,
   "metadata": {},
   "outputs": [],
   "source": [
    "# plot visibility as a function of day time\n",
    "plt.figure(figsize=(12,4))\n",
    "phi = np.linspace(0,6*np.pi,500) #(longitude)\n",
    "daylengths = np.arange(.1,.91,.2)\n",
    "for d in daylengths:\n",
    "    plt.plot(phi/2/np.pi, on_off(phi,d), linewidth=d*2,c=\"k\", label=f\"day length / Prot={d:.1f}\")\n",
    "plt.legend(loc=(1.05,0))\n",
    "plt.xlabel(\"time [days]\")\n",
    "plt.ylabel(\"visibility\")\n",
    "plt.tight_layout()\n",
    "#plt.savefig(f\"{CWD}/analysis/plots/model/visibility_vs_day.png\",dpi=300)"
   ]
  },
  {
   "cell_type": "code",
   "execution_count": null,
   "metadata": {},
   "outputs": [],
   "source": [
    "# Plot daylengths:\n",
    "\n",
    "I = np.linspace(0,np.pi/2,10)\n",
    "L = np.linspace(-np.pi/2,np.pi/2, 500)[::-1]\n",
    "plt.figure(figsize=(10,6))\n",
    "\n",
    "    \n",
    "for i in I:\n",
    "    dl = []\n",
    "    for l in L:\n",
    "        dl.append(daylength(l,i))\n",
    "    plt.plot(L/np.pi*180,dl,label=f\"i={i/np.pi*180:.1f}\")\n",
    "plt.xlabel(\"latitude \",fontsize=15)\n",
    "plt.ylabel(\"daylength\",fontsize=15)\n",
    "plt.ylim(-.1,1.1)\n",
    "plt.xlim(-90,90)\n",
    "plt.legend(loc=(1.1,0),fontsize=15)\n",
    "plt.tight_layout()\n",
    "#plt.savefig(f\"{CWD}/analysis/plots/model/daylength.png\",dpi=300)"
   ]
  },
  {
   "cell_type": "code",
   "execution_count": 4,
   "metadata": {},
   "outputs": [],
   "source": [
    "df = pd.read_csv(\"/home/ekaterina/Documents/001_science/MalachiteMountains/data/summary/lcsi.csv\")\n",
    "inits = pd.read_csv(\"/home/ekaterina/Documents/001_science/MalachiteMountains/data/summary/inits.csv\")\n"
   ]
  },
  {
   "cell_type": "code",
   "execution_count": null,
   "metadata": {
    "scrolled": false
   },
   "outputs": [],
   "source": [
    "for index in [4]:#range(5):\n",
    "    row = df.loc[index,]\n",
    "\n",
    "    I = row.i_mu\n",
    "    ID = int(row.ID)#80 * np.pi / 180.\n",
    "\n",
    "\n",
    "    valinits = inits[inits.ID ==str(ID)].iloc[-1]\n",
    "    Fth = valinits.Fth\n",
    "    R = valinits.R_Rsun * R_sun\n",
    "    qlum = valinits.qlum_erg_s\n",
    "\n",
    "\n",
    "    phi = np.linspace(0,6*np.pi,200)\n",
    "    ampl = 1\n",
    "    fwhm = 3\n",
    "    theta = 70 * np.pi / 180.\n",
    "    phi_a = np.pi\n",
    "    fig, axes = plt.subplots(nrows=10,ncols=10, figsize=(10,10),)\n",
    "    AX = [x for ax in axes for x in ax]\n",
    "    for x, theta in zip(range(10),np.linspace(-I+.1,np.pi/2-.1,10)):\n",
    "        for y, phi0 in zip(range(10),np.linspace(0,2*np.pi,10)):\n",
    "            m = full_model(phi_a, theta, ampl, fwhm, I, phi0=phi0,\n",
    "                          phi=phi, num_pts=100, qlum=qlum*u.erg/u.s,\n",
    "                          Fth=Fth*u.erg/u.s/(u.cm**2), R=R, median=10)\n",
    "            AX[10*x + y].plot(phi, m,)\n",
    "            AX[10*x + y].set_xticks([])\n",
    "            AX[10*x + y].set_yticks([])\n",
    "            AX[10*x + y].text(0.81, 0.75, f\"{theta/np.pi*180:.0f}, {phi0/np.pi*.5:.2f}\",\n",
    "                verticalalignment='bottom', horizontalalignment='right',\n",
    "                transform=AX[10*x + y].transAxes,\n",
    "                color='green', fontsize=12)\n",
    "            AX[10*x + y].set_ylim(9.5,25)\n",
    "            AX[10*x + y].set_xlim(phi[0],phi[-1])\n",
    "    plt.tight_layout()\n",
    "    #AX[4] = plt.text\n",
    "    plt.subplots_adjust(left=None, bottom=None, right=None, top=None, wspace=.0, hspace=.0)\n",
    "    plt.savefig(f\"/home/ekaterina/Documents/001_science/MalachiteMountains/analysis/plots/model/\"\n",
    "                f\"{ID}_{I/np.pi*180:.0f}_deg_latitude_flare_compilation.png\", dpi=300)"
   ]
  },
  {
   "cell_type": "code",
   "execution_count": 43,
   "metadata": {},
   "outputs": [
    {
     "name": "stderr",
     "output_type": "stream",
     "text": [
      "<>:28: DeprecationWarning: invalid escape sequence \\c\n",
      "<>:28: DeprecationWarning: invalid escape sequence \\c\n",
      "<>:28: DeprecationWarning: invalid escape sequence \\c\n",
      "<ipython-input-43-e4cafd77f11d>:28: DeprecationWarning: invalid escape sequence \\c\n",
      "  plt.scatter(d.theta/np.pi*180, (d.maxamp-10)/10., s=50, alpha=.3, label=f\"$i = {I/np.pi*180:.0f}^\\circ$\")\n",
      "/home/ekaterina/Documents/000_envs/forallpurposes/lib/python3.6/site-packages/ipykernel_launcher.py:22: FutureWarning: arrays to stack must be passed as a \"sequence\" type such as list or tuple. Support for non-sequence iterables such as generators is deprecated as of NumPy 1.16 and will raise an error in the future.\n"
     ]
    }
   ],
   "source": [
    "for index in range(5):\n",
    "    row = df.loc[index,]\n",
    "\n",
    "    I = row.i_mu\n",
    "    ID = int(row.ID)#80 * np.pi / 180.\n",
    "\n",
    "\n",
    "    valinits = inits[inits.ID ==str(ID)].iloc[-1]\n",
    "    Fth = valinits.Fth\n",
    "    R = valinits.R_Rsun * R_sun\n",
    "    qlum = valinits.qlum_erg_s\n",
    "\n",
    "\n",
    "    phi = np.linspace(0,6*np.pi,200)\n",
    "    ampl = 1\n",
    "    fwhm = 3\n",
    "    theta = 70 * np.pi / 180.\n",
    "    phi_a = np.pi\n",
    "    s = 20\n",
    "    Theta, Phi0, Maxamp = np.full(s**2,0),np.full(s**2,0),np.full(s**2,0)\n",
    "    theta_phi0 = np.meshgrid(np.linspace(-I,np.pi/2,s),np.linspace(0,2*np.pi,s))\n",
    "    positions = np.vstack(map(np.ravel, theta_phi0))\n",
    "    L = np.array(list(map(lambda x: np.max(full_model(phi_a, x[0], ampl, fwhm, I, phi0=x[1],\n",
    "                              phi=phi, num_pts=100, qlum=qlum*u.erg/u.s,\n",
    "                              Fth=Fth*u.erg/u.s/(u.cm**2), R=R, median=10)),positions.T)))\n",
    "    d = pd.DataFrame({\"theta\":positions[0],\"phi0\":positions[1],\"maxamp\":L,})\n",
    "    plt.figure(figsize=(8,6))\n",
    "    plt.scatter(d.theta/np.pi*180, (d.maxamp-10)/10., s=50, alpha=.3, label=f\"$i = {I/np.pi*180:.0f}^\\circ$\")\n",
    "    plt.xlim(-I/np.pi*180, 90)\n",
    "    plt.ylim(0,1)\n",
    "    plt.xlabel(r\"$\\theta_f$ [deg]\", fontsize=14)\n",
    "    plt.ylabel(r\"$a$\", fontsize=14)\n",
    "    plt.tight_layout()\n",
    "    plt.legend(loc=2, frameon=False)\n",
    "    plt.savefig(f\"/home/ekaterina/Documents/001_science/MalachiteMountains/analysis/plots/model/\"\n",
    "                f\"{ID}_{I/np.pi*180:.0f}_deg_latitude_flare_compilation_scatter.png\", dpi=300)\n",
    "    plt.close()"
   ]
  },
  {
   "cell_type": "code",
   "execution_count": 94,
   "metadata": {},
   "outputs": [
    {
     "name": "stderr",
     "output_type": "stream",
     "text": [
      "<>:37: DeprecationWarning: invalid escape sequence \\c\n",
      "<>:37: DeprecationWarning: invalid escape sequence \\c\n",
      "<>:37: DeprecationWarning: invalid escape sequence \\c\n",
      "<ipython-input-94-6c3ad8a4155f>:37: DeprecationWarning: invalid escape sequence \\c\n",
      "  label=f\"sec./prim. max at $i ={I/np.pi*180:.0f}^\\circ$\", c=\"b\")\n"
     ]
    }
   ],
   "source": [
    "for index in range(5):\n",
    "    row = df.loc[index,]\n",
    "\n",
    "    I = row.i_mu\n",
    "    ID = int(row.ID)#80 * np.pi / 180.\n",
    "\n",
    "\n",
    "    valinits = inits[inits.ID ==str(ID)].iloc[-1]\n",
    "    Fth = valinits.Fth\n",
    "    R = valinits.R_Rsun * R_sun\n",
    "    qlum = valinits.qlum_erg_s\n",
    "\n",
    "\n",
    "    phi = np.linspace(0,6*np.pi,200)\n",
    "    ampl = 1\n",
    "    fwhm = 3\n",
    "    theta = 70 * np.pi / 180.\n",
    "    phi_a = np.pi\n",
    "    s = 30\n",
    "    Theta, Phi0, Maxamp = np.full(s**2,0),np.full(s**2,0),np.full(s**2,0)\n",
    "    thetagrid = np.random.rand(s**2)*(np.pi/2 + I) - I\n",
    "    phigrid = np.random.rand(s**2)*2*np.pi/2\n",
    "    positions = np.array([thetagrid,phigrid])\n",
    "\n",
    "    secL = np.array(list(map(lambda x: func(x),positions.T)))\n",
    "    primL = np.array(list(map(lambda x: np.max(full_model(phi_a, x[0], ampl, fwhm, I, phi0=x[1],\n",
    "                              phi=phi, num_pts=100, qlum=qlum*u.erg/u.s,\n",
    "                              Fth=Fth*u.erg/u.s/(u.cm**2), R=R, median=10)),positions.T)))\n",
    "    d = pd.DataFrame({\"theta\":positions[0],\"phi0\":positions[1],\"maxamp\":primL,\"secondmax\":secL})\n",
    "    fig, ax = plt.subplots(nrows=1, ncols=1,figsize=(6,6))\n",
    "\n",
    "#     plt.scatter(d.theta/np.pi*180, (d.maxamp-10)/10., s=50, alpha=.3,\n",
    "#                 label=f\" prim. max. at $i ={I/np.pi*180:.0f}^\\circ$\", c=\"r\")\n",
    "#     plt.scatter(d.theta/np.pi*180, (d.secondmax-10)/10., s=50, alpha=.3,\n",
    "#                 label=f\"sec. max at $i ={I/np.pi*180:.0f}^\\circ$\", c=\"b\")\n",
    "    plt.scatter(d.theta/np.pi*180, (d.secondmax-10)/(d.maxamp-10), s=50, alpha=.3,\n",
    "            label=f\"sec./prim. max at $i ={I/np.pi*180:.0f}^\\circ$\", c=\"b\")\n",
    "    plt.xlim(-I/np.pi*180, 90)\n",
    "    plt.ylim(0,1)\n",
    "    plt.xlabel(r\"$\\theta_f$ [deg]\", fontsize=14)\n",
    "    plt.ylabel(r\"$a$\", fontsize=14)\n",
    "    plt.tight_layout()\n",
    "    plt.legend(loc=2, frameon=False)\n",
    "    plt.savefig(f\"/home/ekaterina/Documents/001_science/MalachiteMountains/analysis/plots/model/\"\n",
    "                f\"{ID}_{I/np.pi*180:.0f}_deg_latitude_flare_compilation_scatter_ratio.png\", dpi=300)\n",
    "    plt.close()"
   ]
  },
  {
   "cell_type": "code",
   "execution_count": 92,
   "metadata": {},
   "outputs": [],
   "source": [
    "def func(x):\n",
    "    m = full_model(phi_a, x[0], ampl, fwhm, I, phi0=x[1],\n",
    "                              phi=phi, num_pts=100, qlum=qlum*u.erg/u.s,\n",
    "                              Fth=Fth*u.erg/u.s/(u.cm**2), R=R, median=10)\n",
    "    peaks = find_peaks(m)[0]\n",
    "    if len(peaks) > 1:\n",
    "        return np.sort(m[peaks])[-2]\n",
    "    else: \n",
    "        return 10"
   ]
  },
  {
   "cell_type": "code",
   "execution_count": 80,
   "metadata": {},
   "outputs": [],
   "source": [
    "from scipy.signal import find_peaks\n",
    "import seaborn as sns"
   ]
  },
  {
   "cell_type": "code",
   "execution_count": 50,
   "metadata": {},
   "outputs": [
    {
     "data": {
      "text/plain": [
       "array([11.88144923, 10.50566567])"
      ]
     },
     "execution_count": 50,
     "metadata": {},
     "output_type": "execute_result"
    }
   ],
   "source": [
    "m[L[0][0]]"
   ]
  },
  {
   "cell_type": "code",
   "execution_count": null,
   "metadata": {},
   "outputs": [],
   "source": []
  }
 ],
 "metadata": {
  "kernelspec": {
   "display_name": "forallpurposes",
   "language": "python",
   "name": "forallpurposes"
  },
  "language_info": {
   "codemirror_mode": {
    "name": "ipython",
    "version": 3
   },
   "file_extension": ".py",
   "mimetype": "text/x-python",
   "name": "python",
   "nbconvert_exporter": "python",
   "pygments_lexer": "ipython3",
   "version": "3.6.9"
  }
 },
 "nbformat": 4,
 "nbformat_minor": 2
}
