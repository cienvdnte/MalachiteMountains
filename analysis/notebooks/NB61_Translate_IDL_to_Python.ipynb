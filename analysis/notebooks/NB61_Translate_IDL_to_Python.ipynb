{
 "cells": [
  {
   "cell_type": "code",
   "execution_count": 1,
   "metadata": {},
   "outputs": [
    {
     "name": "stderr",
     "output_type": "stream",
     "text": [
      "/usr/lib/python3.6/importlib/_bootstrap.py:219: RuntimeWarning: numpy.ufunc size changed, may indicate binary incompatibility. Expected 192 from C header, got 216 from PyObject\n",
      "  return f(*args, **kwds)\n",
      "/usr/lib/python3.6/importlib/_bootstrap.py:219: RuntimeWarning: numpy.ufunc size changed, may indicate binary incompatibility. Expected 192 from C header, got 216 from PyObject\n",
      "  return f(*args, **kwds)\n",
      "/usr/lib/python3.6/importlib/_bootstrap.py:219: RuntimeWarning: numpy.ufunc size changed, may indicate binary incompatibility. Expected 192 from C header, got 216 from PyObject\n",
      "  return f(*args, **kwds)\n"
     ]
    }
   ],
   "source": [
    "#sjs 2019 Dec 2\n",
    "\n",
    "#function to calculate the area of a flare given stellar properties\n",
    "#and the flare amplitude\n",
    "import numpy as np\n",
    "import pandas as pd\n",
    "\n",
    "from funcs.model import calculate_relative_flare_area, black_body_spectrum, dot_ensemble, lambert\n",
    "\n",
    "from altaipony.fakeflares import aflare\n",
    "\n",
    "import astropy.units as u\n",
    "from astropy.constants import R_sun\n",
    "\n",
    "# Read in response curve:\n",
    "response_curve = {\"TESS\":\"TESS.txt\",\n",
    "                       \"Kepler\":\"kepler_lowres.txt\"}\n",
    "for key, val in response_curve.items():\n",
    "    df = pd.read_csv(f\"static/{val}\",\n",
    "                     delimiter=\"\\s+\", skiprows=8)\n",
    "    df = df.sort_values(by=\"nm\", ascending=True)\n",
    "    rwav = (df.nm * 10).values * u.angstrom #convert to angstroms\n",
    "    rres = (df.response).values\n",
    "    response_curve[key] = (rwav,rres)\n",
    "    \n",
    "import matplotlib.pyplot as plt\n",
    "%matplotlib inline"
   ]
  },
  {
   "cell_type": "code",
   "execution_count": 2,
   "metadata": {},
   "outputs": [
    {
     "name": "stderr",
     "output_type": "stream",
     "text": [
      "WARNING: UnitsWarning: 'erg/s/cm**3' contains multiple slashes, which is discouraged by the FITS standard [astropy.units.format.generic]\n",
      "UnitsWarning: 'erg/s/cm**3' contains multiple slashes, which is discouraged by the FITS standard\n"
     ]
    }
   ],
   "source": [
    "# dist, rad, qflux, amp, mission, flaret=1e4\n",
    "rel_a = calculate_relative_flare_area(50, .1, 1e-12, 10, \"TESS\", flaret=1e4)"
   ]
  },
  {
   "cell_type": "code",
   "execution_count": null,
   "metadata": {},
   "outputs": [],
   "source": [
    "def calculate_specific_flare_flux(qlum, mission, flaret=1e4):\n",
    "    \"\"\"Get the flare area in rel. unit\n",
    "    \n",
    "    Parameters:\n",
    "    -----------\n",
    "    qlum : float\n",
    "        quiescent lum in erg/s/cm^2\n",
    "    mission : string\n",
    "        TESS or Kepler\n",
    "    flaret : float\n",
    "        flare black body temperature, default 10kK\n",
    "    \"\"\"\n",
    "    # Give units to everything:\n",
    "    qlum = qlum * u.erg/u.s\n",
    "    \n",
    "    # Read in response curve:\n",
    "    rres, rwav = response_curve[mission]\n",
    "    \n",
    "    # create an array to upsample the filter curve to\n",
    "    w = np.arange(3000,13001) * u.angstrom\n",
    "\n",
    "    # interpolate thermal spectrum onto response \n",
    "    # curve wavelength array, then sum up\n",
    "    # flux times response curve:\n",
    "\n",
    "    # Generate a thermal spectrum at the flare \n",
    "    # temperature over an array of wavelength w:\n",
    "    thermf = black_body_spectrum(w, flaret) \n",
    "    \n",
    "    # Interpolate response from rwav to w:\n",
    "    rres = np.interp(w,rwav,rres)\n",
    "    \n",
    "    # Integrating the flux of the thermal \n",
    "    # spectrum times the response curve over wavelength:\n",
    "    return np.trapz(thermf * rres, x=w)\n",
    "    "
   ]
  },
  {
   "cell_type": "code",
   "execution_count": null,
   "metadata": {},
   "outputs": [],
   "source": [
    "radius = 1.12#degree\n",
    "rdi = np.linspace(0.01,90,200)\n",
    "As = []"
   ]
  },
  {
   "cell_type": "code",
   "execution_count": null,
   "metadata": {},
   "outputs": [],
   "source": []
  },
  {
   "cell_type": "code",
   "execution_count": null,
   "metadata": {},
   "outputs": [],
   "source": [
    "qlum = 1e30 * u.erg/ u.s\n",
    "R = 0.1*R_sun\n",
    "lat, lon = (np.pi/4, 0)\n",
    "i = 80 * np.pi / 180\n",
    "a =12\n",
    "Fth = calculate_specific_flare_flux(qlum, mission=\"TESS\") \n",
    "for radius in rdi:\n",
    "    lats, lons = dot_ensemble(lat, lon, radius, num_pts=1e6)\n",
    "    N = len(lats)\n",
    "    A = (N * a * qlum) / (Fth * np.sum(lambert(lons, i, lats, phi0=0.)))\n",
    "    rnew = (np.arcsin(np.sqrt( A / (4 * np.pi * R**2) )) * 2.).to(\"deg\").value\n",
    "   # print(rnew,radius)\n",
    "    As.append(rnew)\n",
    "   "
   ]
  },
  {
   "cell_type": "code",
   "execution_count": null,
   "metadata": {},
   "outputs": [],
   "source": [
    "plt.figure(figsize=(5,5))\n",
    "plt.scatter(rdi,As)\n",
    "#plt.plot(np.array([0.1,10.]),np.array([.1,10.]))\n",
    "plt.xlim(0,4)\n",
    "#plt.ylim(0.2,.3)\n",
    "plt.xlabel(\"model radius [deg]\")\n",
    "plt.ylabel(\"science radius [deg]\")"
   ]
  },
  {
   "cell_type": "code",
   "execution_count": null,
   "metadata": {},
   "outputs": [],
   "source": [
    "((max(As)-min(As))/np.mean(As))*100"
   ]
  },
  {
   "cell_type": "code",
   "execution_count": null,
   "metadata": {},
   "outputs": [],
   "source": [
    "max(As), min(As)"
   ]
  },
  {
   "cell_type": "code",
   "execution_count": null,
   "metadata": {},
   "outputs": [],
   "source": [
    "#A/np.pi/(0.1*R_sun)**2)\n",
    "R = 0.1*R_sun\n",
    "A.decompose()"
   ]
  },
  {
   "cell_type": "code",
   "execution_count": null,
   "metadata": {},
   "outputs": [],
   "source": [
    "(A/4/np.pi/R**2).decompose()"
   ]
  },
  {
   "cell_type": "code",
   "execution_count": null,
   "metadata": {},
   "outputs": [],
   "source": [
    "radius = (np.arcsin(np.sqrt( A / (4 * np.pi * R**2) )) * 2.).to(\"deg\")"
   ]
  },
  {
   "cell_type": "code",
   "execution_count": null,
   "metadata": {},
   "outputs": [],
   "source": [
    "radius"
   ]
  },
  {
   "cell_type": "code",
   "execution_count": null,
   "metadata": {},
   "outputs": [],
   "source": []
  }
 ],
 "metadata": {
  "kernelspec": {
   "display_name": "tessenv",
   "language": "python",
   "name": "tessenv"
  },
  "language_info": {
   "codemirror_mode": {
    "name": "ipython",
    "version": 3
   },
   "file_extension": ".py",
   "mimetype": "text/x-python",
   "name": "python",
   "nbconvert_exporter": "python",
   "pygments_lexer": "ipython3",
   "version": "3.6.8"
  }
 },
 "nbformat": 4,
 "nbformat_minor": 2
}
