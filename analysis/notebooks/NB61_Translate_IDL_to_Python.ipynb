{
 "cells": [
  {
   "cell_type": "code",
   "execution_count": 1,
   "metadata": {},
   "outputs": [
    {
     "name": "stderr",
     "output_type": "stream",
     "text": [
      "/usr/lib/python3.6/importlib/_bootstrap.py:219: RuntimeWarning: numpy.ufunc size changed, may indicate binary incompatibility. Expected 192 from C header, got 216 from PyObject\n",
      "  return f(*args, **kwds)\n",
      "/usr/lib/python3.6/importlib/_bootstrap.py:219: RuntimeWarning: numpy.ufunc size changed, may indicate binary incompatibility. Expected 192 from C header, got 216 from PyObject\n",
      "  return f(*args, **kwds)\n",
      "/usr/lib/python3.6/importlib/_bootstrap.py:219: RuntimeWarning: numpy.ufunc size changed, may indicate binary incompatibility. Expected 192 from C header, got 216 from PyObject\n",
      "  return f(*args, **kwds)\n"
     ]
    }
   ],
   "source": [
    "#sjs 2019 Dec 2\n",
    "\n",
    "#function to calculate the area of a flare given stellar properties\n",
    "#and the flare amplitude\n",
    "import numpy as np\n",
    "import pandas as pd\n",
    "\n",
    "from funcs.model import (calculate_specific_flare_flux,\n",
    "                         black_body_spectrum,\n",
    "                         dot_ensemble_circular,\n",
    "                         lambert, model,\n",
    "                         calculate_angular_radius)\n",
    "from funcs.funcs import no_nan_inf\n",
    "\n",
    "from altaipony.fakeflares import aflare\n",
    "\n",
    "import astropy.units as u\n",
    "from astropy.constants import R_sun\n",
    "\n",
    "\n",
    "import matplotlib.pyplot as plt\n",
    "%matplotlib inline\n",
    "import pytest\n"
   ]
  },
  {
   "cell_type": "code",
   "execution_count": 3,
   "metadata": {},
   "outputs": [],
   "source": [
    "# constants\n",
    "qlum = 1e30 * u.erg/ u.s\n",
    "Fth = calculate_specific_flare_flux(mission=\"TESS\") \n",
    "R = 0.1*R_sun\n",
    "median = 1e2\n",
    "\n",
    "# numerical parameters\n",
    "num_pts = 100\n",
    "\n",
    "# model parameters\n",
    "theta_a, phi_a = (79*np.pi/180, 1.3)\n",
    "i = 80 * np.pi / 180\n",
    "a = 1\n",
    "fwhm =3.\n",
    "\n",
    "# time series\n",
    "phi0 = 0 #is this correct offset?\n",
    "phi = np.linspace(phi0,6*np.pi+phi0,1e3)\n",
    "\n",
    "# model steps\n",
    "\n"
   ]
  },
  {
   "cell_type": "code",
   "execution_count": null,
   "metadata": {},
   "outputs": [],
   "source": []
  },
  {
   "cell_type": "code",
   "execution_count": null,
   "metadata": {},
   "outputs": [],
   "source": [
    "fig, ax = plt.subplots(nrows=5,ncols=5,figsize=(20,20),sharex=True, sharey=True)\n",
    "axes = [x for sl in ax for x in sl]\n",
    "rang = 10/180*np.pi\n",
    "theta_as = np.linspace(i-rang,i+1/180*np.pi,25)\n",
    "for A,theta_a in zip(axes,theta_as):\n",
    "    A.plot(phi/2/np.pi, \n",
    "           big_model(phi_a, theta_a, a, fwhm, i, phi0=0,\n",
    "              phi=phi, num_pts=100, qlum=qlum,\n",
    "              Fth=Fth, R=R, median=100),label=f\"{theta_a*180/np.pi:.1f}\",\n",
    "              c=\"k\")\n",
    "    A.legend()"
   ]
  },
  {
   "cell_type": "code",
   "execution_count": null,
   "metadata": {},
   "outputs": [],
   "source": []
  },
  {
   "cell_type": "code",
   "execution_count": null,
   "metadata": {},
   "outputs": [],
   "source": []
  }
 ],
 "metadata": {
  "kernelspec": {
   "display_name": "tessenv",
   "language": "python",
   "name": "tessenv"
  },
  "language_info": {
   "codemirror_mode": {
    "name": "ipython",
    "version": 3
   },
   "file_extension": ".py",
   "mimetype": "text/x-python",
   "name": "python",
   "nbconvert_exporter": "python",
   "pygments_lexer": "ipython3",
   "version": "3.6.8"
  }
 },
 "nbformat": 4,
 "nbformat_minor": 2
}
