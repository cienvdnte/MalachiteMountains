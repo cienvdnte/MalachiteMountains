{
 "cells": [
  {
   "cell_type": "markdown",
   "metadata": {},
   "source": [
    "# Contents\n",
    "\n",
    "Pick up each light curve and guesstimate starting points for the MCMC fit"
   ]
  },
  {
   "cell_type": "code",
   "execution_count": null,
   "metadata": {},
   "outputs": [],
   "source": [
    "# basics\n",
    "import numpy as np\n",
    "import pandas as pd\n",
    "\n",
    "\n",
    "# matplotlib\n",
    "import matplotlib.pyplot as plt\n",
    "%matplotlib inline\n",
    "\n",
    "# constants and units\n",
    "from astropy.constants import R_sun, R_jup\n",
    "import astropy.units as u\n",
    "\n",
    "# modulation model\n",
    "from funcs.model import (full_model,\n",
    "                         aflare,\n",
    "                         aflare_decoupled,\n",
    "                         calculate_specific_flare_flux,\n",
    "                         calculate_angular_radius)\n",
    "\n",
    "\n",
    "# data management\n",
    "import os\n",
    "CWD = \"/\".join(os.getcwd().split(\"/\")[:-2])\n",
    "\n",
    "\n",
    "# ignore some output\n",
    "import warnings\n",
    "warnings.simplefilter(\"ignore\")\n"
   ]
  },
  {
   "cell_type": "code",
   "execution_count": null,
   "metadata": {},
   "outputs": [],
   "source": [
    "# Read in target parameters\n",
    "lcs = pd.read_csv(f\"{CWD}/data/summary/lcs.csv\")\n",
    "\n",
    "# Choose target from table\n",
    "target = lcs.iloc[3]"
   ]
  },
  {
   "cell_type": "code",
   "execution_count": null,
   "metadata": {},
   "outputs": [],
   "source": [
    "# Pick up inclination and uncertainty (just for initial fits, we are using empirical priors later)\n",
    "i_mu, i_sigma = target.i_mu, target.i_sigma\n",
    "\n",
    "# Pick up quiescent luminosity\n",
    "qlum = target.tlum * u.erg/u.s\n",
    "\n",
    "# Pick up stellar radius\n",
    "R = target.rad * R_sun\n",
    "\n",
    "target"
   ]
  },
  {
   "cell_type": "code",
   "execution_count": null,
   "metadata": {},
   "outputs": [],
   "source": [
    "# every timestamp uniquely maps to one light curve\n",
    "tstamp =\"10_12_2020_07_05\""
   ]
  },
  {
   "cell_type": "code",
   "execution_count": null,
   "metadata": {},
   "outputs": [],
   "source": [
    "gplc = pd.read_csv(f\"{CWD}/data/lcs/{tstamp}_{target.ID}.csv\")\n",
    "gplc.head()"
   ]
  },
  {
   "cell_type": "markdown",
   "metadata": {},
   "source": [
    "# Play with parameters to get a first guess for the MCMC "
   ]
  },
  {
   "cell_type": "code",
   "execution_count": null,
   "metadata": {},
   "outputs": [],
   "source": [
    "# When fitting more than one flare, do one flare first, then the next etc.\n",
    "\n",
    "# Flare peak time\n",
    "phi_a =15.\n",
    "# Active region latitude\n",
    "theta_a = 1.4\n",
    "\n",
    "# Flare amplitude\n",
    "a = .5\n",
    "\n",
    "# 2*FWHM of flare\n",
    "fwhm1 = 4.96\n",
    "fwhm2 = 4.96\n",
    "\n",
    "\n",
    "phi0 =-2.61\n",
    "\n",
    "\n",
    "# if there are two peaks\n",
    "#---------------------------------------\n",
    "\n",
    "# Flare peak time\n",
    "# phi_a2 =17.8\n",
    "\n",
    "\n",
    "# # Flare amplitude\n",
    "# a2 = .05053675464244\n",
    "\n",
    "# # 2*FWHM of flare\n",
    "# fwhm12 = 1.1\n",
    "# fwhm22 =1.4\n",
    "#-----------------------------------------\n",
    "\n",
    "Fth = calculate_specific_flare_flux(\"TESS\", flaret=1e4)\n",
    "radius = calculate_angular_radius(Fth, a, qlum, R,)\n",
    "\n",
    "plt.figure(figsize=(10,7))\n",
    "plt.plot(gplc.phi,gplc.flux)\n",
    "phi= gplc.phi.values\n",
    "median = gplc.median_.iloc[0]\n",
    "\n",
    "for i in np.linspace(0,np.pi/2,10):\n",
    "    plt.plot(phi, full_model(phi_a, theta_a, a, fwhm1, fwhm2, i, phi0=phi0,\n",
    "               phi=phi, num_pts=50, qlum=qlum,\n",
    "               Fth=Fth, R=R, median=median), c=\"r\", alpha=.31,)\n",
    "    \n",
    "plt.plot(phi, full_model(phi_a, theta_a, a, fwhm1, fwhm2, i_mu, phi0=phi0,\n",
    "           phi=phi, num_pts=50, qlum=qlum,\n",
    "           Fth=Fth, R=R, median=median), c=\"k\", alpha=1,);\n",
    "\n",
    "\n",
    "\n",
    "# add this to the above if you are estimating two peaks\n",
    "\n",
    "#  + full_model(phi_a2, theta_a, a2, fwhm12, fwhm22, i, phi0=phi0,\n",
    "#                phi=phi, num_pts=50, qlum=qlum,\n",
    "#                Fth=Fth, R=R, median=median)-median\n",
    "    \n",
    "#     + full_model(phi_a2, theta_a, a2, fwhm12, fwhm22, i_mu, phi0=phi0,\n",
    "#                phi=phi, num_pts=50, qlum=qlum,\n",
    "#                Fth=Fth, R=R, median=median)-median"
   ]
  },
  {
   "cell_type": "markdown",
   "metadata": {},
   "source": [
    "# Write initializers to file"
   ]
  },
  {
   "cell_type": "code",
   "execution_count": null,
   "metadata": {},
   "outputs": [],
   "source": [
    "# Different flare/active region configurations have different numbers of parameters\n",
    "log_probs = {\"log_probability\": 7, # one flare, one active region\n",
    "             \"log_probability_2flares\": 11, # two flares, one active region\n",
    "            }\n",
    "\n",
    "# Choose model:\n",
    "log_prob = \"log_probability_2flares\"\n",
    "nparam = log_probs[log_prob]\n",
    "\n",
    "\n",
    "# Save starting points and parameters for MCMC\n",
    "# one row per flare\n",
    "# for two flare solutions, add suffix \"a\" and \"b\" to the ID below\n",
    "suffix=\"\"\n",
    "with open(f\"{CWD}/data/summary/inits_decoupled.csv\", \"a\") as f:\n",
    "    firstout = (\"date,ID,phi_a,theta_a,a,fwhm1,fwhm2,Fth,phi0,\"\\\n",
    "                \"i_mu,i_sigma,radius_deg,R_Rsun,qlum_erg_s,\"\\\n",
    "                \"median,log_prob,nparam\\n\")\n",
    "    out = (f\"{tstamp},{target.ID}{suffix},{phi_a},{theta_a},{a},{fwhm1},{fwhm2},{Fth.value},\"\\\n",
    "           f\"{phi0},{i_mu},{i_sigma},{radius},{(R/R_sun).value},{qlum.value},\"\\\n",
    "           f\"{median},{log_prob},{nparam}\\n\")\n",
    "   # f.write(firstout) #if you are starting a new table\n",
    "    f.write(out)"
   ]
  },
  {
   "cell_type": "code",
   "execution_count": null,
   "metadata": {},
   "outputs": [],
   "source": []
  }
 ],
 "metadata": {
  "kernelspec": {
   "display_name": "forallpurposes",
   "language": "python",
   "name": "forallpurposes"
  },
  "language_info": {
   "codemirror_mode": {
    "name": "ipython",
    "version": 3
   },
   "file_extension": ".py",
   "mimetype": "text/x-python",
   "name": "python",
   "nbconvert_exporter": "python",
   "pygments_lexer": "ipython3",
   "version": "3.6.9"
  }
 },
 "nbformat": 4,
 "nbformat_minor": 1
}
