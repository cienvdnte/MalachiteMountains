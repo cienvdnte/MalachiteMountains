{
 "cells": [
  {
   "cell_type": "code",
   "execution_count": 1,
   "metadata": {},
   "outputs": [
    {
     "name": "stderr",
     "output_type": "stream",
     "text": [
      "/home/ekaterina/Documents/000_envs/forallpurposes/lib/python3.6/importlib/_bootstrap.py:219: RuntimeWarning: numpy.ufunc size changed, may indicate binary incompatibility. Expected 192 from C header, got 216 from PyObject\n",
      "  return f(*args, **kwds)\n",
      "NumExpr defaulting to 8 threads.\n"
     ]
    }
   ],
   "source": [
    "import numpy as np\n",
    "import pandas as pd\n",
    "\n",
    "from funcs.model import FlareModulator\n",
    "\n",
    "import astropy.units as u\n",
    "from astropy.constants import R_sun\n",
    "\n",
    "torad = lambda x: x / 180. * np.pi\n",
    "\n",
    "import matplotlib.pyplot as plt\n",
    "%matplotlib inline"
   ]
  },
  {
   "cell_type": "code",
   "execution_count": 16,
   "metadata": {},
   "outputs": [],
   "source": [
    "# Get best-fit results\n",
    "# _deprecated\n",
    "df = pd.read_csv(\"../results/mcmc/15_12_2020_GP_mcmcoutput.csv\")\n",
    "\n",
    "# Pick up stellar parameters\n",
    "props = pd.read_csv(f\"../../data/summary/lcs.csv\")\n",
    "\n",
    "# Get MCMC inputs\n",
    "mcmcinit = pd.read_csv(f\"../../data/summary/inits_decoupled_GP.csv\")"
   ]
  },
  {
   "cell_type": "code",
   "execution_count": 17,
   "metadata": {},
   "outputs": [
    {
     "data": {
      "text/html": [
       "<div>\n",
       "<style scoped>\n",
       "    .dataframe tbody tr th:only-of-type {\n",
       "        vertical-align: middle;\n",
       "    }\n",
       "\n",
       "    .dataframe tbody tr th {\n",
       "        vertical-align: top;\n",
       "    }\n",
       "\n",
       "    .dataframe thead th {\n",
       "        text-align: right;\n",
       "    }\n",
       "</style>\n",
       "<table border=\"1\" class=\"dataframe\">\n",
       "  <thead>\n",
       "    <tr style=\"text-align: right;\">\n",
       "      <th></th>\n",
       "      <th>ED_s_16</th>\n",
       "      <th>ED_s_50</th>\n",
       "      <th>ED_s_84</th>\n",
       "      <th>Eflare_erg_16</th>\n",
       "      <th>Eflare_erg_50</th>\n",
       "      <th>Eflare_erg_84</th>\n",
       "      <th>ID</th>\n",
       "      <th>a_16</th>\n",
       "      <th>a_50</th>\n",
       "      <th>a_84</th>\n",
       "      <th>...</th>\n",
       "      <th>phase_deg_50</th>\n",
       "      <th>phase_deg_84</th>\n",
       "      <th>rad_rsun_16</th>\n",
       "      <th>rad_rsun_50</th>\n",
       "      <th>rad_rsun_84</th>\n",
       "      <th>suffix</th>\n",
       "      <th>t0_d_16</th>\n",
       "      <th>t0_d_50</th>\n",
       "      <th>t0_d_84</th>\n",
       "      <th>tstamp</th>\n",
       "    </tr>\n",
       "  </thead>\n",
       "  <tbody>\n",
       "    <tr>\n",
       "      <th>0</th>\n",
       "      <td>2489.574477</td>\n",
       "      <td>2613.735051</td>\n",
       "      <td>2761.358049</td>\n",
       "      <td>3.236447e+33</td>\n",
       "      <td>3.397856e+33</td>\n",
       "      <td>3.589765e+33</td>\n",
       "      <td>452922110</td>\n",
       "      <td>0.425608</td>\n",
       "      <td>0.468987</td>\n",
       "      <td>0.510600</td>\n",
       "      <td>...</td>\n",
       "      <td>298.215052</td>\n",
       "      <td>304.049226</td>\n",
       "      <td>8.392326</td>\n",
       "      <td>8.812874</td>\n",
       "      <td>9.198803</td>\n",
       "      <td>NaN</td>\n",
       "      <td>1493.930922</td>\n",
       "      <td>1493.931292</td>\n",
       "      <td>1493.931683</td>\n",
       "      <td>10_12_2020_07_05</td>\n",
       "    </tr>\n",
       "    <tr>\n",
       "      <th>1</th>\n",
       "      <td>21765.855753</td>\n",
       "      <td>26408.882022</td>\n",
       "      <td>30825.614977</td>\n",
       "      <td>2.451641e+34</td>\n",
       "      <td>2.974618e+34</td>\n",
       "      <td>3.472105e+34</td>\n",
       "      <td>277539431</td>\n",
       "      <td>2.140930</td>\n",
       "      <td>2.609415</td>\n",
       "      <td>3.055521</td>\n",
       "      <td>...</td>\n",
       "      <td>232.093998</td>\n",
       "      <td>234.611761</td>\n",
       "      <td>16.743598</td>\n",
       "      <td>18.545130</td>\n",
       "      <td>20.130920</td>\n",
       "      <td>NaN</td>\n",
       "      <td>1641.838917</td>\n",
       "      <td>1641.840286</td>\n",
       "      <td>1641.841430</td>\n",
       "      <td>07_12_2020_15_26</td>\n",
       "    </tr>\n",
       "    <tr>\n",
       "      <th>2</th>\n",
       "      <td>4211.035749</td>\n",
       "      <td>4481.584862</td>\n",
       "      <td>4849.726702</td>\n",
       "      <td>3.735479e+34</td>\n",
       "      <td>3.975475e+34</td>\n",
       "      <td>4.302042e+34</td>\n",
       "      <td>237880881</td>\n",
       "      <td>2.138036</td>\n",
       "      <td>2.328796</td>\n",
       "      <td>2.571447</td>\n",
       "      <td>...</td>\n",
       "      <td>143.960000</td>\n",
       "      <td>147.306157</td>\n",
       "      <td>25.239164</td>\n",
       "      <td>26.424194</td>\n",
       "      <td>27.880130</td>\n",
       "      <td>a</td>\n",
       "      <td>1331.665643</td>\n",
       "      <td>1331.665941</td>\n",
       "      <td>1331.666255</td>\n",
       "      <td>10_12_2020_07_11</td>\n",
       "    </tr>\n",
       "    <tr>\n",
       "      <th>3</th>\n",
       "      <td>5113.166019</td>\n",
       "      <td>5268.604916</td>\n",
       "      <td>5592.077901</td>\n",
       "      <td>4.535731e+34</td>\n",
       "      <td>4.673616e+34</td>\n",
       "      <td>4.960559e+34</td>\n",
       "      <td>237880881</td>\n",
       "      <td>0.571344</td>\n",
       "      <td>0.597261</td>\n",
       "      <td>0.637065</td>\n",
       "      <td>...</td>\n",
       "      <td>143.960000</td>\n",
       "      <td>147.306157</td>\n",
       "      <td>12.733859</td>\n",
       "      <td>13.024430</td>\n",
       "      <td>13.459331</td>\n",
       "      <td>b</td>\n",
       "      <td>1331.827605</td>\n",
       "      <td>1331.828257</td>\n",
       "      <td>1331.828904</td>\n",
       "      <td>10_12_2020_07_11</td>\n",
       "    </tr>\n",
       "    <tr>\n",
       "      <th>4</th>\n",
       "      <td>2399.682955</td>\n",
       "      <td>2433.253326</td>\n",
       "      <td>2466.289728</td>\n",
       "      <td>2.233733e+33</td>\n",
       "      <td>2.264982e+33</td>\n",
       "      <td>2.295734e+33</td>\n",
       "      <td>44984200</td>\n",
       "      <td>0.493929</td>\n",
       "      <td>0.504206</td>\n",
       "      <td>0.514489</td>\n",
       "      <td>...</td>\n",
       "      <td>257.654681</td>\n",
       "      <td>261.565710</td>\n",
       "      <td>7.373422</td>\n",
       "      <td>7.450160</td>\n",
       "      <td>7.526186</td>\n",
       "      <td>a</td>\n",
       "      <td>1588.010945</td>\n",
       "      <td>1588.011745</td>\n",
       "      <td>1588.012171</td>\n",
       "      <td>10_12_2020_07_10</td>\n",
       "    </tr>\n",
       "    <tr>\n",
       "      <th>5</th>\n",
       "      <td>89.235046</td>\n",
       "      <td>105.973394</td>\n",
       "      <td>123.505312</td>\n",
       "      <td>8.306400e+31</td>\n",
       "      <td>9.864481e+31</td>\n",
       "      <td>1.149643e+32</td>\n",
       "      <td>44984200</td>\n",
       "      <td>0.064858</td>\n",
       "      <td>0.077785</td>\n",
       "      <td>0.091753</td>\n",
       "      <td>...</td>\n",
       "      <td>257.654681</td>\n",
       "      <td>261.565710</td>\n",
       "      <td>2.665475</td>\n",
       "      <td>2.919259</td>\n",
       "      <td>3.170797</td>\n",
       "      <td>b</td>\n",
       "      <td>1588.117627</td>\n",
       "      <td>1588.118865</td>\n",
       "      <td>1588.120303</td>\n",
       "      <td>10_12_2020_07_10</td>\n",
       "    </tr>\n",
       "  </tbody>\n",
       "</table>\n",
       "<p>6 rows × 38 columns</p>\n",
       "</div>"
      ],
      "text/plain": [
       "        ED_s_16       ED_s_50       ED_s_84  Eflare_erg_16  Eflare_erg_50  \\\n",
       "0   2489.574477   2613.735051   2761.358049   3.236447e+33   3.397856e+33   \n",
       "1  21765.855753  26408.882022  30825.614977   2.451641e+34   2.974618e+34   \n",
       "2   4211.035749   4481.584862   4849.726702   3.735479e+34   3.975475e+34   \n",
       "3   5113.166019   5268.604916   5592.077901   4.535731e+34   4.673616e+34   \n",
       "4   2399.682955   2433.253326   2466.289728   2.233733e+33   2.264982e+33   \n",
       "5     89.235046    105.973394    123.505312   8.306400e+31   9.864481e+31   \n",
       "\n",
       "   Eflare_erg_84         ID      a_16      a_50      a_84  ... phase_deg_50  \\\n",
       "0   3.589765e+33  452922110  0.425608  0.468987  0.510600  ...   298.215052   \n",
       "1   3.472105e+34  277539431  2.140930  2.609415  3.055521  ...   232.093998   \n",
       "2   4.302042e+34  237880881  2.138036  2.328796  2.571447  ...   143.960000   \n",
       "3   4.960559e+34  237880881  0.571344  0.597261  0.637065  ...   143.960000   \n",
       "4   2.295734e+33   44984200  0.493929  0.504206  0.514489  ...   257.654681   \n",
       "5   1.149643e+32   44984200  0.064858  0.077785  0.091753  ...   257.654681   \n",
       "\n",
       "   phase_deg_84  rad_rsun_16  rad_rsun_50  rad_rsun_84  suffix      t0_d_16  \\\n",
       "0    304.049226     8.392326     8.812874     9.198803     NaN  1493.930922   \n",
       "1    234.611761    16.743598    18.545130    20.130920     NaN  1641.838917   \n",
       "2    147.306157    25.239164    26.424194    27.880130       a  1331.665643   \n",
       "3    147.306157    12.733859    13.024430    13.459331       b  1331.827605   \n",
       "4    261.565710     7.373422     7.450160     7.526186       a  1588.010945   \n",
       "5    261.565710     2.665475     2.919259     3.170797       b  1588.117627   \n",
       "\n",
       "       t0_d_50      t0_d_84            tstamp  \n",
       "0  1493.931292  1493.931683  10_12_2020_07_05  \n",
       "1  1641.840286  1641.841430  07_12_2020_15_26  \n",
       "2  1331.665941  1331.666255  10_12_2020_07_11  \n",
       "3  1331.828257  1331.828904  10_12_2020_07_11  \n",
       "4  1588.011745  1588.012171  10_12_2020_07_10  \n",
       "5  1588.118865  1588.120303  10_12_2020_07_10  \n",
       "\n",
       "[6 rows x 38 columns]"
      ]
     },
     "execution_count": 17,
     "metadata": {},
     "output_type": "execute_result"
    }
   ],
   "source": [
    "df"
   ]
  },
  {
   "cell_type": "code",
   "execution_count": 8,
   "metadata": {},
   "outputs": [
    {
     "data": {
      "text/plain": [
       "ED_s_16                     2455.51\n",
       "ED_s_50                     2484.32\n",
       "ED_s_84                     2513.69\n",
       "Eflare_erg_16            2.2857e+33\n",
       "Eflare_erg_50           2.31251e+33\n",
       "Eflare_erg_84           2.33986e+33\n",
       "ID                         44984200\n",
       "a_16                       0.319331\n",
       "a_50                       0.323594\n",
       "a_84                        0.32798\n",
       "color                             r\n",
       "frac_area_16             0.00266913\n",
       "frac_area_50             0.00270487\n",
       "frac_area_84             0.00274163\n",
       "fwhm1_d_16                0.0343652\n",
       "fwhm1_d_50                0.0349237\n",
       "fwhm1_d_84                0.0354754\n",
       "fwhm2_d_16                0.0591695\n",
       "fwhm2_d_50                0.0600101\n",
       "fwhm2_d_84                0.0608576\n",
       "i_deg_16                    32.2363\n",
       "i_deg_50                    33.0831\n",
       "i_deg_84                    33.9327\n",
       "latitude_deg_16              82.416\n",
       "latitude_deg_50             83.2479\n",
       "latitude_deg_84             84.0825\n",
       "linestyle                     solid\n",
       "phase_deg_16                37.2426\n",
       "phase_deg_50                44.4271\n",
       "phase_deg_84                51.5233\n",
       "rad_rsun_16                 5.92286\n",
       "rad_rsun_50                 5.96241\n",
       "rad_rsun_84                 6.00283\n",
       "suffix                          NaN\n",
       "t0_d_16                     1588.02\n",
       "t0_d_50                     1588.02\n",
       "t0_d_84                     1588.02\n",
       "tstamp             07_12_2020_18_46\n",
       "Name: 5, dtype: object"
      ]
     },
     "execution_count": 8,
     "metadata": {},
     "output_type": "execute_result"
    }
   ],
   "source": [
    "row = df.iloc[-2]\n",
    "row"
   ]
  },
  {
   "cell_type": "markdown",
   "metadata": {},
   "source": [
    "# 1-flare solution"
   ]
  },
  {
   "cell_type": "code",
   "execution_count": 9,
   "metadata": {},
   "outputs": [
    {
     "name": "stderr",
     "output_type": "stream",
     "text": [
      "/home/ekaterina/Documents/000_envs/forallpurposes/lib/python3.6/site-packages/pandas/core/generic.py:5168: SettingWithCopyWarning: \n",
      "A value is trying to be set on a copy of a slice from a DataFrame\n",
      "\n",
      "See the caveats in the documentation: https://pandas.pydata.org/pandas-docs/stable/user_guide/indexing.html#returning-a-view-versus-a-copy\n",
      "  self[name] = value\n"
     ]
    }
   ],
   "source": [
    "# get the right suffix\n",
    "if np.isnan(row.suffix):\n",
    "    row.suffix = \"\"\n",
    "    \n",
    "# row.suffix=\"c\"\n",
    "\n",
    "# Pick your star\n",
    "target = props[props.ID == int(row.ID)].iloc[0]\n",
    "\n",
    "# get qlum and R as they were passed to MCMC\n",
    "inits = mcmcinit[(mcmcinit.ID.astype(str) == str(row.ID) + str(row.suffix)) &\n",
    "                 (mcmcinit.tstamp == row.tstamp)].iloc[0]\n",
    "\n",
    "qlum = inits.qlum_erg_s * u.erg / u.s\n",
    "R = inits.R_Rsun * R_sun\n",
    "\n",
    "# Get light curve\n",
    "lc = pd.read_csv(f\"../../data/lcs/{row.tstamp}_{row.ID}.csv\")\n",
    "\n",
    "# Get flux median\n",
    "median = lc.median_[0]\n",
    "\n",
    "# Convert MCMC outputs to model inputs\n",
    "\n",
    "# Get peak time in phase units\n",
    "phi_a = (row.t0_d_50 -lc.t[0]) / target.Prot_d * 2 * np.pi \n",
    "\n",
    "# Convert flare peak phase to phase at t0\n",
    "phi0 = phi_a % (2. * np.pi) - (row.phase_deg_50  / 180 * np.pi)\n",
    "\n",
    "# Get FHWM values in phase units\n",
    "fwhm1 = row.fwhm1_d_50 / target.Prot_d * 2 * np.pi\n",
    "fwhm2 = row.fwhm2_d_50 / target.Prot_d * 2 * np.pi\n",
    "\n",
    "# Init FlareModulator object\n",
    "F =  FlareModulator(lc.phi.values, lc.flux.values, lc.flux_err.values, qlum=qlum, R=R,\n",
    "                 median=median, nflares=1, iscoupled=False)\n",
    "\n",
    "# Assemble best-fit parameters and constants\n",
    "params = [torad(row.latitude_deg_50),\n",
    "          phi0,\n",
    "          torad(row.i_deg_50),\n",
    "          row.a_50, \n",
    "          phi_a, \n",
    "          fwhm1, \n",
    "          fwhm2]\n",
    "\n",
    "# Get log-likelihood for best-fiit solution\n",
    "logL = F.log_likelihood(params, sta=270) # the closer to 0 the better, always negative\n",
    "\n",
    "# Calculate Chi^2 value\n",
    "chi2 = F.chi_square(params, sta=270)\n",
    "\n",
    "# Calculate Bayesian information criterion\n",
    "# second term is always positive, \n",
    "# light curve length stays constant across different fits\n",
    "# number of parameters varies with 1- vs. 2-flare solution\n",
    "BIC = len(params) * np.log(len(lc.flux[270:])) - 2 * logL "
   ]
  },
  {
   "cell_type": "code",
   "execution_count": 10,
   "metadata": {},
   "outputs": [
    {
     "name": "stdout",
     "output_type": "stream",
     "text": [
      "Chi^2 for TIC 44984200, fit with 1 flare fit: 55.61939780349556 (07_12_2020_18_46)\n"
     ]
    }
   ],
   "source": [
    "print(f\"Chi^2 for TIC {row.ID}, fit with 1 flare fit: {chi2} ({row.tstamp})\")"
   ]
  },
  {
   "cell_type": "code",
   "execution_count": 11,
   "metadata": {},
   "outputs": [
    {
     "name": "stdout",
     "output_type": "stream",
     "text": [
      "BIC for TIC 44984200, fit with 1 flare fit: 3139.305406056544 (07_12_2020_18_46)\n"
     ]
    }
   ],
   "source": [
    "print(f\"BIC for TIC {row.ID}, fit with 1 flare fit: {BIC} ({row.tstamp})\")"
   ]
  },
  {
   "cell_type": "markdown",
   "metadata": {},
   "source": [
    "Chi^2 for TIC 44984200, fit with 1 flare fit: 23.34274209483541 (10_12_2020_07_12) high uncert.\n",
    "\n",
    "BIC for TIC 44984200, fit with 1 flare fit: 2509.7787794513647 (10_12_2020_07_12)\n",
    "\n",
    "\n",
    "Chi^2 for TIC 44984200, fit with 1 flare fit: 55.61939780349556 (07_12_2020_18_46) normal uncert.\n",
    "\n",
    "BIC for TIC 44984200, fit with 1 flare fit: 3139.305406056544 (07_12_2020_18_46)\n",
    "\n",
    "\n",
    "\n",
    "Chi^2 for TIC 44984200, fit with 2 flare fit: 32.076975043748504 (07_12_2020_19_42)\n",
    "\n",
    "BIC for TIC 44984200, fit with 2 flare fit: 3962.486746433922 (07_12_2020_19_42) normal. uncert\n",
    "\n",
    "\n",
    "Chi^2 for TIC 44984200, fit with 2 flare fit: 34.245377521485224 (10_12_2020_07_10)\n",
    "\n",
    "BIC for TIC 44984200, fit with 2 flare fit: 4003.023462928036 (10_12_2020_07_10) high uncert.\n"
   ]
  },
  {
   "cell_type": "code",
   "execution_count": null,
   "metadata": {},
   "outputs": [],
   "source": [
    "plt.plot(lc.flux[270:])"
   ]
  },
  {
   "cell_type": "markdown",
   "metadata": {},
   "source": [
    "# 2-flare solution"
   ]
  },
  {
   "cell_type": "code",
   "execution_count": 12,
   "metadata": {},
   "outputs": [
    {
     "data": {
      "text/plain": [
       "0    NaN\n",
       "1      a\n",
       "2      b\n",
       "3      a\n",
       "4      b\n",
       "5    NaN\n",
       "6      c\n",
       "Name: suffix, dtype: object"
      ]
     },
     "execution_count": 12,
     "metadata": {},
     "output_type": "execute_result"
    }
   ],
   "source": [
    "df.suffix"
   ]
  },
  {
   "cell_type": "code",
   "execution_count": 18,
   "metadata": {},
   "outputs": [
    {
     "data": {
      "text/plain": [
       "[1.2541120880055259,\n",
       " 0.583489586981953,\n",
       " 0.5775918556362263,\n",
       " 0.504205797641469,\n",
       " 11.690563334020425,\n",
       " 0.5595435680126889,\n",
       " 2.4809516581434083,\n",
       " 0.07778486941329299,\n",
       " 17.646782710634568,\n",
       " 0.9827781499732255,\n",
       " 0.14992688931217926]"
      ]
     },
     "execution_count": 18,
     "metadata": {},
     "output_type": "execute_result"
    }
   ],
   "source": [
    "# get the right suffix\n",
    "# if np.isnan(row.suffix):\n",
    "#     row.suffix = \"\"\n",
    "fp = []\n",
    "\n",
    "for j, row in df.iloc[4:6].iterrows():\n",
    "\n",
    "    # Pick your star\n",
    "    target = props[props.ID == int(row.ID)].iloc[0]\n",
    "\n",
    "    # get qlum and R as they were passed to MCMC\n",
    "    inits = mcmcinit[(mcmcinit.ID.astype(str) == str(row.ID) + str(row.suffix)) &\n",
    "                     (mcmcinit.tstamp == row.tstamp)].iloc[0]\n",
    "\n",
    "    qlum = inits.qlum_erg_s * u.erg / u.s\n",
    "    R = inits.R_Rsun * R_sun\n",
    "\n",
    "    # Get light curve\n",
    "    lc = pd.read_csv(f\"../../data/lcs/{row.tstamp}_{row.ID}.csv\")\n",
    "\n",
    "    # Get flux median\n",
    "    median = lc.median_[0]\n",
    "\n",
    "\n",
    "    # Init FlareModulator object\n",
    "    F =  FlareModulator(lc.phi.values, lc.flux.values, lc.flux_err.values, qlum=qlum, R=R,\n",
    "                     median=median, nflares=2, iscoupled=False)\n",
    "\n",
    "    # Convert MCMC outputs to model inputs\n",
    "\n",
    "    # Get peak time in phase units\n",
    "    phi_a = (row.t0_d_50 -lc.t[0]) / target.Prot_d * 2 * np.pi \n",
    "\n",
    "    # Convert flare peak phase to phase at t0\n",
    "    phi0 = phi_a % (2. * np.pi) - (row.phase_deg_50  / 180 * np.pi)\n",
    "\n",
    "    # Get FHWM values in phase units\n",
    "    fwhm1 = row.fwhm1_d_50 / target.Prot_d * 2 * np.pi\n",
    "    fwhm2 = row.fwhm2_d_50 / target.Prot_d * 2 * np.pi\n",
    "    \n",
    "    fp.append(row.a_50)\n",
    "    fp.append(phi_a)\n",
    "    fp.append(fwhm1)\n",
    "    fp.append(fwhm2)\n",
    "\n",
    "\n",
    "# Assemble best-fit parameters and constants\n",
    "params = [torad(row.latitude_deg_50),\n",
    "          phi0,\n",
    "          torad(row.i_deg_50)]\n",
    "\n",
    "params =  params + fp\n",
    "params"
   ]
  },
  {
   "cell_type": "code",
   "execution_count": 19,
   "metadata": {},
   "outputs": [],
   "source": [
    "# Get log-likelihood for best-fiit solution\n",
    "logL = F.log_likelihood(params, sta=270) # the closer to 0 the better, always negative\n",
    "\n",
    "# Calculate Chi^2 value\n",
    "chi2 = F.chi_square(params, sta=270)\n",
    "\n",
    "\n",
    "# Calculate Bayesian information criterion\n",
    "# second term is always positive, \n",
    "# light curve length stays constant across different fits\n",
    "# number of parameters varies with 1- vs. 2-flare solution\n",
    "BIC = len(params) * np.log(len(lc.flux[270:])) - 2 * logL "
   ]
  },
  {
   "cell_type": "code",
   "execution_count": 20,
   "metadata": {},
   "outputs": [
    {
     "name": "stdout",
     "output_type": "stream",
     "text": [
      "BIC for TIC 44984200, fit with 2 flare fit: 4003.023462928036 (10_12_2020_07_10)\n",
      "Chi^2 for TIC 44984200, fit with 2 flare fit: 34.245377521485224 (10_12_2020_07_10)\n"
     ]
    }
   ],
   "source": [
    "print(f\"BIC for TIC {row.ID}, fit with 2 flare fit: {BIC} ({row.tstamp})\")\n",
    "print(f\"Chi^2 for TIC {row.ID}, fit with 2 flare fit: {chi2} ({row.tstamp})\")"
   ]
  },
  {
   "cell_type": "markdown",
   "metadata": {},
   "source": [
    "### TIC 452\n",
    "\n",
    "**final**: BIC for TIC 452922110, fit with 1 flare fit: 3383.8764766286595\n",
    "final: Chi^2 for TIC 452922110, fit with 1 flare fit: 114.56119373881997 (10_12_2020_07_05)\n",
    "\n",
    "deprecrated: BIC for TIC 452922110, fit with 1 flare fit: 3539.4625885910755\n",
    "**deprecated**: Chi^2 for TIC 452922110, fit with 1 flare fit: 105.50394277965948 (07_12_2020_15_44)\n",
    "\n",
    "### TIC 277\n",
    "\n",
    "final: BIC for TIC 277539431, fit with 1 flare fit: 5975.642718484921\n",
    "final: Chi^2 for TIC 277539431, fit with 1 flare fit: 85.35280228125123 (07_12_2020_15_26)\n",
    "\n",
    "\n",
    "### TIC 449\n",
    "\n",
    "deprecated: BIC for TIC 44984200 (normal_uncertainty), fit with 1 flare fit: 6239.3862509798755\n",
    "deprecated: Chi^2 for TIC 44984200 (normal_uncertainty), fit with 1 flare fit: 147.57585678156408 (07_12_2020_18_46)\n",
    "\n",
    "**deprecated**: BIC for TIC 44984200 (c, high_uncertainties_peak1), fit with 1 flare fit: 4484.622756262301\n",
    "deprecated: Chi^2 for TIC 44984200, fit with 1 flare fit: 144.13400509979132 (10_12_2020_07_12)\n",
    "\n",
    "deprecated: BIC for TIC 44984200, fit with 2 flare fit: 6741.812040032524 (07_12_2020_19_42)\n",
    "**deprecated**: Chi^2 for TIC 44984200, fit with 2 flare fit: 107.3520562886087 (07_12_2020_19_42)\n",
    "\n",
    "BIC for TIC 44984200, fit with 2 flare fit: 5781.215417165257 (10_12_2020_07_10)\n",
    "Chi^2 for TIC 44984200, fit with 2 flare fit: 255.0029659518811 (10_12_2020_07_10)\n",
    "\n",
    "\n",
    "### TIC 237\n",
    "\n",
    "**final**: BIC for TIC 237880881, fit with 2 flare fit: 17316.74773510112 (10_12_2020_07_11)\n",
    "**final**: Chi^2 for TIC 237880881, fit with 2 flare fit: 1523.8682823327727 (10_12_2020_07_11)\n",
    "\n",
    "deprecated: BIC for TIC 237880881, fit with 2 flare fit: 97020.40734765412  (07_12_2020_07_47)\n",
    "deprecated: Chi^2 for TIC 237880881, fit with 2 flare fit: 3337.264890932395 (07_12_2020_07_47)\n"
   ]
  },
  {
   "cell_type": "code",
   "execution_count": null,
   "metadata": {},
   "outputs": [],
   "source": [
    "0.0044 / 0.1446"
   ]
  },
  {
   "cell_type": "code",
   "execution_count": null,
   "metadata": {},
   "outputs": [],
   "source": [
    "0.0084 / 0.2746"
   ]
  },
  {
   "cell_type": "markdown",
   "metadata": {},
   "source": [
    "##### "
   ]
  }
 ],
 "metadata": {
  "kernelspec": {
   "display_name": "forallpurposes",
   "language": "python",
   "name": "forallpurposes"
  },
  "language_info": {
   "codemirror_mode": {
    "name": "ipython",
    "version": 3
   },
   "file_extension": ".py",
   "mimetype": "text/x-python",
   "name": "python",
   "nbconvert_exporter": "python",
   "pygments_lexer": "ipython3",
   "version": "3.6.9"
  }
 },
 "nbformat": 4,
 "nbformat_minor": 2
}
