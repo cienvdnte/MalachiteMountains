{
 "cells": [
  {
   "cell_type": "code",
   "execution_count": 1,
   "metadata": {},
   "outputs": [
    {
     "name": "stderr",
     "output_type": "stream",
     "text": [
      "/home/ekaterina/Documents/000_envs/forallpurposes/lib/python3.6/importlib/_bootstrap.py:219: RuntimeWarning: numpy.ufunc size changed, may indicate binary incompatibility. Expected 192 from C header, got 216 from PyObject\n",
      "  return f(*args, **kwds)\n",
      "NumExpr defaulting to 8 threads.\n"
     ]
    }
   ],
   "source": [
    "import numpy as np\n",
    "import pandas as pd\n",
    "\n",
    "from funcs.model import FlareModulator\n",
    "\n",
    "import astropy.units as u\n",
    "from astropy.constants import R_sun\n",
    "\n",
    "torad = lambda x: x / 180. * np.pi"
   ]
  },
  {
   "cell_type": "code",
   "execution_count": 16,
   "metadata": {},
   "outputs": [],
   "source": [
    "# Get best-fit results\n",
    "# _deprecated\n",
    "df = pd.read_csv(\"../results/mcmc/15_12_2020_GP_deprecated_mcmcoutput.csv\")\n",
    "\n",
    "# Pick up stellar parameters\n",
    "props = pd.read_csv(f\"../../data/summary/lcs.csv\")\n",
    "\n",
    "# Get MCMC inputs\n",
    "mcmcinit = pd.read_csv(f\"../../data/summary/inits_decoupled_GP.csv\")"
   ]
  },
  {
   "cell_type": "code",
   "execution_count": 26,
   "metadata": {},
   "outputs": [
    {
     "data": {
      "text/plain": [
       "'c'"
      ]
     },
     "execution_count": 26,
     "metadata": {},
     "output_type": "execute_result"
    }
   ],
   "source": [
    "row = df.iloc[6]\n",
    "row.suffix"
   ]
  },
  {
   "cell_type": "markdown",
   "metadata": {},
   "source": [
    "# 1-flare solution"
   ]
  },
  {
   "cell_type": "code",
   "execution_count": 27,
   "metadata": {},
   "outputs": [],
   "source": [
    "# get the right suffix\n",
    "# if np.isnan(row.suffix):\n",
    "#     row.suffix = \"\"\n",
    "    \n",
    "# row.suffix=\"c\"\n",
    "\n",
    "# Pick your star\n",
    "target = props[props.ID == int(row.ID)].iloc[0]\n",
    "\n",
    "# get qlum and R as they were passed to MCMC\n",
    "inits = mcmcinit[(mcmcinit.ID.astype(str) == str(row.ID) + str(row.suffix)) &\n",
    "                 (mcmcinit.tstamp == row.tstamp)].iloc[0]\n",
    "\n",
    "qlum = inits.qlum_erg_s * u.erg / u.s\n",
    "R = inits.R_Rsun * R_sun\n",
    "\n",
    "# Get light curve\n",
    "lc = pd.read_csv(f\"../../data/lcs/{row.tstamp}_{row.ID}.csv\")\n",
    "\n",
    "# Get flux median\n",
    "median = lc.median_[0]\n",
    "\n",
    "# Convert MCMC outputs to model inputs\n",
    "\n",
    "# Get peak time in phase units\n",
    "phi_a = (row.t0_d_50 -lc.t[0]) / target.Prot_d * 2 * np.pi \n",
    "\n",
    "# Convert flare peak phase to phase at t0\n",
    "phi0 = phi_a % (2. * np.pi) - (row.phase_deg_50  / 180 * np.pi)\n",
    "\n",
    "# Get FHWM values in phase units\n",
    "fwhm1 = row.fwhm1_d_50 / target.Prot_d * 2 * np.pi\n",
    "fwhm2 = row.fwhm2_d_50 / target.Prot_d * 2 * np.pi\n",
    "\n",
    "# Init FlareModulator object\n",
    "F =  FlareModulator(lc.phi.values, lc.flux.values, lc.flux_err.values, qlum=qlum, R=R,\n",
    "                 median=median, nflares=1, iscoupled=False)\n",
    "\n",
    "# Assemble best-fit parameters and constants\n",
    "params = [torad(row.latitude_deg_50),\n",
    "          phi0,\n",
    "          torad(row.i_deg_50),\n",
    "          row.a_50, \n",
    "          phi_a, \n",
    "          fwhm1, \n",
    "          fwhm2]\n",
    "\n",
    "# Get log-likelihood for best-fiit solution\n",
    "logL = F.log_likelihood(params) # the closer to 0 the better, always negative\n",
    "\n",
    "# Calculate Chi^2 value\n",
    "chi2 = F.chi_square(params)\n",
    "\n",
    "# Calculate Bayesian information criterion\n",
    "# second term is always positive, \n",
    "# light curve length stays constant across different fits\n",
    "# number of parameters varies with 1- vs. 2-flare solution\n",
    "BIC = len(params) * np.log(len(lc.flux)) - 2 * logL "
   ]
  },
  {
   "cell_type": "code",
   "execution_count": 28,
   "metadata": {},
   "outputs": [
    {
     "name": "stdout",
     "output_type": "stream",
     "text": [
      "Chi^2 for TIC 44984200, fit with 1 flare fit: 144.13400509979132 (10_12_2020_07_12)\n"
     ]
    }
   ],
   "source": [
    "print(f\"Chi^2 for TIC {row.ID}, fit with 1 flare fit: {chi2} ({row.tstamp})\")"
   ]
  },
  {
   "cell_type": "markdown",
   "metadata": {},
   "source": [
    "# 2-flare solution"
   ]
  },
  {
   "cell_type": "code",
   "execution_count": 29,
   "metadata": {},
   "outputs": [
    {
     "data": {
      "text/plain": [
       "0    NaN\n",
       "1      a\n",
       "2      b\n",
       "3      a\n",
       "4      b\n",
       "5    NaN\n",
       "6      c\n",
       "Name: suffix, dtype: object"
      ]
     },
     "execution_count": 29,
     "metadata": {},
     "output_type": "execute_result"
    }
   ],
   "source": [
    "df.suffix"
   ]
  },
  {
   "cell_type": "code",
   "execution_count": 33,
   "metadata": {},
   "outputs": [
    {
     "data": {
      "text/plain": [
       "[1.4967875097171692,\n",
       " 0.2144705873240973,\n",
       " 0.5774591887541942,\n",
       " 0.319417523017479,\n",
       " 12.167705466465494,\n",
       " 1.868707456665623,\n",
       " 3.1107704584324205,\n",
       " 0.06877716336343401,\n",
       " 17.78922934075829,\n",
       " 1.655707171595105,\n",
       " 0.6212968235149064]"
      ]
     },
     "execution_count": 33,
     "metadata": {},
     "output_type": "execute_result"
    }
   ],
   "source": [
    "# get the right suffix\n",
    "# if np.isnan(row.suffix):\n",
    "#     row.suffix = \"\"\n",
    "fp = []\n",
    "\n",
    "for j, row in df.iloc[3:5].iterrows():\n",
    "\n",
    "    # Pick your star\n",
    "    target = props[props.ID == int(row.ID)].iloc[0]\n",
    "\n",
    "    # get qlum and R as they were passed to MCMC\n",
    "    inits = mcmcinit[(mcmcinit.ID.astype(str) == str(row.ID) + str(row.suffix)) &\n",
    "                     (mcmcinit.tstamp == row.tstamp)].iloc[0]\n",
    "\n",
    "    qlum = inits.qlum_erg_s * u.erg / u.s\n",
    "    R = inits.R_Rsun * R_sun\n",
    "\n",
    "    # Get light curve\n",
    "    lc = pd.read_csv(f\"../../data/lcs/{row.tstamp}_{row.ID}.csv\")\n",
    "\n",
    "    # Get flux median\n",
    "    median = lc.median_[0]\n",
    "\n",
    "\n",
    "    # Init FlareModulator object\n",
    "    F =  FlareModulator(lc.phi.values, lc.flux.values, lc.flux_err.values, qlum=qlum, R=R,\n",
    "                     median=median, nflares=2, iscoupled=False)\n",
    "\n",
    "    # Convert MCMC outputs to model inputs\n",
    "\n",
    "    # Get peak time in phase units\n",
    "    phi_a = (row.t0_d_50 -lc.t[0]) / target.Prot_d * 2 * np.pi \n",
    "\n",
    "    # Convert flare peak phase to phase at t0\n",
    "    phi0 = phi_a % (2. * np.pi) - (row.phase_deg_50  / 180 * np.pi)\n",
    "\n",
    "    # Get FHWM values in phase units\n",
    "    fwhm1 = row.fwhm1_d_50 / target.Prot_d * 2 * np.pi\n",
    "    fwhm2 = row.fwhm2_d_50 / target.Prot_d * 2 * np.pi\n",
    "    \n",
    "    fp.append(row.a_50)\n",
    "    fp.append(phi_a)\n",
    "    fp.append(fwhm1)\n",
    "    fp.append(fwhm2)\n",
    "\n",
    "\n",
    "# Assemble best-fit parameters and constants\n",
    "params = [torad(row.latitude_deg_50),\n",
    "          phi0,\n",
    "          torad(row.i_deg_50)]\n",
    "\n",
    "params =  params + fp\n",
    "params"
   ]
  },
  {
   "cell_type": "code",
   "execution_count": 34,
   "metadata": {},
   "outputs": [],
   "source": [
    "# Get log-likelihood for best-fiit solution\n",
    "logL = F.log_likelihood(params) # the closer to 0 the better, always negative\n",
    "\n",
    "# Calculate Chi^2 value\n",
    "chi2 = F.chi_square(params)\n",
    "\n",
    "\n",
    "# Calculate Bayesian information criterion\n",
    "# second term is always positive, \n",
    "# light curve length stays constant across different fits\n",
    "# number of parameters varies with 1- vs. 2-flare solution\n",
    "BIC = len(params) * np.log(len(lc.flux)) - 2 * logL "
   ]
  },
  {
   "cell_type": "code",
   "execution_count": 35,
   "metadata": {},
   "outputs": [
    {
     "name": "stdout",
     "output_type": "stream",
     "text": [
      "BIC for TIC 44984200, fit with 2 flare fit: 6741.812040032524 (07_12_2020_19_42)\n",
      "Chi^2 for TIC 44984200, fit with 2 flare fit: 107.3520562886087 (07_12_2020_19_42)\n"
     ]
    }
   ],
   "source": [
    "print(f\"BIC for TIC {row.ID}, fit with 2 flare fit: {BIC} ({row.tstamp})\")\n",
    "print(f\"Chi^2 for TIC {row.ID}, fit with 2 flare fit: {chi2} ({row.tstamp})\")"
   ]
  },
  {
   "cell_type": "markdown",
   "metadata": {},
   "source": [
    "### TIC 452\n",
    "\n",
    "**final**: BIC for TIC 452922110, fit with 1 flare fit: 3383.8764766286595\n",
    "final: Chi^2 for TIC 452922110, fit with 1 flare fit: 114.56119373881997 (10_12_2020_07_05)\n",
    "\n",
    "deprecrated: BIC for TIC 452922110, fit with 1 flare fit: 3539.4625885910755\n",
    "**deprecated**: Chi^2 for TIC 452922110, fit with 1 flare fit: 105.50394277965948 (07_12_2020_15_44)\n",
    "\n",
    "### TIC 277\n",
    "\n",
    "final: BIC for TIC 277539431, fit with 1 flare fit: 5975.642718484921\n",
    "final: Chi^2 for TIC 277539431, fit with 1 flare fit: 85.35280228125123 (07_12_2020_15_26)\n",
    "\n",
    "\n",
    "### TIC 449\n",
    "\n",
    "deprecated: BIC for TIC 44984200 (normal_uncertainty), fit with 1 flare fit: 6239.3862509798755\n",
    "deprecated: Chi^2 for TIC 44984200 (normal_uncertainty), fit with 1 flare fit: 147.57585678156408 (07_12_2020_18_46)\n",
    "\n",
    "**deprecated**: BIC for TIC 44984200 (c, high_uncertainties_peak1), fit with 1 flare fit: 4484.622756262301\n",
    "deprecated: Chi^2 for TIC 44984200, fit with 1 flare fit: 144.13400509979132 (10_12_2020_07_12)\n",
    "\n",
    "deprecated: BIC for TIC 44984200, fit with 2 flare fit: 6741.812040032524 (07_12_2020_19_42)\n",
    "**deprecated**: Chi^2 for TIC 44984200, fit with 2 flare fit: 107.3520562886087 (07_12_2020_19_42)\n",
    "\n",
    "BIC for TIC 44984200, fit with 2 flare fit: 5781.215417165257 (10_12_2020_07_10)\n",
    "Chi^2 for TIC 44984200, fit with 2 flare fit: 255.0029659518811 (10_12_2020_07_10)\n",
    "\n",
    "\n",
    "### TIC 237\n",
    "\n",
    "**final**: BIC for TIC 237880881, fit with 2 flare fit: 17316.74773510112 (10_12_2020_07_11)\n",
    "**final**: Chi^2 for TIC 237880881, fit with 2 flare fit: 1523.8682823327727 (10_12_2020_07_11)\n",
    "\n",
    "deprecated: BIC for TIC 237880881, fit with 2 flare fit: 97020.40734765412  (07_12_2020_07_47)\n",
    "deprecated: Chi^2 for TIC 237880881, fit with 2 flare fit: 3337.264890932395 (07_12_2020_07_47)\n"
   ]
  },
  {
   "cell_type": "code",
   "execution_count": null,
   "metadata": {},
   "outputs": [],
   "source": [
    "0.0044 / 0.1446"
   ]
  },
  {
   "cell_type": "code",
   "execution_count": 42,
   "metadata": {},
   "outputs": [
    {
     "data": {
      "text/plain": [
       "0.030589949016751636"
      ]
     },
     "execution_count": 42,
     "metadata": {},
     "output_type": "execute_result"
    }
   ],
   "source": [
    "0.0084 / 0.2746"
   ]
  },
  {
   "cell_type": "markdown",
   "metadata": {},
   "source": [
    "##### "
   ]
  }
 ],
 "metadata": {
  "kernelspec": {
   "display_name": "forallpurposes",
   "language": "python",
   "name": "forallpurposes"
  },
  "language_info": {
   "codemirror_mode": {
    "name": "ipython",
    "version": 3
   },
   "file_extension": ".py",
   "mimetype": "text/x-python",
   "name": "python",
   "nbconvert_exporter": "python",
   "pygments_lexer": "ipython3",
   "version": "3.6.9"
  }
 },
 "nbformat": 4,
 "nbformat_minor": 2
}
