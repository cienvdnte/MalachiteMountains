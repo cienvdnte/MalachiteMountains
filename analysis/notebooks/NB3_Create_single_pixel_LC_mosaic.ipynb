{
 "cells": [
  {
   "cell_type": "markdown",
   "metadata": {},
   "source": [
    "### The paths don't work because everything was moved but the code is correct"
   ]
  },
  {
   "cell_type": "code",
   "execution_count": null,
   "metadata": {},
   "outputs": [],
   "source": [
    "from lightkurve import search_targetpixelfile\n",
    "\n",
    "import matplotlib.pyplot as plt\n",
    "%matplotlib inline\n",
    "\n",
    "from altaipony.flarelc import FlareLightCurve\n",
    "\n",
    "import os\n",
    "import copy\n",
    "\n",
    "import numpy as np\n",
    "import pandas as pd\n",
    "\n",
    "from funcs.custom_detrending import custom_detrending, iteratively_remove_sines\n",
    "from funcs.funcs import read_custom_aperture_lc\n",
    "\n",
    "import astropy.units as u\n",
    "\n",
    "from scipy import optimize\n",
    "\n",
    "CWD = \"/\".join(os.getcwd().split(\"/\")[:-2])\n"
   ]
  },
  {
   "cell_type": "markdown",
   "metadata": {},
   "source": [
    "# Create a light curve mosaic from individual pixel light curves"
   ]
  },
  {
   "cell_type": "code",
   "execution_count": null,
   "metadata": {},
   "outputs": [],
   "source": [
    "TIC = \n",
    "c ="
   ]
  },
  {
   "cell_type": "code",
   "execution_count": null,
   "metadata": {},
   "outputs": [],
   "source": [
    "# if you need to create the tiles first, you have to do it manually\n",
    "tpfl = search_targetpixelfile(f\"TIC {TIC}\", sector=c)\n",
    "tpf = tpfl.download()\n",
    "tpf.interact()"
   ]
  },
  {
   "cell_type": "code",
   "execution_count": null,
   "metadata": {},
   "outputs": [],
   "source": [
    "#paths = ! ls ../multiperiod_flares/277539431_12/single_pixel_LCs/\n",
    "\n",
    "\n",
    "fig, ax = plt.subplots(nrows=5,ncols=5, figsize=(20,20), sharex=True)\n",
    "\n",
    "for p in paths:\n",
    "    i = 4-int(p[0])+1\n",
    "    j = int(p[1])\n",
    "    flc = search.open(f\"{CWD}/weird_feature/{p}\").get_lightcurve(\"FLUX\")\n",
    "    flc = FlareLightCurve(time=flc.time, flux=flc.flux, \n",
    "                      flux_err=flc.flux_err, cadenceno=flc.cadenceno, targetid=flc.targetid)\n",
    "\n",
    "    #flcd = custom_detrending(flc)\n",
    "    #ax[i][j].plot(flcd.time,flcd.detrended_flux/np.nanmedian(flcd.detrended_flux))\n",
    "    ax[i][j].plot(flc.time,flc.flux/np.nanmedian(flc.flux))\n",
    "    ax[i][j].set_xlim(1640,1644)\n",
    "    #rel = np.nanmean(flcd.detrended_flux_err / flcd.detrended_flux)\n",
    "    rel = np.nanmean(flc.flux_err / flc.flux)\n",
    "    ax[i][j].set_ylim(.9-3*rel,1.2 + 8*rel)\n",
    "    \n",
    "plt.subplots_adjust(hspace=0.,wspace=0)\n",
    "#plt.savefig(f\"{CWD}/plots/weird_feature_nodet_relerrasymmetric.png\",dpi=300)"
   ]
  }
 ],
 "metadata": {
  "kernelspec": {
   "display_name": "tessenv",
   "language": "python",
   "name": "tessenv"
  },
  "language_info": {
   "codemirror_mode": {
    "name": "ipython",
    "version": 3
   },
   "file_extension": ".py",
   "mimetype": "text/x-python",
   "name": "python",
   "nbconvert_exporter": "python",
   "pygments_lexer": "ipython3",
   "version": "3.6.8"
  }
 },
 "nbformat": 4,
 "nbformat_minor": 2
}
