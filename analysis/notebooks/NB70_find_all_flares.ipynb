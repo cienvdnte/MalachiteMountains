{
 "cells": [
  {
   "cell_type": "code",
   "execution_count": 1,
   "metadata": {},
   "outputs": [],
   "source": [
    "import seaborn\n",
    "import matplotlib.style\n",
    "import matplotlib as mpl\n",
    "\n",
    "mpl.style.use('default')\n",
    "mpl.style.use('seaborn-colorblind')"
   ]
  },
  {
   "cell_type": "code",
   "execution_count": 7,
   "metadata": {},
   "outputs": [],
   "source": [
    "import matplotlib.pyplot as plt\n",
    "%matplotlib inline\n",
    "\n",
    "from lightkurve import search_lightcurvefile\n",
    "from altaipony.flarelc import FlareLightCurve\n",
    "from altaipony.fakeflares import aflare\n",
    "from altaipony.ffd import FFD\n",
    "\n",
    "import os\n",
    "import copy\n",
    "\n",
    "import numpy as np\n",
    "import pandas as pd\n",
    "\n",
    "#from funcs.custom_detrending import custom_detrending, iteratively_remove_sines\n",
    "from funcs.helper import read_custom_aperture_lc\n",
    "from funcs.multiperiod import find_period, fetch_lightcurve, remove_sinusoidal\n",
    "\n",
    "from altaipony.lcio import from_path, from_mast\n",
    "\n",
    "from find_and_characterize_flares import custom_detrend\n",
    "\n",
    "#import astropy.units as u\n",
    "\n",
    "from scipy import optimize\n",
    "from scipy.misc import derivative\n",
    "\n",
    "CWD = \"/\".join(os.getcwd().split(\"/\")[:-2])\n",
    "\n",
    "import warnings\n",
    "warnings.simplefilter(\"ignore\")\n",
    "\n",
    "import pytest"
   ]
  },
  {
   "cell_type": "code",
   "execution_count": 3,
   "metadata": {},
   "outputs": [
    {
     "data": {
      "text/plain": [
       "ID                     44984200\n",
       "QCS                          10\n",
       "typ                         slc\n",
       "cadence_min                   2\n",
       "mission                    tess\n",
       "prefix                      TIC\n",
       "origin                   custom\n",
       "h_mission                  TESS\n",
       "SpT                          M6\n",
       "view_start              1587.25\n",
       "view_stop               1589.75\n",
       "view_min                   1620\n",
       "view_max                   2200\n",
       "BJDoff                  2457000\n",
       "tstart                  1588.03\n",
       "ampl_min                    0.5\n",
       "ampl_max                    0.8\n",
       "GRP                        1.54\n",
       "plxmas                  90.0357\n",
       "eplxmas                0.222697\n",
       "RA                      129.508\n",
       "Dec                    -58.9331\n",
       "J                        10.309\n",
       "R                         15.08\n",
       "Gaia_G                  14.4115\n",
       "vsini_kms               34.8422\n",
       "e_vsini_kms                   3\n",
       "Prot_d                    0.113\n",
       "sini                        NaN\n",
       "Ref                   this work\n",
       "identifier       SCR J0838-5855\n",
       "Rstar                       NaN\n",
       "idtyp                      tess\n",
       "id                     44984200\n",
       "st                           M6\n",
       "desig_2mass    08380224-5855583\n",
       "dist                    11.1067\n",
       "dist_err              0.0274716\n",
       "dist_source                gaia\n",
       "rad                    0.142339\n",
       "rad_err              0.00414734\n",
       "tflux               6.30529e-11\n",
       "tfluxerr            4.37846e-12\n",
       "tlum                9.30845e+29\n",
       "tlumerr             6.48026e+28\n",
       "kflux               2.01816e-11\n",
       "kfluxerr            1.41212e-12\n",
       "klum                2.97939e+29\n",
       "klumerr             2.08991e+28\n",
       "gmag                    14.4115\n",
       "jmag                     10.309\n",
       "kmag                      9.268\n",
       "i_mu                   0.578452\n",
       "i_sigma               0.0282559\n",
       "Name: 2, dtype: object"
      ]
     },
     "execution_count": 3,
     "metadata": {},
     "output_type": "execute_result"
    }
   ],
   "source": [
    "lcs = pd.read_csv(f\"{CWD}/data/summary/lcsi.csv\")\n",
    "target = lcs.loc[2]\n",
    "target"
   ]
  },
  {
   "cell_type": "code",
   "execution_count": 11,
   "metadata": {},
   "outputs": [
    {
     "name": "stderr",
     "output_type": "stream",
     "text": [
      "Found cached file /home/eilin/.lightkurve-cache/mastDownload/TESS/tess2019085135100-s0010-0000000044984200-0140-s/tess2019085135100-s0010-0000000044984200-0140-s_lc.fits with expected size 1920960.\n",
      "4% (815/18900) of the cadences will be ignored due to the quality mask (quality_bitmask=175).\n",
      "4% (815/18900) of the cadences will be ignored due to the quality mask (quality_bitmask=175).\n"
     ]
    }
   ],
   "source": [
    "flcs = from_mast(f\"{target.prefix} {target.ID}\",\n",
    "                 cadence=\"short\",\n",
    "                 c=target.QCS,\n",
    "                 mission=target.mission.upper())"
   ]
  },
  {
   "cell_type": "code",
   "execution_count": 12,
   "metadata": {},
   "outputs": [
    {
     "data": {
      "text/plain": [
       "<matplotlib.axes._subplots.AxesSubplot at 0x7fbfa02f47f0>"
      ]
     },
     "execution_count": 12,
     "metadata": {},
     "output_type": "execute_result"
    },
    {
     "data": {
      "image/png": "[encoded data removed]",
      "text/plain": [
       "<Figure size 848.5x400 with 1 Axes>"
      ]
     },
     "metadata": {},
     "output_type": "display_data"
    }
   ],
   "source": [
    "flc=flcs\n",
    "flc.plot()"
   ]
  },
  {
   "cell_type": "code",
   "execution_count": 13,
   "metadata": {},
   "outputs": [
    {
     "data": {
      "text/plain": [
       "FlareLightCurve(ID: 44984200)"
      ]
     },
     "execution_count": 13,
     "metadata": {},
     "output_type": "execute_result"
    }
   ],
   "source": [
    "flc"
   ]
  },
  {
   "cell_type": "code",
   "execution_count": 14,
   "metadata": {},
   "outputs": [
    {
     "name": "stdout",
     "output_type": "stream",
     "text": [
      "TIC 44984200 modulation period:  2.7116758233095872 h\n",
      "Relative amplitude of modulation: 8.4e-03\n"
     ]
    },
    {
     "name": "stderr",
     "output_type": "stream",
     "text": [
      "Found 1 candidate(s) in the (0,8153) gap.\n",
      "Found 1 candidate(s) in the (8153,16428) gap.\n"
     ]
    },
    {
     "name": "stdout",
     "output_type": "stream",
     "text": [
      "Before loading extra events:  0\n",
      "After loading extra events:  2000\n"
     ]
    }
   ],
   "source": [
    "# flc = from_mast(f\"{target.prefix} {target.ID}\", cadence=\"short\", c=sec, mission=\"TESS\")\n",
    "\n",
    "# flc.plot()\n",
    "flcc = custom_detrend(flc, target=target)\n",
    "subsec = 0\n",
    "flares = flcc.find_flares().flares\n",
    "flares[\"ID\"] = target.ID\n",
    "flares[\"sector\"] = target.QCS\n",
    "flares[\"subsector\"] = subsec\n",
    "flares[\"dur\"] = flares.tstop - flares.tstart\n",
    "\n",
    "\n",
    "print(\"Before loading extra events: \", flc.fake_flares.shape[0])\n",
    "\n",
    "outpath = f\"{CWD}/analysis/results/flarefind/{target.ID}_s{target.QCS}_{subsec}_fake_flares.csv\"\n",
    "flc.load_injrec_data(outpath)\n",
    "flc.fake_flares = flc.fake_flares.drop_duplicates(keep=False).astype(float)\n",
    "\n",
    "print(\"After loading extra events: \", flc.fake_flares.shape[0])"
   ]
  },
  {
   "cell_type": "code",
   "execution_count": 15,
   "metadata": {},
   "outputs": [
    {
     "data": {
      "text/html": [
       "<div>\n",
       "<style scoped>\n",
       "    .dataframe tbody tr th:only-of-type {\n",
       "        vertical-align: middle;\n",
       "    }\n",
       "\n",
       "    .dataframe tbody tr th {\n",
       "        vertical-align: top;\n",
       "    }\n",
       "\n",
       "    .dataframe thead th {\n",
       "        text-align: right;\n",
       "    }\n",
       "</style>\n",
       "<table border=\"1\" class=\"dataframe\">\n",
       "  <thead>\n",
       "    <tr style=\"text-align: right;\">\n",
       "      <th></th>\n",
       "      <th>duration_d</th>\n",
       "      <th>amplitude</th>\n",
       "      <th>ed_inj</th>\n",
       "      <th>peak_time</th>\n",
       "      <th>istart</th>\n",
       "      <th>istop</th>\n",
       "      <th>cstart</th>\n",
       "      <th>cstop</th>\n",
       "      <th>tstart</th>\n",
       "      <th>tstop</th>\n",
       "      <th>ed_rec</th>\n",
       "      <th>ed_rec_err</th>\n",
       "      <th>ampl_rec</th>\n",
       "      <th>total_n_valid_data_points</th>\n",
       "      <th>dur</th>\n",
       "    </tr>\n",
       "  </thead>\n",
       "  <tbody>\n",
       "    <tr>\n",
       "      <th>0</th>\n",
       "      <td>0.054272</td>\n",
       "      <td>0.467422</td>\n",
       "      <td>2002.010672</td>\n",
       "      <td>1574.879866</td>\n",
       "      <td>3187.0</td>\n",
       "      <td>3355.0</td>\n",
       "      <td>NaN</td>\n",
       "      <td>NaN</td>\n",
       "      <td>1574.861375</td>\n",
       "      <td>1575.094706</td>\n",
       "      <td>1846.504209</td>\n",
       "      <td>5.707542</td>\n",
       "      <td>0.441391</td>\n",
       "      <td>16428.0</td>\n",
       "      <td>0.233332</td>\n",
       "    </tr>\n",
       "    <tr>\n",
       "      <th>1</th>\n",
       "      <td>0.050076</td>\n",
       "      <td>0.210482</td>\n",
       "      <td>831.711542</td>\n",
       "      <td>1593.998178</td>\n",
       "      <td>15203.0</td>\n",
       "      <td>15302.0</td>\n",
       "      <td>NaN</td>\n",
       "      <td>NaN</td>\n",
       "      <td>1593.981951</td>\n",
       "      <td>1594.119448</td>\n",
       "      <td>738.228866</td>\n",
       "      <td>5.097350</td>\n",
       "      <td>0.207974</td>\n",
       "      <td>16428.0</td>\n",
       "      <td>0.137497</td>\n",
       "    </tr>\n",
       "    <tr>\n",
       "      <th>2</th>\n",
       "      <td>0.048114</td>\n",
       "      <td>0.559860</td>\n",
       "      <td>2127.412367</td>\n",
       "      <td>1570.844872</td>\n",
       "      <td>291.0</td>\n",
       "      <td>443.0</td>\n",
       "      <td>NaN</td>\n",
       "      <td>NaN</td>\n",
       "      <td>1570.828064</td>\n",
       "      <td>1571.040563</td>\n",
       "      <td>1972.066633</td>\n",
       "      <td>5.410406</td>\n",
       "      <td>0.543702</td>\n",
       "      <td>16428.0</td>\n",
       "      <td>0.212499</td>\n",
       "    </tr>\n",
       "    <tr>\n",
       "      <th>3</th>\n",
       "      <td>0.037387</td>\n",
       "      <td>0.281909</td>\n",
       "      <td>832.222680</td>\n",
       "      <td>1586.444522</td>\n",
       "      <td>9787.0</td>\n",
       "      <td>9862.0</td>\n",
       "      <td>NaN</td>\n",
       "      <td>NaN</td>\n",
       "      <td>1586.432069</td>\n",
       "      <td>1586.536235</td>\n",
       "      <td>677.293266</td>\n",
       "      <td>4.291492</td>\n",
       "      <td>0.275360</td>\n",
       "      <td>16428.0</td>\n",
       "      <td>0.104165</td>\n",
       "    </tr>\n",
       "    <tr>\n",
       "      <th>4</th>\n",
       "      <td>0.009650</td>\n",
       "      <td>0.562187</td>\n",
       "      <td>425.425673</td>\n",
       "      <td>1579.612026</td>\n",
       "      <td>6589.0</td>\n",
       "      <td>6623.0</td>\n",
       "      <td>NaN</td>\n",
       "      <td>NaN</td>\n",
       "      <td>1579.608553</td>\n",
       "      <td>1579.655774</td>\n",
       "      <td>405.269051</td>\n",
       "      <td>2.490945</td>\n",
       "      <td>0.461912</td>\n",
       "      <td>16428.0</td>\n",
       "      <td>0.047222</td>\n",
       "    </tr>\n",
       "    <tr>\n",
       "      <th>...</th>\n",
       "      <td>...</td>\n",
       "      <td>...</td>\n",
       "      <td>...</td>\n",
       "      <td>...</td>\n",
       "      <td>...</td>\n",
       "      <td>...</td>\n",
       "      <td>...</td>\n",
       "      <td>...</td>\n",
       "      <td>...</td>\n",
       "      <td>...</td>\n",
       "      <td>...</td>\n",
       "      <td>...</td>\n",
       "      <td>...</td>\n",
       "      <td>...</td>\n",
       "      <td>...</td>\n",
       "    </tr>\n",
       "    <tr>\n",
       "      <th>1995</th>\n",
       "      <td>0.011286</td>\n",
       "      <td>0.072818</td>\n",
       "      <td>65.389870</td>\n",
       "      <td>1594.034764</td>\n",
       "      <td>15240.0</td>\n",
       "      <td>15250.0</td>\n",
       "      <td>NaN</td>\n",
       "      <td>NaN</td>\n",
       "      <td>1594.033339</td>\n",
       "      <td>1594.047227</td>\n",
       "      <td>46.721179</td>\n",
       "      <td>1.790821</td>\n",
       "      <td>0.084924</td>\n",
       "      <td>16428.0</td>\n",
       "      <td>0.013889</td>\n",
       "    </tr>\n",
       "    <tr>\n",
       "      <th>1996</th>\n",
       "      <td>0.011414</td>\n",
       "      <td>0.037238</td>\n",
       "      <td>33.522343</td>\n",
       "      <td>1570.921451</td>\n",
       "      <td>357.0</td>\n",
       "      <td>361.0</td>\n",
       "      <td>NaN</td>\n",
       "      <td>NaN</td>\n",
       "      <td>1570.921119</td>\n",
       "      <td>1570.926674</td>\n",
       "      <td>12.788491</td>\n",
       "      <td>1.267417</td>\n",
       "      <td>0.032467</td>\n",
       "      <td>16428.0</td>\n",
       "      <td>0.005556</td>\n",
       "    </tr>\n",
       "    <tr>\n",
       "      <th>1997</th>\n",
       "      <td>0.007000</td>\n",
       "      <td>0.026745</td>\n",
       "      <td>14.953285</td>\n",
       "      <td>1585.430827</td>\n",
       "      <td>NaN</td>\n",
       "      <td>NaN</td>\n",
       "      <td>NaN</td>\n",
       "      <td>NaN</td>\n",
       "      <td>NaN</td>\n",
       "      <td>NaN</td>\n",
       "      <td>NaN</td>\n",
       "      <td>NaN</td>\n",
       "      <td>NaN</td>\n",
       "      <td>NaN</td>\n",
       "      <td>NaN</td>\n",
       "    </tr>\n",
       "    <tr>\n",
       "      <th>1998</th>\n",
       "      <td>0.013260</td>\n",
       "      <td>0.086306</td>\n",
       "      <td>90.085099</td>\n",
       "      <td>1593.924477</td>\n",
       "      <td>15159.0</td>\n",
       "      <td>15177.0</td>\n",
       "      <td>NaN</td>\n",
       "      <td>NaN</td>\n",
       "      <td>1593.920841</td>\n",
       "      <td>1593.945840</td>\n",
       "      <td>71.038482</td>\n",
       "      <td>2.369896</td>\n",
       "      <td>0.078565</td>\n",
       "      <td>16428.0</td>\n",
       "      <td>0.025000</td>\n",
       "    </tr>\n",
       "    <tr>\n",
       "      <th>1999</th>\n",
       "      <td>0.005814</td>\n",
       "      <td>0.044446</td>\n",
       "      <td>20.678298</td>\n",
       "      <td>1577.390680</td>\n",
       "      <td>NaN</td>\n",
       "      <td>NaN</td>\n",
       "      <td>NaN</td>\n",
       "      <td>NaN</td>\n",
       "      <td>NaN</td>\n",
       "      <td>NaN</td>\n",
       "      <td>NaN</td>\n",
       "      <td>NaN</td>\n",
       "      <td>NaN</td>\n",
       "      <td>NaN</td>\n",
       "      <td>NaN</td>\n",
       "    </tr>\n",
       "  </tbody>\n",
       "</table>\n",
       "<p>2000 rows × 15 columns</p>\n",
       "</div>"
      ],
      "text/plain": [
       "      duration_d  amplitude       ed_inj    peak_time   istart    istop  \\\n",
       "0       0.054272   0.467422  2002.010672  1574.879866   3187.0   3355.0   \n",
       "1       0.050076   0.210482   831.711542  1593.998178  15203.0  15302.0   \n",
       "2       0.048114   0.559860  2127.412367  1570.844872    291.0    443.0   \n",
       "3       0.037387   0.281909   832.222680  1586.444522   9787.0   9862.0   \n",
       "4       0.009650   0.562187   425.425673  1579.612026   6589.0   6623.0   \n",
       "...          ...        ...          ...          ...      ...      ...   \n",
       "1995    0.011286   0.072818    65.389870  1594.034764  15240.0  15250.0   \n",
       "1996    0.011414   0.037238    33.522343  1570.921451    357.0    361.0   \n",
       "1997    0.007000   0.026745    14.953285  1585.430827      NaN      NaN   \n",
       "1998    0.013260   0.086306    90.085099  1593.924477  15159.0  15177.0   \n",
       "1999    0.005814   0.044446    20.678298  1577.390680      NaN      NaN   \n",
       "\n",
       "      cstart  cstop       tstart        tstop       ed_rec  ed_rec_err  \\\n",
       "0        NaN    NaN  1574.861375  1575.094706  1846.504209    5.707542   \n",
       "1        NaN    NaN  1593.981951  1594.119448   738.228866    5.097350   \n",
       "2        NaN    NaN  1570.828064  1571.040563  1972.066633    5.410406   \n",
       "3        NaN    NaN  1586.432069  1586.536235   677.293266    4.291492   \n",
       "4        NaN    NaN  1579.608553  1579.655774   405.269051    2.490945   \n",
       "...      ...    ...          ...          ...          ...         ...   \n",
       "1995     NaN    NaN  1594.033339  1594.047227    46.721179    1.790821   \n",
       "1996     NaN    NaN  1570.921119  1570.926674    12.788491    1.267417   \n",
       "1997     NaN    NaN          NaN          NaN          NaN         NaN   \n",
       "1998     NaN    NaN  1593.920841  1593.945840    71.038482    2.369896   \n",
       "1999     NaN    NaN          NaN          NaN          NaN         NaN   \n",
       "\n",
       "      ampl_rec  total_n_valid_data_points       dur  \n",
       "0     0.441391                    16428.0  0.233332  \n",
       "1     0.207974                    16428.0  0.137497  \n",
       "2     0.543702                    16428.0  0.212499  \n",
       "3     0.275360                    16428.0  0.104165  \n",
       "4     0.461912                    16428.0  0.047222  \n",
       "...        ...                        ...       ...  \n",
       "1995  0.084924                    16428.0  0.013889  \n",
       "1996  0.032467                    16428.0  0.005556  \n",
       "1997       NaN                        NaN       NaN  \n",
       "1998  0.078565                    16428.0  0.025000  \n",
       "1999       NaN                        NaN       NaN  \n",
       "\n",
       "[2000 rows x 15 columns]"
      ]
     },
     "execution_count": 15,
     "metadata": {},
     "output_type": "execute_result"
    }
   ],
   "source": [
    "flc.flares = flares\n",
    "flc.flares[\"dur\"] = flc.flares.tstop - flc.flares.tstart\n",
    "flc.fake_flares[\"dur\"] = flc.fake_flares.tstop - flc.fake_flares.tstart\n",
    "flc.fake_flares"
   ]
  },
  {
   "cell_type": "code",
   "execution_count": 19,
   "metadata": {},
   "outputs": [
    {
     "name": "stdout",
     "output_type": "stream",
     "text": [
      "[0.0080171  0.05256849 0.09711987 0.14167126 0.18622264 0.23077402\n",
      " 0.27532541 0.31987679 0.36442817 0.40897956 0.45353094 0.49808233\n",
      " 0.54263371 0.58718509 0.63173648 0.67628786 0.72083924 0.76539063\n",
      " 0.80994201 0.8544934  0.89904478 0.94359616 0.98814755 1.03269893\n",
      " 1.07725031 1.1218017  1.16635308 1.21090447 1.25545585 1.30000723\n",
      " 1.34455862 1.38911   ] [2.09819630e-04 2.79804495e-02 5.57510793e-02 8.35217092e-02\n",
      " 1.11292339e-01 1.39062969e-01 1.66833599e-01 1.94604229e-01\n",
      " 2.22374858e-01 2.50145488e-01 2.77916118e-01 3.05686748e-01\n",
      " 3.33457378e-01 3.61228008e-01 3.88998637e-01 4.16769267e-01\n",
      " 4.44539897e-01 4.72310527e-01 5.00081157e-01 5.27851787e-01\n",
      " 5.55622416e-01 5.83393046e-01 6.11163676e-01 6.38934306e-01\n",
      " 6.66704936e-01 6.94475566e-01 7.22246196e-01 7.50016825e-01\n",
      " 7.77787455e-01 8.05558085e-01 8.33328715e-01 8.61099345e-01]\n",
      "[0.0080171  0.05256849 0.09711987 0.14167126 0.18622264 0.23077402\n",
      " 0.27532541 0.31987679 0.36442817 0.40897956 0.45353094 0.49808233\n",
      " 0.54263371 0.58718509 0.63173648 0.67628786 0.72083924 0.76539063\n",
      " 0.80994201 0.8544934  0.89904478 0.94359616 0.98814755 1.03269893\n",
      " 1.07725031 1.1218017  1.16635308 1.21090447 1.25545585 1.30000723\n",
      " 1.34455862 1.38911   ] [2.09819630e-04 2.79804495e-02 5.57510793e-02 8.35217092e-02\n",
      " 1.11292339e-01 1.39062969e-01 1.66833599e-01 1.94604229e-01\n",
      " 2.22374858e-01 2.50145488e-01 2.77916118e-01 3.05686748e-01\n",
      " 3.33457378e-01 3.61228008e-01 3.88998637e-01 4.16769267e-01\n",
      " 4.44539897e-01 4.72310527e-01 5.00081157e-01 5.27851787e-01\n",
      " 5.55622416e-01 5.83393046e-01 6.11163676e-01 6.38934306e-01\n",
      " 6.66704936e-01 6.94475566e-01 7.22246196e-01 7.50016825e-01\n",
      " 7.77787455e-01 8.05558085e-01 8.33328715e-01 8.61099345e-01]\n",
      "[0.0080171  0.05256849 0.09711987 0.14167126 0.18622264 0.23077402\n",
      " 0.27532541 0.31987679 0.36442817 0.40897956 0.45353094 0.49808233\n",
      " 0.54263371 0.58718509 0.63173648 0.67628786 0.72083924 0.76539063\n",
      " 0.80994201 0.8544934  0.89904478 0.94359616 0.98814755 1.03269893\n",
      " 1.07725031 1.1218017  1.16635308 1.21090447 1.25545585 1.30000723\n",
      " 1.34455862 1.38911   ] [2.09819630e-04 2.79804495e-02 5.57510793e-02 8.35217092e-02\n",
      " 1.11292339e-01 1.39062969e-01 1.66833599e-01 1.94604229e-01\n",
      " 2.22374858e-01 2.50145488e-01 2.77916118e-01 3.05686748e-01\n",
      " 3.33457378e-01 3.61228008e-01 3.88998637e-01 4.16769267e-01\n",
      " 4.44539897e-01 4.72310527e-01 5.00081157e-01 5.27851787e-01\n",
      " 5.55622416e-01 5.83393046e-01 6.11163676e-01 6.38934306e-01\n",
      " 6.66704936e-01 6.94475566e-01 7.22246196e-01 7.50016825e-01\n",
      " 7.77787455e-01 8.05558085e-01 8.33328715e-01 8.61099345e-01]\n"
     ]
    },
    {
     "data": {
      "image/png": "[encoded data removed]",
      "text/plain": [
       "<Figure size 648x504 with 2 Axes>"
      ]
     },
     "metadata": {},
     "output_type": "display_data"
    },
    {
     "data": {
      "image/png": "[encoded data removed]",
      "text/plain": [
       "<Figure size 648x504 with 2 Axes>"
      ]
     },
     "metadata": {},
     "output_type": "display_data"
    }
   ],
   "source": [
    "density = 2\n",
    "dur_bins = None\n",
    "ampl_bins = None\n",
    "flc = flc.characterize_flares(flares_per_bin=density, dur_bins=dur_bins, ampl_bins=ampl_bins)\n",
    "\n",
    "flc.plot_ed_ratio_heatmap(flares_per_bin=density, dur_bins=dur_bins, ampl_bins=ampl_bins)\n",
    "\n",
    "flc.plot_recovery_probability_heatmap(flares_per_bin=density, dur_bins=dur_bins, ampl_bins=ampl_bins)"
   ]
  },
  {
   "cell_type": "code",
   "execution_count": null,
   "metadata": {},
   "outputs": [],
   "source": [
    "plt.scatter(flc.flares.ed_rec,flc.flares.ed_corr )\n",
    "# plt.xscale(\"log\")"
   ]
  },
  {
   "cell_type": "code",
   "execution_count": null,
   "metadata": {},
   "outputs": [],
   "source": [
    "flc.flares.T"
   ]
  },
  {
   "cell_type": "markdown",
   "metadata": {},
   "source": [
    "# View an save characterized flares"
   ]
  },
  {
   "cell_type": "code",
   "execution_count": null,
   "metadata": {
    "scrolled": false
   },
   "outputs": [],
   "source": [
    "for i, r in flc.flares.iterrows():\n",
    "    plt.figure(figsize=(5,4))\n",
    "    plt.plot(flc.time, flc.flux,c=\"k\",alpha=.6)\n",
    "    plt.plot(flcc.time, flcc.detrended_flux,c=\"b\",label=f\"{r.tstart:.2f}\")\n",
    "    sta, sto = r.tstart, r.tstop\n",
    "    plt.xlim(r.tstart-.3,r.tstop+.3)\n",
    "    t = np.linspace(r.tstart-.3,r.tstop+.3,3000)\n",
    "    wh = (flcc.time>=sta) & (flcc.time<=sto)\n",
    "    plt.plot(t,\n",
    "             np.mean(flcc.flux)+\n",
    "             np.mean(flc.flux)*aflare(t, flcc.time[wh][np.argmax(flcc.detrended_flux[wh])], \n",
    "                    r.duration_corr, r.amplitude_corr,),c=\"r\",alpha=.8)\n",
    "    plt.ylim(np.nanmin(1.*flcc.detrended_flux),1600)#1.*np.nanmax(f.detrended_flux))\n",
    "\n",
    "    plt.legend()"
   ]
  },
  {
   "cell_type": "code",
   "execution_count": null,
   "metadata": {},
   "outputs": [],
   "source": [
    "flc.flares[\"real\"] = 1"
   ]
  },
  {
   "cell_type": "code",
   "execution_count": null,
   "metadata": {},
   "outputs": [],
   "source": [
    "with open(f\"{CWD}/analysis/results/flarefind/2020_08_all_flares.csv\", \"a\") as f:\n",
    "    flc.flares.to_csv(f, index=False, header=False)"
   ]
  },
  {
   "cell_type": "markdown",
   "metadata": {},
   "source": [
    "# FFD analysis"
   ]
  },
  {
   "cell_type": "code",
   "execution_count": null,
   "metadata": {},
   "outputs": [],
   "source": [
    "df = pd.read_csv(f\"{CWD}/analysis/results/flarefind/2020_08_all_flares.csv\")\n",
    "subdf = df[(df.ID == target.ID) &\n",
    "        (df.real == 1) ]#&\n",
    "#        (df.sector == target.QCS)]"
   ]
  },
  {
   "cell_type": "code",
   "execution_count": null,
   "metadata": {},
   "outputs": [],
   "source": [
    "len(flc.time)/60./24./365.25"
   ]
  },
  {
   "cell_type": "code",
   "execution_count": null,
   "metadata": {},
   "outputs": [],
   "source": [
    "def plot_ffds(flc, ax, subdf):\n",
    "\n",
    "    # Show the uncorrected flare sample\n",
    "    f = pd.DataFrame({\"ed_rec\":subdf.ed_rec})\n",
    "    ffd = FFD(f=f, tot_obs_time=len(flc.time)/60./24./365.25)\n",
    "    ed, freq, counts = ffd.ed_and_freq()\n",
    "    ax.scatter(ed, freq, c=\"grey\", marker=\"d\")\n",
    "\n",
    "    # Show the corrected flare sample\n",
    "    f = pd.DataFrame({\"ed_rec\":subdf.ed_corr.dropna()})\n",
    "    ffd = FFD(f=f, tot_obs_time=len(flc.time)/60./24./365.25)\n",
    "    ed, freq, counts = ffd.ed_and_freq()\n",
    "    ax.scatter(ed, freq, c=\"k\")\n",
    "\n",
    "    # Fit a powerlaw and plot it\n",
    "    ffd.fit_powerlaw(\"mmle\")\n",
    "    ffd.plot_powerlaw(ax=ax)"
   ]
  },
  {
   "cell_type": "code",
   "execution_count": null,
   "metadata": {},
   "outputs": [],
   "source": [
    "results = {}"
   ]
  },
  {
   "cell_type": "code",
   "execution_count": null,
   "metadata": {},
   "outputs": [],
   "source": [
    "fig, ax = plt.subplots(ncols=1, nrows=1, figsize=(6, 5),)\n",
    "\n",
    "# Plot FFDs and fit powerlaw\n",
    "plot_ffds(flc, ax, subdf)\n",
    "\n",
    "# save results to dict\n",
    "results[target.ID] = {\"alpha\":ffd.alpha,\n",
    "                      \"alpha_up_err\":ffd.alpha_err,\n",
    "                      \"alpha_low_err\":ffd.alpha_err,\n",
    "                      \"beta\":ffd.beta,\n",
    "                      \"beta_up_err\":ffd.beta_err,\n",
    "                      \"beta_low_err\":ffd.beta_err,}\n",
    "\n",
    "# layout\n",
    "ax.set_xscale(\"log\")\n",
    "ax.set_yscale(\"log\")\n",
    "ax.set_xlabel(\"ED [s]\")\n",
    "ax.set_ylabel(\"cumulative number of flares per year\")\n",
    "\n",
    "\n",
    "plt.tight_layout()"
   ]
  },
  {
   "cell_type": "code",
   "execution_count": null,
   "metadata": {},
   "outputs": [],
   "source": [
    "pd.DataFrame(results)"
   ]
  },
  {
   "cell_type": "markdown",
   "metadata": {},
   "source": [
    "# How often would such a flare occur?"
   ]
  },
  {
   "cell_type": "code",
   "execution_count": null,
   "metadata": {},
   "outputs": [],
   "source": [
    "CWD = \"/\".join(os.getcwd().split(\"/\")[:-2])\n",
    "df = pd.read_csv(f\"{CWD}/analysis/results/mcmc/mcmcoutput.csv\")\n",
    "df = df.drop_duplicates(keep=False).fillna(\"\")\n",
    "df"
   ]
  },
  {
   "cell_type": "code",
   "execution_count": null,
   "metadata": {},
   "outputs": [],
   "source": [
    "df[df.ID==target.ID]\n",
    "# Get uncertainties here, too!\n",
    "# ED_s_50, s_84, s_16\n",
    "ffd.beta / (ffd.alpha - 1.) * np.power(ED,-ffd.alpha+1)"
   ]
  },
  {
   "cell_type": "markdown",
   "metadata": {},
   "source": [
    "# Does the amplitude duration ratio fit in with the rest of the flares from that star?"
   ]
  },
  {
   "cell_type": "code",
   "execution_count": null,
   "metadata": {},
   "outputs": [],
   "source": [
    "fig, ax = plt.subplots(ncols=1, nrows=1, figsize=(6, 5),)\n",
    "\n",
    "ax.scatter(subdf.duration_corr,subdf.amplitude_corr, marker=\"x\")\n",
    "ax.set_ylabel(\"corrected amplitude\")\n",
    "ax.set_ylabel(\"corrected FWHM\")"
   ]
  },
  {
   "cell_type": "code",
   "execution_count": null,
   "metadata": {},
   "outputs": [],
   "source": []
  },
  {
   "cell_type": "code",
   "execution_count": null,
   "metadata": {},
   "outputs": [],
   "source": []
  }
 ],
 "metadata": {
  "kernelspec": {
   "display_name": "forallpurposes",
   "language": "python",
   "name": "forallpurposes"
  },
  "language_info": {
   "codemirror_mode": {
    "name": "ipython",
    "version": 3
   },
   "file_extension": ".py",
   "mimetype": "text/x-python",
   "name": "python",
   "nbconvert_exporter": "python",
   "pygments_lexer": "ipython3",
   "version": "3.6.9"
  }
 },
 "nbformat": 4,
 "nbformat_minor": 2
}
