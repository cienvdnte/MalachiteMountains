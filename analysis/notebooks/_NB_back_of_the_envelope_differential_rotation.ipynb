{
 "cells": [
  {
   "cell_type": "markdown",
   "metadata": {},
   "source": [
    "# Do a back-of-the envelope estimate of the effect of strong differential rotation on inclination estimates"
   ]
  },
  {
   "cell_type": "code",
   "execution_count": 2,
   "metadata": {},
   "outputs": [],
   "source": [
    "# basics\n",
    "import numpy as np\n",
    "import pandas as pd\n",
    "\n",
    "# constants and units\n",
    "from astropy.constants import R_sun\n",
    "import astropy.units as u"
   ]
  },
  {
   "cell_type": "code",
   "execution_count": 3,
   "metadata": {},
   "outputs": [],
   "source": [
    "df = pd.read_csv(\"../../data/summary/inclination_input.csv\")"
   ]
  },
  {
   "cell_type": "code",
   "execution_count": 9,
   "metadata": {},
   "outputs": [
    {
     "data": {
      "text/latex": [
       "$[50.988251,~21.32101,~33.091541,~86.672504,~48.984897] \\; \\mathrm{{}^{\\circ}}$"
      ],
      "text/plain": [
       "<Quantity [50.98825095, 21.32101028, 33.09154088, 86.67250379, 48.98489708] deg>"
      ]
     },
     "execution_count": 9,
     "metadata": {},
     "output_type": "execute_result"
    }
   ],
   "source": [
    "# get rough sini from inclination input values\n",
    "sini = df.prot_d.values * u.d * df.vsini_kms.values * u.km / u.s / 2. / np.pi / df.rad_rsun.values / R_sun\n",
    "\n",
    "np.arcsin(sini).to(\"deg\")"
   ]
  },
  {
   "cell_type": "code",
   "execution_count": 10,
   "metadata": {},
   "outputs": [
    {
     "name": "stderr",
     "output_type": "stream",
     "text": [
      "/home/ekaterina/Documents/000_envs/forallpurposes/lib/python3.6/site-packages/astropy-4.0-py3.6-linux-x86_64.egg/astropy/units/quantity.py:481: RuntimeWarning: invalid value encountered in arcsin\n",
      "  result = super().__array_ufunc__(function, method, *arrays, **kwargs)\n"
     ]
    },
    {
     "data": {
      "text/latex": [
       "$[52.454944,~21.778112,~33.856907,~{\\rm NaN},~50.348082] \\; \\mathrm{{}^{\\circ}}$"
      ],
      "text/plain": [
       "<Quantity [52.45494444, 21.77811247, 33.85690712,         nan, 50.34808156] deg>"
      ]
     },
     "execution_count": 10,
     "metadata": {},
     "output_type": "execute_result"
    }
   ],
   "source": [
    "# sini assuming predicted differential rotation values \n",
    "# from Yadav et al. (2015) (about 1 oom higher than measured)\n",
    "sini = (df.prot_d.values / .98) * u.d * df.vsini_kms.values * u.km / u.s / 2. / np.pi / df.rad_rsun.values / R_sun\n",
    "\n",
    "np.arcsin(sini).to(\"deg\")"
   ]
  },
  {
   "cell_type": "code",
   "execution_count": null,
   "metadata": {},
   "outputs": [],
   "source": []
  }
 ],
 "metadata": {
  "kernelspec": {
   "display_name": "forallpurposes",
   "language": "python",
   "name": "forallpurposes"
  },
  "language_info": {
   "codemirror_mode": {
    "name": "ipython",
    "version": 3
   },
   "file_extension": ".py",
   "mimetype": "text/x-python",
   "name": "python",
   "nbconvert_exporter": "python",
   "pygments_lexer": "ipython3",
   "version": "3.6.9"
  }
 },
 "nbformat": 4,
 "nbformat_minor": 2
}
