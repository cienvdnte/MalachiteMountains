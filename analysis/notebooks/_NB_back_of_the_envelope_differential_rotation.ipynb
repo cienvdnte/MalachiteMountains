{
 "cells": [
  {
   "cell_type": "markdown",
   "metadata": {},
   "source": [
    "# Do a back-of-the envelope estimate of the effect of strong differential rotation on inclination estimates"
   ]
  },
  {
   "cell_type": "code",
   "execution_count": 2,
   "metadata": {},
   "outputs": [],
   "source": [
    "# basics\n",
    "import numpy as np\n",
    "import pandas as pd\n",
    "\n",
    "# constants and units\n",
    "from astropy.constants import R_sun\n",
    "import astropy.units as u"
   ]
  },
  {
   "cell_type": "code",
   "execution_count": 15,
   "metadata": {},
   "outputs": [],
   "source": [
    "df = pd.read_csv(\"../../data/summary/inclination_input.csv\")\n",
    "df.vsini_kms *= 2.4"
   ]
  },
  {
   "cell_type": "code",
   "execution_count": 16,
   "metadata": {},
   "outputs": [
    {
     "data": {
      "text/latex": [
       "$[60.764878,~{\\rm NaN},~{\\rm NaN},~{\\rm NaN}] \\; \\mathrm{{}^{\\circ}}$"
      ],
      "text/plain": [
       "<Quantity [60.76487753,         nan,         nan,         nan] deg>"
      ]
     },
     "execution_count": 16,
     "metadata": {},
     "output_type": "execute_result"
    }
   ],
   "source": [
    "# get rough sini from inclination input values\n",
    "sini = df.prot_d.values * u.d * df.vsini_kms.values * u.km / u.s / 2. / np.pi / df.rad_rsun.values / R_sun\n",
    "\n",
    "np.arcsin(sini).to(\"deg\")"
   ]
  },
  {
   "cell_type": "code",
   "execution_count": 17,
   "metadata": {},
   "outputs": [
    {
     "data": {
      "text/latex": [
       "$[62.927517,~{\\rm NaN},~{\\rm NaN},~{\\rm NaN}] \\; \\mathrm{{}^{\\circ}}$"
      ],
      "text/plain": [
       "<Quantity [62.92751708,         nan,         nan,         nan] deg>"
      ]
     },
     "execution_count": 17,
     "metadata": {},
     "output_type": "execute_result"
    }
   ],
   "source": [
    "# sini assuming predicted differential rotation values \n",
    "# from Yadav et al. (2015) (about 1 oom higher than measured)\n",
    "sini = (df.prot_d.values / .98) * u.d * df.vsini_kms.values * u.km / u.s / 2. / np.pi / df.rad_rsun.values / R_sun\n",
    "\n",
    "np.arcsin(sini).to(\"deg\")"
   ]
  },
  {
   "cell_type": "code",
   "execution_count": null,
   "metadata": {},
   "outputs": [],
   "source": []
  }
 ],
 "metadata": {
  "kernelspec": {
   "display_name": "forallpurposes",
   "language": "python",
   "name": "forallpurposes"
  },
  "language_info": {
   "codemirror_mode": {
    "name": "ipython",
    "version": 3
   },
   "file_extension": ".py",
   "mimetype": "text/x-python",
   "name": "python",
   "nbconvert_exporter": "python",
   "pygments_lexer": "ipython3",
   "version": "3.6.9"
  }
 },
 "nbformat": 4,
 "nbformat_minor": 2
}
