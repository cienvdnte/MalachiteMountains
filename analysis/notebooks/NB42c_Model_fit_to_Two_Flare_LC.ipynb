{
 "cells": [
  {
   "cell_type": "code",
   "execution_count": 13,
   "metadata": {},
   "outputs": [],
   "source": [
    "import matplotlib.pyplot as plt\n",
    "%matplotlib inline\n",
    "\n",
    "from astropy.constants import R_sun, R_jup\n",
    "import astropy.units as u\n",
    "\n",
    "import os\n",
    "import copy\n",
    "\n",
    "import numpy as np\n",
    "import pandas as pd\n",
    "\n",
    "from funcs.model import full_model_2flares, aflare, calculate_specific_flare_flux, aflare, calculate_angular_radius\n",
    "from funcs.flarefit import log_probability, log_probability_2flares\n",
    "\n",
    "CWD = \"/\".join(os.getcwd().split(\"/\")[:-2])\n",
    "\n",
    "import warnings\n",
    "warnings.simplefilter(\"ignore\")\n",
    "\n",
    "import pytest\n",
    "import emcee\n",
    "import corner\n",
    "\n",
    "import time\n",
    "tstamp = time.strftime(\"%d_%m_%Y_%H_%M\", time.localtime())"
   ]
  },
  {
   "cell_type": "code",
   "execution_count": 14,
   "metadata": {},
   "outputs": [],
   "source": [
    "tstamp = '23_12_2019_13_28'"
   ]
  },
  {
   "cell_type": "code",
   "execution_count": 15,
   "metadata": {
    "scrolled": true
   },
   "outputs": [],
   "source": [
    "def get_incl(lcs):\n",
    "    v_rot = lcs['rad'].values*2*np.pi*R_sun / (lcs['Prot_d'].values*u.d)\n",
    "    vsini = lcs['vsini_kms'].values*u.km/u.s\n",
    "    e_vsini = lcs['e_vsini_kms'].values*u.km/u.s\n",
    "    sini = (vsini / v_rot ).decompose()\n",
    "    #print(sini.decompose(), v_rot.to(\"km/s\"))\n",
    "    # set values larger than 1 to 1 (must be due to uncertainties in Rstar or vsini):\n",
    "    #sini[sini.decompose() > 1] = 1.\n",
    "    incl = np.arcsin(sini.decompose())\n",
    "    lcs[\"incl\"] = incl\n",
    "    lcs[\"incl_err\"] = (e_vsini / (v_rot * np.sqrt(1. - sini**2))).decompose()\n",
    "    return lcs"
   ]
  },
  {
   "cell_type": "code",
   "execution_count": 16,
   "metadata": {},
   "outputs": [
    {
     "data": {
      "text/plain": [
       "(rad            0    0.215802\n",
       " dtype: float64\n",
       " Prot_d         0    0.118333\n",
       " dtype: float64\n",
       " vsini_kms          0    49.2\n",
       " dtype: float64\n",
       " e_vsini_kms         0    4.9\n",
       " dtype: float64\n",
       " incl               [0.5624355126392725 rad]\n",
       " incl_err              [0.06277851710766706]\n",
       " dtype: object, array([0.21580164]))"
      ]
     },
     "execution_count": 16,
     "metadata": {},
     "output_type": "execute_result"
    }
   ],
   "source": [
    "lcs = pd.Series({\"rad\":pd.Series([(2.1*R_jup/R_sun).decompose().value]),\n",
    "                \"Prot_d\":pd.Series([2.84/24]),\n",
    "                \"vsini_kms\":pd.Series([49.2]),\n",
    "                \"e_vsini_kms\":pd.Series([4.9]),})\n",
    "get_incl(lcs), lcs.rad.values"
   ]
  },
  {
   "cell_type": "code",
   "execution_count": 25,
   "metadata": {},
   "outputs": [],
   "source": [
    "lcs = pd.read_csv(f\"{CWD}/data/summary/lcs.csv\")\n",
    "guesses = pd.read_csv(f\"{CWD}/archive/eyeball_results.csv\")\n",
    "props = pd.read_csv(f\"{CWD}/data/summary/properties.csv\")\n",
    "#lcs.ID = lcs.ID.astype(int)\n",
    "#guesses.ID = guesses.ID.astype(int)\n",
    "#guesses"
   ]
  },
  {
   "cell_type": "code",
   "execution_count": 26,
   "metadata": {},
   "outputs": [],
   "source": [
    "lcs = lcs.merge(guesses, on=[\"ID\",\"prefix\"], how=\"outer\")\n",
    "lcs = lcs.merge(props, left_on=\"ID\", right_on=\"id\")"
   ]
  },
  {
   "cell_type": "code",
   "execution_count": null,
   "metadata": {},
   "outputs": [],
   "source": []
  },
  {
   "cell_type": "code",
   "execution_count": 27,
   "metadata": {},
   "outputs": [
    {
     "data": {
      "text/html": [
       "<div>\n",
       "<style scoped>\n",
       "    .dataframe tbody tr th:only-of-type {\n",
       "        vertical-align: middle;\n",
       "    }\n",
       "\n",
       "    .dataframe tbody tr th {\n",
       "        vertical-align: top;\n",
       "    }\n",
       "\n",
       "    .dataframe thead th {\n",
       "        text-align: right;\n",
       "    }\n",
       "</style>\n",
       "<table border=\"1\" class=\"dataframe\">\n",
       "  <thead>\n",
       "    <tr style=\"text-align: right;\">\n",
       "      <th></th>\n",
       "      <th>ID</th>\n",
       "      <th>QCS</th>\n",
       "      <th>typ</th>\n",
       "      <th>cadence_min</th>\n",
       "      <th>mission</th>\n",
       "      <th>prefix</th>\n",
       "      <th>origin</th>\n",
       "      <th>h_mission</th>\n",
       "      <th>SpT</th>\n",
       "      <th>view_start</th>\n",
       "      <th>...</th>\n",
       "      <th>dist_err</th>\n",
       "      <th>dist_source</th>\n",
       "      <th>rad</th>\n",
       "      <th>tflux</th>\n",
       "      <th>tlum</th>\n",
       "      <th>kflux</th>\n",
       "      <th>klum</th>\n",
       "      <th>gmag</th>\n",
       "      <th>jmag</th>\n",
       "      <th>kmag</th>\n",
       "    </tr>\n",
       "  </thead>\n",
       "  <tbody>\n",
       "    <tr>\n",
       "      <th>0</th>\n",
       "      <td>100004076</td>\n",
       "      <td>14</td>\n",
       "      <td>slc</td>\n",
       "      <td>1</td>\n",
       "      <td>kep</td>\n",
       "      <td>KIC</td>\n",
       "      <td>generic</td>\n",
       "      <td>Kepler</td>\n",
       "      <td>L1</td>\n",
       "      <td>1356.50</td>\n",
       "      <td>...</td>\n",
       "      <td>0.038400</td>\n",
       "      <td>gaia</td>\n",
       "      <td>0.108176</td>\n",
       "      <td>3.319760e-12</td>\n",
       "      <td>1.119535e+29</td>\n",
       "      <td>6.712990e-13</td>\n",
       "      <td>2.263849e+28</td>\n",
       "      <td>17.8356</td>\n",
       "      <td>13.078</td>\n",
       "      <td>11.771</td>\n",
       "    </tr>\n",
       "    <tr>\n",
       "      <th>1</th>\n",
       "      <td>212035340</td>\n",
       "      <td>18</td>\n",
       "      <td>llc</td>\n",
       "      <td>30</td>\n",
       "      <td>ktwo</td>\n",
       "      <td>EPIC</td>\n",
       "      <td>generic</td>\n",
       "      <td>K2</td>\n",
       "      <td>M8</td>\n",
       "      <td>3437.00</td>\n",
       "      <td>...</td>\n",
       "      <td>20.512900</td>\n",
       "      <td>mk_dupuy2012</td>\n",
       "      <td>0.115204</td>\n",
       "      <td>6.546160e-13</td>\n",
       "      <td>8.406482e+29</td>\n",
       "      <td>1.394100e-13</td>\n",
       "      <td>1.790276e+29</td>\n",
       "      <td>19.5667</td>\n",
       "      <td>15.894</td>\n",
       "      <td>14.884</td>\n",
       "    </tr>\n",
       "    <tr>\n",
       "      <th>2</th>\n",
       "      <td>237880881</td>\n",
       "      <td>1</td>\n",
       "      <td>slc</td>\n",
       "      <td>2</td>\n",
       "      <td>tess</td>\n",
       "      <td>TIC</td>\n",
       "      <td>generic</td>\n",
       "      <td>TESS</td>\n",
       "      <td>M5</td>\n",
       "      <td>1331.00</td>\n",
       "      <td>...</td>\n",
       "      <td>0.143774</td>\n",
       "      <td>gaia</td>\n",
       "      <td>0.275151</td>\n",
       "      <td>3.492650e-11</td>\n",
       "      <td>8.870689e+30</td>\n",
       "      <td>1.272670e-11</td>\n",
       "      <td>3.232358e+30</td>\n",
       "      <td>14.9796</td>\n",
       "      <td>11.530</td>\n",
       "      <td>10.636</td>\n",
       "    </tr>\n",
       "    <tr>\n",
       "      <th>3</th>\n",
       "      <td>44984200</td>\n",
       "      <td>10</td>\n",
       "      <td>slc</td>\n",
       "      <td>2</td>\n",
       "      <td>tess</td>\n",
       "      <td>TIC</td>\n",
       "      <td>custom</td>\n",
       "      <td>TESS</td>\n",
       "      <td>M6</td>\n",
       "      <td>1587.25</td>\n",
       "      <td>...</td>\n",
       "      <td>0.027472</td>\n",
       "      <td>gaia</td>\n",
       "      <td>0.142339</td>\n",
       "      <td>6.305290e-11</td>\n",
       "      <td>9.308451e+29</td>\n",
       "      <td>2.018160e-11</td>\n",
       "      <td>2.979395e+29</td>\n",
       "      <td>14.4115</td>\n",
       "      <td>10.309</td>\n",
       "      <td>9.268</td>\n",
       "    </tr>\n",
       "    <tr>\n",
       "      <th>4</th>\n",
       "      <td>277539431</td>\n",
       "      <td>12</td>\n",
       "      <td>slc</td>\n",
       "      <td>2</td>\n",
       "      <td>tess</td>\n",
       "      <td>TIC</td>\n",
       "      <td>custom</td>\n",
       "      <td>TESS</td>\n",
       "      <td>M7</td>\n",
       "      <td>1641.00</td>\n",
       "      <td>...</td>\n",
       "      <td>0.106872</td>\n",
       "      <td>gaia</td>\n",
       "      <td>0.145216</td>\n",
       "      <td>5.011190e-11</td>\n",
       "      <td>1.126370e+30</td>\n",
       "      <td>1.380730e-11</td>\n",
       "      <td>3.103479e+29</td>\n",
       "      <td>14.7381</td>\n",
       "      <td>10.630</td>\n",
       "      <td>9.666</td>\n",
       "    </tr>\n",
       "    <tr>\n",
       "      <th>5</th>\n",
       "      <td>300741820</td>\n",
       "      <td>8</td>\n",
       "      <td>slc</td>\n",
       "      <td>2</td>\n",
       "      <td>tess</td>\n",
       "      <td>TIC</td>\n",
       "      <td>generic</td>\n",
       "      <td>TESS</td>\n",
       "      <td>M6</td>\n",
       "      <td>1522.00</td>\n",
       "      <td>...</td>\n",
       "      <td>4.409260</td>\n",
       "      <td>mk_dupuy2012</td>\n",
       "      <td>0.127594</td>\n",
       "      <td>2.711650e-11</td>\n",
       "      <td>1.608939e+30</td>\n",
       "      <td>8.679300e-12</td>\n",
       "      <td>5.149798e+29</td>\n",
       "      <td>15.3277</td>\n",
       "      <td>11.959</td>\n",
       "      <td>11.126</td>\n",
       "    </tr>\n",
       "    <tr>\n",
       "      <th>6</th>\n",
       "      <td>230120143</td>\n",
       "      <td>16</td>\n",
       "      <td>slc</td>\n",
       "      <td>2</td>\n",
       "      <td>tess</td>\n",
       "      <td>TIC</td>\n",
       "      <td>generic</td>\n",
       "      <td>TESS</td>\n",
       "      <td>M7</td>\n",
       "      <td>1741.00</td>\n",
       "      <td>...</td>\n",
       "      <td>0.055900</td>\n",
       "      <td>gaia</td>\n",
       "      <td>0.145216</td>\n",
       "      <td>5.011190e-11</td>\n",
       "      <td>1.126370e+30</td>\n",
       "      <td>1.380730e-11</td>\n",
       "      <td>3.103479e+29</td>\n",
       "      <td>13.5557</td>\n",
       "      <td>9.854</td>\n",
       "      <td>8.950</td>\n",
       "    </tr>\n",
       "  </tbody>\n",
       "</table>\n",
       "<p>7 rows × 54 columns</p>\n",
       "</div>"
      ],
      "text/plain": [
       "          ID  QCS  typ  cadence_min mission prefix   origin h_mission SpT  \\\n",
       "0  100004076   14  slc            1     kep    KIC  generic    Kepler  L1   \n",
       "1  212035340   18  llc           30    ktwo   EPIC  generic        K2  M8   \n",
       "2  237880881    1  slc            2    tess    TIC  generic      TESS  M5   \n",
       "3   44984200   10  slc            2    tess    TIC   custom      TESS  M6   \n",
       "4  277539431   12  slc            2    tess    TIC   custom      TESS  M7   \n",
       "5  300741820    8  slc            2    tess    TIC  generic      TESS  M6   \n",
       "6  230120143   16  slc            2    tess    TIC  generic      TESS  M7   \n",
       "\n",
       "   view_start  ...   dist_err   dist_source       rad         tflux  \\\n",
       "0     1356.50  ...   0.038400          gaia  0.108176  3.319760e-12   \n",
       "1     3437.00  ...  20.512900  mk_dupuy2012  0.115204  6.546160e-13   \n",
       "2     1331.00  ...   0.143774          gaia  0.275151  3.492650e-11   \n",
       "3     1587.25  ...   0.027472          gaia  0.142339  6.305290e-11   \n",
       "4     1641.00  ...   0.106872          gaia  0.145216  5.011190e-11   \n",
       "5     1522.00  ...   4.409260  mk_dupuy2012  0.127594  2.711650e-11   \n",
       "6     1741.00  ...   0.055900          gaia  0.145216  5.011190e-11   \n",
       "\n",
       "           tlum         kflux          klum     gmag    jmag    kmag  \n",
       "0  1.119535e+29  6.712990e-13  2.263849e+28  17.8356  13.078  11.771  \n",
       "1  8.406482e+29  1.394100e-13  1.790276e+29  19.5667  15.894  14.884  \n",
       "2  8.870689e+30  1.272670e-11  3.232358e+30  14.9796  11.530  10.636  \n",
       "3  9.308451e+29  2.018160e-11  2.979395e+29  14.4115  10.309   9.268  \n",
       "4  1.126370e+30  1.380730e-11  3.103479e+29  14.7381  10.630   9.666  \n",
       "5  1.608939e+30  8.679300e-12  5.149798e+29  15.3277  11.959  11.126  \n",
       "6  1.126370e+30  1.380730e-11  3.103479e+29  13.5557   9.854   8.950  \n",
       "\n",
       "[7 rows x 54 columns]"
      ]
     },
     "execution_count": 27,
     "metadata": {},
     "output_type": "execute_result"
    }
   ],
   "source": [
    "lcs"
   ]
  },
  {
   "cell_type": "code",
   "execution_count": 28,
   "metadata": {},
   "outputs": [
    {
     "data": {
      "text/plain": [
       "ID                            237880881\n",
       "QCS                                   1\n",
       "typ                                 slc\n",
       "cadence_min                           2\n",
       "mission                            tess\n",
       "prefix                              TIC\n",
       "origin                          generic\n",
       "h_mission                          TESS\n",
       "SpT                                  M5\n",
       "view_start                         1331\n",
       "view_stop                        1333.5\n",
       "view_min                            560\n",
       "view_max                            700\n",
       "BJDoff                          2457000\n",
       "tstart                           1331.7\n",
       "ampl_min                            NaN\n",
       "ampl_max                            NaN\n",
       "RA                               19.528\n",
       "Dec                            -62.9831\n",
       "J                                 11.53\n",
       "R                                   NaN\n",
       "Gaia_G                          14.9796\n",
       "vsini_kms                          14.4\n",
       "e_vsini_kms                         2.6\n",
       "Prot_d                          0.35125\n",
       "sini                                NaN\n",
       "Ref                            Kraus+14\n",
       "identifier      2MASS J01180670-6258591\n",
       "Rstar                             0.199\n",
       "ED                                 6020\n",
       "e_ED                                298\n",
       "t0                              1331.82\n",
       "e_t0                            0.00194\n",
       "dur                             0.77347\n",
       "e_dur                           0.02975\n",
       "ampl                            0.46626\n",
       "e_ampl                          0.01576\n",
       "Prot                               8.43\n",
       "theta_a_init                         60\n",
       "idtyp                              tess\n",
       "id                            237880881\n",
       "st                                   M5\n",
       "desig_2mass            01180670-6258591\n",
       "dist                            46.0681\n",
       "dist_err                       0.143774\n",
       "dist_source                        gaia\n",
       "rad                            0.275151\n",
       "tflux                       3.49265e-11\n",
       "tlum                        8.87069e+30\n",
       "kflux                       1.27267e-11\n",
       "klum                        3.23236e+30\n",
       "gmag                            14.9796\n",
       "jmag                              11.53\n",
       "kmag                             10.636\n",
       "incl                           0.371856\n",
       "incl_err                      0.0704167\n",
       "Name: 2, dtype: object"
      ]
     },
     "execution_count": 28,
     "metadata": {},
     "output_type": "execute_result"
    }
   ],
   "source": [
    "lcs = get_incl(lcs)\n",
    "lcs.to_csv(f\"{CWD}/data/summary/everything.csv\", index=False)\n",
    "target = lcs.iloc[2]\n",
    "target"
   ]
  },
  {
   "cell_type": "code",
   "execution_count": 29,
   "metadata": {
    "scrolled": true
   },
   "outputs": [],
   "source": [
    "# from altaipony.altai import find_iterative_median\n",
    "# from altaipony.flarelc import FlareLightCurve\n",
    "# from funcs.custom_detrending import refine_detrended_flux_err\n",
    "# from funcs.multiperiod import remove_sinusoidal\n",
    "# from funcs.helper import fetch_lightcurve\n",
    "\n",
    "# flck = fetch_lightcurve(target)\n",
    "\n",
    "# t, sflux, model, period = remove_sinusoidal(target, plot=True, save=False)\n",
    "# print(t)\n",
    "# F = FlareLightCurve(time=t, detrended_flux=sflux, \n",
    "#                     detrended_flux_err=np.array(len(t)*[np.nanmean(flck.flux_err)]))\n",
    "# print(F.detrended_flux_err)\n",
    "# flcd = refine_detrended_flux_err(F, mask_pos_outliers_sigma=1.5, \n",
    "#                                      std_rolling_window_length=15, pad=25)\n",
    "\n",
    "# choice = (t > target.view_start) & (t < target.view_stop) \n",
    "# # only one flare in TIC 237 : + 1.56 - 1.\n",
    "# t = t[choice]\n",
    "# flux = sflux[choice]\n",
    "# flux_err = np.nanmean(flcd.detrended_flux_err)\n",
    "# median = np.nanmean(find_iterative_median(F).it_med)\n",
    "# phi = (t - t[0])/target.Prot_d * 2 * np.pi\n",
    "\n",
    "# pd.DataFrame({\"phi\":phi,\"flux\":flux, \"t\":t,\n",
    "#               \"flux_err\":flux_err, \"median_\":median}).to_csv(f\"{CWD}/data/lcs/{tstamp}_{target.ID}.csv\",\n",
    "#                                                              index=False)\n",
    "# median"
   ]
  },
  {
   "cell_type": "code",
   "execution_count": 30,
   "metadata": {},
   "outputs": [
    {
     "data": {
      "text/plain": [
       "(10, 15)"
      ]
     },
     "execution_count": 30,
     "metadata": {},
     "output_type": "execute_result"
    },
    {
     "data": {
      "image/png": "[encoded data removed]",
      "text/plain": [
       "<Figure size 432x288 with 1 Axes>"
      ]
     },
     "metadata": {
      "needs_background": "light"
     },
     "output_type": "display_data"
    }
   ],
   "source": [
    "\n",
    "#\n",
    "lc = pd.read_csv(f\"{CWD}/data/lcs/{tstamp}_{target.ID}.csv\")\n",
    "phi = lc.phi.values\n",
    "flux = lc.flux.values\n",
    "flux_err = lc.flux_err.values\n",
    "t= lc.t.values\n",
    "median = lc.median_[0]\n",
    "median\n",
    "plt.plot(phi,flux)\n",
    "plt.xlim(10,15)"
   ]
  },
  {
   "cell_type": "code",
   "execution_count": 31,
   "metadata": {
    "scrolled": true
   },
   "outputs": [
    {
     "name": "stdout",
     "output_type": "stream",
     "text": [
      "20.9253963026697\n",
      "11.485683712824796\n"
     ]
    },
    {
     "data": {
      "text/plain": [
       "(0.8552113334772214, 0.3718561470554695, (11.8, 14.724101266474062))"
      ]
     },
     "execution_count": 31,
     "metadata": {},
     "output_type": "execute_result"
    }
   ],
   "source": [
    "\n",
    "phi_a = (11.8,(target.t0 - t[0])/target.Prot_d * 2 * np.pi)\n",
    "theta_a = 49*np.pi/180#target.theta_a_init\n",
    "a = (1.5, target.ampl)\n",
    "fwhm = (0.5, target.dur /target.Prot_d * 2 * np.pi/5)\n",
    "i_mu = target.incl\n",
    "i_sigma = target.incl_err\n",
    "qlum = target.tlum * u.erg/u.s\n",
    "R = target.rad * R_sun\n",
    "phi0 = 240 * np.pi / 180\n",
    "Fth = calculate_specific_flare_flux(\"TESS\", flaret=1e4)\n",
    "phi_a_max = (phi[-1], phi[-1])\n",
    "for _a in a:\n",
    "    radius = calculate_angular_radius(Fth, _a, qlum, R)\n",
    "    print(radius)\n",
    "theta_a, i_mu, phi_a\n"
   ]
  },
  {
   "cell_type": "code",
   "execution_count": 32,
   "metadata": {},
   "outputs": [
    {
     "data": {
      "text/plain": [
       "(600, 1000)"
      ]
     },
     "execution_count": 32,
     "metadata": {},
     "output_type": "execute_result"
    },
    {
     "data": {
      "image/png": "[encoded data removed]",
      "text/plain": [
       "<Figure size 432x288 with 1 Axes>"
      ]
     },
     "metadata": {
      "needs_background": "light"
     },
     "output_type": "display_data"
    }
   ],
   "source": [
    "plt.plot(phi,flux)\n",
    "for i in range(0,360,20):\n",
    "    plt.plot(phi, full_model_2flares(phi_a, theta_a, a, fwhm, i_mu, phi0=i * np.pi / 180,\n",
    "               phi=phi, num_pts=50, qlum=qlum,\n",
    "               Fth=Fth, R=R, median=median), c=\"r\", alpha=1,)\n",
    "plt.plot(phi, full_model_2flares(phi_a, theta_a, a, fwhm, i_mu, phi0=240 * np.pi / 180,\n",
    "           phi=phi, num_pts=50, qlum=qlum,\n",
    "           Fth=Fth, R=R, median=median), c=\"k\", alpha=1,)\n",
    "plt.ylim(600,1000)"
   ]
  },
  {
   "cell_type": "markdown",
   "metadata": {},
   "source": [
    "### Save inits"
   ]
  },
  {
   "cell_type": "code",
   "execution_count": 14,
   "metadata": {},
   "outputs": [],
   "source": [
    "with open(f\"{CWD}/data/summary/inits.csv\", \"a\") as f:\n",
    "    firstout = \"date,ID,phi_a,theta_a,a,fwhm,Fth,phi0,i_mu,i_sigma,radius_deg,R_Rsun,qlum_erg_s,median\\n\"\n",
    "    out = (f\"{tstamp},{target.ID},{phi_a},{theta_a},{a},{fwhm},{Fth.value},\"\\\n",
    "           f\"{phi0},{i_mu},{i_sigma},{radius},{(R/R_sun).value},{qlum.value},{median}\\n\")\n",
    "   # f.write(firstout)\n",
    "    f.write(out)"
   ]
  },
  {
   "cell_type": "markdown",
   "metadata": {},
   "source": [
    "## Run MCMC"
   ]
  },
  {
   "cell_type": "code",
   "execution_count": 33,
   "metadata": {},
   "outputs": [],
   "source": [
    "inits = np.array([*phi_a, theta_a, *a, *fwhm, i_mu, phi0]) \n",
    "pos = inits * (1. + 1e-3 * np.random.randn(32, 9))\n",
    "nwalkers, ndim = pos.shape"
   ]
  },
  {
   "cell_type": "code",
   "execution_count": 15,
   "metadata": {},
   "outputs": [],
   "source": [
    "# Set up the backend\n",
    "# Don't forget to clear it in case the file already exists\n",
    "filename = f\"{CWD}/analysis/results/mcmc/{tstamp}_{target.ID}_MCMC.h5\"\n",
    "backend = emcee.backends.HDFBackend(filename)\n",
    "backend.reset(nwalkers, ndim)\n",
    "\n",
    "\n",
    "sampler = emcee.EnsembleSampler(nwalkers, ndim, log_probability_2flares,\n",
    "                                args=(phi, flux, flux_err, qlum, Fth, R, median, {\"i_mu\":i_mu,\n",
    "                                      \"i_sigma\":i_sigma, \"theta_a_min\":0, \"phi_a_max\":phi_a_max}),\n",
    "                                backend=backend)"
   ]
  },
  {
   "cell_type": "code",
   "execution_count": null,
   "metadata": {
    "scrolled": true
   },
   "outputs": [
    {
     "name": "stderr",
     "output_type": "stream",
     "text": [
      " 25%|██▍       | 12431/50000 [24:53:49<73:04:24,  7.00s/it]"
     ]
    },
    {
     "name": "stdout",
     "output_type": "stream",
     "text": [
      "LOG L ERROR\n"
     ]
    },
    {
     "name": "stderr",
     "output_type": "stream",
     "text": [
      " 33%|███▎      | 16341/50000 [32:32:07<65:51:21,  7.04s/it]"
     ]
    },
    {
     "name": "stdout",
     "output_type": "stream",
     "text": [
      "LOG L ERROR\n"
     ]
    },
    {
     "name": "stderr",
     "output_type": "stream",
     "text": [
      " 33%|███▎      | 16486/50000 [32:49:11<65:32:13,  7.04s/it]"
     ]
    },
    {
     "name": "stdout",
     "output_type": "stream",
     "text": [
      "LOG L ERROR\n"
     ]
    },
    {
     "name": "stderr",
     "output_type": "stream",
     "text": [
      " 35%|███▌      | 17621/50000 [35:02:38<63:05:09,  7.01s/it]"
     ]
    },
    {
     "name": "stdout",
     "output_type": "stream",
     "text": [
      "LOG L ERROR\n"
     ]
    },
    {
     "name": "stderr",
     "output_type": "stream",
     "text": [
      " 35%|███▌      | 17710/50000 [35:13:02<63:24:47,  7.07s/it]"
     ]
    },
    {
     "name": "stdout",
     "output_type": "stream",
     "text": [
      "LOG L ERROR\n"
     ]
    },
    {
     "name": "stderr",
     "output_type": "stream",
     "text": [
      " 36%|███▌      | 17776/50000 [35:20:45<62:52:59,  7.03s/it]"
     ]
    },
    {
     "name": "stdout",
     "output_type": "stream",
     "text": [
      "LOG L ERROR\n"
     ]
    },
    {
     "name": "stderr",
     "output_type": "stream",
     "text": [
      " 36%|███▌      | 17844/50000 [35:28:43<62:29:46,  7.00s/it]"
     ]
    },
    {
     "name": "stdout",
     "output_type": "stream",
     "text": [
      "LOG L ERROR\n"
     ]
    },
    {
     "name": "stderr",
     "output_type": "stream",
     "text": [
      " 36%|███▌      | 17932/50000 [35:39:03<63:02:44,  7.08s/it]"
     ]
    },
    {
     "name": "stdout",
     "output_type": "stream",
     "text": [
      "LOG L ERROR\n"
     ]
    },
    {
     "name": "stderr",
     "output_type": "stream",
     "text": [
      " 36%|███▌      | 18002/50000 [35:47:14<62:03:10,  6.98s/it]"
     ]
    },
    {
     "name": "stdout",
     "output_type": "stream",
     "text": [
      "LOG L ERROR\n"
     ]
    },
    {
     "name": "stderr",
     "output_type": "stream",
     "text": [
      " 37%|███▋      | 18497/50000 [36:45:28<62:24:02,  7.13s/it]"
     ]
    },
    {
     "name": "stdout",
     "output_type": "stream",
     "text": [
      "LOG L ERROR\n"
     ]
    },
    {
     "name": "stderr",
     "output_type": "stream",
     "text": [
      " 38%|███▊      | 18837/50000 [37:25:32<61:12:28,  7.07s/it]"
     ]
    },
    {
     "name": "stdout",
     "output_type": "stream",
     "text": [
      "LOG L ERROR\n"
     ]
    },
    {
     "name": "stderr",
     "output_type": "stream",
     "text": [
      " 45%|████▍     | 22296/50000 [44:09:34<54:30:25,  7.08s/it]"
     ]
    },
    {
     "name": "stdout",
     "output_type": "stream",
     "text": [
      "LOG L ERROR\n"
     ]
    },
    {
     "name": "stderr",
     "output_type": "stream",
     "text": [
      " 45%|████▌     | 22566/50000 [44:41:33<54:22:47,  7.14s/it]"
     ]
    },
    {
     "name": "stdout",
     "output_type": "stream",
     "text": [
      "LOG L ERROR\n"
     ]
    },
    {
     "name": "stderr",
     "output_type": "stream",
     "text": [
      " 81%|████████▏ | 40638/50000 [79:38:50<18:02:31,  6.94s/it]"
     ]
    },
    {
     "name": "stdout",
     "output_type": "stream",
     "text": [
      "LOG L ERROR\n"
     ]
    },
    {
     "name": "stderr",
     "output_type": "stream",
     "text": [
      " 81%|████████▏ | 40656/50000 [79:40:56<18:09:27,  7.00s/it]"
     ]
    },
    {
     "name": "stdout",
     "output_type": "stream",
     "text": [
      "LOG L ERROR\n"
     ]
    },
    {
     "name": "stderr",
     "output_type": "stream",
     "text": [
      " 81%|████████▏ | 40706/50000 [79:46:45<17:50:41,  6.91s/it]"
     ]
    },
    {
     "name": "stdout",
     "output_type": "stream",
     "text": [
      "LOG L ERROR\n"
     ]
    },
    {
     "name": "stderr",
     "output_type": "stream",
     "text": [
      " 82%|████████▏ | 40910/50000 [80:10:28<17:34:35,  6.96s/it]"
     ]
    },
    {
     "name": "stdout",
     "output_type": "stream",
     "text": [
      "LOG L ERROR\n"
     ]
    },
    {
     "name": "stderr",
     "output_type": "stream",
     "text": [
      " 82%|████████▏ | 40936/50000 [80:13:29<17:34:05,  6.98s/it]"
     ]
    },
    {
     "name": "stdout",
     "output_type": "stream",
     "text": [
      "LOG L ERROR\n"
     ]
    },
    {
     "name": "stderr",
     "output_type": "stream",
     "text": [
      " 93%|█████████▎| 46623/50000 [91:17:53<6:35:39,  7.03s/it] "
     ]
    },
    {
     "name": "stdout",
     "output_type": "stream",
     "text": [
      "LOG L ERROR\n"
     ]
    },
    {
     "name": "stderr",
     "output_type": "stream",
     "text": [
      " 93%|█████████▎| 46697/50000 [91:26:33<6:25:23,  7.00s/it]"
     ]
    },
    {
     "name": "stdout",
     "output_type": "stream",
     "text": [
      "LOG L ERROR\n"
     ]
    },
    {
     "name": "stderr",
     "output_type": "stream",
     "text": [
      " 97%|█████████▋| 48646/50000 [95:21:37<2:42:43,  7.21s/it]"
     ]
    }
   ],
   "source": [
    "\n",
    "sampler.run_mcmc(pos, 50000, progress=True, store=True);"
   ]
  },
  {
   "cell_type": "code",
   "execution_count": 34,
   "metadata": {},
   "outputs": [
    {
     "name": "stdout",
     "output_type": "stream",
     "text": [
      "Initial size: 48653\n"
     ]
    }
   ],
   "source": [
    "filename = f\"{CWD}/analysis/results/mcmc/{tstamp}_{target.ID}_MCMC.h5\"\n",
    "\n",
    "new_backend = emcee.backends.HDFBackend(filename)\n",
    "print(\"Initial size: {0}\".format(new_backend.iteration))"
   ]
  },
  {
   "cell_type": "code",
   "execution_count": 35,
   "metadata": {},
   "outputs": [
    {
     "data": {
      "text/plain": [
       "('23_12_2019_13_28', 237880881)"
      ]
     },
     "execution_count": 35,
     "metadata": {},
     "output_type": "execute_result"
    }
   ],
   "source": [
    "tstamp, target.ID"
   ]
  },
  {
   "cell_type": "code",
   "execution_count": null,
   "metadata": {},
   "outputs": [
    {
     "name": "stderr",
     "output_type": "stream",
     "text": [
      "  4%|▍         | 1914/50000 [3:52:09<96:04:22,  7.19s/it] "
     ]
    },
    {
     "name": "stdout",
     "output_type": "stream",
     "text": [
      "LOG L ERROR\n"
     ]
    },
    {
     "name": "stderr",
     "output_type": "stream",
     "text": [
      "  4%|▍         | 1986/50000 [4:00:45<94:50:08,  7.11s/it]"
     ]
    },
    {
     "name": "stdout",
     "output_type": "stream",
     "text": [
      "LOG L ERROR\n"
     ]
    },
    {
     "name": "stderr",
     "output_type": "stream",
     "text": [
      "  4%|▍         | 2146/50000 [4:19:47<93:53:11,  7.06s/it]"
     ]
    },
    {
     "name": "stdout",
     "output_type": "stream",
     "text": [
      "LOG L ERROR\n"
     ]
    },
    {
     "name": "stderr",
     "output_type": "stream",
     "text": [
      "  4%|▍         | 2160/50000 [4:21:26<93:03:14,  7.00s/it]"
     ]
    },
    {
     "name": "stdout",
     "output_type": "stream",
     "text": [
      "LOG L ERROR\n"
     ]
    },
    {
     "name": "stderr",
     "output_type": "stream",
     "text": [
      "  5%|▍         | 2315/50000 [4:39:54<93:52:55,  7.09s/it]"
     ]
    },
    {
     "name": "stdout",
     "output_type": "stream",
     "text": [
      "LOG L ERROR\n"
     ]
    },
    {
     "name": "stderr",
     "output_type": "stream",
     "text": [
      "  5%|▍         | 2379/50000 [4:47:31<95:13:03,  7.20s/it]"
     ]
    },
    {
     "name": "stdout",
     "output_type": "stream",
     "text": [
      "LOG L ERROR\n"
     ]
    },
    {
     "name": "stderr",
     "output_type": "stream",
     "text": [
      "  5%|▍         | 2446/50000 [4:55:32<95:09:53,  7.20s/it]"
     ]
    },
    {
     "name": "stdout",
     "output_type": "stream",
     "text": [
      "LOG L ERROR\n"
     ]
    },
    {
     "name": "stderr",
     "output_type": "stream",
     "text": [
      "  5%|▌         | 2518/50000 [5:04:12<95:07:39,  7.21s/it]"
     ]
    },
    {
     "name": "stdout",
     "output_type": "stream",
     "text": [
      "LOG L ERROR\n"
     ]
    },
    {
     "name": "stderr",
     "output_type": "stream",
     "text": [
      "  5%|▌         | 2651/50000 [5:20:09<94:59:20,  7.22s/it]"
     ]
    },
    {
     "name": "stdout",
     "output_type": "stream",
     "text": [
      "LOG L ERROR\n"
     ]
    },
    {
     "name": "stderr",
     "output_type": "stream",
     "text": [
      "  6%|▌         | 2755/50000 [5:32:40<94:41:48,  7.22s/it]"
     ]
    },
    {
     "name": "stdout",
     "output_type": "stream",
     "text": [
      "LOG L ERROR\n"
     ]
    },
    {
     "name": "stderr",
     "output_type": "stream",
     "text": [
      "  7%|▋         | 3396/50000 [6:50:27<93:57:09,  7.26s/it] "
     ]
    },
    {
     "name": "stdout",
     "output_type": "stream",
     "text": [
      "LOG L ERROR\n"
     ]
    },
    {
     "name": "stderr",
     "output_type": "stream",
     "text": [
      " 10%|▉         | 4844/50000 [9:47:50<93:02:27,  7.42s/it]"
     ]
    },
    {
     "name": "stdout",
     "output_type": "stream",
     "text": [
      "LOG L ERROR\n"
     ]
    },
    {
     "name": "stderr",
     "output_type": "stream",
     "text": [
      " 10%|▉         | 4995/50000 [10:06:34<93:41:20,  7.49s/it]"
     ]
    },
    {
     "name": "stdout",
     "output_type": "stream",
     "text": [
      "LOG L ERROR\n"
     ]
    },
    {
     "name": "stderr",
     "output_type": "stream",
     "text": [
      " 11%|█         | 5519/50000 [11:10:49<89:58:32,  7.28s/it]"
     ]
    },
    {
     "name": "stdout",
     "output_type": "stream",
     "text": [
      "LOG L ERROR\n"
     ]
    },
    {
     "name": "stderr",
     "output_type": "stream",
     "text": [
      " 14%|█▎        | 6788/50000 [13:49:04<90:30:23,  7.54s/it]"
     ]
    },
    {
     "name": "stdout",
     "output_type": "stream",
     "text": [
      "LOG L ERROR\n"
     ]
    },
    {
     "name": "stderr",
     "output_type": "stream",
     "text": [
      " 14%|█▎        | 6805/50000 [13:51:12<90:28:50,  7.54s/it]"
     ]
    },
    {
     "name": "stdout",
     "output_type": "stream",
     "text": [
      "LOG L ERROR\n"
     ]
    },
    {
     "name": "stderr",
     "output_type": "stream",
     "text": [
      " 15%|█▍        | 7269/50000 [14:49:41<89:20:56,  7.53s/it]"
     ]
    },
    {
     "name": "stdout",
     "output_type": "stream",
     "text": [
      "LOG L ERROR\n"
     ]
    },
    {
     "name": "stderr",
     "output_type": "stream",
     "text": [
      " 22%|██▏       | 10890/50000 [22:18:59<79:52:52,  7.35s/it]"
     ]
    },
    {
     "name": "stdout",
     "output_type": "stream",
     "text": [
      "LOG L ERROR\n"
     ]
    },
    {
     "name": "stderr",
     "output_type": "stream",
     "text": [
      " 23%|██▎       | 11350/50000 [23:15:05<78:36:00,  7.32s/it]"
     ]
    },
    {
     "name": "stdout",
     "output_type": "stream",
     "text": [
      "LOG L ERROR\n"
     ]
    },
    {
     "name": "stderr",
     "output_type": "stream",
     "text": [
      " 23%|██▎       | 11504/50000 [23:33:50<77:29:58,  7.25s/it]"
     ]
    },
    {
     "name": "stdout",
     "output_type": "stream",
     "text": [
      "LOG L ERROR\n"
     ]
    },
    {
     "name": "stderr",
     "output_type": "stream",
     "text": [
      " 24%|██▎       | 11788/50000 [24:08:30<77:50:40,  7.33s/it]"
     ]
    },
    {
     "name": "stdout",
     "output_type": "stream",
     "text": [
      "LOG L ERROR\n"
     ]
    },
    {
     "name": "stderr",
     "output_type": "stream",
     "text": [
      " 24%|██▍       | 11996/50000 [24:33:53<76:57:53,  7.29s/it]"
     ]
    },
    {
     "name": "stdout",
     "output_type": "stream",
     "text": [
      "LOG L ERROR\n"
     ]
    },
    {
     "name": "stderr",
     "output_type": "stream",
     "text": [
      " 24%|██▍       | 12137/50000 [24:51:05<78:01:25,  7.42s/it]"
     ]
    },
    {
     "name": "stdout",
     "output_type": "stream",
     "text": [
      "LOG L ERROR\n"
     ]
    },
    {
     "name": "stderr",
     "output_type": "stream",
     "text": [
      " 31%|███       | 15549/50000 [31:48:43<68:58:06,  7.21s/it]"
     ]
    },
    {
     "name": "stdout",
     "output_type": "stream",
     "text": [
      "LOG L ERROR\n"
     ]
    },
    {
     "name": "stderr",
     "output_type": "stream",
     "text": [
      " 32%|███▏      | 15820/50000 [32:21:32<68:55:59,  7.26s/it]"
     ]
    },
    {
     "name": "stdout",
     "output_type": "stream",
     "text": [
      "LOG L ERROR\n"
     ]
    },
    {
     "name": "stderr",
     "output_type": "stream",
     "text": [
      " 39%|███▉      | 19749/50000 [40:11:06<59:29:12,  7.08s/it] "
     ]
    },
    {
     "name": "stdout",
     "output_type": "stream",
     "text": [
      "LOG L ERROR\n"
     ]
    },
    {
     "name": "stderr",
     "output_type": "stream",
     "text": [
      " 40%|████      | 20104/50000 [40:52:48<58:33:34,  7.05s/it]"
     ]
    },
    {
     "name": "stdout",
     "output_type": "stream",
     "text": [
      "LOG L ERROR\n"
     ]
    },
    {
     "name": "stderr",
     "output_type": "stream",
     "text": [
      " 44%|████▍     | 22115/50000 [44:50:35<55:23:45,  7.15s/it]"
     ]
    }
   ],
   "source": [
    "new_sampler = emcee.EnsembleSampler(nwalkers, ndim, log_probability_2flares, \n",
    "                                    args=(phi, flux, flux_err, qlum, Fth, R, median, {\"i_mu\":i_mu,\n",
    "                                      \"i_sigma\":i_sigma, \"theta_a_min\":0, \"phi_a_max\":phi_a_max}),\n",
    "                                    backend=new_backend)\n",
    "new_sampler.run_mcmc(None, 50000, progress=True, store=True)\n",
    "print(\"Final size: {0}\".format(new_backend.iteration))"
   ]
  },
  {
   "cell_type": "code",
   "execution_count": null,
   "metadata": {},
   "outputs": [],
   "source": [
    "# DEPRECATED SNIPPETS\n",
    "# def t0_ED(x):\n",
    "#     return ED(flc.time, x, dur_mcmc[0], ampl_mcmc[0], median)\n",
    "# def dur_ED(x):\n",
    "#     return ED(flc.time, t0_mcmc[0], x, ampl_mcmc[0], median)\n",
    "# def ampl_ED(x):\n",
    "#     return ED(flc.time, t0_mcmc[0], dur_mcmc[0], x, median)\n",
    "# def median_ED(x):\n",
    "#     return ED(flc.time, t0_mcmc[0], dur_mcmc[0], ampl_mcmc[0], x)\n",
    "# E_t0 = np.sum(derivative(t0_ED, t0_mcmc[0], dx=e_t0/10.)**2 * e_t0**2)\n",
    "# E_dur = np.sum(derivative(dur_ED, dur_mcmc[0], dx=e_dur/10.)**2 * e_dur**2)\n",
    "# E_ampl = np.sum(derivative(ampl_ED, ampl_mcmc[0], dx=e_ampl/10.)**2 * e_ampl**2)\n",
    "# E_median = np.sum(derivative(median_ED, median, dx=e_median/10.)**2 * e_median**2)\n",
    "# np.sqrt(E_t0 + E_dur + E_ampl + E_median), E_t0, E_dur, E_ampl, E_median\n",
    "\n",
    "# check_e_median = ED(flc.time, t0_mcmc[0], dur_mcmc[0], ampl_mcmc[0], median)**2 / median**2 * e_median**2\n",
    "# assert E_median == pytest.approx(E_median,rel=1e-4)\n",
    "# e_median, median\n",
    "\n",
    "# EDval = ED(flc.time, t0_mcmc[0], dur_mcmc[0], ampl_mcmc[0], median)\n",
    "# e_ED = np.sqrt(E_t0 + E_dur + E_ampl + E_median)\n",
    "# EDval,e_ED"
   ]
  },
  {
   "cell_type": "code",
   "execution_count": null,
   "metadata": {},
   "outputs": [],
   "source": []
  }
 ],
 "metadata": {
  "kernelspec": {
   "display_name": "flaresinclustersii",
   "language": "python",
   "name": "flaresinclustersii"
  },
  "language_info": {
   "codemirror_mode": {
    "name": "ipython",
    "version": 3
   },
   "file_extension": ".py",
   "mimetype": "text/x-python",
   "name": "python",
   "nbconvert_exporter": "python",
   "pygments_lexer": "ipython3",
   "version": "3.6.9"
  }
 },
 "nbformat": 4,
 "nbformat_minor": 1
}
