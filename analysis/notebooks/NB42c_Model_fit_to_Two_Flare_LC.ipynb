{
 "cells": [
  {
   "cell_type": "code",
   "execution_count": 1,
   "metadata": {},
   "outputs": [
    {
     "name": "stderr",
     "output_type": "stream",
     "text": [
      "/usr/lib64/python3.6/importlib/_bootstrap.py:219: RuntimeWarning: numpy.ufunc size changed, may indicate binary incompatibility. Expected 192 from C header, got 216 from PyObject\n",
      "  return f(*args, **kwds)\n",
      "/usr/lib64/python3.6/importlib/_bootstrap.py:219: RuntimeWarning: numpy.ufunc size changed, may indicate binary incompatibility. Expected 192 from C header, got 216 from PyObject\n",
      "  return f(*args, **kwds)\n",
      "/usr/lib64/python3.6/importlib/_bootstrap.py:219: RuntimeWarning: numpy.ufunc size changed, may indicate binary incompatibility. Expected 192 from C header, got 216 from PyObject\n",
      "  return f(*args, **kwds)\n",
      "NumExpr defaulting to 8 threads.\n"
     ]
    }
   ],
   "source": [
    "import matplotlib.pyplot as plt\n",
    "%matplotlib inline\n",
    "\n",
    "from astropy.constants import R_sun, R_jup\n",
    "import astropy.units as u\n",
    "\n",
    "import os\n",
    "import copy\n",
    "\n",
    "import numpy as np\n",
    "import pandas as pd\n",
    "\n",
    "from funcs.model import full_model_2flares, aflare, calculate_specific_flare_flux, aflare, calculate_angular_radius\n",
    "from funcs.flarefit import log_probability, log_probability_2flares, log_probability_2flares2ars\n",
    "from funcs.helper import calculate_inclination\n",
    "\n",
    "\n",
    "CWD = \"/\".join(os.getcwd().split(\"/\")[:-2])\n",
    "\n",
    "import warnings\n",
    "warnings.simplefilter(\"ignore\")\n",
    "\n",
    "import pytest\n",
    "import emcee\n",
    "import corner\n",
    "\n",
    "import time\n",
    "tstamp = time.strftime(\"%d_%m_%Y_%H_%M\", time.localtime())"
   ]
  },
  {
   "cell_type": "code",
   "execution_count": 2,
   "metadata": {},
   "outputs": [
    {
     "data": {
      "text/plain": [
       "'20_02_2020_12_44'"
      ]
     },
     "execution_count": 2,
     "metadata": {},
     "output_type": "execute_result"
    }
   ],
   "source": [
    "tstamp "
   ]
  },
  {
   "cell_type": "code",
   "execution_count": 4,
   "metadata": {},
   "outputs": [
    {
     "data": {
      "text/plain": [
       "(ID                    230120143\n",
       " QCS                          16\n",
       " typ                         slc\n",
       " cadence_min                   2\n",
       " mission                    tess\n",
       " prefix                      TIC\n",
       " origin                  generic\n",
       " h_mission                  TESS\n",
       " SpT                          M7\n",
       " view_start                 1741\n",
       " view_stop                  1743\n",
       " view_min                   2320\n",
       " view_max                   2500\n",
       " BJDoff                  2457000\n",
       " tstart                  1741.62\n",
       " ampl_min                    1.5\n",
       " ampl_max                    2.5\n",
       " RA                      250.086\n",
       " Dec                     67.6013\n",
       " J                         9.854\n",
       " R                           NaN\n",
       " Gaia_G                   13.557\n",
       " vsini_kms                  10.8\n",
       " e_vsini_kms                 0.7\n",
       " Prot_d                 0.378325\n",
       " sini                  0.6844128\n",
       " Ref                Kesseli+2018\n",
       " identifier                  NaN\n",
       " Rstar                       NaN\n",
       " idtyp                      tess\n",
       " id                    230120143\n",
       " st                           M7\n",
       " desig_2mass    16402068+6736046\n",
       " dist                    14.4346\n",
       " dist_err               0.055862\n",
       " dist_source                gaia\n",
       " rad                    0.198365\n",
       " rad_err              0.00581679\n",
       " tflux               1.48903e-10\n",
       " tfluxerr            1.37084e-11\n",
       " tlum                3.71291e+30\n",
       " tlumerr             3.43026e+29\n",
       " kflux               4.10272e-11\n",
       " kfluxerr            4.50835e-12\n",
       " klum                1.02301e+30\n",
       " klumerr             1.12694e+29\n",
       " gmag                    13.5557\n",
       " jmag                      9.854\n",
       " kmag                       8.95\n",
       " Name: 5, dtype: object, 0.41931167226580934, 0.03171026257969871)"
      ]
     },
     "execution_count": 4,
     "metadata": {},
     "output_type": "execute_result"
    }
   ],
   "source": [
    "lcs = pd.read_csv(f\"{CWD}/data/summary/lcs.csv\")\n",
    "\n",
    "props = pd.read_csv(f\"{CWD}/data/summary/properties.csv\")\n",
    "\n",
    "lcs = lcs.merge(props, left_on=\"ID\", right_on=\"id\")\n",
    "\n",
    "\n",
    "lcs.to_csv(f\"{CWD}/data/summary/everything.csv\", index=False)\n",
    "target = lcs.iloc[-1]\n",
    "i_mu, i_sigma = calculate_inclination(target)\n",
    "i_mu, i_sigma = i_mu.to(\"rad\").value, i_sigma.to(\"rad\").value\n",
    "target, i_mu, i_sigma"
   ]
  },
  {
   "cell_type": "code",
   "execution_count": 10,
   "metadata": {},
   "outputs": [
    {
     "data": {
      "text/plain": [
       "24.02478912140365"
      ]
     },
     "execution_count": 10,
     "metadata": {},
     "output_type": "execute_result"
    }
   ],
   "source": [
    "0.41931167226580934 * 180 / np.pi"
   ]
  },
  {
   "cell_type": "code",
   "execution_count": 8,
   "metadata": {
    "scrolled": true
   },
   "outputs": [
    {
     "name": "stderr",
     "output_type": "stream",
     "text": [
      "5% (953/17765) of the cadences will be ignored due to the quality mask (quality_bitmask=175).\n",
      "5% (953/17765) of the cadences will be ignored due to the quality mask (quality_bitmask=175).\n",
      "5% (953/17765) of the cadences will be ignored due to the quality mask (quality_bitmask=175).\n",
      "5% (953/17765) of the cadences will be ignored due to the quality mask (quality_bitmask=175).\n",
      "5% (953/17765) of the cadences will be ignored due to the quality mask (quality_bitmask=175).\n",
      "5% (953/17765) of the cadences will be ignored due to the quality mask (quality_bitmask=175).\n"
     ]
    },
    {
     "name": "stdout",
     "output_type": "stream",
     "text": [
      "TIC 230120143 modulation period:  9.089056409968848 h\n",
      "Relative amplitude of modulation: -3.7e-03\n",
      "[1738.65173791 1738.6531268  1738.65451569 ... 1763.31571967 1763.31710857\n",
      " 1763.31849747]\n",
      "[11.266142 11.266142 11.266142 ... 11.266142 11.266142 11.266142]\n"
     ]
    },
    {
     "data": {
      "text/plain": [
       "2362.491108184261"
      ]
     },
     "execution_count": 8,
     "metadata": {},
     "output_type": "execute_result"
    },
    {
     "data": {
      "image/png": "[encoded data removed]",
      "text/plain": [
       "<Figure size 1080x432 with 1 Axes>"
      ]
     },
     "metadata": {
      "needs_background": "light"
     },
     "output_type": "display_data"
    }
   ],
   "source": [
    "from altaipony.altai import find_iterative_median\n",
    "from altaipony.flarelc import FlareLightCurve\n",
    "from funcs.multiperiod import remove_sinusoidal\n",
    "from funcs.helper import fetch_lightcurve\n",
    "\n",
    "flck = fetch_lightcurve(target)\n",
    "\n",
    "t, sflux, model, period = remove_sinusoidal(target, plot=True, save=False)\n",
    "print(t)\n",
    "F = FlareLightCurve(time=t, detrended_flux=sflux, \n",
    "                    detrended_flux_err=np.array(len(t)*[np.nanmean(flck.flux_err)]))\n",
    "print(F.detrended_flux_err)\n",
    "flcd = F\n",
    "#flcd = refine_detrended_flux_err(F, mask_pos_outliers_sigma=1.5, \n",
    "                                   #  std_rolling_window_length=15, pad=25)\n",
    "\n",
    "choice = (t > target.view_start+.25) & (t < target.view_stop-.25) \n",
    "# only one flare in TIC 237 : + 1.56 - 1.\n",
    "t = t[choice]\n",
    "flux = sflux[choice]\n",
    "flux_err = np.nanmean(flcd.detrended_flux_err)\n",
    "median = np.nanmean(find_iterative_median(F).it_med)\n",
    "phi = (t - t[0])/target.Prot_d * 2 * np.pi\n",
    "\n",
    "pd.DataFrame({\"phi\":phi,\"flux\":flux, \"t\":t,\n",
    "              \"flux_err\":flux_err, \"median_\":median}).to_csv(f\"{CWD}/data/lcs/{tstamp}_{target.ID}.csv\",\n",
    "                                                             index=False)\n",
    "median"
   ]
  },
  {
   "cell_type": "code",
   "execution_count": 29,
   "metadata": {},
   "outputs": [
    {
     "data": {
      "text/plain": [
       "2352.491108184261"
      ]
     },
     "execution_count": 29,
     "metadata": {},
     "output_type": "execute_result"
    }
   ],
   "source": [
    "lc = pd.read_csv(f\"{CWD}/data/lcs/{tstamp}_{target.ID}.csv\")\n",
    "phi = lc.phi.values\n",
    "flux = lc.flux.values\n",
    "flux_err = lc.flux_err.values\n",
    "t= lc.t.values\n",
    "median = lc.median_[0]-10\n",
    "median"
   ]
  },
  {
   "cell_type": "code",
   "execution_count": 65,
   "metadata": {
    "scrolled": false
   },
   "outputs": [
    {
     "data": {
      "text/plain": [
       "(2350, 3000)"
      ]
     },
     "execution_count": 65,
     "metadata": {},
     "output_type": "execute_result"
    },
    {
     "data": {
      "image/png": "[encoded data removed]",
      "text/plain": [
       "<Figure size 1152x576 with 1 Axes>"
      ]
     },
     "metadata": {
      "needs_background": "light"
     },
     "output_type": "display_data"
    }
   ],
   "source": [
    "\n",
    "phi_a = (5.72,8.5)\n",
    "theta_a = 22*np.pi/180#target.theta_a_init\n",
    "a = (3.6, .1)\n",
    "fwhm =  (.25,2)\n",
    "qlum = target.tlum * u.erg/u.s\n",
    "R = target.rad * R_sun\n",
    "phi0 = -156 * np.pi / 180\n",
    "Fth = calculate_specific_flare_flux(\"TESS\", flaret=1e4)\n",
    "phi_a_max = phi[-1]\n",
    "#plt.plot(phi,flux)\n",
    "radius = calculate_angular_radius(Fth, a[0], qlum, R,)\n",
    "theta_a, i_mu, phi_a, radius\n",
    "\n",
    "\n",
    "plt.figure(figsize=(16,8))\n",
    "plt.plot(phi,flux)\n",
    "for i in range(150,180,15):\n",
    "    plt.plot(phi, full_model_2flares(phi_a, theta_a, a, fwhm, i_mu, phi0=i* np.pi / 180,\n",
    "               phi=phi, num_pts=50, qlum=qlum,\n",
    "               Fth=Fth, R=R, median=median), c=\"r\", alpha=.31,)\n",
    "plt.plot(phi, full_model_2flares(phi_a, theta_a, a, fwhm, i_mu, phi0=phi0,\n",
    "           phi=phi, num_pts=50, qlum=qlum,\n",
    "           Fth=Fth, R=R, median=median), c=\"k\", alpha=1,)\n",
    "plt.ylim(2350,3000)"
   ]
  },
  {
   "cell_type": "markdown",
   "metadata": {},
   "source": [
    "### Save inits"
   ]
  },
  {
   "cell_type": "code",
   "execution_count": null,
   "metadata": {},
   "outputs": [],
   "source": []
  },
  {
   "cell_type": "code",
   "execution_count": 67,
   "metadata": {},
   "outputs": [],
   "source": [
    "log_probs = {\"log_probability\":[6, log_probability],\n",
    "             \"log_probability_2flares\":[9, log_probability_2flares],\n",
    "             \"log_probability_2flares2ars\":[10, log_probability_2flares2ars],}\n",
    "\n",
    "log_prob = \"log_probability_2flares\"\n",
    "nparam = log_probs[log_prob][0]\n",
    "\n",
    "with open(f\"{CWD}/data/summary/inits.csv\", \"a\") as f:\n",
    "    for _phi_a, _fwhm, _a, i in zip(phi_a,fwhm,a,(\"a\",\"b\")):\n",
    "        firstout = (\"date,ID,phi_a,theta_a,a,fwhm,Fth,phi0,\"\\\n",
    "                    \"i_mu,i_sigma,radius_deg,R_Rsun,qlum_erg_s,\"\\\n",
    "                    \"median,log_prob,nparam\\n\")\n",
    "        out = (f\"{tstamp},{target.ID}{i},{_phi_a},{theta_a},{_a},{_fwhm},{Fth.value},\"\\\n",
    "               f\"{phi0},{i_mu},{i_sigma},{radius},{(R/R_sun).value},{qlum.value},\"\\\n",
    "               f\"{median},{log_prob},{nparam}\\n\")\n",
    "       # f.write(firstout)\n",
    "        f.write(out)"
   ]
  },
  {
   "cell_type": "code",
   "execution_count": 49,
   "metadata": {},
   "outputs": [],
   "source": [
    "log_probs = {\"log_probability\":[6, log_probability],\n",
    "             \"log_probability_2flares\":[9, log_probability_2flares],\n",
    "             \"log_probability_2flares2ars\":[10, log_probability_2flares2ars],}\n",
    "\n",
    "log_prob = \"log_probability_2flares2ars\"\n",
    "nparam = log_probs[log_prob][0]\n",
    "theta_a = (theta_a, theta_a)\n",
    "\n",
    "with open(f\"{CWD}/data/summary/inits.csv\", \"a\") as f:\n",
    "    for _phi_a, _theta_a, _fwhm, _a, i in zip(phi_a, theta_a, fwhm, a, (\"a\",\"b\")):\n",
    "        firstout = (\"date,ID,phi_a,theta_a,a,fwhm,Fth,phi0,\"\\\n",
    "                    \"i_mu,i_sigma,radius_deg,R_Rsun,qlum_erg_s,\"\\\n",
    "                    \"median,log_prob,nparam\\n\")\n",
    "        out = (f\"{tstamp},{target.ID}{i},{_phi_a},{_theta_a},{_a},{_fwhm},{Fth.value},\"\\\n",
    "               f\"{phi0},{i_mu},{i_sigma},{radius},{(R/R_sun).value},{qlum.value},\"\\\n",
    "               f\"{median},{log_prob},{nparam}\\n\")\n",
    "       # f.write(firstout)\n",
    "        f.write(out)"
   ]
  },
  {
   "cell_type": "markdown",
   "metadata": {},
   "source": [
    "## Run MCMC"
   ]
  },
  {
   "cell_type": "code",
   "execution_count": 33,
   "metadata": {},
   "outputs": [],
   "source": [
    "inits = np.array([*phi_a, theta_a, *a, *fwhm, i_mu, phi0]) \n",
    "pos = inits * (1. + 1e-3 * np.random.randn(32, 9))\n",
    "nwalkers, ndim = pos.shape"
   ]
  },
  {
   "cell_type": "code",
   "execution_count": 15,
   "metadata": {},
   "outputs": [],
   "source": [
    "# Set up the backend\n",
    "# Don't forget to clear it in case the file already exists\n",
    "filename = f\"{CWD}/analysis/results/mcmc/{tstamp}_{target.ID}_MCMC.h5\"\n",
    "backend = emcee.backends.HDFBackend(filename)\n",
    "backend.reset(nwalkers, ndim)\n",
    "\n",
    "\n",
    "sampler = emcee.EnsembleSampler(nwalkers, ndim, log_probability_2flares,\n",
    "                                args=(phi, flux, flux_err, qlum, Fth, R, median, {\"i_mu\":i_mu,\n",
    "                                      \"i_sigma\":i_sigma, \"theta_a_min\":0, \"phi_a_max\":phi_a_max}),\n",
    "                                backend=backend)"
   ]
  },
  {
   "cell_type": "code",
   "execution_count": null,
   "metadata": {
    "scrolled": true
   },
   "outputs": [
    {
     "name": "stderr",
     "output_type": "stream",
     "text": [
      " 25%|██▍       | 12431/50000 [24:53:49<73:04:24,  7.00s/it]"
     ]
    },
    {
     "name": "stdout",
     "output_type": "stream",
     "text": [
      "LOG L ERROR\n"
     ]
    },
    {
     "name": "stderr",
     "output_type": "stream",
     "text": [
      " 33%|███▎      | 16341/50000 [32:32:07<65:51:21,  7.04s/it]"
     ]
    },
    {
     "name": "stdout",
     "output_type": "stream",
     "text": [
      "LOG L ERROR\n"
     ]
    },
    {
     "name": "stderr",
     "output_type": "stream",
     "text": [
      " 33%|███▎      | 16486/50000 [32:49:11<65:32:13,  7.04s/it]"
     ]
    },
    {
     "name": "stdout",
     "output_type": "stream",
     "text": [
      "LOG L ERROR\n"
     ]
    },
    {
     "name": "stderr",
     "output_type": "stream",
     "text": [
      " 35%|███▌      | 17621/50000 [35:02:38<63:05:09,  7.01s/it]"
     ]
    },
    {
     "name": "stdout",
     "output_type": "stream",
     "text": [
      "LOG L ERROR\n"
     ]
    },
    {
     "name": "stderr",
     "output_type": "stream",
     "text": [
      " 35%|███▌      | 17710/50000 [35:13:02<63:24:47,  7.07s/it]"
     ]
    },
    {
     "name": "stdout",
     "output_type": "stream",
     "text": [
      "LOG L ERROR\n"
     ]
    },
    {
     "name": "stderr",
     "output_type": "stream",
     "text": [
      " 36%|███▌      | 17776/50000 [35:20:45<62:52:59,  7.03s/it]"
     ]
    },
    {
     "name": "stdout",
     "output_type": "stream",
     "text": [
      "LOG L ERROR\n"
     ]
    },
    {
     "name": "stderr",
     "output_type": "stream",
     "text": [
      " 36%|███▌      | 17844/50000 [35:28:43<62:29:46,  7.00s/it]"
     ]
    },
    {
     "name": "stdout",
     "output_type": "stream",
     "text": [
      "LOG L ERROR\n"
     ]
    },
    {
     "name": "stderr",
     "output_type": "stream",
     "text": [
      " 36%|███▌      | 17932/50000 [35:39:03<63:02:44,  7.08s/it]"
     ]
    },
    {
     "name": "stdout",
     "output_type": "stream",
     "text": [
      "LOG L ERROR\n"
     ]
    },
    {
     "name": "stderr",
     "output_type": "stream",
     "text": [
      " 36%|███▌      | 18002/50000 [35:47:14<62:03:10,  6.98s/it]"
     ]
    },
    {
     "name": "stdout",
     "output_type": "stream",
     "text": [
      "LOG L ERROR\n"
     ]
    },
    {
     "name": "stderr",
     "output_type": "stream",
     "text": [
      " 37%|███▋      | 18497/50000 [36:45:28<62:24:02,  7.13s/it]"
     ]
    },
    {
     "name": "stdout",
     "output_type": "stream",
     "text": [
      "LOG L ERROR\n"
     ]
    },
    {
     "name": "stderr",
     "output_type": "stream",
     "text": [
      " 38%|███▊      | 18837/50000 [37:25:32<61:12:28,  7.07s/it]"
     ]
    },
    {
     "name": "stdout",
     "output_type": "stream",
     "text": [
      "LOG L ERROR\n"
     ]
    },
    {
     "name": "stderr",
     "output_type": "stream",
     "text": [
      " 45%|████▍     | 22296/50000 [44:09:34<54:30:25,  7.08s/it]"
     ]
    },
    {
     "name": "stdout",
     "output_type": "stream",
     "text": [
      "LOG L ERROR\n"
     ]
    },
    {
     "name": "stderr",
     "output_type": "stream",
     "text": [
      " 45%|████▌     | 22566/50000 [44:41:33<54:22:47,  7.14s/it]"
     ]
    },
    {
     "name": "stdout",
     "output_type": "stream",
     "text": [
      "LOG L ERROR\n"
     ]
    },
    {
     "name": "stderr",
     "output_type": "stream",
     "text": [
      " 81%|████████▏ | 40638/50000 [79:38:50<18:02:31,  6.94s/it]"
     ]
    },
    {
     "name": "stdout",
     "output_type": "stream",
     "text": [
      "LOG L ERROR\n"
     ]
    },
    {
     "name": "stderr",
     "output_type": "stream",
     "text": [
      " 81%|████████▏ | 40656/50000 [79:40:56<18:09:27,  7.00s/it]"
     ]
    },
    {
     "name": "stdout",
     "output_type": "stream",
     "text": [
      "LOG L ERROR\n"
     ]
    },
    {
     "name": "stderr",
     "output_type": "stream",
     "text": [
      " 81%|████████▏ | 40706/50000 [79:46:45<17:50:41,  6.91s/it]"
     ]
    },
    {
     "name": "stdout",
     "output_type": "stream",
     "text": [
      "LOG L ERROR\n"
     ]
    },
    {
     "name": "stderr",
     "output_type": "stream",
     "text": [
      " 82%|████████▏ | 40910/50000 [80:10:28<17:34:35,  6.96s/it]"
     ]
    },
    {
     "name": "stdout",
     "output_type": "stream",
     "text": [
      "LOG L ERROR\n"
     ]
    },
    {
     "name": "stderr",
     "output_type": "stream",
     "text": [
      " 82%|████████▏ | 40936/50000 [80:13:29<17:34:05,  6.98s/it]"
     ]
    },
    {
     "name": "stdout",
     "output_type": "stream",
     "text": [
      "LOG L ERROR\n"
     ]
    },
    {
     "name": "stderr",
     "output_type": "stream",
     "text": [
      " 93%|█████████▎| 46623/50000 [91:17:53<6:35:39,  7.03s/it] "
     ]
    },
    {
     "name": "stdout",
     "output_type": "stream",
     "text": [
      "LOG L ERROR\n"
     ]
    },
    {
     "name": "stderr",
     "output_type": "stream",
     "text": [
      " 93%|█████████▎| 46697/50000 [91:26:33<6:25:23,  7.00s/it]"
     ]
    },
    {
     "name": "stdout",
     "output_type": "stream",
     "text": [
      "LOG L ERROR\n"
     ]
    },
    {
     "name": "stderr",
     "output_type": "stream",
     "text": [
      " 97%|█████████▋| 48646/50000 [95:21:37<2:42:43,  7.21s/it]"
     ]
    }
   ],
   "source": [
    "\n",
    "sampler.run_mcmc(pos, 50000, progress=True, store=True);"
   ]
  },
  {
   "cell_type": "code",
   "execution_count": 34,
   "metadata": {},
   "outputs": [
    {
     "name": "stdout",
     "output_type": "stream",
     "text": [
      "Initial size: 48653\n"
     ]
    }
   ],
   "source": [
    "filename = f\"{CWD}/analysis/results/mcmc/{tstamp}_{target.ID}_MCMC.h5\"\n",
    "\n",
    "new_backend = emcee.backends.HDFBackend(filename)\n",
    "print(\"Initial size: {0}\".format(new_backend.iteration))"
   ]
  },
  {
   "cell_type": "code",
   "execution_count": 35,
   "metadata": {},
   "outputs": [
    {
     "data": {
      "text/plain": [
       "('23_12_2019_13_28', 237880881)"
      ]
     },
     "execution_count": 35,
     "metadata": {},
     "output_type": "execute_result"
    }
   ],
   "source": [
    "tstamp, target.ID"
   ]
  },
  {
   "cell_type": "code",
   "execution_count": null,
   "metadata": {},
   "outputs": [
    {
     "name": "stderr",
     "output_type": "stream",
     "text": [
      "  4%|▍         | 1914/50000 [3:52:09<96:04:22,  7.19s/it] "
     ]
    },
    {
     "name": "stdout",
     "output_type": "stream",
     "text": [
      "LOG L ERROR\n"
     ]
    },
    {
     "name": "stderr",
     "output_type": "stream",
     "text": [
      "  4%|▍         | 1986/50000 [4:00:45<94:50:08,  7.11s/it]"
     ]
    },
    {
     "name": "stdout",
     "output_type": "stream",
     "text": [
      "LOG L ERROR\n"
     ]
    },
    {
     "name": "stderr",
     "output_type": "stream",
     "text": [
      "  4%|▍         | 2146/50000 [4:19:47<93:53:11,  7.06s/it]"
     ]
    },
    {
     "name": "stdout",
     "output_type": "stream",
     "text": [
      "LOG L ERROR\n"
     ]
    },
    {
     "name": "stderr",
     "output_type": "stream",
     "text": [
      "  4%|▍         | 2160/50000 [4:21:26<93:03:14,  7.00s/it]"
     ]
    },
    {
     "name": "stdout",
     "output_type": "stream",
     "text": [
      "LOG L ERROR\n"
     ]
    },
    {
     "name": "stderr",
     "output_type": "stream",
     "text": [
      "  5%|▍         | 2315/50000 [4:39:54<93:52:55,  7.09s/it]"
     ]
    },
    {
     "name": "stdout",
     "output_type": "stream",
     "text": [
      "LOG L ERROR\n"
     ]
    },
    {
     "name": "stderr",
     "output_type": "stream",
     "text": [
      "  5%|▍         | 2379/50000 [4:47:31<95:13:03,  7.20s/it]"
     ]
    },
    {
     "name": "stdout",
     "output_type": "stream",
     "text": [
      "LOG L ERROR\n"
     ]
    },
    {
     "name": "stderr",
     "output_type": "stream",
     "text": [
      "  5%|▍         | 2446/50000 [4:55:32<95:09:53,  7.20s/it]"
     ]
    },
    {
     "name": "stdout",
     "output_type": "stream",
     "text": [
      "LOG L ERROR\n"
     ]
    },
    {
     "name": "stderr",
     "output_type": "stream",
     "text": [
      "  5%|▌         | 2518/50000 [5:04:12<95:07:39,  7.21s/it]"
     ]
    },
    {
     "name": "stdout",
     "output_type": "stream",
     "text": [
      "LOG L ERROR\n"
     ]
    },
    {
     "name": "stderr",
     "output_type": "stream",
     "text": [
      "  5%|▌         | 2651/50000 [5:20:09<94:59:20,  7.22s/it]"
     ]
    },
    {
     "name": "stdout",
     "output_type": "stream",
     "text": [
      "LOG L ERROR\n"
     ]
    },
    {
     "name": "stderr",
     "output_type": "stream",
     "text": [
      "  6%|▌         | 2755/50000 [5:32:40<94:41:48,  7.22s/it]"
     ]
    },
    {
     "name": "stdout",
     "output_type": "stream",
     "text": [
      "LOG L ERROR\n"
     ]
    },
    {
     "name": "stderr",
     "output_type": "stream",
     "text": [
      "  7%|▋         | 3396/50000 [6:50:27<93:57:09,  7.26s/it] "
     ]
    },
    {
     "name": "stdout",
     "output_type": "stream",
     "text": [
      "LOG L ERROR\n"
     ]
    },
    {
     "name": "stderr",
     "output_type": "stream",
     "text": [
      " 10%|▉         | 4844/50000 [9:47:50<93:02:27,  7.42s/it]"
     ]
    },
    {
     "name": "stdout",
     "output_type": "stream",
     "text": [
      "LOG L ERROR\n"
     ]
    },
    {
     "name": "stderr",
     "output_type": "stream",
     "text": [
      " 10%|▉         | 4995/50000 [10:06:34<93:41:20,  7.49s/it]"
     ]
    },
    {
     "name": "stdout",
     "output_type": "stream",
     "text": [
      "LOG L ERROR\n"
     ]
    },
    {
     "name": "stderr",
     "output_type": "stream",
     "text": [
      " 11%|█         | 5519/50000 [11:10:49<89:58:32,  7.28s/it]"
     ]
    },
    {
     "name": "stdout",
     "output_type": "stream",
     "text": [
      "LOG L ERROR\n"
     ]
    },
    {
     "name": "stderr",
     "output_type": "stream",
     "text": [
      " 14%|█▎        | 6788/50000 [13:49:04<90:30:23,  7.54s/it]"
     ]
    },
    {
     "name": "stdout",
     "output_type": "stream",
     "text": [
      "LOG L ERROR\n"
     ]
    },
    {
     "name": "stderr",
     "output_type": "stream",
     "text": [
      " 14%|█▎        | 6805/50000 [13:51:12<90:28:50,  7.54s/it]"
     ]
    },
    {
     "name": "stdout",
     "output_type": "stream",
     "text": [
      "LOG L ERROR\n"
     ]
    },
    {
     "name": "stderr",
     "output_type": "stream",
     "text": [
      " 15%|█▍        | 7269/50000 [14:49:41<89:20:56,  7.53s/it]"
     ]
    },
    {
     "name": "stdout",
     "output_type": "stream",
     "text": [
      "LOG L ERROR\n"
     ]
    },
    {
     "name": "stderr",
     "output_type": "stream",
     "text": [
      " 22%|██▏       | 10890/50000 [22:18:59<79:52:52,  7.35s/it]"
     ]
    },
    {
     "name": "stdout",
     "output_type": "stream",
     "text": [
      "LOG L ERROR\n"
     ]
    },
    {
     "name": "stderr",
     "output_type": "stream",
     "text": [
      " 23%|██▎       | 11350/50000 [23:15:05<78:36:00,  7.32s/it]"
     ]
    },
    {
     "name": "stdout",
     "output_type": "stream",
     "text": [
      "LOG L ERROR\n"
     ]
    },
    {
     "name": "stderr",
     "output_type": "stream",
     "text": [
      " 23%|██▎       | 11504/50000 [23:33:50<77:29:58,  7.25s/it]"
     ]
    },
    {
     "name": "stdout",
     "output_type": "stream",
     "text": [
      "LOG L ERROR\n"
     ]
    },
    {
     "name": "stderr",
     "output_type": "stream",
     "text": [
      " 24%|██▎       | 11788/50000 [24:08:30<77:50:40,  7.33s/it]"
     ]
    },
    {
     "name": "stdout",
     "output_type": "stream",
     "text": [
      "LOG L ERROR\n"
     ]
    },
    {
     "name": "stderr",
     "output_type": "stream",
     "text": [
      " 24%|██▍       | 11996/50000 [24:33:53<76:57:53,  7.29s/it]"
     ]
    },
    {
     "name": "stdout",
     "output_type": "stream",
     "text": [
      "LOG L ERROR\n"
     ]
    },
    {
     "name": "stderr",
     "output_type": "stream",
     "text": [
      " 24%|██▍       | 12137/50000 [24:51:05<78:01:25,  7.42s/it]"
     ]
    },
    {
     "name": "stdout",
     "output_type": "stream",
     "text": [
      "LOG L ERROR\n"
     ]
    },
    {
     "name": "stderr",
     "output_type": "stream",
     "text": [
      " 31%|███       | 15549/50000 [31:48:43<68:58:06,  7.21s/it]"
     ]
    },
    {
     "name": "stdout",
     "output_type": "stream",
     "text": [
      "LOG L ERROR\n"
     ]
    },
    {
     "name": "stderr",
     "output_type": "stream",
     "text": [
      " 32%|███▏      | 15820/50000 [32:21:32<68:55:59,  7.26s/it]"
     ]
    },
    {
     "name": "stdout",
     "output_type": "stream",
     "text": [
      "LOG L ERROR\n"
     ]
    },
    {
     "name": "stderr",
     "output_type": "stream",
     "text": [
      " 39%|███▉      | 19749/50000 [40:11:06<59:29:12,  7.08s/it] "
     ]
    },
    {
     "name": "stdout",
     "output_type": "stream",
     "text": [
      "LOG L ERROR\n"
     ]
    },
    {
     "name": "stderr",
     "output_type": "stream",
     "text": [
      " 40%|████      | 20104/50000 [40:52:48<58:33:34,  7.05s/it]"
     ]
    },
    {
     "name": "stdout",
     "output_type": "stream",
     "text": [
      "LOG L ERROR\n"
     ]
    },
    {
     "name": "stderr",
     "output_type": "stream",
     "text": [
      " 44%|████▍     | 22115/50000 [44:50:35<55:23:45,  7.15s/it]"
     ]
    }
   ],
   "source": [
    "new_sampler = emcee.EnsembleSampler(nwalkers, ndim, log_probability_2flares, \n",
    "                                    args=(phi, flux, flux_err, qlum, Fth, R, median, {\"i_mu\":i_mu,\n",
    "                                      \"i_sigma\":i_sigma, \"theta_a_min\":0, \"phi_a_max\":phi_a_max}),\n",
    "                                    backend=new_backend)\n",
    "new_sampler.run_mcmc(None, 50000, progress=True, store=True)\n",
    "print(\"Final size: {0}\".format(new_backend.iteration))"
   ]
  },
  {
   "cell_type": "code",
   "execution_count": null,
   "metadata": {},
   "outputs": [],
   "source": [
    "# DEPRECATED SNIPPETS\n",
    "# def t0_ED(x):\n",
    "#     return ED(flc.time, x, dur_mcmc[0], ampl_mcmc[0], median)\n",
    "# def dur_ED(x):\n",
    "#     return ED(flc.time, t0_mcmc[0], x, ampl_mcmc[0], median)\n",
    "# def ampl_ED(x):\n",
    "#     return ED(flc.time, t0_mcmc[0], dur_mcmc[0], x, median)\n",
    "# def median_ED(x):\n",
    "#     return ED(flc.time, t0_mcmc[0], dur_mcmc[0], ampl_mcmc[0], x)\n",
    "# E_t0 = np.sum(derivative(t0_ED, t0_mcmc[0], dx=e_t0/10.)**2 * e_t0**2)\n",
    "# E_dur = np.sum(derivative(dur_ED, dur_mcmc[0], dx=e_dur/10.)**2 * e_dur**2)\n",
    "# E_ampl = np.sum(derivative(ampl_ED, ampl_mcmc[0], dx=e_ampl/10.)**2 * e_ampl**2)\n",
    "# E_median = np.sum(derivative(median_ED, median, dx=e_median/10.)**2 * e_median**2)\n",
    "# np.sqrt(E_t0 + E_dur + E_ampl + E_median), E_t0, E_dur, E_ampl, E_median\n",
    "\n",
    "# check_e_median = ED(flc.time, t0_mcmc[0], dur_mcmc[0], ampl_mcmc[0], median)**2 / median**2 * e_median**2\n",
    "# assert E_median == pytest.approx(E_median,rel=1e-4)\n",
    "# e_median, median\n",
    "\n",
    "# EDval = ED(flc.time, t0_mcmc[0], dur_mcmc[0], ampl_mcmc[0], median)\n",
    "# e_ED = np.sqrt(E_t0 + E_dur + E_ampl + E_median)\n",
    "# EDval,e_ED"
   ]
  },
  {
   "cell_type": "code",
   "execution_count": null,
   "metadata": {},
   "outputs": [],
   "source": []
  }
 ],
 "metadata": {
  "kernelspec": {
   "display_name": "flaresinclustersii",
   "language": "python",
   "name": "flaresinclustersii"
  },
  "language_info": {
   "codemirror_mode": {
    "name": "ipython",
    "version": 3
   },
   "file_extension": ".py",
   "mimetype": "text/x-python",
   "name": "python",
   "nbconvert_exporter": "python",
   "pygments_lexer": "ipython3",
   "version": "3.7.3"
  }
 },
 "nbformat": 4,
 "nbformat_minor": 1
}
