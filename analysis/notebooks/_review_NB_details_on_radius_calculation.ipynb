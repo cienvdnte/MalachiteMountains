{
 "cells": [
  {
   "cell_type": "code",
   "execution_count": 19,
   "metadata": {},
   "outputs": [],
   "source": [
    "import pandas as pd\n",
    "import numpy as np\n",
    "\n",
    "from funcs.radii import calculate_abs_Ks, calculate_distmod, mann_radius_from_abs_Ks"
   ]
  },
  {
   "cell_type": "code",
   "execution_count": 20,
   "metadata": {},
   "outputs": [],
   "source": [
    "lcs = pd.read_csv(\"../../data/summary/lcs.csv\")"
   ]
  },
  {
   "cell_type": "code",
   "execution_count": 21,
   "metadata": {},
   "outputs": [
    {
     "data": {
      "text/html": [
       "<div>\n",
       "<style scoped>\n",
       "    .dataframe tbody tr th:only-of-type {\n",
       "        vertical-align: middle;\n",
       "    }\n",
       "\n",
       "    .dataframe tbody tr th {\n",
       "        vertical-align: top;\n",
       "    }\n",
       "\n",
       "    .dataframe thead th {\n",
       "        text-align: right;\n",
       "    }\n",
       "</style>\n",
       "<table border=\"1\" class=\"dataframe\">\n",
       "  <thead>\n",
       "    <tr style=\"text-align: right;\">\n",
       "      <th></th>\n",
       "      <th>ID</th>\n",
       "      <th>QCS</th>\n",
       "      <th>typ</th>\n",
       "      <th>cadence_min</th>\n",
       "      <th>mission</th>\n",
       "      <th>prefix</th>\n",
       "      <th>origin</th>\n",
       "      <th>h_mission</th>\n",
       "      <th>SpT</th>\n",
       "      <th>view_start</th>\n",
       "      <th>...</th>\n",
       "      <th>kmag</th>\n",
       "      <th>e_kmag</th>\n",
       "      <th>i_mu</th>\n",
       "      <th>i_sigma</th>\n",
       "      <th>dist_bailerjones_pc_50</th>\n",
       "      <th>dist_bailerjones_pc_16</th>\n",
       "      <th>dist_bailerjones_pc_84</th>\n",
       "      <th>dist_bailerjones_lowerr</th>\n",
       "      <th>dist_bailerjones_uperr</th>\n",
       "      <th>dist_bailerjones_meanerr</th>\n",
       "    </tr>\n",
       "  </thead>\n",
       "  <tbody>\n",
       "    <tr>\n",
       "      <th>0</th>\n",
       "      <td>237880881</td>\n",
       "      <td>1</td>\n",
       "      <td>slc</td>\n",
       "      <td>2</td>\n",
       "      <td>tess</td>\n",
       "      <td>TIC</td>\n",
       "      <td>generic</td>\n",
       "      <td>TESS</td>\n",
       "      <td>M5</td>\n",
       "      <td>1331.00</td>\n",
       "      <td>...</td>\n",
       "      <td>10.636</td>\n",
       "      <td>0.023</td>\n",
       "      <td>0.371856</td>\n",
       "      <td>0.040246</td>\n",
       "      <td>46.007478</td>\n",
       "      <td>45.863449</td>\n",
       "      <td>46.152398</td>\n",
       "      <td>0.144029</td>\n",
       "      <td>0.144920</td>\n",
       "      <td>0.144474</td>\n",
       "    </tr>\n",
       "    <tr>\n",
       "      <th>1</th>\n",
       "      <td>44984200</td>\n",
       "      <td>10</td>\n",
       "      <td>slc</td>\n",
       "      <td>2</td>\n",
       "      <td>tess</td>\n",
       "      <td>TIC</td>\n",
       "      <td>custom</td>\n",
       "      <td>TESS</td>\n",
       "      <td>M6</td>\n",
       "      <td>1587.25</td>\n",
       "      <td>...</td>\n",
       "      <td>9.268</td>\n",
       "      <td>0.021</td>\n",
       "      <td>0.578452</td>\n",
       "      <td>0.028256</td>\n",
       "      <td>11.103263</td>\n",
       "      <td>11.075669</td>\n",
       "      <td>11.130991</td>\n",
       "      <td>0.027593</td>\n",
       "      <td>0.027729</td>\n",
       "      <td>0.027661</td>\n",
       "    </tr>\n",
       "    <tr>\n",
       "      <th>2</th>\n",
       "      <td>277539431</td>\n",
       "      <td>12</td>\n",
       "      <td>slc</td>\n",
       "      <td>2</td>\n",
       "      <td>tess</td>\n",
       "      <td>TIC</td>\n",
       "      <td>custom</td>\n",
       "      <td>TESS</td>\n",
       "      <td>M7</td>\n",
       "      <td>1641.00</td>\n",
       "      <td>...</td>\n",
       "      <td>9.666</td>\n",
       "      <td>0.024</td>\n",
       "      <td>1.520214</td>\n",
       "      <td>0.041615</td>\n",
       "      <td>13.700897</td>\n",
       "      <td>13.594101</td>\n",
       "      <td>13.809354</td>\n",
       "      <td>0.106796</td>\n",
       "      <td>0.108457</td>\n",
       "      <td>0.107627</td>\n",
       "    </tr>\n",
       "    <tr>\n",
       "      <th>3</th>\n",
       "      <td>452922110</td>\n",
       "      <td>7</td>\n",
       "      <td>slc</td>\n",
       "      <td>2</td>\n",
       "      <td>tess</td>\n",
       "      <td>TIC</td>\n",
       "      <td>generic</td>\n",
       "      <td>TESS</td>\n",
       "      <td>M6</td>\n",
       "      <td>1493.50</td>\n",
       "      <td>...</td>\n",
       "      <td>10.865</td>\n",
       "      <td>0.021</td>\n",
       "      <td>0.860933</td>\n",
       "      <td>0.061087</td>\n",
       "      <td>22.025957</td>\n",
       "      <td>21.964488</td>\n",
       "      <td>22.087766</td>\n",
       "      <td>0.061470</td>\n",
       "      <td>0.061808</td>\n",
       "      <td>0.061639</td>\n",
       "    </tr>\n",
       "  </tbody>\n",
       "</table>\n",
       "<p>4 rows × 46 columns</p>\n",
       "</div>"
      ],
      "text/plain": [
       "          ID  QCS  typ  cadence_min mission prefix   origin h_mission SpT  \\\n",
       "0  237880881    1  slc            2    tess    TIC  generic      TESS  M5   \n",
       "1   44984200   10  slc            2    tess    TIC   custom      TESS  M6   \n",
       "2  277539431   12  slc            2    tess    TIC   custom      TESS  M7   \n",
       "3  452922110    7  slc            2    tess    TIC  generic      TESS  M6   \n",
       "\n",
       "   view_start  ...    kmag  e_kmag      i_mu   i_sigma  \\\n",
       "0     1331.00  ...  10.636   0.023  0.371856  0.040246   \n",
       "1     1587.25  ...   9.268   0.021  0.578452  0.028256   \n",
       "2     1641.00  ...   9.666   0.024  1.520214  0.041615   \n",
       "3     1493.50  ...  10.865   0.021  0.860933  0.061087   \n",
       "\n",
       "   dist_bailerjones_pc_50  dist_bailerjones_pc_16  dist_bailerjones_pc_84  \\\n",
       "0               46.007478               45.863449               46.152398   \n",
       "1               11.103263               11.075669               11.130991   \n",
       "2               13.700897               13.594101               13.809354   \n",
       "3               22.025957               21.964488               22.087766   \n",
       "\n",
       "   dist_bailerjones_lowerr  dist_bailerjones_uperr  dist_bailerjones_meanerr  \n",
       "0                 0.144029                0.144920                  0.144474  \n",
       "1                 0.027593                0.027729                  0.027661  \n",
       "2                 0.106796                0.108457                  0.107627  \n",
       "3                 0.061470                0.061808                  0.061639  \n",
       "\n",
       "[4 rows x 46 columns]"
      ]
     },
     "execution_count": 21,
     "metadata": {},
     "output_type": "execute_result"
    }
   ],
   "source": [
    "lcs[\"dist_bailerjones_lowerr\"] = lcs.dist_bailerjones_pc_50 - lcs.dist_bailerjones_pc_16\n",
    "lcs[\"dist_bailerjones_uperr\"] = lcs.dist_bailerjones_pc_84 - lcs.dist_bailerjones_pc_50 \n",
    "lcs[\"dist_bailerjones_meanerr\"] = (lcs.dist_bailerjones_uperr + lcs.dist_bailerjones_lowerr) / 2.\n",
    "lcs"
   ]
  },
  {
   "cell_type": "code",
   "execution_count": 4,
   "metadata": {},
   "outputs": [
    {
     "data": {
      "text/plain": [
       "0    0.314023\n",
       "1    0.249125\n",
       "2    0.785546\n",
       "3    0.279847\n",
       "dtype: float64"
      ]
     },
     "execution_count": 4,
     "metadata": {},
     "output_type": "execute_result"
    }
   ],
   "source": [
    "lcs.dist_bailerjones_meanerr / lcs.dist_bailerjones_pc_50 * 100."
   ]
  },
  {
   "cell_type": "code",
   "execution_count": 5,
   "metadata": {},
   "outputs": [
    {
     "data": {
      "text/plain": [
       "0    0.216247\n",
       "1    0.226586\n",
       "2    0.248293\n",
       "3    0.193281\n",
       "dtype: float64"
      ]
     },
     "execution_count": 5,
     "metadata": {},
     "output_type": "execute_result"
    }
   ],
   "source": [
    "lcs.e_kmag / lcs.kmag * 100"
   ]
  },
  {
   "cell_type": "code",
   "execution_count": 6,
   "metadata": {},
   "outputs": [],
   "source": [
    "dmod, dmoderr = calculate_distmod(lcs.dist_bailerjones_pc_50, lcs.dist_bailerjones_meanerr)\n",
    "Ks, Kserr = calculate_abs_Ks(dmod, dmoderr, lcs.kmag, lcs.e_kmag)\n",
    "lcs[\"radius_rsun_bailerjones\"], lcs[\"e_radius_rsun_bailerjones\"] = mann_radius_from_abs_Ks(Ks, Kserr)"
   ]
  },
  {
   "cell_type": "code",
   "execution_count": 8,
   "metadata": {},
   "outputs": [
    {
     "data": {
      "text/html": [
       "<div>\n",
       "<style scoped>\n",
       "    .dataframe tbody tr th:only-of-type {\n",
       "        vertical-align: middle;\n",
       "    }\n",
       "\n",
       "    .dataframe tbody tr th {\n",
       "        vertical-align: top;\n",
       "    }\n",
       "\n",
       "    .dataframe thead th {\n",
       "        text-align: right;\n",
       "    }\n",
       "</style>\n",
       "<table border=\"1\" class=\"dataframe\">\n",
       "  <thead>\n",
       "    <tr style=\"text-align: right;\">\n",
       "      <th></th>\n",
       "      <th>rad</th>\n",
       "      <th>radius_rsun_bailerjones</th>\n",
       "      <th>rad_err</th>\n",
       "      <th>e_radius_rsun_bailerjones</th>\n",
       "    </tr>\n",
       "  </thead>\n",
       "  <tbody>\n",
       "    <tr>\n",
       "      <th>0</th>\n",
       "      <td>0.275151</td>\n",
       "      <td>0.274847</td>\n",
       "      <td>0.008039</td>\n",
       "      <td>0.008340</td>\n",
       "    </tr>\n",
       "    <tr>\n",
       "      <th>1</th>\n",
       "      <td>0.142339</td>\n",
       "      <td>0.142307</td>\n",
       "      <td>0.004147</td>\n",
       "      <td>0.004244</td>\n",
       "    </tr>\n",
       "    <tr>\n",
       "      <th>2</th>\n",
       "      <td>0.145216</td>\n",
       "      <td>0.145185</td>\n",
       "      <td>0.004370</td>\n",
       "      <td>0.004449</td>\n",
       "    </tr>\n",
       "    <tr>\n",
       "      <th>3</th>\n",
       "      <td>0.137300</td>\n",
       "      <td>0.137223</td>\n",
       "      <td>0.004100</td>\n",
       "      <td>0.004084</td>\n",
       "    </tr>\n",
       "  </tbody>\n",
       "</table>\n",
       "</div>"
      ],
      "text/plain": [
       "        rad  radius_rsun_bailerjones   rad_err  e_radius_rsun_bailerjones\n",
       "0  0.275151                 0.274847  0.008039                   0.008340\n",
       "1  0.142339                 0.142307  0.004147                   0.004244\n",
       "2  0.145216                 0.145185  0.004370                   0.004449\n",
       "3  0.137300                 0.137223  0.004100                   0.004084"
      ]
     },
     "execution_count": 8,
     "metadata": {},
     "output_type": "execute_result"
    }
   ],
   "source": [
    "lcs[[\"rad\", \"radius_rsun_bailerjones\", \"rad_err\", \"e_radius_rsun_bailerjones\"]]"
   ]
  },
  {
   "cell_type": "code",
   "execution_count": 14,
   "metadata": {},
   "outputs": [
    {
     "data": {
      "text/plain": [
       "(3.014091727864069, 0.0424335284771183)"
      ]
     },
     "execution_count": 14,
     "metadata": {},
     "output_type": "execute_result"
    }
   ],
   "source": [
    "bjr = (lcs.e_radius_rsun_bailerjones / lcs.radius_rsun_bailerjones * 100)\n",
    "bjr.mean(), bjr.std()"
   ]
  },
  {
   "cell_type": "code",
   "execution_count": 15,
   "metadata": {},
   "outputs": [
    {
     "data": {
      "text/plain": [
       "(2.957816146329801, 0.047378223741672894)"
      ]
     },
     "execution_count": 15,
     "metadata": {},
     "output_type": "execute_result"
    }
   ],
   "source": [
    "sjm = (lcs.rad_err / lcs.rad * 100)\n",
    "sjm.mean(), sjm.std()"
   ]
  },
  {
   "cell_type": "code",
   "execution_count": null,
   "metadata": {},
   "outputs": [],
   "source": []
  }
 ],
 "metadata": {
  "kernelspec": {
   "display_name": "forallpurposes",
   "language": "python",
   "name": "forallpurposes"
  },
  "language_info": {
   "codemirror_mode": {
    "name": "ipython",
    "version": 3
   },
   "file_extension": ".py",
   "mimetype": "text/x-python",
   "name": "python",
   "nbconvert_exporter": "python",
   "pygments_lexer": "ipython3",
   "version": "3.6.9"
  }
 },
 "nbformat": 4,
 "nbformat_minor": 2
}
