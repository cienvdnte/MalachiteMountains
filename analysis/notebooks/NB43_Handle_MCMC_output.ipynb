{
 "cells": [
  {
   "cell_type": "code",
   "execution_count": 1,
   "metadata": {},
   "outputs": [
    {
     "name": "stderr",
     "output_type": "stream",
     "text": [
      "/work1/eilin/Flares_in_Clusters_2/RESULTS_Github/flares-in-clusters-with-k2-ii/flaresinclustersii/lib/python3.7/site-packages/html5lib/_trie/_base.py:3: DeprecationWarning: Using or importing the ABCs from 'collections' instead of from 'collections.abc' is deprecated, and in 3.8 it will stop working\n",
      "  from collections import Mapping\n",
      "/usr/lib/python3.7/importlib/_bootstrap.py:219: RuntimeWarning: numpy.ufunc size changed, may indicate binary incompatibility. Expected 192 from C header, got 216 from PyObject\n",
      "  return f(*args, **kwds)\n"
     ]
    }
   ],
   "source": [
    "import numpy as np\n",
    "import pandas as pd\n",
    "\n",
    "import emcee\n",
    "import corner\n",
    "\n",
    "\n",
    "# Locate results\n",
    "import os\n",
    "CWD = \"/\".join(os.getcwd().split(\"/\")[:-2])\n",
    "\n",
    "\n",
    "# astronomical units and constants\n",
    "import astropy.units as u\n",
    "from astropy.constants import R_sun\n",
    "\n",
    "# Plot stuff\n",
    "from funcs.model import full_model, aflare\n",
    "\n",
    "import matplotlib.pyplot as plt\n",
    "%matplotlib inline\n",
    "\n",
    "import matplotlib \n",
    "matplotlib.rc('xtick', labelsize=16) \n",
    "matplotlib.rc('ytick', labelsize=16) \n",
    "\n",
    "font = {'family' : 'courier',\n",
    "        'weight' : 'normal',\n",
    "        'size'   : 16}\n",
    "\n",
    "matplotlib.rc('font', **font)\n",
    "\n",
    "\n",
    "from matplotlib.lines import Line2D"
   ]
  },
  {
   "cell_type": "code",
   "execution_count": 2,
   "metadata": {},
   "outputs": [],
   "source": [
    "# What dataset do you want to analyse?\n",
    "ID = 100004076#100004076#44984200#44984200#100004076#230120143#237880881##212035340 #230120143#\n",
    "tstamp = \"18_08_2020_15_38\"#\"02_08_2020_17_44\"#\"24_07_2020_11_48\"#\"20_02_2020_12_04\"#'13_12_2019_10_18'#'27_01_2020_12_28'#\n",
    "\n",
    "props = pd.read_csv(f\"{CWD}/data/summary/everything.csv\")\n",
    "target = props[props.ID == ID].iloc[0]"
   ]
  },
  {
   "cell_type": "code",
   "execution_count": 3,
   "metadata": {},
   "outputs": [],
   "source": [
    "# Pick up the input parameters\n",
    "inits = pd.read_csv(f\"{CWD}/data/summary/inits.csv\")\n",
    "inits = inits[(inits.ID == str(ID)) & (inits.tstamp==tstamp)].iloc[0]\n",
    "\n",
    "qlum = inits.qlum_erg_s * u.erg / u.s\n",
    "Fth = inits.Fth * u.erg/ u.cm**2 / u.s\n",
    "median = inits['median']\n",
    "R = inits.R_Rsun * R_sun"
   ]
  },
  {
   "cell_type": "code",
   "execution_count": 4,
   "metadata": {},
   "outputs": [],
   "source": [
    "lc = pd.read_csv(f\"{CWD}/data/lcs/{tstamp}_{ID}.csv\")"
   ]
  },
  {
   "cell_type": "code",
   "execution_count": 5,
   "metadata": {},
   "outputs": [
    {
     "name": "stdout",
     "output_type": "stream",
     "text": [
      "burn-in: 1191\n",
      "thin: 79\n",
      "flat chain shape: (404576, 6)\n",
      "flat log prob shape: (404576,)\n"
     ]
    }
   ],
   "source": [
    "# see here https://emcee.readthedocs.io/en/stable/tutorials/monitor/\n",
    "filename = f\"{CWD}/analysis/results/mcmc/{tstamp}_{target.ID}_MCMC.h5\"\n",
    "reader = emcee.backends.HDFBackend(filename)\n",
    "\n",
    "tau = reader.get_autocorr_time()\n",
    "burnin = int(2 * np.max(tau))\n",
    "thin = int(0.5 * np.min(tau))\n",
    "# burnin=1000\n",
    "# thin=50\n",
    "ndim=6\n",
    "samples = reader.get_chain(discard=burnin, flat=True, thin=thin)\n",
    "log_prob_samples = reader.get_log_prob(discard=burnin, flat=True, thin=thin)\n",
    "log_prior_samples = reader.get_blobs(discard=burnin, flat=True, thin=thin)\n",
    "\n",
    "print(\"burn-in: {0}\".format(burnin))\n",
    "print(\"thin: {0}\".format(thin))\n",
    "print(\"flat chain shape: {0}\".format(samples.shape))\n",
    "print(\"flat log prob shape: {0}\".format(log_prob_samples.shape))\n"
   ]
  },
  {
   "cell_type": "code",
   "execution_count": 6,
   "metadata": {},
   "outputs": [],
   "source": [
    "columns = [\"phase_peak\",\"latitude_rad\",\"a\",\"fwhm_periods\",\"i_rad\",\"phase_0\"]\n",
    "rawsamples = pd.DataFrame(data=samples, columns=columns)\n",
    "rawsamples.to_csv(f\"{CWD}/analysis/results/mcmc/{tstamp}_{target.ID}_raw_mcmc_sample.csv\",index=False)"
   ]
  },
  {
   "cell_type": "code",
   "execution_count": 7,
   "metadata": {},
   "outputs": [],
   "source": [
    "from get_mcmc_outputs import write_meta_mcmc\n",
    "write_meta_mcmc(CWD, tstamp, target.ID, burnin, samples.shape[0], samples.shape[1], ndim)"
   ]
  },
  {
   "cell_type": "code",
   "execution_count": 8,
   "metadata": {},
   "outputs": [],
   "source": [
    "# map phi0 to phi_peak longitude, still call it phi0\n",
    "samples[:, -1] = (samples[:, 0]%(2.*np.pi) - samples[:, -1]) / np.pi * 180. # 0 would be facing the observer\n",
    "\n",
    "#map phi_a_distr to t0_distr:\n",
    "samples[:, 0] = np.interp(samples[:,0],lc.phi,lc.t)\n",
    "\n",
    "# convert theta_f to degrees\n",
    "samples[:, 1] = samples[:, 1] / np.pi * 180.\n",
    "\n",
    "# convert FWHM to days\n",
    "samples[:, 3] = samples[:, 3]/2/np.pi*target.Prot_d \n",
    "\n",
    "# convert i to degrees\n",
    "samples[:, -2] = samples[:, -2] / np.pi * 180.\n",
    "\n"
   ]
  },
  {
   "cell_type": "markdown",
   "metadata": {},
   "source": [
    "# Plots\n",
    "### Plot the full chain"
   ]
  },
  {
   "cell_type": "code",
   "execution_count": null,
   "metadata": {},
   "outputs": [],
   "source": [
    "fig, axes = plt.subplots(6, figsize=(10, 12), sharex=True)\n",
    "\n",
    "multi_samples = reader.get_chain()\n",
    "walkers = multi_samples.shape[1]\n",
    "steps = multi_samples.shape[0]\n",
    "nparam = multi_samples.shape[2]\n",
    "\n",
    "# -----------------------------------------------------------------------\n",
    "# map phi0 to phi_peak longitude, still call it phi0\n",
    "multi_samples[:, :,-1] = (multi_samples[:,:,0]%(2.*np.pi) - multi_samples[:,:, -1]) / np.pi * 180.  # 0 would be facing the observer\n",
    "\n",
    "#map phi_a_distr to t0_distr:\n",
    "multi_samples[:, :, 0] = np.interp(multi_samples[:,:,0],lc.phi,lc.t)\n",
    "\n",
    "# convert theta to degrees\n",
    "multi_samples[:, :, 1] = multi_samples[:,:, 1] / np.pi * 180.\n",
    "\n",
    "# convert FWHM to days\n",
    "multi_samples[:, :, 3] = multi_samples[:,:,3]/2/np.pi*target.Prot_d \n",
    "\n",
    "# convert i to degrees\n",
    "multi_samples[:, :, -2] = multi_samples[:,:, -2] / np.pi * 180.\n",
    "# -----------------------------------------------------------------------\n",
    "labels = [r'$t_\\mathrm{f} [d]$', r'$\\theta_\\mathrm{f}$ [deg]', \n",
    "          'a', 'FWHM [d]', r'$i$ [deg]',\n",
    "          r\"$\\phi_\\mathrm{f}$ [deg]\"]\n",
    "matplotlib.rc('xtick', labelsize=12) \n",
    "matplotlib.rc('ytick', labelsize=12) \n",
    "for j in range(ndim):\n",
    "    ax = axes[j]\n",
    "    ax.plot(multi_samples[:, :, j], \"k\", alpha=0.3)\n",
    "    ax.set_xlim(0, len(multi_samples))\n",
    "    ax.set_ylabel(labels[j])\n",
    "    ax.yaxis.set_label_coords(-0.1, 0.5)\n",
    "\n",
    "axes[-1].set_xlabel(\"step number\");\n",
    "plt.tight_layout()\n",
    "plt.savefig(f\"{CWD}/analysis/plots/flarefit/{tstamp}_{target.prefix}{target.ID}_chain.png\",dpi=300)"
   ]
  },
  {
   "cell_type": "markdown",
   "metadata": {},
   "source": [
    "### Corner plot"
   ]
  },
  {
   "cell_type": "code",
   "execution_count": null,
   "metadata": {
    "scrolled": false
   },
   "outputs": [],
   "source": [
    "\n",
    "print(samples.shape)\n",
    "fig = corner.corner(samples, labels=labels)# truths=[phi_a, theta_a, a, fwhm,i_mu, phi0]);\n",
    "matplotlib.rc('xtick', labelsize=16) \n",
    "matplotlib.rc('ytick', labelsize=16) \n",
    "plt.savefig(f\"{CWD}/analysis/plots/flarefit/{tstamp}_{target.prefix}{target.ID}_corner_disc{burnin}.png\",dpi=300)"
   ]
  },
  {
   "cell_type": "markdown",
   "metadata": {},
   "source": [
    "### Retrieve and plot some example fits to the data from the chain"
   ]
  },
  {
   "cell_type": "code",
   "execution_count": null,
   "metadata": {},
   "outputs": [],
   "source": [
    "median"
   ]
  },
  {
   "cell_type": "code",
   "execution_count": null,
   "metadata": {
    "scrolled": false
   },
   "outputs": [],
   "source": [
    "samples2 = reader.get_chain(discard=burnin, flat=True, thin=thin)\n",
    "N = 50\n",
    "time = lc.t\n",
    "phi = lc.phi.values\n",
    "flux = lc.flux.values\n",
    "#inds = np.rint(np.linspace(len(samples2)-6, 40)).astype(int) - KIC100\n",
    "\n",
    "inds = np.random.randint(len(samples2), size=N)\n",
    "plt.figure(figsize=(10,8))\n",
    "#plt.scatter(flck.time, flck.flux, s=1)\n",
    "plt.scatter(time, flux, s=10, c=\"k\",label=r\"de-trended light curve\")\n",
    "#plt.errorbar(phi, flux, yerr=flux_err, fmt=\".k\", capsize=0)\n",
    "\n",
    "for ind in inds:\n",
    "    sample = samples2[ind]\n",
    "    phi_a, theta_a, a, fwhm, i, phi0 = sample\n",
    "\n",
    "    plt.plot(time, aflare(phi, phi_a, fwhm, a*median)+ median, c=\"grey\", alpha=0.05, linewidth=3)\n",
    "    plt.plot(time, full_model(phi_a, theta_a, a, fwhm, i, phi0=phi0,\n",
    "               phi=phi, num_pts=50, qlum=qlum,\n",
    "               Fth=Fth, R=R, median=median), c=\"r\", alpha=0.25)\n",
    "    \n",
    "legend_elements = [Line2D([0], [0], color='grey', lw=4, label=\"flare model\"),\n",
    "                   Line2D([0], [0], color='r', lw=4, label=\"modulated flares\"),\n",
    "                   Line2D([0], [0], marker='o', color='w', label=\"de-trended light curve\",\n",
    "                          markerfacecolor='k', markersize=5),\n",
    "                  ]\n",
    "plt.legend(handles=legend_elements, fontsize=16)\n",
    "plt.xlabel(f\"time [BJD - {target.BJDoff}]\",fontsize=16)\n",
    "plt.ylabel(r\"flux ($e^{-}$ / s)\",fontsize=16);\n",
    "plt.yscale(\"log\")\n",
    "plt.tight_layout()\n",
    "#plt.ylim(1650,2200)\n",
    "#plt.ylim(608,800)\n",
    "#plt.ylim(2300,2500)\n",
    "plt.xlim(lc.t.min(), lc.t.max())\n",
    "plt.savefig(f\"{CWD}/analysis/plots/flarefit/\"\n",
    "            f\"{tstamp}_{target.prefix}{target.ID}_\"\n",
    "            f\"flarefit_{N}retrievals.png\",\n",
    "            dpi=300)"
   ]
  },
  {
   "cell_type": "code",
   "execution_count": null,
   "metadata": {},
   "outputs": [],
   "source": [
    "columns = [\"t0_d\",\"latitude_deg\",\"a\",\n",
    "           \"fwhm_d\",\"i_deg\",\"phase_deg\"]\n",
    "\n",
    "resultframe = pd.DataFrame(data=samples,\n",
    "                           columns=columns)\n",
    "\n",
    "resultframe.to_csv(f\"{CWD}/analysis/results/mcmc/\"\n",
    "                   f\"{target.ID}_{tstamp}_converted_mcmc_sample.csv\",\n",
    "                   index=False)"
   ]
  },
  {
   "cell_type": "code",
   "execution_count": null,
   "metadata": {},
   "outputs": [],
   "source": []
  }
 ],
 "metadata": {
  "kernelspec": {
   "display_name": "flaresinclustersii",
   "language": "python",
   "name": "flaresinclustersii"
  },
  "language_info": {
   "codemirror_mode": {
    "name": "ipython",
    "version": 3
   },
   "file_extension": ".py",
   "mimetype": "text/x-python",
   "name": "python",
   "nbconvert_exporter": "python",
   "pygments_lexer": "ipython3",
   "version": "3.7.3"
  }
 },
 "nbformat": 4,
 "nbformat_minor": 1
}
