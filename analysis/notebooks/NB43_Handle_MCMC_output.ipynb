{
 "cells": [
  {
   "cell_type": "code",
   "execution_count": 2,
   "metadata": {
    "collapsed": false
   },
   "outputs": [
   ],
   "source": [
    "import numpy as np\n",
    "import pandas as pd\n",
    "\n",
    "import emcee\n",
    "import corner\n",
    "\n",
    "import os\n",
    "CWD = \"/\".join(os.getcwd().split(\"/\")[:-2])\n",
    "\n",
    "import matplotlib.pyplot as plt\n",
    "%matplotlib inline"
   ]
  },
  {
   "cell_type": "code",
   "execution_count": 3,
   "metadata": {
    "collapsed": false
   },
   "outputs": [
   ],
   "source": [
    "ID = 100004076#237880881"
   ]
  },
  {
   "cell_type": "code",
   "execution_count": 7,
   "metadata": {
    "collapsed": false
   },
   "outputs": [
    {
     "data": {
      "text/plain": [
       "0    100004076\n",
       "1    212035340\n",
       "2    237880881\n",
       "3     44984200\n",
       "4    277539431\n",
       "5    300741820\n",
       "Name: ID, dtype: int64"
      ]
     },
     "execution_count": 7,
     "metadata": {
     },
     "output_type": "execute_result"
    }
   ],
   "source": [
    "props = pd.read_csv(f\"{CWD}/data/summary/everything.csv\")\n",
    "#target = props[props.ID == ID]\n",
    "#target\n",
    "props.ID"
   ]
  },
  {
   "cell_type": "code",
   "execution_count": 0,
   "metadata": {
    "collapsed": false
   },
   "outputs": [
   ],
   "source": [
    "lc = pd.read_csv(f\"{CWD}/data/lcs\")"
   ]
  },
  {
   "cell_type": "code",
   "execution_count": 0,
   "metadata": {
    "collapsed": false
   },
   "outputs": [
   ],
   "source": [
   ]
  },
  {
   "cell_type": "code",
   "execution_count": 0,
   "metadata": {
    "collapsed": false
   },
   "outputs": [
   ],
   "source": [
    "# see here https://emcee.readthedocs.io/en/stable/tutorials/monitor/\n",
    "filename = f\"{CWD}/analysis/results/mcmc/{target.ID}_MCMC.h5\"\n",
    "reader = emcee.backends.HDFBackend(filename)\n",
    "\n",
    "tau = reader.get_autocorr_time()\n",
    "burnin = int(2 * np.max(tau))\n",
    "thin = int(0.5 * np.min(tau))\n",
    "samples = reader.get_chain(discard=burnin, flat=True, thin=thin)\n",
    "log_prob_samples = reader.get_log_prob(discard=burnin, flat=True, thin=thin)\n",
    "log_prior_samples = reader.get_blobs(discard=burnin, flat=True, thin=thin)\n",
    "\n",
    "print(\"burn-in: {0}\".format(burnin))\n",
    "print(\"thin: {0}\".format(thin))\n",
    "print(\"flat chain shape: {0}\".format(samples.shape))\n",
    "print(\"flat log prob shape: {0}\".format(log_prob_samples.shape))\n",
    "print(\"flat log prior shape: {0}\".format(log_prior_samples.shape))"
   ]
  },
  {
   "cell_type": "code",
   "execution_count": 0,
   "metadata": {
    "collapsed": false
   },
   "outputs": [
   ],
   "source": [
   ]
  },
  {
   "cell_type": "markdown",
   "metadata": {
    "collapsed": false
   },
   "source": [
    "# Plots\n",
    "### Plot the full chain"
   ]
  },
  {
   "cell_type": "code",
   "execution_count": 0,
   "metadata": {
    "collapsed": false
   },
   "outputs": [
   ],
   "source": [
    "fig, axes = plt.subplots(6, figsize=(10, 7), sharex=True)\n",
    "samples = sampler.get_chain()\n",
    "labels = ['flare peak\\nlongitude', 'flare\\nlatitude', 'relative\\namplitude', 'flare\\nFWHM', 'inclination \\nrad]', 'phi0\\n[rad]']\n",
    "for j in range(ndim):\n",
    "    ax = axes[j]\n",
    "    ax.plot(samples[:, :, j], \"k\", alpha=0.3)\n",
    "    ax.set_xlim(0, len(samples))\n",
    "    ax.set_ylabel(labels[j])\n",
    "    ax.yaxis.set_label_coords(-0.1, 0.5)\n",
    "\n",
    "axes[-1].set_xlabel(\"step number\");\n",
    "plt.savefig(f\"{CWD}/analysis/plots/flarefit/{target.prefix}{target.ID}_chain.png\",dpi=300)"
   ]
  },
  {
   "cell_type": "markdown",
   "metadata": {
    "collapsed": false
   },
   "source": [
    "### Corner plot"
   ]
  },
  {
   "cell_type": "code",
   "execution_count": 0,
   "metadata": {
    "collapsed": false
   },
   "outputs": [
   ],
   "source": [
    "\n",
    "flat_samples = sampler.get_chain(discard=burnin, flat=True)\n",
    "print(flat_samples.shape)\n",
    "fig = corner.corner(flat_samples, labels=labels)# truths=[phi_a, theta_a, a, fwhm,i_mu, phi0]);\n",
    "plt.savefig(f\"{CWD}/analysis/plots/flarefit/{target.prefix}{target.ID}_corner_disc{burnin}.png\",dpi=300)"
   ]
  },
  {
   "cell_type": "markdown",
   "metadata": {
    "collapsed": false
   },
   "source": [
    "### Retrieve and plot some example fits to the data from the chain"
   ]
  },
  {
   "cell_type": "code",
   "execution_count": 0,
   "metadata": {
    "collapsed": false
   },
   "outputs": [
   ],
   "source": [
    "N = 500\n",
    "inds = np.random.randint(len(flat_samples), size=N)\n",
    "plt.figure(figsize=(10,8))\n",
    "#plt.scatter(flck.time, flck.flux, s=1)\n",
    "plt.scatter(phi, flux, s=10, c=\"k\")\n",
    "#plt.errorbar(phi, flux, yerr=flux_err, fmt=\".k\", capsize=0)\n",
    "\n",
    "for ind in inds:\n",
    "    sample = flat_samples[ind]\n",
    "    phi_a, theta_a, a, fwhm, i, phi0 = sample\n",
    "   # plt.plot(phi, aflare(phi, phi_a, fwhm, a*median)+ median, c=\"grey\", alpha=0.05, linewidth=3)\n",
    "    plt.plot(phi, big_model(phi_a, theta_a, a, fwhm, i, phi0=phi0,\n",
    "               phi=phi, num_pts=50, qlum=qlum,\n",
    "               Fth=Fth, R=R, median=median), c=\"r\", alpha=0.5,)\n",
    "#plt.plot(phi, flare+median, c=\"r\",linewidth=1)\n",
    "plt.legend(fontsize=14)\n",
    "plt.xlabel(\"time\")\n",
    "plt.ylabel(\"flux\");\n",
    "plt.savefig(f\"{CWD}/analysis/plots/flarefit/{target.prefix}{target.ID}_flarefit_{N}retrievals.png\",dpi=300)"
   ]
  },
  {
   "cell_type": "markdown",
   "metadata": {
    "collapsed": false
   },
   "source": [
    "# Results\n",
    "### Percentiles of fitted parameters"
   ]
  },
  {
   "cell_type": "code",
   "execution_count": 0,
   "metadata": {
    "collapsed": false
   },
   "outputs": [
   ],
   "source": [
    "percentiles = [16,50,84]"
   ]
  },
  {
   "cell_type": "code",
   "execution_count": 0,
   "metadata": {
    "collapsed": false
   },
   "outputs": [
   ],
   "source": [
    "samples = sampler.chain[:, burnin:, :].reshape((-1, ndim))\n",
    "#map phi_a_distr to t0_distr:\n",
    "#samples[:, 0] = np.exp(samples[:, 2])\n",
    "# map phi0 to phi_peak longitude, still call it phi0\n",
    "#samples[:, -1] = samples[:, 0]%(2.*np.pi) - samples[:, -1] 3 0 would be facing the observer\n",
    "t0_p, theta_a_p, a_p, fwhm_p, i_p, phi0_p = map(lambda v: (v[1], v[2]-v[1], v[1]-v[0]),\n",
    "                                                   zip(*np.percentile(samples, perentiles,\n",
    "                                                       axis=0)))\n"
   ]
  },
  {
   "cell_type": "code",
   "execution_count": 0,
   "metadata": {
    "collapsed": false
   },
   "outputs": [
   ],
   "source": [
    "# Write percentiles to file\n",
    "with open(f\"{CWD}/analysis/results/mcmc/mcmcoutput.csv\",\"a\") as f:\n",
    "    firstout = (\"ID,tpeak{percentiles[0]},tpeak{percentiles[1]},tpeak{percentiles[2]}\"/\n",
    "                \"theta_peak{percentiles[0]},theta_peak{percentiles[1]},theta_peak{percentiles[2]}\")\n",
    "    #Add more lines here\n",
    "    out = f\"{target.ID},{*t0_p},{*theta_a_p}\\n\"\n",
    "    f.write(out)"
   ]
  },
  {
   "cell_type": "markdown",
   "metadata": {
    "collapsed": false
   },
   "source": [
    "### Equivalent duration distribution"
   ]
  },
  {
   "cell_type": "code",
   "execution_count": 0,
   "metadata": {
    "collapsed": false
   },
   "outputs": [
   ],
   "source": [
    "def calculate_ED(t, t0, dur, ampl, median):\n",
    "    x = t * 60.0 * 60.0 * 24.0\n",
    "    return np.sum(np.diff(x) * aflare(t, t0, dur, ampl)[:-1]) / (dur * 6 * median)"
   ]
  },
  {
   "cell_type": "code",
   "execution_count": 0,
   "metadata": {
    "collapsed": false
   },
   "outputs": [
   ],
   "source": [
    "\n",
    "#Find t_peak_distr from phia_distr"
   ]
  },
  {
   "cell_type": "code",
   "execution_count": 0,
   "metadata": {
    "collapsed": false
   },
   "outputs": [
   ],
   "source": [
    "t0_distr = samples[:,0]\n",
    "\n",
    "a_distr = samples[:,2]\n",
    "fwhm_distr = samples[:,3]\n",
    "\n",
    "ED_distr = calculate_ED(lc.t.values, t0_distr, fwhm_distr, a_distr )"
   ]
  }
 ],
 "metadata": {
  "kernelspec": {
   "display_name": "Anaconda(Py3.6)",
   "language": "python",
   "name": "anaconda3"
  },
  "language_info": {
   "codemirror_mode": {
    "name": "ipython",
    "version": 3
   },
   "file_extension": ".py",
   "mimetype": "text/x-python",
   "name": "python",
   "nbconvert_exporter": "python",
   "pygments_lexer": "ipython3",
   "version": "3.6.7"
  }
 },
 "nbformat": 4,
 "nbformat_minor": 0
}