{
 "cells": [
  {
   "cell_type": "markdown",
   "metadata": {},
   "source": [
    "# Fit quiescent light curve under flare with Gaussian Process regression\n",
    "\n",
    "based on this tutorial https://celerite2.readthedocs.io/en/latest/tutorials/first/"
   ]
  },
  {
   "cell_type": "code",
   "execution_count": null,
   "metadata": {},
   "outputs": [],
   "source": [
    "# basics\n",
    "import numpy as np\n",
    "import pandas as pd\n",
    "from scipy.optimize import minimize, curve_fit\n",
    "\n",
    "# matplotlib\n",
    "import matplotlib.pyplot as plt\n",
    "%matplotlib inline\n",
    "\n",
    "import matplotlib \n",
    "matplotlib.rc('xtick', labelsize=12) \n",
    "matplotlib.rc('ytick', labelsize=12) \n",
    "\n",
    "font = {'family' : 'courier',\n",
    "        'weight' : 'normal',\n",
    "        'size'   : 15}\n",
    "\n",
    "\n",
    "# GP\n",
    "import celerite2\n",
    "from celerite2 import terms\n",
    "\n",
    "# data management\n",
    "from funcs.helper import read_custom_aperture_lc, fetch_lightcurve\n",
    "import os\n",
    "CWD = \"/\".join(os.getcwd().split(\"/\")[:-2])\n",
    "\n",
    "\n",
    "# model\n",
    "# from funcs.multiperiod import show_flare, find_period\n",
    "\n",
    "import time\n",
    "# Create a time stamp for this run\n",
    "tstamp = time.strftime(\"%d_%m_%Y_%H_%M\", time.localtime())\n",
    "\n",
    "# MCMC analytics\n",
    "import corner\n",
    "import emcee\n",
    "\n",
    "# define global range of frequencies\n",
    "freq = np.linspace(0.02, 30, 500)\n",
    "omega = 2 * np.pi * freq\n",
    "\n",
    "def plot_psd(gp):\n",
    "    \"\"\"Plot power spectral density of GP.\n",
    "    Unit: 1/day\n",
    "    Frequencies: 0.02-30 per day\n",
    "    \"\"\"\n",
    "    for n, term in enumerate(gp.kernel.terms):\n",
    "        plt.loglog(freq, term.get_psd(omega), label=\"term {0}\".format(n + 1))\n",
    "    plt.loglog(freq, gp.kernel.get_psd(omega), \":k\", label=\"full model\")\n",
    "    plt.xlim(freq.min(), freq.max())\n",
    "    plt.legend(frameon=False)\n",
    "    plt.xlabel(\"frequency [1 / day]\")\n",
    "    plt.ylabel(\"power [day ppt$^2$]\")\n",
    "    \n",
    "\n",
    "def log_prob(params, gp, prior_sigma=2.):\n",
    "    \"\"\"Log Likelihood with a normal prior around the chosen inits.\"\"\"\n",
    "\n",
    "    gp = set_params(params, gp)\n",
    "    return (gp.log_likelihood(y) - 0.5 * np.sum((params / prior_sigma) ** 2),\n",
    "            gp.kernel.get_psd(omega),)\n",
    "  \n",
    "\n",
    "def plot_prediction(gp):\n",
    "    \"\"\"Make a prediction of the GP model for the missing data.\"\"\"\n",
    "    plt.scatter(true_t, true_y, c=\"k\", s=3.5, alpha=0.3, label=\"data\")\n",
    "    if gp:\n",
    "        mu, variance = gp.predict(y, t=true_t, return_var=True)\n",
    "        sigma = np.sqrt(variance)\n",
    "        plt.plot(true_t, mu, label=\"prediction\")\n",
    "        plt.fill_between(true_t, mu - sigma, mu + sigma, color=\"C0\", alpha=0.2)\n",
    "        \n",
    "        \n",
    "def set_params(params, gp):\n",
    "    \"\"\"Set kernel parameters, the flux mean value, and a variance\n",
    "    added to the diagonal of the covariance matrix.\n",
    "    \"\"\"\n",
    "    gp.mean = params[0]\n",
    "    inits = np.exp(params[1:])\n",
    "    gp.kernel = (terms.RotationTerm(sigma=inits[0], period=inits[1], Q0=inits[2], dQ=inits[3], f=inits[4]) +\n",
    "                 terms.SHOTerm(sigma=inits[5], rho=inits[6], tau=inits[7]))\n",
    "    gp.compute(t, diag=yerr ** 2, quiet=True)\n",
    "    return gp\n",
    "\n",
    "\n",
    "def neg_log_like(params, gp):\n",
    "    \"\"\"Calculate negative log likelihood of the GP model.\"\"\"\n",
    "    gp = set_params(params, gp)\n",
    "    return -gp.log_likelihood(y)"
   ]
  },
  {
   "cell_type": "code",
   "execution_count": null,
   "metadata": {},
   "outputs": [],
   "source": [
    "# get stellar parameters\n",
    "lcs = pd.read_csv(f\"{CWD}/data/summary/lcs.csv\")"
   ]
  },
  {
   "cell_type": "code",
   "execution_count": null,
   "metadata": {},
   "outputs": [],
   "source": [
    "# select a target\n",
    "target = lcs.iloc[-1]\n",
    "target"
   ]
  },
  {
   "cell_type": "code",
   "execution_count": null,
   "metadata": {},
   "outputs": [],
   "source": [
    "# get tstamp\n",
    "inits = pd.read_csv(f\"{CWD}/data/summary/inits_decoupled_GP.csv\")\n",
    "inits_ = inits[str(target.ID) == inits.ID.str.strip(\"ab\")]#.str.strip(\"ab\")\n",
    "inits_"
   ]
  },
  {
   "cell_type": "code",
   "execution_count": null,
   "metadata": {},
   "outputs": [],
   "source": [
    "row = inits_.iloc[1]\n",
    "ID =row.ID.strip(\"ab\")\n",
    "lc = pd.read_csv(f\"{CWD}/data/lcs/{row.tstamp}_{ID}.csv\")\n",
    "# target.view_start, target.view_stop = lc.t.iloc[0], lc.t.iloc[-1]\n",
    "# assert target.view_start == lc.t.iloc[0]\n",
    "# assert target.view_stop == lc.t.iloc[-1]"
   ]
  },
  {
   "cell_type": "code",
   "execution_count": null,
   "metadata": {},
   "outputs": [],
   "source": [
    "target.view_start, target.view_stop"
   ]
  },
  {
   "cell_type": "code",
   "execution_count": null,
   "metadata": {},
   "outputs": [],
   "source": [
    "# get TESS LC here\n",
    "flc = fetch_lightcurve(target)\n",
    "\n",
    "# select subset of LC to run GP regression on\n",
    "gpstart, gpstop = target.view_start-1., target.view_stop+1.\n",
    "select = np.where((flc.time > gpstart) & (flc.time < gpstop))\n",
    "flc = flc[select]\n",
    "\n",
    "# remove non-finite values\n",
    "print(flc.flux.shape)\n",
    "flc = flc[np.where(np.isfinite(flc.flux))]\n",
    "flc.flux.shape"
   ]
  },
  {
   "cell_type": "code",
   "execution_count": null,
   "metadata": {},
   "outputs": [],
   "source": [
    "# define true values before you start\n",
    "true_t = flc.time\n",
    "true_y = flc.flux\n",
    "true_yerr = flc.flux_err"
   ]
  },
  {
   "cell_type": "code",
   "execution_count": null,
   "metadata": {},
   "outputs": [],
   "source": [
    "# mask flare (tinker with the actual range if needed)\n",
    "mask = np.where((flc.time > target.view_stop) | (flc.time < target.view_start))\n",
    "flcm = flc[mask]"
   ]
  },
  {
   "cell_type": "code",
   "execution_count": null,
   "metadata": {},
   "outputs": [],
   "source": [
    "# mask all positive outliers beyond 5 sigma\n",
    "flcm = flcm[flcm.flux < np.median(flcm.flux) + np.std(flcm.flux) * 5]"
   ]
  },
  {
   "cell_type": "code",
   "execution_count": null,
   "metadata": {},
   "outputs": [],
   "source": [
    "plt.figure(figsize=(14,6))\n",
    "plt.plot(true_t, true_y, alpha=.5, label=\"masked flare\")\n",
    "plt.plot(flcm.time, flcm.flux,c=\"k\", label=\"used for GP prediction\")\n",
    "plt.xlim(gpstart,gpstop)\n",
    "plt.xlabel(f\"Time [Barycentric Julian Date - {target.BJDoff} days]\",fontsize=15)\n",
    "plt.ylabel(r\"Flux [$e^{-}$ s$^{-1}$]\",fontsize=15)\n",
    "plt.legend(frameon=False, loc=1, fontsize=15)\n",
    "plt.tight_layout()\n",
    "# plt.savefig(f\"{CWD}/analysis/results/rotation/{tstamp}_TIC{target.ID}_GP_lc.png\", dpi=300)"
   ]
  },
  {
   "cell_type": "code",
   "execution_count": null,
   "metadata": {},
   "outputs": [],
   "source": [
    "# show what you are feeding the GP\n",
    "t = flcm.time\n",
    "y = flcm.flux\n",
    "yerr = flcm.flux_err\n",
    "plt.errorbar(t, y, yerr=yerr, fmt=\".k\", capsize=0)\n",
    "plt.xlabel(\"time\")\n",
    "plt.ylabel(\"flux\")\n",
    "_ = plt.title(f\"TIC {target.ID}\")"
   ]
  },
  {
   "cell_type": "code",
   "execution_count": null,
   "metadata": {},
   "outputs": [],
   "source": [
    "t.shape"
   ]
  },
  {
   "cell_type": "code",
   "execution_count": null,
   "metadata": {
    "scrolled": true
   },
   "outputs": [],
   "source": [
    "# add rotation period as determined from all available light curves\n",
    "props = pd.read_csv(f\"{CWD}/data/summary/inclination_input.csv\")\n",
    "\n",
    "P = props[props[\"id\"] == int(ID)].iloc[0].prot_d"
   ]
  },
  {
   "cell_type": "code",
   "execution_count": null,
   "metadata": {},
   "outputs": [],
   "source": [
    "# initial values for the kernels to pass to MCMC sampler\n",
    "inits = [11., P, 150., .4, .9, 2.3, 35., 10.]\n",
    "\n",
    "# Rotational term\n",
    "term1 = terms.RotationTerm(sigma=inits[0], period=P, Q0=inits[2], dQ=inits[3], f=inits[4])\n",
    "\n",
    "# Quasi-periodic term\n",
    "term2 = terms.SHOTerm(sigma=inits[5], rho=inits[6], tau=inits[7])\n",
    "\n",
    "# define kernel as sum of background and rotational variability\n",
    "kernel = term1 + term2\n",
    "\n",
    "# Setup the GP\n",
    "gp = celerite2.GaussianProcess(kernel, mean=np.nanmedian(flcm.flux))\n",
    "gp.compute(t, yerr=yerr)\n",
    "\n",
    "print(\"Initial log likelihood: {0}\".format(gp.log_likelihood(y)))"
   ]
  },
  {
   "cell_type": "code",
   "execution_count": null,
   "metadata": {},
   "outputs": [],
   "source": [
    "plot_psd(gp)\n",
    "plt.title(\"Initial PSD\");"
   ]
  },
  {
   "cell_type": "code",
   "execution_count": null,
   "metadata": {},
   "outputs": [],
   "source": [
    "# Plot initial prediction\n",
    "plt.figure(figsize=(14,6))\n",
    "plt.title(\"initial prediction\")\n",
    "plot_prediction(gp)\n",
    "\n",
    "plt.xlim(gpstart,gpstop)\n",
    "plt.xlabel(f\"Time [Barycentric Julian Date - {target.BJDoff} days]\",fontsize=15)\n",
    "plt.ylabel(r\"Flux [$e^{-}$ s$^{-1}$]\",fontsize=15)\n",
    "plt.legend(frameon=False, loc=1, fontsize=15)\n",
    "plt.savefig(f\"{CWD}/analysis/results/rotation/{tstamp}_TIC{target.ID}_GP_init_prediction.png\", dpi=300)"
   ]
  },
  {
   "cell_type": "code",
   "execution_count": null,
   "metadata": {},
   "outputs": [],
   "source": [
    "# add mean flux value to the MCMC inits\n",
    "initial_params =  [np.nanmedian(flcm.flux)] + inits\n",
    "# take the logarithm\n",
    "initial_params = [np.log(x) for x in initial_params]\n",
    "# minimize negative log likelihood\n",
    "soln = minimize(neg_log_like, initial_params, method=\"L-BFGS-B\", args=(gp,))\n",
    "# pass the best fit to the GP\n",
    "opt_gp = set_params(soln.x, gp)\n",
    "# result\n",
    "soln"
   ]
  },
  {
   "cell_type": "code",
   "execution_count": null,
   "metadata": {},
   "outputs": [],
   "source": [
    "plt.figure(figsize=(7,5))\n",
    "plt.title(\"Maximum likelihood PSD\")\n",
    "plot_psd(opt_gp)"
   ]
  },
  {
   "cell_type": "code",
   "execution_count": null,
   "metadata": {},
   "outputs": [],
   "source": [
    "\n",
    "plt.figure(figsize=(14,6))\n",
    "plt.title(\"Maximum likelihood prediction\")\n",
    "plot_prediction(gp)\n",
    "\n",
    "plt.xlim(gpstart,gpstop)\n",
    "plt.xlabel(f\"Time [Barycentric Julian Date - {target.BJDoff} days]\",fontsize=15)\n",
    "plt.ylabel(r\"Flux [$e^{-}$ s$^{-1}$]\",fontsize=15)\n",
    "plt.legend(frameon=False, loc=1, fontsize=15)\n",
    "plt.savefig(f\"{CWD}/analysis/results/rotation/{tstamp}_TIC{target.ID}_GP_ML_prediction.png\", dpi=300)"
   ]
  },
  {
   "cell_type": "code",
   "execution_count": null,
   "metadata": {},
   "outputs": [],
   "source": [
    "\n",
    "# get logarithmic inits for MCMC\n",
    "initslog = soln.x\n",
    "# wiggle the inits\n",
    "coords = initslog + 1e-5 * np.random.randn(32, len(initslog))\n",
    "# initialize the sampler\n",
    "sampler = emcee.EnsembleSampler(coords.shape[0], coords.shape[1], log_prob, args=(gp,))\n",
    "# run chain for some time\n",
    "state = sampler.run_mcmc(coords, 200, progress=True)"
   ]
  },
  {
   "cell_type": "code",
   "execution_count": null,
   "metadata": {},
   "outputs": [],
   "source": [
    "# run chain for some longer time\n",
    "state = sampler.run_mcmc(state, 100, progress=True)"
   ]
  },
  {
   "cell_type": "code",
   "execution_count": null,
   "metadata": {},
   "outputs": [],
   "source": [
    "# get chain from sampler\n",
    "chain = sampler.get_chain(discard=50, flat=True)\n",
    "print(chain.shape[0]/32)"
   ]
  },
  {
   "cell_type": "markdown",
   "metadata": {},
   "source": [
    "# Show MCMC results"
   ]
  },
  {
   "cell_type": "code",
   "execution_count": null,
   "metadata": {},
   "outputs": [],
   "source": [
    "plt.figure(figsize=(14,6))\n",
    "\n",
    "# plot a number of random samples from the posterior distribution\n",
    "for sample in chain[np.random.randint(len(chain), size=10)]:\n",
    "    gp = set_params(sample, gp)\n",
    "    mu, variance = gp.predict(y, t=true_t, return_var=True)\n",
    "    sigma = np.sqrt(variance)\n",
    "    plt.plot(true_t, mu, c=\"b\", alpha=.5)\n",
    "    plt.fill_between(true_t, mu - sigma, mu + sigma, color=\"c\", alpha=0.2)\n",
    "\n",
    "# get 50th percentile as best fit value and make a prediction based on this solution\n",
    "mcmc_res = [np.percentile(chain[:, i], [50]) for i in range(9)]\n",
    "gp = set_params(mcmc_res, gp)\n",
    "mu, variance = gp.predict(y, t=true_t, return_var=True)\n",
    "# plot prediction\n",
    "plt.plot(true_t, mu, c=\"r\", alpha=.5)\n",
    "# plot uncertainty\n",
    "plt.fill_between(true_t, mu - sigma, mu + sigma, color=\"orange\", alpha=0.7)\n",
    "\n",
    "# plot the data, too\n",
    "plot_prediction(None)\n",
    "\n",
    "# layout\n",
    "plt.xlim(gpstart,gpstop)\n",
    "plt.ylim(np.min(flcm.flux)*.97, np.max(flcm.flux)*1.1)\n",
    "plt.xlabel(f\"Time [Barycentric Julian Date - {target.BJDoff} days]\",fontsize=15)\n",
    "plt.ylabel(r\"Flux [$e^{-}$ s$^{-1}$]\",fontsize=15)\n",
    "plt.legend(frameon=False, loc=1, fontsize=15)\n",
    "plt.tight_layout()\n",
    "# plt.savefig(f\"{CWD}/analysis/results/rotation/{tstamp}_TIC{target.ID}_GP_MCMC_prediction.png\", dpi=300)"
   ]
  },
  {
   "cell_type": "code",
   "execution_count": null,
   "metadata": {},
   "outputs": [],
   "source": [
    "# Plot posterior PSD\n",
    "plot_psd(gp)\n",
    "# plt.savefig(f\"{CWD}/analysis/results/rotation/{tstamp}_TIC{target.ID}_GP_MCMC_prediction_PSD.png\", dpi=300)"
   ]
  },
  {
   "cell_type": "code",
   "execution_count": null,
   "metadata": {},
   "outputs": [],
   "source": [
    "# plot chain\n",
    "fig, axes = plt.subplots(9, figsize=(10, 12), sharex=True)\n",
    "msamples = sampler.get_chain(discard=50)\n",
    "\n",
    "columns = [\"median\", \"sigma_rotationterm\", \"period_rotationterm\", \"Q0_rotationterm\",\n",
    "           \"dQ_rotationterm\", \"f_rotationterm\",\"sigma_shoterm\", \"rho_shoterm\", \"tau_shoterm\"]\n",
    "\n",
    "for j,label in enumerate(columns):\n",
    "    ax = axes[j]\n",
    "    ax.plot(np.exp(msamples[:, :, j]), \"k\", alpha=0.3)\n",
    "    ax.set_xlim(0, len(msamples))\n",
    "    ax.set_ylabel(label, rotation=45)\n",
    "    ax.yaxis.set_label_coords(-0.1, 0.5)\n",
    "    \n",
    "# plt.savefig(f\"{CWD}/analysis/results/rotation/{tstamp}_TIC{target.ID}_GP_MCMC_prediction_chain.png\", dpi=300)"
   ]
  },
  {
   "cell_type": "code",
   "execution_count": null,
   "metadata": {
    "scrolled": false
   },
   "outputs": [],
   "source": [
    "# plot corner visualization of marginalized posterior distributions\n",
    "corner.corner(chain);\n",
    "# plt.savefig(f\"{CWD}/analysis/results/rotation/{tstamp}_TIC{target.ID}_GP_MCMC_prediction_corner.png\", dpi=300);"
   ]
  },
  {
   "cell_type": "code",
   "execution_count": null,
   "metadata": {},
   "outputs": [],
   "source": [
    "# save results to file\n",
    "resmcmc = pd.DataFrame(data=np.exp(chain), columns=columns)\n",
    "# resmcmc.to_csv(f\"{CWD}/analysis/results/rotation/{tstamp}_TIC{target.ID}_GP_MCMC_chain.csv\", index=False)"
   ]
  },
  {
   "cell_type": "markdown",
   "metadata": {},
   "source": [
    "# Save inits and plot new light curve"
   ]
  },
  {
   "cell_type": "code",
   "execution_count": null,
   "metadata": {},
   "outputs": [],
   "source": [
    "# new median\n",
    "# new tstamp\n",
    "\n",
    "# optional:\n",
    "# extramask = np.where((flc.time > target.view_stop-.3) | (flc.time < target.view_start-.15))\n",
    "\n",
    "# select the part of the light curve that you want to you for modulation model fitting\n",
    "selectformcmc = (true_t > target.view_start) & (true_t <= target.view_stop)\n",
    "\n",
    "# define new flux, time, and error arrays\n",
    "modelflux = mu[selectformcmc]\n",
    "modelflux_err = sigma[selectformcmc]\n",
    "fullflux = true_y[selectformcmc]\n",
    "fullyerr = true_yerr[selectformcmc]\n",
    "time = true_t[selectformcmc]"
   ]
  },
  {
   "cell_type": "markdown",
   "metadata": {},
   "source": [
    "## Plot the newly defined light curve"
   ]
  },
  {
   "cell_type": "code",
   "execution_count": null,
   "metadata": {},
   "outputs": [],
   "source": [
    "plt.figure(figsize=(7,7))\n",
    "\n",
    "# un-detrended flux\n",
    "plt.scatter(time, fullflux, s=1, c=\"c\", \n",
    "            label=\"PDCSAP_FLUX\")\n",
    "\n",
    "# quiescent flux\n",
    "plt.plot(time, modelflux, label=\"GP prediction\")\n",
    "\n",
    "# flare-only flux\n",
    "plt.plot(time, fullflux-modelflux + np.nanmedian(modelflux), \n",
    "         c=\"k\", linewidth=.5,\n",
    "         label=\"flux - GP prediction + median\")\n",
    "\n",
    "# median\n",
    "plt.plot(time, [np.nanmedian(modelflux)] * len(time), \n",
    "         linestyle=\"dotted\", c=\"grey\", label=\"median\")\n",
    "\n",
    "# layout\n",
    "plt.xlim(target.view_start,target.view_stop)\n",
    "plt.ylim(np.min(flcm.flux)*.97, np.max(flcm.flux)*1.4)\n",
    "plt.xlabel(f\"Time [Barycentric Julian Date - {target.BJDoff} days]\",fontsize=15)\n",
    "plt.ylabel(r\"Flux [$e^{-}$ s$^{-1}$]\",fontsize=15)\n",
    "plt.legend(frameon=False, loc=2, fontsize=14)\n",
    "plt.tight_layout()\n",
    "\n",
    "\n",
    "# plt.savefig(f\"{CWD}/analysis/results/rotation/{tstamp}_TIC{target.ID}_GP_MCMC_new_lc.png\", dpi=300)"
   ]
  },
  {
   "cell_type": "code",
   "execution_count": null,
   "metadata": {},
   "outputs": [],
   "source": [
    "# co-add PDCSAP and GP errors\n",
    "new_flux_err = np.sqrt(fullyerr**2 + modelflux_err**2)\n",
    "\n",
    "# Define Dataframe with new light curve\n",
    "new_t = time\n",
    "new_phi = (new_t - new_t[0]) / P * 2 * np.pi\n",
    "new_median = np.nanmedian(modelflux)\n",
    "new_flux = fullflux - modelflux + np.nanmedian(modelflux)\n",
    "\n",
    "\n",
    "newlc = pd.DataFrame({'phi': new_phi,\n",
    "                      'flux': new_flux,\n",
    "                      't':new_t, \n",
    "                      'flux_err':new_flux_err,\n",
    "                      'median_' : new_median, \n",
    "                      \"modelflux\": modelflux, \n",
    "                      \"modelflux_err\": modelflux_err,})\n"
   ]
  },
  {
   "cell_type": "code",
   "execution_count": null,
   "metadata": {},
   "outputs": [],
   "source": [
    "# check new time stamp and median value\n",
    "tstamp, new_median"
   ]
  },
  {
   "cell_type": "code",
   "execution_count": null,
   "metadata": {},
   "outputs": [],
   "source": [
    "newlc.to_csv(f\"{CWD}/data/lcs/{tstamp}_{target.ID}.csv\", index=False)"
   ]
  },
  {
   "cell_type": "markdown",
   "metadata": {},
   "source": [
    "# Save new light curve inits for modulation model fitting if you had defined them previously"
   ]
  },
  {
   "cell_type": "code",
   "execution_count": null,
   "metadata": {},
   "outputs": [],
   "source": [
    "row.tstamp, row.median"
   ]
  },
  {
   "cell_type": "code",
   "execution_count": null,
   "metadata": {},
   "outputs": [],
   "source": [
    "row.tstamp = tstamp\n",
    "row.median = new_median"
   ]
  },
  {
   "cell_type": "code",
   "execution_count": null,
   "metadata": {},
   "outputs": [],
   "source": [
    "row.tstamp, row.median"
   ]
  },
  {
   "cell_type": "code",
   "execution_count": null,
   "metadata": {},
   "outputs": [],
   "source": [
    "inits = pd.read_csv(f\"{CWD}/data/summary/inits_decoupled_GP.csv\")\n",
    "\n",
    "inits = inits.append(row)\n",
    "\n",
    "inits.to_csv(f\"{CWD}/data/summary/inits_decoupled_GP.csv\", index=False)"
   ]
  },
  {
   "cell_type": "code",
   "execution_count": null,
   "metadata": {},
   "outputs": [],
   "source": []
  }
 ],
 "metadata": {
  "kernelspec": {
   "display_name": "forallpurposes",
   "language": "python",
   "name": "forallpurposes"
  },
  "language_info": {
   "codemirror_mode": {
    "name": "ipython",
    "version": 3
   },
   "file_extension": ".py",
   "mimetype": "text/x-python",
   "name": "python",
   "nbconvert_exporter": "python",
   "pygments_lexer": "ipython3",
   "version": "3.6.9"
  }
 },
 "nbformat": 4,
 "nbformat_minor": 2
}
