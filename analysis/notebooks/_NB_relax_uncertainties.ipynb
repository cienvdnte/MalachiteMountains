{
 "cells": [
  {
   "cell_type": "code",
   "execution_count": null,
   "metadata": {},
   "outputs": [],
   "source": [
    "# basics\n",
    "import pandas as pd\n",
    "import numpy as np\n",
    "\n",
    "# mapltplotlib\n",
    "import matplotlib.pyplot as plt\n",
    "%matplotlib inline\n",
    "\n",
    "# data management\n",
    "import os\n",
    "import time\n",
    "import copy\n",
    "\n",
    "# Create a time stamp for this run\n",
    "tstamp = time.strftime(\"%d_%m_%Y_%H_%M\", time.localtime())\n",
    "\n",
    "CWD = \"/\".join(os.getcwd().split(\"/\")[:-2])"
   ]
  },
  {
   "cell_type": "code",
   "execution_count": null,
   "metadata": {},
   "outputs": [],
   "source": [
    "inits = pd.read_csv(f\"{CWD}/data/summary/inits_decoupled_GP.csv\")#_decoupled    \n",
    "target = inits.iloc[5]\n",
    "target.tstamp, target.ID"
   ]
  },
  {
   "cell_type": "code",
   "execution_count": null,
   "metadata": {},
   "outputs": [],
   "source": [
    "# get TESS ID without suffix\n",
    "ID = target.ID.strip(\"ab\")\n",
    "# get light curve from GP fitting\n",
    "lc = pd.read_csv(f\"{CWD}/data/lcs/{target.tstamp}_{ID}.csv\")\n",
    "# make a copy\n",
    "cff = copy.deepcopy(lc)\n"
   ]
  },
  {
   "cell_type": "code",
   "execution_count": null,
   "metadata": {},
   "outputs": [],
   "source": [
    "ID"
   ]
  },
  {
   "cell_type": "code",
   "execution_count": null,
   "metadata": {},
   "outputs": [],
   "source": [
    "lc.shape"
   ]
  },
  {
   "cell_type": "code",
   "execution_count": null,
   "metadata": {},
   "outputs": [],
   "source": [
    "# get median\n",
    "median = lc.median_[0]\n",
    "\n",
    "# new figure\n",
    "plt.figure(figsize=(12,6))\n",
    "\n",
    "# plot the light curve as is\n",
    "plt.errorbar(cff.phi / (2 * np.pi), cff.flux, yerr=cff.flux_err, \n",
    "             color=\"grey\", alpha=.1, errorevery=1,zorder=-3)\n",
    "\n",
    "# define A/2\n",
    "half = cff.flux > cff.flux.max() / 2 + median / 2\n",
    "\n",
    "# # if there is a second flare, capture it separately\n",
    "# second = .5 # approximately before the onset of the second flare\n",
    "# cond2 =  (cff.phi / (2 * np.pi) > second) \n",
    "# half2 = (cff.flux - median) > (cff.loc[cond2, \"flux\"].max()*.5 - median/2) \n",
    "\n",
    "# increase the uncertainty to 20% of the flare-only flux above A/2 for FIRST flare\n",
    "cff.loc[half,  \"flux_err\" ] = (np.max(cff[half].flux)  - median) * .2\n",
    "\n",
    "# # increase the uncertainty to 20% of the flare-only flux above A/2 for SECOND flare\n",
    "# cff.loc[half2 & cond2,  \"flux_err\" ] = (np.max(cff[half2&cond2].flux)  - median) * .2\n",
    "\n",
    "# plot new uncertainties\n",
    "plt.errorbar(cff.phi/(2*np.pi), cff.flux, yerr=cff.flux_err, color=\"r\", alpha=.3, errorevery=1)\n",
    "\n",
    "# plot median\n",
    "plt.plot(cff.phi/(2*np.pi), cff.median_, color=\"k\", zorder=1)\n",
    "\n",
    "# layout\n",
    "plt.xlabel(\"time [rotation period]\")\n",
    "plt.ylabel(r\"flux [e$^{-}$/s]\")\n",
    "tpeak = target.phi_a/(2*np.pi)\n",
    "plt.xlim(tpeak-.65,tpeak+1.8);"
   ]
  },
  {
   "cell_type": "code",
   "execution_count": null,
   "metadata": {},
   "outputs": [],
   "source": [
    "tstamp, ID"
   ]
  },
  {
   "cell_type": "code",
   "execution_count": null,
   "metadata": {},
   "outputs": [],
   "source": [
    "# save LC with increased uncertainties to file\n",
    "cff.to_csv(f\"{CWD}/data/lcs/{tstamp}_{ID}.csv\")"
   ]
  },
  {
   "cell_type": "code",
   "execution_count": null,
   "metadata": {},
   "outputs": [],
   "source": []
  }
 ],
 "metadata": {
  "kernelspec": {
   "display_name": "forallpurposes",
   "language": "python",
   "name": "forallpurposes"
  },
  "language_info": {
   "codemirror_mode": {
    "name": "ipython",
    "version": 3
   },
   "file_extension": ".py",
   "mimetype": "text/x-python",
   "name": "python",
   "nbconvert_exporter": "python",
   "pygments_lexer": "ipython3",
   "version": "3.6.9"
  }
 },
 "nbformat": 4,
 "nbformat_minor": 2
}
