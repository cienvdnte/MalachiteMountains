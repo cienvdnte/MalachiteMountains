{
 "cells": [
  {
   "cell_type": "markdown",
   "metadata": {},
   "source": [
    "# Bernoulli experiment to calculate probability of high latitude flares"
   ]
  },
  {
   "cell_type": "code",
   "execution_count": 2,
   "metadata": {},
   "outputs": [],
   "source": [
    "import numpy as np"
   ]
  },
  {
   "cell_type": "code",
   "execution_count": 3,
   "metadata": {},
   "outputs": [],
   "source": [
    "# lowest detected latitude\n",
    "lowest_latitude = 55\n",
    "\n",
    "# convert to polar angle in rad\n",
    "theta = (90 - lowest_latitude) / 180 * np.pi\n",
    "\n",
    "# calculate area of cap above lowest_latitude\n",
    "Acap = 2 * np.pi * (1 - np.cos(theta))\n",
    "\n",
    "# calculate full area of the sphere\n",
    "Afull = 4 * np.pi\n",
    "\n",
    "# probability of flare in polar cap, if flares are equidistributed across the surface\n",
    "probability_one_flare_in_polar_cap = 2 * Acap / Afull"
   ]
  },
  {
   "cell_type": "code",
   "execution_count": 4,
   "metadata": {},
   "outputs": [
    {
     "data": {
      "text/plain": [
       "0.0010696813295465455"
      ]
     },
     "execution_count": 4,
     "metadata": {},
     "output_type": "execute_result"
    }
   ],
   "source": [
    "# four flares above the lowes latitude\n",
    "probability_one_flare_in_polar_cap ** 4 "
   ]
  },
  {
   "cell_type": "code",
   "execution_count": 11,
   "metadata": {},
   "outputs": [
    {
     "data": {
      "text/plain": [
       "0.1808479557110082"
      ]
     },
     "execution_count": 11,
     "metadata": {},
     "output_type": "execute_result"
    }
   ],
   "source": [
    "# if we had only one detection\n",
    "probability_one_flare_in_polar_cap"
   ]
  }
 ],
 "metadata": {
  "kernelspec": {
   "display_name": "forallpurposes",
   "language": "python",
   "name": "forallpurposes"
  },
  "language_info": {
   "codemirror_mode": {
    "name": "ipython",
    "version": 3
   },
   "file_extension": ".py",
   "mimetype": "text/x-python",
   "name": "python",
   "nbconvert_exporter": "python",
   "pygments_lexer": "ipython3",
   "version": "3.6.9"
  }
 },
 "nbformat": 4,
 "nbformat_minor": 2
}
