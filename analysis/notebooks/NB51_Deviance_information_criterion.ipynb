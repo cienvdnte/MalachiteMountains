{
 "cells": [
  {
   "cell_type": "markdown",
   "metadata": {},
   "source": [
    "# Deviance information criterion\n",
    "\n",
    "Following [Wikipedia](https://en.wikipedia.org/wiki/Deviance_information_criterion)\n",
    "\n",
    "Deviance:\n",
    "\n",
    "$D(\\theta) = -2. \\log (p(y, \\theta)$\n",
    "\n",
    "$\\theta$ are the parameters, $y$ are the data, $p$ is the likelihood.\n",
    "\n",
    "Effective number of parameters (from Gelman et al. 2004):\n",
    "\n",
    "$p_D = 0.5 \\cdot \\overline{\\mathrm{var}{D(\\theta)}}$\n",
    "\n",
    "Then,\n",
    "\n",
    "$\\mathrm{DIC} = p_D + \\overline{D(\\theta)}$\n",
    "\n",
    "_reference_\n",
    "Gelman, Andrew; Carlin, John B.; Stern, Hal S.; Rubin, Donald B. (2004). Bayesian Data Analysis: Second Edition. Texts in Statistical Science. CRC Press. ISBN 978-1-58488-388-3. "
   ]
  },
  {
   "cell_type": "code",
   "execution_count": 29,
   "metadata": {},
   "outputs": [
    {
     "name": "stderr",
     "output_type": "stream",
     "text": [
      "/usr/lib64/python3.6/importlib/_bootstrap.py:219: RuntimeWarning: numpy.ufunc size changed, may indicate binary incompatibility. Expected 192 from C header, got 216 from PyObject\n",
      "  return f(*args, **kwds)\n",
      "/usr/lib64/python3.6/importlib/_bootstrap.py:219: RuntimeWarning: numpy.ufunc size changed, may indicate binary incompatibility. Expected 192 from C header, got 216 from PyObject\n",
      "  return f(*args, **kwds)\n",
      "/usr/lib64/python3.6/importlib/_bootstrap.py:219: RuntimeWarning: numpy.ufunc size changed, may indicate binary incompatibility. Expected 192 from C header, got 216 from PyObject\n",
      "  return f(*args, **kwds)\n",
      "NumExpr defaulting to 8 threads.\n"
     ]
    }
   ],
   "source": [
    "import numpy as np\n",
    "import pandas as pd\n",
    "\n",
    "import emcee\n",
    "\n",
    "import os\n",
    "CWD = \"/\".join(os.getcwd().split(\"/\")[:-2])\n",
    "\n",
    "\n",
    "import matplotlib.pyplot as plt\n",
    "%matplotlib inline\n",
    "\n",
    "#from funcs.flarefit import log_probability, log_probability_2flares, log_probability_2flares2ars"
   ]
  },
  {
   "cell_type": "code",
   "execution_count": 48,
   "metadata": {},
   "outputs": [],
   "source": [
    "def deviance(lps):\n",
    "    return -2.* lps\n",
    "\n",
    "def pD(lps):\n",
    "    d = deviance(lps)\n",
    "    return 0.5*np.nanmean(np.nanvar(d))\n",
    "\n",
    "def DIC(lps):\n",
    "    return pD(lps) + np.nanmean(deviance(lps))"
   ]
  },
  {
   "cell_type": "code",
   "execution_count": 66,
   "metadata": {},
   "outputs": [],
   "source": [
    "ID = 237880881##212035340 #230120143#\n",
    "tstamp = [(\"11_02_2020_10_07\", 9) , (\"11_02_2020_11_16\", 10)]\n"
   ]
  },
  {
   "cell_type": "code",
   "execution_count": 69,
   "metadata": {},
   "outputs": [
    {
     "name": "stdout",
     "output_type": "stream",
     "text": [
      "9 :  15871.87795854969\n",
      "10 :  73518.15981536217\n"
     ]
    },
    {
     "data": {
      "image/png": "[encoded data removed]",
      "text/plain": [
       "<Figure size 432x288 with 1 Axes>"
      ]
     },
     "metadata": {
      "needs_background": "light"
     },
     "output_type": "display_data"
    }
   ],
   "source": [
    "burnin = 40000\n",
    "thin =50\n",
    "for tst, nparam in tstamp:\n",
    "\n",
    "    filename = f\"{CWD}/analysis/results/mcmc/{tst}_{ID}b_MCMC.h5\"\n",
    "    reader = emcee.backends.HDFBackend(filename)\n",
    "\n",
    "    log_prob_samples = reader.get_log_prob(discard=burnin, flat=True, thin=thin)\n",
    "\n",
    "    plt.hist(log_prob_samples, bins=200);\n",
    "\n",
    "    print(nparam, \": \", DIC(log_prob_samples))"
   ]
  },
  {
   "cell_type": "code",
   "execution_count": null,
   "metadata": {},
   "outputs": [],
   "source": []
  }
 ],
 "metadata": {
  "kernelspec": {
   "display_name": "flaresinclustersii",
   "language": "python",
   "name": "flaresinclustersii"
  },
  "language_info": {
   "codemirror_mode": {
    "name": "ipython",
    "version": 3
   },
   "file_extension": ".py",
   "mimetype": "text/x-python",
   "name": "python",
   "nbconvert_exporter": "python",
   "pygments_lexer": "ipython3",
   "version": "3.6.9"
  }
 },
 "nbformat": 4,
 "nbformat_minor": 2
}
