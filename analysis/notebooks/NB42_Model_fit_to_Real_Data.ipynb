{
 "cells": [
  {
   "cell_type": "code",
   "execution_count": 22,
   "metadata": {},
   "outputs": [],
   "source": [
    "import matplotlib.pyplot as plt\n",
    "%matplotlib inline\n",
    "\n",
    "from astropy.constants import R_sun, R_jup\n",
    "import astropy.units as u\n",
    "\n",
    "import os\n",
    "import copy\n",
    "\n",
    "\n",
    "\n",
    "from funcs.model import full_model, aflare, calculate_specific_flare_flux, aflare, calculate_angular_radius\n",
    "\n",
    "CWD = \"/\".join(os.getcwd().split(\"/\")[:-2])\n",
    "\n",
    "import warnings\n",
    "warnings.simplefilter(\"ignore\")\n",
    "\n",
    "#-----------------------------------\n",
    "import numpy as np\n",
    "import pandas as pd\n",
    "\n",
    "from altaipony.altai import find_iterative_median\n",
    "from altaipony.flarelc import FlareLightCurve\n",
    "from funcs.multiperiod import remove_sinusoidal\n",
    "from funcs.helper import fetch_lightcurve\n",
    "\n",
    "import time\n",
    "\n",
    "# Different flare/active region configurations have different numbers of parameters\n",
    "log_probs = {\"log_probability\": 6, # one flare, one active region\n",
    "             \"log_probability_2flares\": 9, # two flares, one active region\n",
    "             \"log_probability_2flares2ars\": 10 # two flares, two active regions\n",
    "            }\n",
    "\n",
    "\n",
    "\n",
    "# Create a time stamp for this run\n",
    "tstamp = time.strftime(\"%d_%m_%Y_%H_%M\", time.localtime())\n"
   ]
  },
  {
   "cell_type": "code",
   "execution_count": 23,
   "metadata": {},
   "outputs": [
    {
     "data": {
      "text/plain": [
       "'24_07_2020_13_09'"
      ]
     },
     "execution_count": 23,
     "metadata": {},
     "output_type": "execute_result"
    }
   ],
   "source": [
    "tstamp"
   ]
  },
  {
   "cell_type": "code",
   "execution_count": 27,
   "metadata": {},
   "outputs": [
    {
     "data": {
      "text/plain": [
       "ID                           237880881\n",
       "QCS                                  1\n",
       "typ                                slc\n",
       "cadence_min                          2\n",
       "mission                           tess\n",
       "prefix                             TIC\n",
       "origin                         generic\n",
       "h_mission                         TESS\n",
       "SpT                                 M5\n",
       "view_start                        1331\n",
       "view_stop                       1333.5\n",
       "view_min                           560\n",
       "view_max                           700\n",
       "BJDoff                         2457000\n",
       "tstart                          1331.7\n",
       "ampl_min                           NaN\n",
       "ampl_max                           NaN\n",
       "GRP                                NaN\n",
       "plxmas                             NaN\n",
       "eplxmas                            NaN\n",
       "RA                              19.528\n",
       "Dec                           -62.9831\n",
       "J                                11.53\n",
       "R                                  NaN\n",
       "Gaia_G                         14.9796\n",
       "vsini_kms                         14.4\n",
       "e_vsini_kms                        2.6\n",
       "Prot_d                         0.35125\n",
       "sini                               NaN\n",
       "Ref                           Kraus+14\n",
       "identifier     2MASS J01180670-6258591\n",
       "Rstar                            0.199\n",
       "idtyp                             tess\n",
       "id                           237880881\n",
       "st                                  M5\n",
       "desig_2mass           01180670-6258591\n",
       "dist                           46.0681\n",
       "dist_err                      0.143774\n",
       "dist_source                       gaia\n",
       "rad                           0.275151\n",
       "rad_err                     0.00803926\n",
       "tflux                      3.49265e-11\n",
       "tfluxerr                   2.21194e-12\n",
       "tlum                       8.87069e+30\n",
       "tlumerr                    5.64514e+29\n",
       "kflux                      1.27267e-11\n",
       "kfluxerr                   6.84475e-13\n",
       "klum                       3.23236e+30\n",
       "klumerr                    1.75011e+29\n",
       "gmag                           14.9796\n",
       "jmag                             11.53\n",
       "kmag                            10.636\n",
       "i_mu                          0.371856\n",
       "i_sigma                      0.0402463\n",
       "Name: 1, dtype: object"
      ]
     },
     "execution_count": 27,
     "metadata": {},
     "output_type": "execute_result"
    }
   ],
   "source": [
    "# Read in target parameters\n",
    "# ALL TARGETS MUST BE DEFINED IN THIS TABLE AND HAVE LIGHT CURVE\n",
    "# OTHERWISE NOTHING WILL WORK\n",
    "lcs = pd.read_csv(f\"{CWD}/data/summary/lcsi.csv\")\n",
    "\n",
    "# Choose target from table\n",
    "target_N = 1\n",
    "target = lcs.iloc[target_N]\n",
    "\n",
    "# Pick up inclination and uncertainty\n",
    "i_mu, i_sigma = target.i_mu, target.i_sigma\n",
    "\n",
    "# Pick up quiescent luminosity\n",
    "qlum = target.tlum * u.erg/u.s\n",
    "\n",
    "# Pick up stellar radius\n",
    "R = target.rad * R_sun\n",
    "\n",
    "target"
   ]
  },
  {
   "cell_type": "code",
   "execution_count": 28,
   "metadata": {
    "scrolled": true
   },
   "outputs": [
    {
     "name": "stderr",
     "output_type": "stream",
     "text": [
      "10% (1972/20076) of the cadences will be ignored due to the quality mask (quality_bitmask=175).\n",
      "10% (1972/20076) of the cadences will be ignored due to the quality mask (quality_bitmask=175).\n",
      "10% (1972/20076) of the cadences will be ignored due to the quality mask (quality_bitmask=175).\n",
      "10% (1972/20076) of the cadences will be ignored due to the quality mask (quality_bitmask=175).\n",
      "10% (1972/20076) of the cadences will be ignored due to the quality mask (quality_bitmask=175).\n",
      "10% (1972/20076) of the cadences will be ignored due to the quality mask (quality_bitmask=175).\n"
     ]
    },
    {
     "name": "stdout",
     "output_type": "stream",
     "text": [
      "{'time': array([1325.29815173, 1325.29954065, 1325.30092957, ..., 1353.17629563,\n",
      "       1353.17768452, 1353.17907341]), 'flux': array([624.7549 , 617.42035, 616.01654, ..., 607.1135 , 602.7352 ,\n",
      "       605.9293 ], dtype=float32), 'flux_err': array([5.5513787, 5.5398965, 5.5334425, ..., 5.453243 , 5.445567 ,\n",
      "       5.455252 ], dtype=float32), '_flux_unit': Unit(\"electron / s\"), 'time_format': 'btjd', 'time_scale': 'tdb', 'targetid': 237880881, 'label': 'TIC 237880881', 'meta': {}, 'centroid_col': array([721.42135831, 721.40457996, 721.4067695 , ..., 721.37027388,\n",
      "       721.3585656 , 721.37325521]), 'centroid_row': array([1499.2800729 , 1499.2641131 , 1499.25419659, ..., 1499.30493254,\n",
      "       1499.28344546, 1499.30525456]), 'quality': array([0, 0, 0, ..., 0, 0, 0], dtype=int32), 'cadenceno': array([70445, 70446, 70447, ..., 90517, 90518, 90519], dtype=int32), 'quality_bitmask': 'default', 'mission': 'TESS', 'sector': 1, 'camera': 3, 'ccd': 1, 'ra': 19.527933, 'dec': -62.983093}\n",
      "{'time': array([1325.29815173, 1325.29954065, 1325.30092957, ..., 1353.17629563,\n",
      "       1353.17768452, 1353.17907341]), 'flux': array([624.7549 , 617.42035, 616.01654, ..., 607.1135 , 602.7352 ,\n",
      "       605.9293 ], dtype=float32), 'flux_err': array([5.5513787, 5.5398965, 5.5334425, ..., 5.453243 , 5.445567 ,\n",
      "       5.455252 ], dtype=float32), '_flux_unit': Unit(\"electron / s\"), 'time_format': 'btjd', 'time_scale': 'tdb', 'targetid': 237880881, 'label': 'TIC 237880881', 'meta': {}, 'centroid_col': array([721.42135831, 721.40457996, 721.4067695 , ..., 721.37027388,\n",
      "       721.3585656 , 721.37325521]), 'centroid_row': array([1499.2800729 , 1499.2641131 , 1499.25419659, ..., 1499.30493254,\n",
      "       1499.28344546, 1499.30525456]), 'quality': array([0, 0, 0, ..., 0, 0, 0], dtype=int32), 'cadenceno': array([70445, 70446, 70447, ..., 90517, 90518, 90519], dtype=int32), 'quality_bitmask': 'default', 'mission': 'TESS', 'sector': 1, 'camera': 3, 'ccd': 1, 'ra': 19.527933, 'dec': -62.983093}\n",
      "{'time': array([1325.29815173, 1325.29954065, 1325.30092957, ..., 1353.17629563,\n",
      "       1353.17768452, 1353.17907341]), 'flux': array([624.7549 , 617.42035, 616.01654, ..., 607.1135 , 602.7352 ,\n",
      "       605.9293 ], dtype=float32), 'flux_err': array([5.5513787, 5.5398965, 5.5334425, ..., 5.453243 , 5.445567 ,\n",
      "       5.455252 ], dtype=float32), '_flux_unit': Unit(\"electron / s\"), 'time_format': 'btjd', 'time_scale': 'tdb', 'targetid': 237880881, 'label': 'TIC 237880881', 'meta': {}, 'centroid_col': array([721.42135831, 721.40457996, 721.4067695 , ..., 721.37027388,\n",
      "       721.3585656 , 721.37325521]), 'centroid_row': array([1499.2800729 , 1499.2641131 , 1499.25419659, ..., 1499.30493254,\n",
      "       1499.28344546, 1499.30525456]), 'quality': array([0, 0, 0, ..., 0, 0, 0], dtype=int32), 'cadenceno': array([70445, 70446, 70447, ..., 90517, 90518, 90519], dtype=int32), 'quality_bitmask': 'default', 'mission': 'TESS', 'sector': 1, 'camera': 3, 'ccd': 1, 'ra': 19.527933, 'dec': -62.983093}\n",
      "TIC 237880881 modulation period:  8.431534500702735 h\n",
      "Relative amplitude of modulation: -1.3e-02\n"
     ]
    }
   ],
   "source": [
    "\n",
    "# Get the light curve of the target\n",
    "# from a pre-defined path\n",
    "flck = fetch_lightcurve(target)\n",
    "\n",
    "# We are dealing with ultrafast rotators witha simple sinusoidal signal\n",
    "t, sflux, model, period = remove_sinusoidal(target, plot=False, save=False)\n",
    "\n",
    "# define flare light curve so that you can use find_iterative_median later\n",
    "flcd = FlareLightCurve(time=t, \n",
    "                       detrended_flux=sflux, \n",
    "                       detrended_flux_err=np.array(len(t)*[np.nanmean(flck.flux_err)]))\n",
    "\n",
    "\n",
    "# Choose the light curve range to use for the model fit\n",
    "choice = (t > target.view_start +.6) & (t < target.view_stop-.25) \n",
    "t = t[choice]\n",
    "flux = sflux[choice]\n",
    "\n",
    "# Define the flux error\n",
    "flux_err = np.nanmean(flcd.detrended_flux_err)\n",
    "\n",
    "# Find the median flux in the chosen light curve range\n",
    "# by clipping outliers iteratively\n",
    "flcd = flcd[choice]\n",
    "median = np.nanmean(find_iterative_median(flcd).it_med)\n",
    "\n",
    "\n",
    "# Convert time array to rotation phase array\n",
    "# using the rotation period of the star\n",
    "phi = (t - t[0]) / target.Prot_d * 2 * np.pi"
   ]
  },
  {
   "cell_type": "code",
   "execution_count": 1,
   "metadata": {},
   "outputs": [
    {
     "ename": "NameError",
     "evalue": "name 'pd' is not defined",
     "output_type": "error",
     "traceback": [
      "\u001b[0;31m---------------------------------------------------------------------------\u001b[0m",
      "\u001b[0;31mNameError\u001b[0m                                 Traceback (most recent call last)",
      "\u001b[0;32m<ipython-input-1-ebc5ef098e4c>\u001b[0m in \u001b[0;36m<module>\u001b[0;34m\u001b[0m\n\u001b[0;32m----> 1\u001b[0;31m cf = pd.DataFrame({\"phi\":phi,\"flux\":flux, \"t\":t,\n\u001b[0m\u001b[1;32m      2\u001b[0m               \"flux_err\":flux_err, \"median_\":median})\n\u001b[1;32m      3\u001b[0m \u001b[0mcff\u001b[0m \u001b[0;34m=\u001b[0m \u001b[0mcf\u001b[0m\u001b[0;34m.\u001b[0m\u001b[0mgroupby\u001b[0m\u001b[0;34m(\u001b[0m\u001b[0mpd\u001b[0m\u001b[0;34m.\u001b[0m\u001b[0mcut\u001b[0m\u001b[0;34m(\u001b[0m\u001b[0mcf\u001b[0m\u001b[0;34m.\u001b[0m\u001b[0mphi\u001b[0m\u001b[0;34m,\u001b[0m \u001b[0;36m900\u001b[0m\u001b[0;34m)\u001b[0m\u001b[0;34m)\u001b[0m\u001b[0;34m.\u001b[0m\u001b[0mapply\u001b[0m\u001b[0;34m(\u001b[0m\u001b[0mnp\u001b[0m\u001b[0;34m.\u001b[0m\u001b[0mmean\u001b[0m\u001b[0;34m)\u001b[0m\u001b[0;34m\u001b[0m\u001b[0;34m\u001b[0m\u001b[0m\n\u001b[1;32m      4\u001b[0m \u001b[0mplt\u001b[0m\u001b[0;34m.\u001b[0m\u001b[0mfigure\u001b[0m\u001b[0;34m(\u001b[0m\u001b[0mfigsize\u001b[0m\u001b[0;34m=\u001b[0m\u001b[0;34m(\u001b[0m\u001b[0;36m12\u001b[0m\u001b[0;34m,\u001b[0m\u001b[0;36m6\u001b[0m\u001b[0;34m)\u001b[0m\u001b[0;34m)\u001b[0m\u001b[0;34m\u001b[0m\u001b[0;34m\u001b[0m\u001b[0m\n\u001b[1;32m      5\u001b[0m \u001b[0mplt\u001b[0m\u001b[0;34m.\u001b[0m\u001b[0mplot\u001b[0m\u001b[0;34m(\u001b[0m\u001b[0mcf\u001b[0m\u001b[0;34m.\u001b[0m\u001b[0mphi\u001b[0m\u001b[0;34m/\u001b[0m\u001b[0;34m(\u001b[0m\u001b[0;36m2\u001b[0m\u001b[0;34m*\u001b[0m\u001b[0mnp\u001b[0m\u001b[0;34m.\u001b[0m\u001b[0mpi\u001b[0m\u001b[0;34m)\u001b[0m\u001b[0;34m,\u001b[0m \u001b[0mcf\u001b[0m\u001b[0;34m.\u001b[0m\u001b[0mflux\u001b[0m\u001b[0;34m,\u001b[0m\u001b[0mcolor\u001b[0m\u001b[0;34m=\u001b[0m\u001b[0;34m\"grey\"\u001b[0m\u001b[0;34m)\u001b[0m\u001b[0;34m\u001b[0m\u001b[0;34m\u001b[0m\u001b[0m\n",
      "\u001b[0;31mNameError\u001b[0m: name 'pd' is not defined"
     ]
    }
   ],
   "source": [
    "\n",
    "cf = pd.DataFrame({\"phi\":phi,\"flux\":flux, \"t\":t,\n",
    "              \"flux_err\":flux_err, \"median_\":median})\n",
    "cff = cf.groupby(pd.cut(cf.phi, 900)).apply(np.mean)\n",
    "plt.figure(figsize=(12,6))\n",
    "plt.plot(cf.phi/(2*np.pi), cf.flux,color=\"grey\")\n",
    "plt.errorbar(cff.phi/(2*np.pi), cff.flux, yerr=cff.flux_err, color=\"r\", alpha=.9)\n",
    "plt.plot(cf.phi/(2*np.pi), [median]*len(cf.phi),color=\"grey\")\n",
    "plt.xlabel(\"time [rotation period]\")\n",
    "plt.ylabel(r\"flux [e$^{-}$/s]\")\n",
    "#plt.xlim(25,30)"
   ]
  },
  {
   "cell_type": "code",
   "execution_count": 33,
   "metadata": {
    "scrolled": true
   },
   "outputs": [
    {
     "data": {
      "text/plain": [
       "1125"
      ]
     },
     "execution_count": 33,
     "metadata": {},
     "output_type": "execute_result"
    }
   ],
   "source": [
    "# Write out light curve to use for MCMC fit\n",
    "cff = cff.dropna(how=\"any\")\n",
    "cff.to_csv(f\"{CWD}/data/lcs/{tstamp}_{target.ID}.csv\", index=False)"
   ]
  },
  {
   "cell_type": "code",
   "execution_count": 35,
   "metadata": {},
   "outputs": [
    {
     "data": {
      "text/plain": [
       "'24_07_2020_13_09'"
      ]
     },
     "execution_count": 35,
     "metadata": {},
     "output_type": "execute_result"
    }
   ],
   "source": [
    "tstamp"
   ]
  },
  {
   "cell_type": "code",
   "execution_count": 103,
   "metadata": {},
   "outputs": [
    {
     "data": {
      "text/plain": [
       "[<matplotlib.lines.Line2D at 0x7f4ecab19e80>]"
      ]
     },
     "execution_count": 103,
     "metadata": {},
     "output_type": "execute_result"
    },
    {
     "data": {
      "image/png": "[encoded data removed]",
      "text/plain": [
       "<Figure size 1152x576 with 1 Axes>"
      ]
     },
     "metadata": {
      "needs_background": "light"
     },
     "output_type": "display_data"
    }
   ],
   "source": [
    "# Play with parameters to get a first guess for the MCMC \n",
    "# When fitting more than one flare, do one flare first, then the next etc.\n",
    "\n",
    "# Flare peak time\n",
    "phi_a = 3.85\n",
    "\n",
    "# Active region latitude\n",
    "theta_a = .587\n",
    "\n",
    "# Flare amplitude\n",
    "a = 2.2\n",
    "\n",
    "# 2*FWHM of flare\n",
    "fwhm =  .95\n",
    "\n",
    "\n",
    "phi0 = 0.00314\n",
    "Fth = calculate_specific_flare_flux(\"TESS\", flaret=1e4)\n",
    "phi_a_max = phi[-1]\n",
    "#plt.plot(phi,flux)\n",
    "radius = calculate_angular_radius(Fth, a, qlum, R,)\n",
    "#theta_a, i_mu, phi_a, radius\n",
    "\n",
    "\n",
    "\n",
    "plt.figure(figsize=(16,8))\n",
    "plt.plot(phi,flux)\n",
    "for i in np.linspace(np.pi*.1,np.pi*.15,10):\n",
    "    plt.plot(phi, full_model(phi_a, i, a, fwhm, i_mu, phi0=phi0,\n",
    "               phi=phi, num_pts=50, qlum=qlum,\n",
    "               Fth=Fth, R=R, median=median), c=\"r\", alpha=.31,)\n",
    "plt.plot(phi, full_model(phi_a, theta_a, a, fwhm, i_mu, phi0=phi0,\n",
    "           phi=phi, num_pts=50, qlum=qlum,\n",
    "           Fth=Fth, R=R, median=median), c=\"k\", alpha=1,);\n",
    "# plt.xlim(1331,1333.25)"
   ]
  },
  {
   "cell_type": "code",
   "execution_count": 104,
   "metadata": {},
   "outputs": [],
   "source": [
    "# Choose model:\n",
    "log_prob = \"log_probability_2flares2ars\"\n",
    "nparam = log_probs[log_prob]\n",
    "\n",
    "\n",
    "# Save starting points and parameters for MCMC\n",
    "with open(f\"{CWD}/data/summary/inits.csv\", \"a\") as f:\n",
    "    firstout = (\"date,ID,phi_a,theta_a,a,fwhm,Fth,phi0,\"\\\n",
    "                \"i_mu,i_sigma,radius_deg,R_Rsun,qlum_erg_s,\"\\\n",
    "                \"median,log_prob,nparam\\n\")\n",
    "    out = (f\"{tstamp},{target.ID}b,{phi_a},{theta_a},{a},{fwhm},{Fth.value},\"\\\n",
    "           f\"{phi0},{i_mu},{i_sigma},{radius},{(R/R_sun).value},{qlum.value},\"\\\n",
    "           f\"{median},{log_prob},{nparam}\\n\")\n",
    "   # f.write(firstout)\n",
    "    f.write(out)"
   ]
  },
  {
   "cell_type": "code",
   "execution_count": null,
   "metadata": {},
   "outputs": [],
   "source": []
  }
 ],
 "metadata": {
  "kernelspec": {
   "display_name": "forallpurposes",
   "language": "python",
   "name": "forallpurposes"
  },
  "language_info": {
   "codemirror_mode": {
    "name": "ipython",
    "version": 3
   },
   "file_extension": ".py",
   "mimetype": "text/x-python",
   "name": "python",
   "nbconvert_exporter": "python",
   "pygments_lexer": "ipython3",
   "version": "3.6.9"
  }
 },
 "nbformat": 4,
 "nbformat_minor": 1
}
