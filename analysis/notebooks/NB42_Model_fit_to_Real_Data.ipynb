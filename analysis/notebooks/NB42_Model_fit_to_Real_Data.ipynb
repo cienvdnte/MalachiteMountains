{
 "cells": [
  {
   "cell_type": "code",
   "execution_count": 1,
   "metadata": {},
   "outputs": [],
   "source": [
    "import matplotlib.pyplot as plt\n",
    "%matplotlib inline\n",
    "\n",
    "from astropy.constants import R_sun\n",
    "import astropy.units as u\n",
    "\n",
    "import os\n",
    "import copy\n",
    "\n",
    "import numpy as np\n",
    "import pandas as pd\n",
    "\n",
    "from funcs.model import big_model, aflare, calculate_specific_flare_flux, aflare\n",
    "from funcs.flarefit import log_probability\n",
    "\n",
    "CWD = \"/\".join(os.getcwd().split(\"/\")[:-2])\n",
    "\n",
    "import warnings\n",
    "warnings.simplefilter(\"ignore\")\n",
    "\n",
    "import pytest\n",
    "import emcee\n",
    "import corner\n",
    "\n",
    "#"
   ]
  },
  {
   "cell_type": "code",
   "execution_count": 2,
   "metadata": {
    "scrolled": true
   },
   "outputs": [],
   "source": [
    "def get_incl(lcs):\n",
    "    v_rot = lcs['rad'].values*2*np.pi*R_sun / (lcs['Prot_d'].values*u.d)\n",
    "    vsini = lcs['vsini_kms'].values*u.km/u.s\n",
    "    e_vsini = lcs['e_vsini_kms'].values*u.km/u.s\n",
    "    sini = (vsini / v_rot ).decompose()\n",
    "    #print(sini.decompose(), v_rot.to(\"km/s\"))\n",
    "    # set values larger than 1 to 1 (must be due to uncertainties in Rstar or vsini):\n",
    "    #sini[sini.decompose() > 1] = 1.\n",
    "    incl = np.arcsin(sini.decompose())\n",
    "    lcs[\"incl\"] = incl\n",
    "    lcs[\"incl_err\"] = (e_vsini / (v_rot * np.sqrt(1. - sini**2))).decompose()\n",
    "    return lcs"
   ]
  },
  {
   "cell_type": "code",
   "execution_count": 3,
   "metadata": {},
   "outputs": [
    {
     "data": {
      "text/html": [
       "<div>\n",
       "<style scoped>\n",
       "    .dataframe tbody tr th:only-of-type {\n",
       "        vertical-align: middle;\n",
       "    }\n",
       "\n",
       "    .dataframe tbody tr th {\n",
       "        vertical-align: top;\n",
       "    }\n",
       "\n",
       "    .dataframe thead th {\n",
       "        text-align: right;\n",
       "    }\n",
       "</style>\n",
       "<table border=\"1\" class=\"dataframe\">\n",
       "  <thead>\n",
       "    <tr style=\"text-align: right;\">\n",
       "      <th></th>\n",
       "      <th>prefix</th>\n",
       "      <th>ID</th>\n",
       "      <th>ED</th>\n",
       "      <th>e_ED</th>\n",
       "      <th>t0</th>\n",
       "      <th>e_t0</th>\n",
       "      <th>dur</th>\n",
       "      <th>e_dur</th>\n",
       "      <th>ampl</th>\n",
       "      <th>e_ampl</th>\n",
       "      <th>Prot</th>\n",
       "      <th>theta_a_init</th>\n",
       "    </tr>\n",
       "  </thead>\n",
       "  <tbody>\n",
       "    <tr>\n",
       "      <th>0</th>\n",
       "      <td>TIC</td>\n",
       "      <td>237880881</td>\n",
       "      <td>6020</td>\n",
       "      <td>298</td>\n",
       "      <td>1331.82418</td>\n",
       "      <td>0.00194</td>\n",
       "      <td>0.77347</td>\n",
       "      <td>0.02975</td>\n",
       "      <td>0.46626</td>\n",
       "      <td>0.01576</td>\n",
       "      <td>8.43</td>\n",
       "      <td>60.0</td>\n",
       "    </tr>\n",
       "    <tr>\n",
       "      <th>1</th>\n",
       "      <td>KIC</td>\n",
       "      <td>100004076</td>\n",
       "      <td>10414</td>\n",
       "      <td>886</td>\n",
       "      <td>1358.52754</td>\n",
       "      <td>0.00072</td>\n",
       "      <td>0.49377</td>\n",
       "      <td>0.02388</td>\n",
       "      <td>0.79166</td>\n",
       "      <td>0.06277</td>\n",
       "      <td>8.88</td>\n",
       "      <td>70.0</td>\n",
       "    </tr>\n",
       "    <tr>\n",
       "      <th>2</th>\n",
       "      <td>TIC</td>\n",
       "      <td>44984200</td>\n",
       "      <td>3809</td>\n",
       "      <td>135</td>\n",
       "      <td>1588.02740</td>\n",
       "      <td>0.00106</td>\n",
       "      <td>0.65066</td>\n",
       "      <td>0.03073</td>\n",
       "      <td>0.29153</td>\n",
       "      <td>0.00868</td>\n",
       "      <td>2.71</td>\n",
       "      <td>NaN</td>\n",
       "    </tr>\n",
       "    <tr>\n",
       "      <th>3</th>\n",
       "      <td>TIC</td>\n",
       "      <td>277539431</td>\n",
       "      <td>4495</td>\n",
       "      <td>394</td>\n",
       "      <td>1641.86831</td>\n",
       "      <td>0.00291</td>\n",
       "      <td>0.89720</td>\n",
       "      <td>0.08459</td>\n",
       "      <td>0.35356</td>\n",
       "      <td>0.03025</td>\n",
       "      <td>4.56</td>\n",
       "      <td>NaN</td>\n",
       "    </tr>\n",
       "    <tr>\n",
       "      <th>4</th>\n",
       "      <td>EPIC</td>\n",
       "      <td>212035340</td>\n",
       "      <td>1954494</td>\n",
       "      <td>483655</td>\n",
       "      <td>3437.83750</td>\n",
       "      <td>0.00029</td>\n",
       "      <td>0.05795</td>\n",
       "      <td>0.00631</td>\n",
       "      <td>29.07702</td>\n",
       "      <td>2.06769</td>\n",
       "      <td>4.63</td>\n",
       "      <td>NaN</td>\n",
       "    </tr>\n",
       "  </tbody>\n",
       "</table>\n",
       "</div>"
      ],
      "text/plain": [
       "  prefix         ID       ED    e_ED          t0     e_t0      dur    e_dur  \\\n",
       "0    TIC  237880881     6020     298  1331.82418  0.00194  0.77347  0.02975   \n",
       "1    KIC  100004076    10414     886  1358.52754  0.00072  0.49377  0.02388   \n",
       "2    TIC   44984200     3809     135  1588.02740  0.00106  0.65066  0.03073   \n",
       "3    TIC  277539431     4495     394  1641.86831  0.00291  0.89720  0.08459   \n",
       "4   EPIC  212035340  1954494  483655  3437.83750  0.00029  0.05795  0.00631   \n",
       "\n",
       "       ampl   e_ampl  Prot  theta_a_init  \n",
       "0   0.46626  0.01576  8.43          60.0  \n",
       "1   0.79166  0.06277  8.88          70.0  \n",
       "2   0.29153  0.00868  2.71           NaN  \n",
       "3   0.35356  0.03025  4.56           NaN  \n",
       "4  29.07702  2.06769  4.63           NaN  "
      ]
     },
     "execution_count": 3,
     "metadata": {},
     "output_type": "execute_result"
    }
   ],
   "source": [
    "lcs = pd.read_csv(f\"{CWD}/data/summary/lcs.csv\")\n",
    "guesses = pd.read_csv(f\"{CWD}/data/summary/results.csv\")\n",
    "props = pd.read_csv(f\"{CWD}/data/summary/properties.csv\")\n",
    "#lcs.ID = lcs.ID.astype(int)\n",
    "#guesses.ID = guesses.ID.astype(int)\n",
    "guesses"
   ]
  },
  {
   "cell_type": "code",
   "execution_count": 4,
   "metadata": {},
   "outputs": [],
   "source": [
    "lcs = lcs.merge(guesses, on=[\"ID\",\"prefix\"], how=\"outer\")\n",
    "lcs = lcs.merge(props, left_on=\"ID\", right_on=\"id\")"
   ]
  },
  {
   "cell_type": "code",
   "execution_count": 5,
   "metadata": {},
   "outputs": [
    {
     "data": {
      "text/html": [
       "<div>\n",
       "<style scoped>\n",
       "    .dataframe tbody tr th:only-of-type {\n",
       "        vertical-align: middle;\n",
       "    }\n",
       "\n",
       "    .dataframe tbody tr th {\n",
       "        vertical-align: top;\n",
       "    }\n",
       "\n",
       "    .dataframe thead th {\n",
       "        text-align: right;\n",
       "    }\n",
       "</style>\n",
       "<table border=\"1\" class=\"dataframe\">\n",
       "  <thead>\n",
       "    <tr style=\"text-align: right;\">\n",
       "      <th></th>\n",
       "      <th>ID</th>\n",
       "      <th>QCS</th>\n",
       "      <th>typ</th>\n",
       "      <th>cadence_min</th>\n",
       "      <th>mission</th>\n",
       "      <th>prefix</th>\n",
       "      <th>origin</th>\n",
       "      <th>h_mission</th>\n",
       "      <th>SpT</th>\n",
       "      <th>view_start</th>\n",
       "      <th>...</th>\n",
       "      <th>dist_err</th>\n",
       "      <th>dist_source</th>\n",
       "      <th>rad</th>\n",
       "      <th>tflux</th>\n",
       "      <th>tlum</th>\n",
       "      <th>kflux</th>\n",
       "      <th>klum</th>\n",
       "      <th>gmag</th>\n",
       "      <th>jmag</th>\n",
       "      <th>kmag</th>\n",
       "    </tr>\n",
       "  </thead>\n",
       "  <tbody>\n",
       "    <tr>\n",
       "      <th>0</th>\n",
       "      <td>100004076</td>\n",
       "      <td>14</td>\n",
       "      <td>slc</td>\n",
       "      <td>1</td>\n",
       "      <td>kep</td>\n",
       "      <td>KIC</td>\n",
       "      <td>generic</td>\n",
       "      <td>Kepler</td>\n",
       "      <td>L1</td>\n",
       "      <td>1356.50</td>\n",
       "      <td>...</td>\n",
       "      <td>0.038400</td>\n",
       "      <td>gaia</td>\n",
       "      <td>0.108176</td>\n",
       "      <td>3.319760e-12</td>\n",
       "      <td>1.119535e+29</td>\n",
       "      <td>6.712990e-13</td>\n",
       "      <td>2.263849e+28</td>\n",
       "      <td>17.8356</td>\n",
       "      <td>13.078</td>\n",
       "      <td>11.771</td>\n",
       "    </tr>\n",
       "    <tr>\n",
       "      <th>1</th>\n",
       "      <td>212035340</td>\n",
       "      <td>18</td>\n",
       "      <td>llc</td>\n",
       "      <td>30</td>\n",
       "      <td>ktwo</td>\n",
       "      <td>EPIC</td>\n",
       "      <td>generic</td>\n",
       "      <td>K2</td>\n",
       "      <td>M8</td>\n",
       "      <td>3437.00</td>\n",
       "      <td>...</td>\n",
       "      <td>20.512900</td>\n",
       "      <td>mk_dupuy2012</td>\n",
       "      <td>0.115204</td>\n",
       "      <td>6.546160e-13</td>\n",
       "      <td>8.406482e+29</td>\n",
       "      <td>1.394100e-13</td>\n",
       "      <td>1.790276e+29</td>\n",
       "      <td>19.5667</td>\n",
       "      <td>15.894</td>\n",
       "      <td>14.884</td>\n",
       "    </tr>\n",
       "    <tr>\n",
       "      <th>2</th>\n",
       "      <td>237880881</td>\n",
       "      <td>1</td>\n",
       "      <td>slc</td>\n",
       "      <td>2</td>\n",
       "      <td>tess</td>\n",
       "      <td>TIC</td>\n",
       "      <td>generic</td>\n",
       "      <td>TESS</td>\n",
       "      <td>M5</td>\n",
       "      <td>1331.00</td>\n",
       "      <td>...</td>\n",
       "      <td>0.143774</td>\n",
       "      <td>gaia</td>\n",
       "      <td>0.275151</td>\n",
       "      <td>3.492650e-11</td>\n",
       "      <td>8.870689e+30</td>\n",
       "      <td>1.272670e-11</td>\n",
       "      <td>3.232358e+30</td>\n",
       "      <td>14.9796</td>\n",
       "      <td>11.530</td>\n",
       "      <td>10.636</td>\n",
       "    </tr>\n",
       "    <tr>\n",
       "      <th>3</th>\n",
       "      <td>44984200</td>\n",
       "      <td>10</td>\n",
       "      <td>slc</td>\n",
       "      <td>2</td>\n",
       "      <td>tess</td>\n",
       "      <td>TIC</td>\n",
       "      <td>custom</td>\n",
       "      <td>TESS</td>\n",
       "      <td>M6</td>\n",
       "      <td>1587.25</td>\n",
       "      <td>...</td>\n",
       "      <td>0.027472</td>\n",
       "      <td>gaia</td>\n",
       "      <td>0.142339</td>\n",
       "      <td>6.305290e-11</td>\n",
       "      <td>9.308451e+29</td>\n",
       "      <td>2.018160e-11</td>\n",
       "      <td>2.979395e+29</td>\n",
       "      <td>14.4115</td>\n",
       "      <td>10.309</td>\n",
       "      <td>9.268</td>\n",
       "    </tr>\n",
       "    <tr>\n",
       "      <th>4</th>\n",
       "      <td>277539431</td>\n",
       "      <td>12</td>\n",
       "      <td>slc</td>\n",
       "      <td>2</td>\n",
       "      <td>tess</td>\n",
       "      <td>TIC</td>\n",
       "      <td>custom</td>\n",
       "      <td>TESS</td>\n",
       "      <td>M7</td>\n",
       "      <td>1641.00</td>\n",
       "      <td>...</td>\n",
       "      <td>0.106872</td>\n",
       "      <td>gaia</td>\n",
       "      <td>0.145216</td>\n",
       "      <td>5.011190e-11</td>\n",
       "      <td>1.126370e+30</td>\n",
       "      <td>1.380730e-11</td>\n",
       "      <td>3.103479e+29</td>\n",
       "      <td>14.7381</td>\n",
       "      <td>10.630</td>\n",
       "      <td>9.666</td>\n",
       "    </tr>\n",
       "    <tr>\n",
       "      <th>5</th>\n",
       "      <td>300741820</td>\n",
       "      <td>8</td>\n",
       "      <td>slc</td>\n",
       "      <td>2</td>\n",
       "      <td>tess</td>\n",
       "      <td>TIC</td>\n",
       "      <td>generic</td>\n",
       "      <td>TESS</td>\n",
       "      <td>NaN</td>\n",
       "      <td>1522.00</td>\n",
       "      <td>...</td>\n",
       "      <td>4.409260</td>\n",
       "      <td>mk_dupuy2012</td>\n",
       "      <td>0.127594</td>\n",
       "      <td>2.711650e-11</td>\n",
       "      <td>1.608939e+30</td>\n",
       "      <td>8.679300e-12</td>\n",
       "      <td>5.149798e+29</td>\n",
       "      <td>15.3277</td>\n",
       "      <td>11.959</td>\n",
       "      <td>11.126</td>\n",
       "    </tr>\n",
       "  </tbody>\n",
       "</table>\n",
       "<p>6 rows × 54 columns</p>\n",
       "</div>"
      ],
      "text/plain": [
       "          ID  QCS  typ  cadence_min mission prefix   origin h_mission  SpT  \\\n",
       "0  100004076   14  slc            1     kep    KIC  generic    Kepler   L1   \n",
       "1  212035340   18  llc           30    ktwo   EPIC  generic        K2   M8   \n",
       "2  237880881    1  slc            2    tess    TIC  generic      TESS   M5   \n",
       "3   44984200   10  slc            2    tess    TIC   custom      TESS   M6   \n",
       "4  277539431   12  slc            2    tess    TIC   custom      TESS   M7   \n",
       "5  300741820    8  slc            2    tess    TIC  generic      TESS  NaN   \n",
       "\n",
       "   view_start  ...   dist_err   dist_source       rad         tflux  \\\n",
       "0     1356.50  ...   0.038400          gaia  0.108176  3.319760e-12   \n",
       "1     3437.00  ...  20.512900  mk_dupuy2012  0.115204  6.546160e-13   \n",
       "2     1331.00  ...   0.143774          gaia  0.275151  3.492650e-11   \n",
       "3     1587.25  ...   0.027472          gaia  0.142339  6.305290e-11   \n",
       "4     1641.00  ...   0.106872          gaia  0.145216  5.011190e-11   \n",
       "5     1522.00  ...   4.409260  mk_dupuy2012  0.127594  2.711650e-11   \n",
       "\n",
       "           tlum         kflux          klum     gmag    jmag    kmag  \n",
       "0  1.119535e+29  6.712990e-13  2.263849e+28  17.8356  13.078  11.771  \n",
       "1  8.406482e+29  1.394100e-13  1.790276e+29  19.5667  15.894  14.884  \n",
       "2  8.870689e+30  1.272670e-11  3.232358e+30  14.9796  11.530  10.636  \n",
       "3  9.308451e+29  2.018160e-11  2.979395e+29  14.4115  10.309   9.268  \n",
       "4  1.126370e+30  1.380730e-11  3.103479e+29  14.7381  10.630   9.666  \n",
       "5  1.608939e+30  8.679300e-12  5.149798e+29  15.3277  11.959  11.126  \n",
       "\n",
       "[6 rows x 54 columns]"
      ]
     },
     "execution_count": 5,
     "metadata": {},
     "output_type": "execute_result"
    }
   ],
   "source": [
    "lcs"
   ]
  },
  {
   "cell_type": "code",
   "execution_count": 6,
   "metadata": {},
   "outputs": [
    {
     "data": {
      "text/plain": [
       "ID                              100004076\n",
       "QCS                                    14\n",
       "typ                                   slc\n",
       "cadence_min                             1\n",
       "mission                               kep\n",
       "prefix                                KIC\n",
       "origin                            generic\n",
       "h_mission                          Kepler\n",
       "SpT                                    L1\n",
       "view_start                         1356.5\n",
       "view_stop                            1361\n",
       "view_min                              600\n",
       "view_max                             1050\n",
       "BJDoff                            2454833\n",
       "tstart                            1358.55\n",
       "ampl_min                              NaN\n",
       "ampl_max                              NaN\n",
       "RA                                  286.7\n",
       "Dec                               40.1857\n",
       "J                                  13.078\n",
       "R                                     NaN\n",
       "Gaia_G                            17.8356\n",
       "vsini_kms                            11.2\n",
       "e_vsini_kms                           2.2\n",
       "Prot_d                            0.37015\n",
       "sini                                 >.59\n",
       "Ref                              Gizis+13\n",
       "identifier      WISEP J190648.47+401106.8\n",
       "Rstar                               0.107\n",
       "ED                                  10414\n",
       "e_ED                                  886\n",
       "t0                                1358.53\n",
       "e_t0                              0.00072\n",
       "dur                               0.49377\n",
       "e_dur                             0.02388\n",
       "ampl                              0.79166\n",
       "e_ampl                            0.06277\n",
       "Prot                                 8.88\n",
       "theta_a_init                           70\n",
       "idtyp                                 kep\n",
       "id                              100004076\n",
       "st                                     L1\n",
       "desig_2mass              19064801+4011089\n",
       "dist                              16.7867\n",
       "dist_err                        0.0383996\n",
       "dist_source                          gaia\n",
       "rad                              0.108176\n",
       "tflux                         3.31976e-12\n",
       "tlum                          1.11954e+29\n",
       "kflux                         6.71299e-13\n",
       "klum                          2.26385e+28\n",
       "gmag                              17.8356\n",
       "jmag                               13.078\n",
       "kmag                               11.771\n",
       "incl                             0.859459\n",
       "incl_err                         0.227913\n",
       "Name: 0, dtype: object"
      ]
     },
     "execution_count": 6,
     "metadata": {},
     "output_type": "execute_result"
    }
   ],
   "source": [
    "lcs = get_incl(lcs)\n",
    "target = lcs.iloc[0]\n",
    "target"
   ]
  },
  {
   "cell_type": "code",
   "execution_count": null,
   "metadata": {},
   "outputs": [],
   "source": [
    "from altaipony.altai import find_iterative_median\n",
    "from altaipony.flarelc import FlareLightCurve\n",
    "from funcs.custom_detrending import refine_detrended_flux_err\n",
    "from funcs.multiperiod import remove_sinusoidal, fetch_lightcurve\n",
    "\n",
    "flck = fetch_lightcurve(target)\n",
    "\n",
    "\n",
    "\n",
    "t, sflux, model, period = remove_sinusoidal(target, plot=True, save=False)\n",
    "print(sflux)\n",
    "F = FlareLightCurve(time=t, detrended_flux=sflux, \n",
    "                    detrended_flux_err=np.array(len(t)*[np.nanmean(flck.flux_err)]))\n",
    "print(F.detrended_flux_err)\n",
    "flcd = refine_detrended_flux_err(F, mask_pos_outliers_sigma=1.5, \n",
    "                                     std_rolling_window_length=15, pad=25)\n",
    "\n",
    "choice = (t > target.view_start + 1.56) & (t < target.view_stop-1.)\n",
    "t = t[choice]\n",
    "flux = sflux[choice]\n",
    "flux_err = np.nanmean(flcd.detrended_flux_err)\n",
    "median = np.nanmean(find_iterative_median(F).it_med)\n",
    "phi = (t - t[0])/target.Prot_d * 2 * np.pi\n",
    "median"
   ]
  },
  {
   "cell_type": "code",
   "execution_count": 8,
   "metadata": {},
   "outputs": [],
   "source": [
    "\n",
    "#pd.DataFrame({\"phi\":phi,\"flux\":flux, \"t\":t,\"flux_err\":flux_err, \"median_\":median}).to_csv(f\"{target.ID}.csv\",index=False)\n",
    "lc = pd.read_csv(f\"{target.ID}.csv\")\n",
    "phi = lc.phi.values\n",
    "flux = lc.flux.values\n",
    "flux_err = lc.flux_err.values\n",
    "t= lc.t.values\n",
    "median = lc.median_[0]"
   ]
  },
  {
   "cell_type": "code",
   "execution_count": 9,
   "metadata": {},
   "outputs": [
    {
     "data": {
      "text/plain": [
       "654.4331454815667"
      ]
     },
     "execution_count": 9,
     "metadata": {},
     "output_type": "execute_result"
    }
   ],
   "source": [
    "median"
   ]
  },
  {
   "cell_type": "code",
   "execution_count": 10,
   "metadata": {
    "scrolled": true
   },
   "outputs": [
    {
     "data": {
      "text/plain": [
       "(1.2217304763960306, 0.8594593230103518, 7.9330142937161146)"
      ]
     },
     "execution_count": 10,
     "metadata": {},
     "output_type": "execute_result"
    },
    {
     "data": {
      "image/png": "[encoded data removed]",
      "text/plain": [
       "<Figure size 432x288 with 1 Axes>"
      ]
     },
     "metadata": {
      "needs_background": "light"
     },
     "output_type": "display_data"
    }
   ],
   "source": [
    "\n",
    "phi_a = (target.t0 - t[0])/target.Prot_d * 2 * np.pi\n",
    "theta_a = target.theta_a_init*np.pi/180\n",
    "a = target.ampl\n",
    "fwhm = target.dur /target.Prot_d * 2 * np.pi/6\n",
    "i_mu = target.incl\n",
    "i_sigma = target.incl_err\n",
    "#theta_a = i_mu +.1\n",
    "#phi = np.linspace(0, 30*np.pi, N)\n",
    "qlum = target.tlum * u.erg/u.s\n",
    "R = target.rad * R_sun\n",
    "phi0 = 15 * np.pi / 180\n",
    "Fth = calculate_specific_flare_flux(\"TESS\", flaret=1e4)\n",
    "# m = big_model(phi_a, theta_a, a, fwhm, i, phi0=phi0,\n",
    "#               phi=phi, num_pts=50, qlum=qlum,\n",
    "#               Fth=Fth, R=R, median=median)\n",
    "# flare = aflare(phi, phi_a, fwhm, a*median,)\n",
    "phi_a_max = phi[-1]\n",
    "plt.plot(phi,flux)\n",
    "theta_a, i_mu, phi_a"
   ]
  },
  {
   "cell_type": "code",
   "execution_count": 11,
   "metadata": {},
   "outputs": [
    {
     "data": {
      "text/plain": [
       "[<matplotlib.lines.Line2D at 0x7f1009d91c18>]"
      ]
     },
     "execution_count": 11,
     "metadata": {},
     "output_type": "execute_result"
    },
    {
     "data": {
      "image/png": "[encoded data removed]",
      "text/plain": [
       "<Figure size 432x288 with 1 Axes>"
      ]
     },
     "metadata": {
      "needs_background": "light"
     },
     "output_type": "display_data"
    }
   ],
   "source": [
    "plt.plot(phi,flux)\n",
    "plt.plot(phi, big_model(phi_a, theta_a, a, fwhm, i_mu, phi0=phi0,\n",
    "           phi=phi, num_pts=50, qlum=qlum,\n",
    "           Fth=Fth, R=R, median=median), c=\"r\", alpha=1,)\n"
   ]
  },
  {
   "cell_type": "markdown",
   "metadata": {},
   "source": [
    "## Run MCMC"
   ]
  },
  {
   "cell_type": "code",
   "execution_count": null,
   "metadata": {
    "scrolled": true
   },
   "outputs": [],
   "source": [
    "\n",
    "inits = np.array([phi_a, theta_a, a, fwhm, i_mu, phi0]) \n",
    "pos = inits * (1. + 1e-3 * np.random.randn(32, 6))\n",
    "nwalkers, ndim = pos.shape\n",
    "\n",
    "sampler = emcee.EnsembleSampler(nwalkers, ndim, log_probability,\n",
    "                                args=(phi, flux, flux_err, qlum, Fth, R, median, {\"i_mu\":i_mu,\n",
    "                                      \"i_sigma\":i_sigma, \"theta_a_min\":i_mu-i_sigma, \"phi_a_max\":phi_a_max}))\n",
    "sampler.run_mcmc(pos, 20, progress=True);"
   ]
  },
  {
   "cell_type": "code",
   "execution_count": null,
   "metadata": {},
   "outputs": [],
   "source": [
    "nwalkers, ndim"
   ]
  },
  {
   "cell_type": "code",
   "execution_count": null,
   "metadata": {},
   "outputs": [],
   "source": [
    "fig, axes = plt.subplots(6, figsize=(10, 7), sharex=True)\n",
    "samples = sampler.get_chain()\n",
    "labels = ['flare peak\\nlongitude', 'flare\\nlatitude', 'relative\\namplitude', 'flare\\nFWHM', 'inclination \\nrad]', 'phi0\\n[rad]']\n",
    "for j in range(ndim):\n",
    "    ax = axes[j]\n",
    "    ax.plot(samples[:, :, j], \"k\", alpha=0.3)\n",
    "    ax.set_xlim(0, len(samples))\n",
    "    ax.set_ylabel(labels[j])\n",
    "    ax.yaxis.set_label_coords(-0.1, 0.5)\n",
    "\n",
    "axes[-1].set_xlabel(\"step number\");\n",
    "#plt.savefig(f\"{target.prefix}{target.ID}_2000_fixed.png\",dpi=300)"
   ]
  },
  {
   "cell_type": "code",
   "execution_count": null,
   "metadata": {},
   "outputs": [],
   "source": [
    "\n",
    "flat_samples = sampler.get_chain(discard=1000, flat=True)\n",
    "print(flat_samples.shape)\n",
    "fig = corner.corner(flat_samples, labels=labels)# truths=[phi_a, theta_a, a, fwhm,i_mu, phi0]);\n",
    "plt.savefig(f\"{target.prefix}{target.ID}_2000_corner_disc1000_fixed.png\",dpi=300)"
   ]
  },
  {
   "cell_type": "code",
   "execution_count": null,
   "metadata": {},
   "outputs": [],
   "source": [
    ".75/np.pi*180-1.1/np.pi*180 #pm 10\n",
    "1/np.pi*180"
   ]
  },
  {
   "cell_type": "code",
   "execution_count": null,
   "metadata": {},
   "outputs": [],
   "source": [
    "inds = np.random.randint(len(flat_samples), size=50)\n",
    "plt.figure(figsize=(10,8))\n",
    "#plt.scatter(flck.time, flck.flux, s=1)\n",
    "plt.scatter(phi, flux, s=10, c=\"k\")\n",
    "#plt.errorbar(phi, flux, yerr=flux_err, fmt=\".k\", capsize=0)\n",
    "\n",
    "for ind in inds:\n",
    "    sample = flat_samples[ind]\n",
    "    phi_a, theta_a, a, fwhm, i, phi0 = sample\n",
    "   # plt.plot(phi, aflare(phi, phi_a, fwhm, a*median)+ median, c=\"grey\", alpha=0.05, linewidth=3)\n",
    "    plt.plot(phi, big_model(phi_a, theta_a, a, fwhm, i, phi0=phi0,\n",
    "               phi=phi, num_pts=50, qlum=qlum,\n",
    "               Fth=Fth, R=R, median=median), c=\"r\", alpha=0.5,)\n",
    "#plt.plot(phi, flare+median, c=\"r\",linewidth=1)\n",
    "plt.legend(fontsize=14)\n",
    "plt.xlabel(\"time\")\n",
    "plt.ylabel(\"flux\");\n",
    "plt.savefig(f\"{target.prefix}{target.ID}_2000_flarefit_disc1000_fixed.png\",dpi=300)"
   ]
  },
  {
   "cell_type": "code",
   "execution_count": null,
   "metadata": {},
   "outputs": [],
   "source": [
    "samples = sampler.chain[:, 10:, :].reshape((-1, ndim))\n",
    "#samples[:, 2] = np.exp(samples[:, 2])\n",
    "t0_mcmc, dur_mcmc, ampl_mcmc, c, d, e = map(lambda v: (v[1], v[2]-v[1], v[1]-v[0]),\n",
    "                             zip(*np.percentile(samples, [16, 50, 84],\n",
    "                                                axis=0)))\n",
    "t0_mcmc, dur_mcmc, ampl_mcmc"
   ]
  },
  {
   "cell_type": "code",
   "execution_count": null,
   "metadata": {},
   "outputs": [],
   "source": [
    "e_t0 = (t0_mcmc[1] + t0_mcmc[2])/2.\n",
    "e_dur = (dur_mcmc[1] + dur_mcmc[2])/2.\n",
    "e_ampl = (ampl_mcmc[1] + ampl_mcmc[2])/2."
   ]
  },
  {
   "cell_type": "code",
   "execution_count": null,
   "metadata": {},
   "outputs": [],
   "source": [
    "\n",
    "def ED(t, t0, dur, ampl, median):\n",
    "    x = t * 60.0 * 60.0 * 24.0\n",
    "    return np.sum(np.diff(x) * aflare(t, t0, dur, ampl)[:-1]) / (dur * 6 * median)"
   ]
  },
  {
   "cell_type": "code",
   "execution_count": null,
   "metadata": {},
   "outputs": [],
   "source": [
    "\n",
    "def t0_ED(x):\n",
    "    return ED(flc.time, x, dur_mcmc[0], ampl_mcmc[0], median)\n",
    "def dur_ED(x):\n",
    "    return ED(flc.time, t0_mcmc[0], x, ampl_mcmc[0], median)\n",
    "def ampl_ED(x):\n",
    "    return ED(flc.time, t0_mcmc[0], dur_mcmc[0], x, median)\n",
    "def median_ED(x):\n",
    "    return ED(flc.time, t0_mcmc[0], dur_mcmc[0], ampl_mcmc[0], x)\n",
    "E_t0 = np.sum(derivative(t0_ED, t0_mcmc[0], dx=e_t0/10.)**2 * e_t0**2)\n",
    "E_dur = np.sum(derivative(dur_ED, dur_mcmc[0], dx=e_dur/10.)**2 * e_dur**2)\n",
    "E_ampl = np.sum(derivative(ampl_ED, ampl_mcmc[0], dx=e_ampl/10.)**2 * e_ampl**2)\n",
    "E_median = np.sum(derivative(median_ED, median, dx=e_median/10.)**2 * e_median**2)\n",
    "np.sqrt(E_t0 + E_dur + E_ampl + E_median), E_t0, E_dur, E_ampl, E_median"
   ]
  },
  {
   "cell_type": "code",
   "execution_count": null,
   "metadata": {},
   "outputs": [],
   "source": [
    "check_e_median = ED(flc.time, t0_mcmc[0], dur_mcmc[0], ampl_mcmc[0], median)**2 / median**2 * e_median**2\n",
    "assert E_median == pytest.approx(E_median,rel=1e-4)\n",
    "e_median, median"
   ]
  },
  {
   "cell_type": "code",
   "execution_count": null,
   "metadata": {},
   "outputs": [],
   "source": [
    "EDval = ED(flc.time, t0_mcmc[0], dur_mcmc[0], ampl_mcmc[0], median)\n",
    "e_ED = np.sqrt(E_t0 + E_dur + E_ampl + E_median)\n",
    "EDval,e_ED"
   ]
  },
  {
   "cell_type": "code",
   "execution_count": null,
   "metadata": {},
   "outputs": [],
   "source": [
    "with open(f\"{CWD}/data/summary/results.csv\", \"a\") as k:\n",
    "    stri = (f\"{target.prefix} {target.ID},{EDval:.0f},{e_ED:.0f},\"\\\n",
    "            f\"{t0_mcmc[0]:.5f},{e_t0:.5f},\"\\\n",
    "            f\"{dur_mcmc[0]*6:.5f},{e_dur*6:.5f},\"\\\n",
    "            f\"{ampl_mcmc[0]/median:.5f},{e_ampl/median:.5f}\\n\"\\\n",
    "            f\"{period.value:.2f}\")\n",
    "   # stri = \"ID,ED,e_ED,t0,e_t0,dur,e_dur,ampl,e_ampl,Prot_h\\n\"\n",
    "    k.write(stri)"
   ]
  },
  {
   "cell_type": "code",
   "execution_count": null,
   "metadata": {},
   "outputs": [],
   "source": []
  }
 ],
 "metadata": {
  "kernelspec": {
   "display_name": "tessenv",
   "language": "python",
   "name": "tessenv"
  },
  "language_info": {
   "codemirror_mode": {
    "name": "ipython",
    "version": 3
   },
   "file_extension": ".py",
   "mimetype": "text/x-python",
   "name": "python",
   "nbconvert_exporter": "python",
   "pygments_lexer": "ipython3",
   "version": "3.6.8"
  }
 },
 "nbformat": 4,
 "nbformat_minor": 1
}
