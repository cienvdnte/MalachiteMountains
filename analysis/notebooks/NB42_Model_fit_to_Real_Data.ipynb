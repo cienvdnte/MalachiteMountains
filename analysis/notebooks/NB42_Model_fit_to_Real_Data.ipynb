{
 "cells": [
  {
   "cell_type": "code",
   "execution_count": 56,
   "metadata": {},
   "outputs": [],
   "source": [
    "import matplotlib.pyplot as plt\n",
    "%matplotlib inline\n",
    "\n",
    "from astropy.constants import R_sun, R_jup\n",
    "import astropy.units as u\n",
    "\n",
    "import os\n",
    "import copy\n",
    "\n",
    "\n",
    "\n",
    "from funcs.model import full_model, aflare, calculate_specific_flare_flux, aflare, calculate_angular_radius\n",
    "\n",
    "CWD = \"/\".join(os.getcwd().split(\"/\")[:-2])\n",
    "\n",
    "import warnings\n",
    "warnings.simplefilter(\"ignore\")\n",
    "\n",
    "#-----------------------------------\n",
    "import numpy as np\n",
    "import pandas as pd\n",
    "\n",
    "from altaipony.altai import find_iterative_median\n",
    "from altaipony.flarelc import FlareLightCurve\n",
    "from funcs.multiperiod import remove_sinusoidal\n",
    "from funcs.helper import fetch_lightcurve\n",
    "\n",
    "import time\n",
    "\n",
    "# Different flare/active region configurations have different numbers of parameters\n",
    "log_probs = {\"log_probability\": 6, # one flare, one active region\n",
    "             \"log_probability_2flares\": 9, # two flares, one active region\n",
    "             \"log_probability_2flares2ars\": 10 # two flares, two active regions\n",
    "            }\n",
    "\n",
    "\n",
    "\n",
    "# Create a time stamp for this run\n",
    "tstamp = time.strftime(\"%d_%m_%Y_%H_%M\", time.localtime())\n"
   ]
  },
  {
   "cell_type": "code",
   "execution_count": 57,
   "metadata": {},
   "outputs": [
    {
     "data": {
      "text/plain": [
       "'02_08_2020_17_58'"
      ]
     },
     "execution_count": 57,
     "metadata": {},
     "output_type": "execute_result"
    }
   ],
   "source": [
    "tstamp"
   ]
  },
  {
   "cell_type": "code",
   "execution_count": 58,
   "metadata": {},
   "outputs": [
    {
     "data": {
      "text/plain": [
       "ID                    230120143\n",
       "QCS                          16\n",
       "typ                         slc\n",
       "cadence_min                   2\n",
       "mission                    tess\n",
       "prefix                      TIC\n",
       "origin                  generic\n",
       "h_mission                  TESS\n",
       "SpT                          M7\n",
       "view_start                 1741\n",
       "view_stop                  1743\n",
       "view_min                   2320\n",
       "view_max                   2500\n",
       "BJDoff                  2457000\n",
       "tstart                  1741.62\n",
       "ampl_min                    1.5\n",
       "ampl_max                    2.5\n",
       "GRP                         NaN\n",
       "plxmas                      NaN\n",
       "eplxmas                     NaN\n",
       "RA                      250.086\n",
       "Dec                     67.6013\n",
       "J                         9.854\n",
       "R                           NaN\n",
       "Gaia_G                   13.557\n",
       "vsini_kms                  10.8\n",
       "e_vsini_kms                 0.7\n",
       "Prot_d                 0.378325\n",
       "sini                  0.6844128\n",
       "Ref                Kesseli+2018\n",
       "identifier                  NaN\n",
       "Rstar                       NaN\n",
       "idtyp                      tess\n",
       "id                    230120143\n",
       "st                           M7\n",
       "desig_2mass    16402068+6736046\n",
       "dist                    14.4346\n",
       "dist_err               0.055862\n",
       "dist_source                gaia\n",
       "rad                    0.198365\n",
       "rad_err              0.00581679\n",
       "tflux               1.48903e-10\n",
       "tfluxerr            1.37084e-11\n",
       "tlum                3.71291e+30\n",
       "tlumerr             3.43026e+29\n",
       "kflux               4.10272e-11\n",
       "kfluxerr            4.50835e-12\n",
       "klum                1.02301e+30\n",
       "klumerr             1.12694e+29\n",
       "gmag                    13.5557\n",
       "jmag                      9.854\n",
       "kmag                       8.95\n",
       "i_mu                   0.419312\n",
       "i_sigma               0.0172649\n",
       "Name: 4, dtype: object"
      ]
     },
     "execution_count": 58,
     "metadata": {},
     "output_type": "execute_result"
    }
   ],
   "source": [
    "# Read in target parameters\n",
    "# ALL TARGETS MUST BE DEFINED IN THIS TABLE AND HAVE LIGHT CURVE\n",
    "# OTHERWISE NOTHING WILL WORK\n",
    "lcs = pd.read_csv(f\"{CWD}/data/summary/lcsi.csv\")\n",
    "\n",
    "# Choose target from table\n",
    "target_N = 4\n",
    "target = lcs.iloc[target_N]\n",
    "\n",
    "# Pick up inclination and uncertainty\n",
    "i_mu, i_sigma = target.i_mu, target.i_sigma\n",
    "\n",
    "# Pick up quiescent luminosity\n",
    "qlum = target.tlum * u.erg/u.s\n",
    "\n",
    "# Pick up stellar radius\n",
    "R = target.rad * R_sun\n",
    "\n",
    "target"
   ]
  },
  {
   "cell_type": "code",
   "execution_count": 61,
   "metadata": {
    "scrolled": true
   },
   "outputs": [
    {
     "name": "stderr",
     "output_type": "stream",
     "text": [
      "5% (953/17765) of the cadences will be ignored due to the quality mask (quality_bitmask=175).\n",
      "5% (953/17765) of the cadences will be ignored due to the quality mask (quality_bitmask=175).\n",
      "5% (953/17765) of the cadences will be ignored due to the quality mask (quality_bitmask=175).\n",
      "5% (953/17765) of the cadences will be ignored due to the quality mask (quality_bitmask=175).\n",
      "5% (953/17765) of the cadences will be ignored due to the quality mask (quality_bitmask=175).\n",
      "5% (953/17765) of the cadences will be ignored due to the quality mask (quality_bitmask=175).\n"
     ]
    },
    {
     "name": "stdout",
     "output_type": "stream",
     "text": [
      "{'time': array([1738.65173791, 1738.6531268 , 1738.65451569, ..., 1763.31571967,\n",
      "       1763.31710857, 1763.31849747]), 'flux': array([2365.29  , 2358.666 , 2372.7466, ..., 2381.0286, 2339.525 ,\n",
      "       2369.3196], dtype=float32), 'flux_err': array([10.914513, 10.922161, 10.897813, ..., 13.051014, 13.062527,\n",
      "       13.001634], dtype=float32), '_flux_unit': Unit(\"electron / s\"), 'time_format': 'btjd', 'time_scale': 'tdb', 'targetid': 230120143, 'label': 'TIC 230120143', 'meta': {}, 'centroid_col': array([1744.57411392, 1744.57968065, 1744.56718743, ..., 1744.58162473,\n",
      "       1744.57575036, 1744.57681806]), 'centroid_row': array([2037.36466181, 2037.3685968 , 2037.36726769, ..., 2037.36512822,\n",
      "       2037.37253459, 2037.36206884]), 'quality': array([0, 0, 0, ..., 0, 0, 0], dtype=int32), 'cadenceno': array([368062, 368063, 368064, ..., 385820, 385821, 385822], dtype=int32), 'quality_bitmask': 'default', 'mission': 'TESS', 'sector': 16, 'camera': 3, 'ccd': 3, 'ra': 250.085840025574, 'dec': 67.6013350352538}\n",
      "{'time': array([1738.65173791, 1738.6531268 , 1738.65451569, ..., 1763.31571967,\n",
      "       1763.31710857, 1763.31849747]), 'flux': array([2365.29  , 2358.666 , 2372.7466, ..., 2381.0286, 2339.525 ,\n",
      "       2369.3196], dtype=float32), 'flux_err': array([10.914513, 10.922161, 10.897813, ..., 13.051014, 13.062527,\n",
      "       13.001634], dtype=float32), '_flux_unit': Unit(\"electron / s\"), 'time_format': 'btjd', 'time_scale': 'tdb', 'targetid': 230120143, 'label': 'TIC 230120143', 'meta': {}, 'centroid_col': array([1744.57411392, 1744.57968065, 1744.56718743, ..., 1744.58162473,\n",
      "       1744.57575036, 1744.57681806]), 'centroid_row': array([2037.36466181, 2037.3685968 , 2037.36726769, ..., 2037.36512822,\n",
      "       2037.37253459, 2037.36206884]), 'quality': array([0, 0, 0, ..., 0, 0, 0], dtype=int32), 'cadenceno': array([368062, 368063, 368064, ..., 385820, 385821, 385822], dtype=int32), 'quality_bitmask': 'default', 'mission': 'TESS', 'sector': 16, 'camera': 3, 'ccd': 3, 'ra': 250.085840025574, 'dec': 67.6013350352538}\n",
      "{'time': array([1738.65173791, 1738.6531268 , 1738.65451569, ..., 1763.31571967,\n",
      "       1763.31710857, 1763.31849747]), 'flux': array([2365.29  , 2358.666 , 2372.7466, ..., 2381.0286, 2339.525 ,\n",
      "       2369.3196], dtype=float32), 'flux_err': array([10.914513, 10.922161, 10.897813, ..., 13.051014, 13.062527,\n",
      "       13.001634], dtype=float32), '_flux_unit': Unit(\"electron / s\"), 'time_format': 'btjd', 'time_scale': 'tdb', 'targetid': 230120143, 'label': 'TIC 230120143', 'meta': {}, 'centroid_col': array([1744.57411392, 1744.57968065, 1744.56718743, ..., 1744.58162473,\n",
      "       1744.57575036, 1744.57681806]), 'centroid_row': array([2037.36466181, 2037.3685968 , 2037.36726769, ..., 2037.36512822,\n",
      "       2037.37253459, 2037.36206884]), 'quality': array([0, 0, 0, ..., 0, 0, 0], dtype=int32), 'cadenceno': array([368062, 368063, 368064, ..., 385820, 385821, 385822], dtype=int32), 'quality_bitmask': 'default', 'mission': 'TESS', 'sector': 16, 'camera': 3, 'ccd': 3, 'ra': 250.085840025574, 'dec': 67.6013350352538}\n",
      "TIC 230120143 modulation period:  9.089056409968848 h\n",
      "Relative amplitude of modulation: -3.7e-03\n"
     ]
    }
   ],
   "source": [
    "\n",
    "# Get the light curve of the target\n",
    "# from a pre-defined path\n",
    "flck = fetch_lightcurve(target)\n",
    "\n",
    "# We are dealing with ultrafast rotators witha simple sinusoidal signal\n",
    "t, sflux, model, period = remove_sinusoidal(target, plot=False, save=False)\n",
    "\n",
    "# define flare light curve so that you can use find_iterative_median later\n",
    "flcd = FlareLightCurve(time=t, \n",
    "                       detrended_flux=sflux, \n",
    "                       detrended_flux_err=np.array(len(t)*[np.nanmean(flck.flux_err)]))\n",
    "\n",
    "\n",
    "# Choose the light curve range to use for the model fit\n",
    "choice = (t > target.view_start +.3) & (t < target.view_stop-.25) \n",
    "t = t[choice]\n",
    "flux = sflux[choice]\n",
    "\n",
    "# Define the flux error\n",
    "flux_err = np.nanmean(flcd.detrended_flux_err)\n",
    "\n",
    "# Find the median flux in the chosen light curve range\n",
    "# by clipping outliers iteratively\n",
    "flcd = flcd[choice]\n",
    "median = np.nanmean(find_iterative_median(flcd).it_med)\n",
    "\n",
    "\n",
    "# Convert time array to rotation phase array\n",
    "# using the rotation period of the star\n",
    "phi = (t - t[0]) / target.Prot_d * 2 * np.pi"
   ]
  },
  {
   "cell_type": "code",
   "execution_count": 62,
   "metadata": {},
   "outputs": [
    {
     "data": {
      "text/plain": [
       "Text(0, 0.5, 'flux [e$^{-}$/s]')"
      ]
     },
     "execution_count": 62,
     "metadata": {},
     "output_type": "execute_result"
    },
    {
     "data": {
      "image/png": "[encoded data removed]",
      "text/plain": [
       "<Figure size 864x432 with 1 Axes>"
      ]
     },
     "metadata": {
      "needs_background": "light"
     },
     "output_type": "display_data"
    }
   ],
   "source": [
    "\n",
    "cf = pd.DataFrame({\"phi\":phi,\"flux\":flux, \"t\":t,\n",
    "              \"flux_err\":flux_err, \"median_\":median})\n",
    "cff = cf.groupby(pd.cut(cf.phi, 900)).apply(np.mean)\n",
    "plt.figure(figsize=(12,6))\n",
    "plt.plot(cf.phi/(2*np.pi), cf.flux,color=\"grey\")\n",
    "plt.errorbar(cff.phi/(2*np.pi), cff.flux, yerr=cff.flux_err, color=\"r\", alpha=.9)\n",
    "plt.plot(cf.phi/(2*np.pi), [median]*len(cf.phi),color=\"grey\")\n",
    "plt.xlabel(\"time [rotation period]\")\n",
    "plt.ylabel(r\"flux [e$^{-}$/s]\")\n",
    "#plt.xlim(25,30)"
   ]
  },
  {
   "cell_type": "code",
   "execution_count": 63,
   "metadata": {
    "scrolled": true
   },
   "outputs": [],
   "source": [
    "# Write out light curve to use for MCMC fit\n",
    "cff = cff.dropna(how=\"any\")\n",
    "cff.to_csv(f\"{CWD}/data/lcs/{tstamp}_{target.ID}.csv\", index=False)"
   ]
  },
  {
   "cell_type": "code",
   "execution_count": 64,
   "metadata": {},
   "outputs": [
    {
     "data": {
      "text/plain": [
       "'02_08_2020_17_58'"
      ]
     },
     "execution_count": 64,
     "metadata": {},
     "output_type": "execute_result"
    }
   ],
   "source": [
    "tstamp"
   ]
  },
  {
   "cell_type": "code",
   "execution_count": 144,
   "metadata": {},
   "outputs": [
    {
     "data": {
      "text/plain": [
       "(2250.0, 6650.0)"
      ]
     },
     "execution_count": 144,
     "metadata": {},
     "output_type": "execute_result"
    },
    {
     "data": {
      "image/png": "[encoded data removed]",
      "text/plain": [
       "<Figure size 1152x576 with 1 Axes>"
      ]
     },
     "metadata": {
      "needs_background": "light"
     },
     "output_type": "display_data"
    }
   ],
   "source": [
    "# Play with parameters to get a first guess for the MCMC \n",
    "# When fitting more than one flare, do one flare first, then the next etc.\n",
    "\n",
    "# Flare peak time\n",
    "phi_a =4.95\n",
    "\n",
    "# Active region latitude\n",
    "theta_a = -.2\n",
    "\n",
    "# Flare amplitude\n",
    "a = 1.7\n",
    "\n",
    "# 2*FWHM of flare\n",
    "fwhm =  .5\n",
    "\n",
    "\n",
    "phi0 =-2\n",
    "Fth = calculate_specific_flare_flux(\"TESS\", flaret=1e4)\n",
    "phi_a_max = phi[-1]\n",
    "#plt.plot(phi,flux)\n",
    "radius = calculate_angular_radius(Fth, a, qlum, R,)\n",
    "#theta_a, i_mu, phi_a, radius\n",
    "\n",
    "\n",
    "\n",
    "plt.figure(figsize=(16,8))\n",
    "plt.plot(phi,flux)\n",
    "# for i in np.linspace(np.pi*.1,np.pi*.15,10):\n",
    "#     plt.plot(phi, full_model(phi_a, i, a, fwhm, i_mu, phi0=phi0,\n",
    "#                phi=phi, num_pts=50, qlum=qlum,\n",
    "#                Fth=Fth, R=R, median=median), c=\"r\", alpha=.31,)\n",
    "plt.plot(phi, full_model(phi_a, theta_a, a, fwhm, i_mu, phi0=phi0,\n",
    "           phi=phi, num_pts=50, qlum=qlum,\n",
    "           Fth=Fth, R=R, median=median), c=\"k\", alpha=1,);\n",
    "# plt.xlim(1331,1333.25)\n",
    "plt.ylim(2250,6650)"
   ]
  },
  {
   "cell_type": "code",
   "execution_count": 55,
   "metadata": {},
   "outputs": [],
   "source": [
    "# Choose model:\n",
    "log_prob = \"log_probability\"#_2flares2ars\"\n",
    "nparam = log_probs[log_prob]\n",
    "\n",
    "\n",
    "# Save starting points and parameters for MCMC\n",
    "with open(f\"{CWD}/data/summary/inits.csv\", \"a\") as f:\n",
    "    firstout = (\"date,ID,phi_a,theta_a,a,fwhm,Fth,phi0,\"\\\n",
    "                \"i_mu,i_sigma,radius_deg,R_Rsun,qlum_erg_s,\"\\\n",
    "                \"median,log_prob,nparam\\n\")\n",
    "    out = (f\"{tstamp},{target.ID},{phi_a},{theta_a},{a},{fwhm},{Fth.value},\"\\\n",
    "           f\"{phi0},{i_mu},{i_sigma},{radius},{(R/R_sun).value},{qlum.value},\"\\\n",
    "           f\"{median},{log_prob},{nparam}\\n\")\n",
    "   # f.write(firstout)\n",
    "    f.write(out)"
   ]
  },
  {
   "cell_type": "code",
   "execution_count": null,
   "metadata": {},
   "outputs": [],
   "source": []
  }
 ],
 "metadata": {
  "kernelspec": {
   "display_name": "flaresinclustersii",
   "language": "python",
   "name": "flaresinclustersii"
  },
  "language_info": {
   "codemirror_mode": {
    "name": "ipython",
    "version": 3
   },
   "file_extension": ".py",
   "mimetype": "text/x-python",
   "name": "python",
   "nbconvert_exporter": "python",
   "pygments_lexer": "ipython3",
   "version": "3.7.3"
  }
 },
 "nbformat": 4,
 "nbformat_minor": 1
}
