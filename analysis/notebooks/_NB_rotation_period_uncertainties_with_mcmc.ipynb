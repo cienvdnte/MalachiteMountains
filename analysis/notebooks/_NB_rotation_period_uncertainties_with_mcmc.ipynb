{
 "cells": [
  {
   "cell_type": "markdown",
   "metadata": {},
   "source": [
    "# Content\n",
    "\n",
    "This notebook serves to estimate the uncertainty on rotation period using all available light curves for a given star. We do not use the other estimated parameters to model the quiescent light curve. For the latter, we use Gaussian process regression. You also should know the actual rotation period periodograms/phase fold checks etc. before you start here."
   ]
  },
  {
   "cell_type": "code",
   "execution_count": null,
   "metadata": {},
   "outputs": [],
   "source": [
    "# basics\n",
    "import pandas as pd\n",
    "import numpy as np\n",
    "\n",
    "# matplotlib\n",
    "import matplotlib.pyplot as plt\n",
    "%matplotlib inline\n",
    "\n",
    "from funcs.rotation import (get_period_get_amplitude, \n",
    "                            rotation_period_uncertainties_mcmc)\n",
    "\n",
    "# data management\n",
    "import time as Timestamp\n",
    "tstamp = Timestamp.strftime(\"%d_%m_%Y\", Timestamp.localtime())\n",
    "\n",
    "import os\n",
    "CWD = \"/\".join(os.getcwd().split(\"/\")[:-2])"
   ]
  },
  {
   "cell_type": "markdown",
   "metadata": {},
   "source": [
    "# Get estimates on the periods to initialize MCMC chain"
   ]
  },
  {
   "cell_type": "code",
   "execution_count": null,
   "metadata": {
    "scrolled": true
   },
   "outputs": [],
   "source": [
    "# stellar parameters\n",
    "lcs = pd.read_csv(f\"{CWD}/data/summary/lcs.csv\")\n",
    "\n",
    "\n",
    "# sectors\n",
    "sectorsdict = {237880881:[1,2],\n",
    "             44984200: [8,9,10],\n",
    "             277539431:[12],\n",
    "             452922110:[7],}\n",
    "\n",
    "\n",
    "res = pd.DataFrame(columns=[\"ID\",\"sector\",\"rel_amplitude\",\"period_h\"])\n",
    "for label, row in lcs.iterrows():\n",
    "    if row.ID in sectorsdict.keys():\n",
    "        for C in sectorsdict[row.ID]: \n",
    "            row.QCS = C\n",
    "            print(row.QCS)\n",
    "            period, relampl, p = get_period_get_amplitude(row)\n",
    "            res = res.append(dict(zip([\"ID\",\"sector\",\"rel_amplitude\",\n",
    "                                       \"period_h\",\"phase_offset\",\n",
    "                                       \"lin_trend\",\"offset_y\"],\n",
    "                                       [row.ID, C, abs(relampl),\n",
    "                                        period.value, p[2],\n",
    "                                        p[3],p[4]])),ignore_index=True)"
   ]
  },
  {
   "cell_type": "markdown",
   "metadata": {},
   "source": [
    "## Fit period with MCMC\n"
   ]
  },
  {
   "cell_type": "code",
   "execution_count": null,
   "metadata": {},
   "outputs": [],
   "source": [
    "# pick one ID at a time\n",
    "ID = 452922110\n",
    "\n",
    "# choose the sectors for period fitting\n",
    "sectors = res.loc[res.ID == ID, \"sector\"].values\n",
    "\n",
    "# choose the parameters to pass to MCMC\n",
    "target = lcs[lcs.ID ==ID].iloc[0]\n"
   ]
  },
  {
   "cell_type": "code",
   "execution_count": null,
   "metadata": {},
   "outputs": [],
   "source": [
    "sectors"
   ]
  },
  {
   "cell_type": "code",
   "execution_count": null,
   "metadata": {},
   "outputs": [],
   "source": [
    "target"
   ]
  },
  {
   "cell_type": "markdown",
   "metadata": {},
   "source": [
    "# Run MCMC fit"
   ]
  },
  {
   "cell_type": "code",
   "execution_count": null,
   "metadata": {},
   "outputs": [],
   "source": [
    "# run this with higher step and maxiterations\n",
    "sampler = rotation_period_uncertainties_mcmc(ID, sectors[0], target, res, step=50, \n",
    "                                             maxiterations=5, CWD=CWD, tstamp=tstamp)"
   ]
  },
  {
   "cell_type": "markdown",
   "metadata": {},
   "source": [
    "# Analyze the output"
   ]
  },
  {
   "cell_type": "code",
   "execution_count": null,
   "metadata": {},
   "outputs": [],
   "source": [
    "# get the chain\n",
    "multi_samples = sampler.get_chain()"
   ]
  },
  {
   "cell_type": "code",
   "execution_count": null,
   "metadata": {},
   "outputs": [],
   "source": [
    "# plot the result to check for convergence\n",
    "fig, axes = plt.subplots(5, figsize=(10, 12), sharex=True)\n",
    "\n",
    "labels = [r'$P_{rot}$ [d]', r'$a$ [e$^-$s$^{-1}$]', \n",
    "          'c [deg]', '$d$', r'$e$ [e$^-$s$^{-1}$]']\n",
    "\n",
    "for j in range(multi_samples.shape[2]):\n",
    "    ax = axes[j]\n",
    "    ax.plot(multi_samples[:, :, j], \"k\", alpha=0.3)\n",
    "    ax.set_xlim(0, len(multi_samples))\n",
    "    ax.set_ylabel(labels[j], fontsize=16)\n",
    "    ax.yaxis.set_label_coords(-0.1, 0.5)\n",
    "\n",
    "axes[-1].set_xlabel(\"step number\");\n",
    "plt.tight_layout()\n",
    "#plt.savefig(f\"{CWD}/analysis/plots/flarefit/{tstamp}_{target.prefix}{target.ID}_chain.png\",dpi=300)"
   ]
  },
  {
   "cell_type": "code",
   "execution_count": null,
   "metadata": {},
   "outputs": [],
   "source": []
  }
 ],
 "metadata": {
  "kernelspec": {
   "display_name": "forallpurposes",
   "language": "python",
   "name": "forallpurposes"
  },
  "language_info": {
   "codemirror_mode": {
    "name": "ipython",
    "version": 3
   },
   "file_extension": ".py",
   "mimetype": "text/x-python",
   "name": "python",
   "nbconvert_exporter": "python",
   "pygments_lexer": "ipython3",
   "version": "3.6.9"
  }
 },
 "nbformat": 4,
 "nbformat_minor": 2
}
