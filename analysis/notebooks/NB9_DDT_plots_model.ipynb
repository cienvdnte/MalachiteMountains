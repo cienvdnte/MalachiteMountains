{
 "cells": [
  {
   "cell_type": "code",
   "execution_count": 1,
   "metadata": {},
   "outputs": [
    {
     "name": "stderr",
     "output_type": "stream",
     "text": [
      "/usr/lib/python3.6/importlib/_bootstrap.py:219: RuntimeWarning: numpy.ufunc size changed, may indicate binary incompatibility. Expected 192 from C header, got 216 from PyObject\n",
      "  return f(*args, **kwds)\n",
      "/usr/lib/python3.6/importlib/_bootstrap.py:219: RuntimeWarning: numpy.ufunc size changed, may indicate binary incompatibility. Expected 192 from C header, got 216 from PyObject\n",
      "  return f(*args, **kwds)\n",
      "/usr/lib/python3.6/importlib/_bootstrap.py:219: RuntimeWarning: numpy.ufunc size changed, may indicate binary incompatibility. Expected 192 from C header, got 216 from PyObject\n",
      "  return f(*args, **kwds)\n"
     ]
    }
   ],
   "source": [
    "import numpy as np\n",
    "import pandas as pd\n",
    "\n",
    "import matplotlib.pyplot as plt\n",
    "%matplotlib inline\n",
    "\n",
    "from altaipony.fakeflares import aflare\n",
    "\n",
    "import os\n",
    "CWD = \"/\".join(os.getcwd().split(\"/\")[:-2])\n",
    "\n",
    "import pytest\n",
    "\n",
    "from funcs.model import daylength, on_off, model, lambert, dot_ensemble\n",
    "\n",
    "import matplotlib \n",
    "matplotlib.rc('xtick', labelsize=20) \n",
    "matplotlib.rc('ytick', labelsize=20) "
   ]
  },
  {
   "cell_type": "markdown",
   "metadata": {},
   "source": [
    "### Plots "
   ]
  },
  {
   "cell_type": "code",
   "execution_count": 2,
   "metadata": {
    "scrolled": false
   },
   "outputs": [
    {
     "name": "stdout",
     "output_type": "stream",
     "text": [
      "(900,)\n",
      "300\n"
     ]
    },
    {
     "data": {
      "text/plain": [
       "array([1.55454671, 1.55815774, 1.56176876])"
      ]
     },
     "execution_count": 2,
     "metadata": {},
     "output_type": "execute_result"
    },
    {
     "data": {
      "image/png": "[encoded data removed]",
      "text/plain": [
       "<Figure size 576x576 with 1 Axes>"
      ]
     },
     "metadata": {
      "needs_background": "light"
     },
     "output_type": "display_data"
    }
   ],
   "source": [
    "# plot a grid\n",
    "\n",
    "#latitudes, longitudes = dot_ensemble(np.pi/2-np.pi/8,np.pi/2-np.pi/10,4,num_pts=1e6)\n",
    "latitudes, longitudes = dot_ensemble(90/180*np.pi,np.pi/2-np.pi/10,1,num_pts=1e6)\n",
    "plt.figure(figsize=(8,8))\n",
    "plt.scatter(longitudes/np.pi*180, latitudes/np.pi*180)\n",
    "#plt.scatter([180/2-180/10],[180/2-180/8],)\n",
    "plt.xlabel(\"longitude [deg]\")\n",
    "plt.ylabel(\"latitude [deg]\")\n",
    "#plt.savefig(f\"{CWD}/analysis/plots/model/dot_ensemble.png\",dpi=300)\n",
    "latitudes[:3]"
   ]
  },
  {
   "cell_type": "code",
   "execution_count": null,
   "metadata": {},
   "outputs": [],
   "source": [
    "# Plot a model consisting of an ensemble of rotating flaring points on a sphere\n",
    "\n",
    "I = 71 * np.pi / 180.\n",
    "phi = np.linspace(0,6*np.pi,2000)\n",
    "flares = []\n",
    "#for i in np.linspace(2.5,3.5,20):\n",
    "#    flares.append( aflare(phi, i, 2.44, 5,))\n",
    "flare = aflare(phi, 2.4, 4.2, 15,)\n",
    "\n",
    "lamb, onoff, m = model(phi, latitudes, longitudes, flare, I)\n",
    "\n",
    "plt.figure(figsize=(10,4))\n",
    "#for l,oo in zip(lamb,onoff):\n",
    "#    plt.plot(phi/2/np.pi, l*oo*flare, alpha=.1, c=\"grey\")\n",
    "#for f in flares:\n",
    "#    lamb, onoff, m = model(phi, latitudes, longitudes, f, I)\n",
    "#    plt.plot(phi/2/np.pi,m+1,c=\"k\",linewidth=.1,)# label=\"model light curve\")#,\\naverage of individual\\ngrid dots (in grey)\")\n",
    "plt.plot(phi/2/np.pi,m+1,c=\"k\",linewidth=4, label=\"model light curve\")#,\\naverage of individual\\ngrid dots (in grey)\")\n",
    "\n",
    "plt.plot(phi/2/np.pi,flare+1, label=\"underlying flare\",c=\"r\",linestyle=\"dashed\",linewidth=4)\n",
    "plt.xlabel(\"time [rotation periods]\",fontsize=20)\n",
    "plt.ylabel(\"rel. flux\",fontsize=20)\n",
    "plt.xlim(0,3)\n",
    "plt.legend(fontsize=20)\n",
    "#plt.yscale(\"log\")\n",
    "plt.tight_layout()\n",
    "#plt.ylim(0,6)\n",
    "#plt.savefig(f\"{CWD}/analysis/plots/ddt/lightcurve_l70_i71_linear2.png\",dpi=300);"
   ]
  },
  {
   "cell_type": "code",
   "execution_count": null,
   "metadata": {},
   "outputs": [],
   "source": []
  },
  {
   "cell_type": "code",
   "execution_count": null,
   "metadata": {},
   "outputs": [],
   "source": []
  }
 ],
 "metadata": {
  "kernelspec": {
   "display_name": "tessenv",
   "language": "python",
   "name": "tessenv"
  },
  "language_info": {
   "codemirror_mode": {
    "name": "ipython",
    "version": 3
   },
   "file_extension": ".py",
   "mimetype": "text/x-python",
   "name": "python",
   "nbconvert_exporter": "python",
   "pygments_lexer": "ipython3",
   "version": "3.6.8"
  }
 },
 "nbformat": 4,
 "nbformat_minor": 2
}
