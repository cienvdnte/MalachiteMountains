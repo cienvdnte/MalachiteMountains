{
 "cells": [
  {
   "cell_type": "code",
   "execution_count": 1,
   "metadata": {},
   "outputs": [
    {
     "name": "stderr",
     "output_type": "stream",
     "text": [
      "/usr/lib/python3.6/importlib/_bootstrap.py:219: RuntimeWarning: numpy.ufunc size changed, may indicate binary incompatibility. Expected 192 from C header, got 216 from PyObject\n",
      "  return f(*args, **kwds)\n",
      "/usr/lib/python3.6/importlib/_bootstrap.py:219: RuntimeWarning: numpy.ufunc size changed, may indicate binary incompatibility. Expected 192 from C header, got 216 from PyObject\n",
      "  return f(*args, **kwds)\n",
      "/usr/lib/python3.6/importlib/_bootstrap.py:219: RuntimeWarning: numpy.ufunc size changed, may indicate binary incompatibility. Expected 192 from C header, got 216 from PyObject\n",
      "  return f(*args, **kwds)\n"
     ]
    }
   ],
   "source": [
    "import numpy as np\n",
    "import pandas as pd\n",
    "\n",
    "import matplotlib.pyplot as plt\n",
    "%matplotlib inline\n",
    "\n",
    "from altaipony.fakeflares import aflare\n",
    "\n",
    "import os\n",
    "CWD = \"/\".join(os.getcwd().split(\"/\")[:-2])\n",
    "\n",
    "import pytest\n",
    "\n",
    "from funcs.model import daylength, on_off, lambert, great_circle_distance, dot_ensemble, model\n",
    "from funcs.funcs import no_nan_inf\n",
    "import matplotlib \n",
    "matplotlib.rc('xtick', labelsize=20) \n",
    "matplotlib.rc('ytick', labelsize=20) "
   ]
  },
  {
   "cell_type": "markdown",
   "metadata": {},
   "source": [
    "### Plots "
   ]
  },
  {
   "cell_type": "code",
   "execution_count": 2,
   "metadata": {
    "scrolled": false
   },
   "outputs": [
    {
     "name": "stdout",
     "output_type": "stream",
     "text": [
      "[[0.43441245 0.43461454 0.43481663 0.43501872 0.43522081 0.4354229\n",
      "  0.435625   0.43582709 0.43602918 0.43623127 0.43643336 0.43663545\n",
      "  0.43683754 0.43703963 0.43724172 0.43744381 0.4376459  0.43784799\n",
      "  0.43805008 0.43825218 0.43441245 0.43461454 0.43481663 0.43501872\n",
      "  0.43522081 0.4354229  0.435625   0.43582709 0.43602918 0.43623127\n",
      "  0.43643336 0.43663545 0.43683754 0.43703963 0.43724172 0.43744381\n",
      "  0.4376459  0.43784799 0.43805008 0.43825218 0.43441245 0.43461454\n",
      "  0.43481663 0.43501872 0.43522081 0.4354229  0.435625   0.43582709\n",
      "  0.43602918 0.43623127 0.43643336 0.43663545 0.43683754 0.43703963\n",
      "  0.43724172 0.43744381 0.4376459  0.43784799 0.43805008 0.43825218\n",
      "  0.43441245 0.43461454 0.43481663 0.43501872 0.43522081 0.4354229\n",
      "  0.435625   0.43582709 0.43602918 0.43623127 0.43643336 0.43663545\n",
      "  0.43683754 0.43703963 0.43724172 0.43744381 0.4376459  0.43784799\n",
      "  0.43805008 0.43825218 0.43441245 0.43461454 0.43481663 0.43501872\n",
      "  0.43522081 0.4354229  0.435625   0.43582709 0.43602918 0.43623127\n",
      "  0.43643336 0.43663545 0.43683754 0.43703963 0.43724172 0.43744381\n",
      "  0.4376459  0.43784799 0.43805008 0.43825218 0.43441245 0.43461454\n",
      "  0.43481663 0.43501872 0.43522081 0.4354229  0.435625   0.43582709\n",
      "  0.43602918 0.43623127 0.43643336 0.43663545 0.43683754 0.43703963\n",
      "  0.43724172 0.43744381 0.4376459  0.43784799 0.43805008 0.43825218\n",
      "  0.43441245 0.43461454 0.43481663 0.43501872 0.43522081 0.4354229\n",
      "  0.435625   0.43582709 0.43602918 0.43623127 0.43643336 0.43663545\n",
      "  0.43683754 0.43703963 0.43724172 0.43744381 0.4376459  0.43784799\n",
      "  0.43805008 0.43825218 0.43441245 0.43461454 0.43481663 0.43501872\n",
      "  0.43522081 0.4354229  0.435625   0.43582709 0.43602918 0.43623127\n",
      "  0.43643336 0.43663545 0.43683754 0.43703963 0.43724172 0.43744381\n",
      "  0.4376459  0.43784799 0.43805008 0.43825218 0.43441245 0.43461454\n",
      "  0.43481663 0.43501872 0.43522081 0.4354229  0.435625   0.43582709\n",
      "  0.43602918 0.43623127 0.43643336 0.43663545 0.43683754 0.43703963\n",
      "  0.43724172 0.43744381 0.4376459  0.43784799 0.43805008 0.43825218\n",
      "  0.43441245 0.43461454 0.43481663 0.43501872 0.43522081 0.4354229\n",
      "  0.435625   0.43582709 0.43602918 0.43623127 0.43643336 0.43663545\n",
      "  0.43683754 0.43703963 0.43724172 0.43744381 0.4376459  0.43784799\n",
      "  0.43805008 0.43825218 0.43441245 0.43461454 0.43481663 0.43501872\n",
      "  0.43522081 0.4354229  0.435625   0.43582709 0.43602918 0.43623127\n",
      "  0.43643336 0.43663545 0.43683754 0.43703963 0.43724172 0.43744381\n",
      "  0.4376459  0.43784799 0.43805008 0.43825218 0.43441245 0.43461454\n",
      "  0.43481663 0.43501872 0.43522081 0.4354229  0.435625   0.43582709\n",
      "  0.43602918 0.43623127 0.43643336 0.43663545 0.43683754 0.43703963\n",
      "  0.43724172 0.43744381 0.4376459  0.43784799 0.43805008 0.43825218\n",
      "  0.43441245 0.43461454 0.43481663 0.43501872 0.43522081 0.4354229\n",
      "  0.435625   0.43582709 0.43602918 0.43623127 0.43643336 0.43663545\n",
      "  0.43683754 0.43703963 0.43724172 0.43744381 0.4376459  0.43784799\n",
      "  0.43805008 0.43825218 0.43441245 0.43461454 0.43481663 0.43501872\n",
      "  0.43522081 0.4354229  0.435625   0.43582709 0.43602918 0.43623127\n",
      "  0.43643336 0.43663545 0.43683754 0.43703963 0.43724172 0.43744381\n",
      "  0.4376459  0.43784799 0.43805008 0.43825218 0.43441245 0.43461454\n",
      "  0.43481663 0.43501872 0.43522081 0.4354229  0.435625   0.43582709\n",
      "  0.43602918 0.43623127 0.43643336 0.43663545 0.43683754 0.43703963\n",
      "  0.43724172 0.43744381 0.4376459  0.43784799 0.43805008 0.43825218\n",
      "  0.43441245 0.43461454 0.43481663 0.43501872 0.43522081 0.4354229\n",
      "  0.435625   0.43582709 0.43602918 0.43623127 0.43643336 0.43663545\n",
      "  0.43683754 0.43703963 0.43724172 0.43744381 0.4376459  0.43784799\n",
      "  0.43805008 0.43825218 0.43441245 0.43461454 0.43481663 0.43501872\n",
      "  0.43522081 0.4354229  0.435625   0.43582709 0.43602918 0.43623127\n",
      "  0.43643336 0.43663545 0.43683754 0.43703963 0.43724172 0.43744381\n",
      "  0.4376459  0.43784799 0.43805008 0.43825218 0.43441245 0.43461454\n",
      "  0.43481663 0.43501872 0.43522081 0.4354229  0.435625   0.43582709\n",
      "  0.43602918 0.43623127 0.43643336 0.43663545 0.43683754 0.43703963\n",
      "  0.43724172 0.43744381 0.4376459  0.43784799 0.43805008 0.43825218\n",
      "  0.43441245 0.43461454 0.43481663 0.43501872 0.43522081 0.4354229\n",
      "  0.435625   0.43582709 0.43602918 0.43623127 0.43643336 0.43663545\n",
      "  0.43683754 0.43703963 0.43724172 0.43744381 0.4376459  0.43784799\n",
      "  0.43805008 0.43825218 0.43441245 0.43461454 0.43481663 0.43501872\n",
      "  0.43522081 0.4354229  0.435625   0.43582709 0.43602918 0.43623127\n",
      "  0.43643336 0.43663545 0.43683754 0.43703963 0.43724172 0.43744381\n",
      "  0.4376459  0.43784799 0.43805008 0.43825218]] [[1.2547172  1.2547172  1.2547172  1.2547172  1.2547172  1.2547172\n",
      "  1.2547172  1.2547172  1.2547172  1.2547172  1.2547172  1.2547172\n",
      "  1.2547172  1.2547172  1.2547172  1.2547172  1.2547172  1.2547172\n",
      "  1.2547172  1.2547172  1.25491929 1.25491929 1.25491929 1.25491929\n",
      "  1.25491929 1.25491929 1.25491929 1.25491929 1.25491929 1.25491929\n",
      "  1.25491929 1.25491929 1.25491929 1.25491929 1.25491929 1.25491929\n",
      "  1.25491929 1.25491929 1.25491929 1.25491929 1.25512138 1.25512138\n",
      "  1.25512138 1.25512138 1.25512138 1.25512138 1.25512138 1.25512138\n",
      "  1.25512138 1.25512138 1.25512138 1.25512138 1.25512138 1.25512138\n",
      "  1.25512138 1.25512138 1.25512138 1.25512138 1.25512138 1.25512138\n",
      "  1.25532347 1.25532347 1.25532347 1.25532347 1.25532347 1.25532347\n",
      "  1.25532347 1.25532347 1.25532347 1.25532347 1.25532347 1.25532347\n",
      "  1.25532347 1.25532347 1.25532347 1.25532347 1.25532347 1.25532347\n",
      "  1.25532347 1.25532347 1.25552556 1.25552556 1.25552556 1.25552556\n",
      "  1.25552556 1.25552556 1.25552556 1.25552556 1.25552556 1.25552556\n",
      "  1.25552556 1.25552556 1.25552556 1.25552556 1.25552556 1.25552556\n",
      "  1.25552556 1.25552556 1.25552556 1.25552556 1.25572765 1.25572765\n",
      "  1.25572765 1.25572765 1.25572765 1.25572765 1.25572765 1.25572765\n",
      "  1.25572765 1.25572765 1.25572765 1.25572765 1.25572765 1.25572765\n",
      "  1.25572765 1.25572765 1.25572765 1.25572765 1.25572765 1.25572765\n",
      "  1.25592974 1.25592974 1.25592974 1.25592974 1.25592974 1.25592974\n",
      "  1.25592974 1.25592974 1.25592974 1.25592974 1.25592974 1.25592974\n",
      "  1.25592974 1.25592974 1.25592974 1.25592974 1.25592974 1.25592974\n",
      "  1.25592974 1.25592974 1.25613183 1.25613183 1.25613183 1.25613183\n",
      "  1.25613183 1.25613183 1.25613183 1.25613183 1.25613183 1.25613183\n",
      "  1.25613183 1.25613183 1.25613183 1.25613183 1.25613183 1.25613183\n",
      "  1.25613183 1.25613183 1.25613183 1.25613183 1.25633393 1.25633393\n",
      "  1.25633393 1.25633393 1.25633393 1.25633393 1.25633393 1.25633393\n",
      "  1.25633393 1.25633393 1.25633393 1.25633393 1.25633393 1.25633393\n",
      "  1.25633393 1.25633393 1.25633393 1.25633393 1.25633393 1.25633393\n",
      "  1.25653602 1.25653602 1.25653602 1.25653602 1.25653602 1.25653602\n",
      "  1.25653602 1.25653602 1.25653602 1.25653602 1.25653602 1.25653602\n",
      "  1.25653602 1.25653602 1.25653602 1.25653602 1.25653602 1.25653602\n",
      "  1.25653602 1.25653602 1.25673811 1.25673811 1.25673811 1.25673811\n",
      "  1.25673811 1.25673811 1.25673811 1.25673811 1.25673811 1.25673811\n",
      "  1.25673811 1.25673811 1.25673811 1.25673811 1.25673811 1.25673811\n",
      "  1.25673811 1.25673811 1.25673811 1.25673811 1.2569402  1.2569402\n",
      "  1.2569402  1.2569402  1.2569402  1.2569402  1.2569402  1.2569402\n",
      "  1.2569402  1.2569402  1.2569402  1.2569402  1.2569402  1.2569402\n",
      "  1.2569402  1.2569402  1.2569402  1.2569402  1.2569402  1.2569402\n",
      "  1.25714229 1.25714229 1.25714229 1.25714229 1.25714229 1.25714229\n",
      "  1.25714229 1.25714229 1.25714229 1.25714229 1.25714229 1.25714229\n",
      "  1.25714229 1.25714229 1.25714229 1.25714229 1.25714229 1.25714229\n",
      "  1.25714229 1.25714229 1.25734438 1.25734438 1.25734438 1.25734438\n",
      "  1.25734438 1.25734438 1.25734438 1.25734438 1.25734438 1.25734438\n",
      "  1.25734438 1.25734438 1.25734438 1.25734438 1.25734438 1.25734438\n",
      "  1.25734438 1.25734438 1.25734438 1.25734438 1.25754647 1.25754647\n",
      "  1.25754647 1.25754647 1.25754647 1.25754647 1.25754647 1.25754647\n",
      "  1.25754647 1.25754647 1.25754647 1.25754647 1.25754647 1.25754647\n",
      "  1.25754647 1.25754647 1.25754647 1.25754647 1.25754647 1.25754647\n",
      "  1.25774856 1.25774856 1.25774856 1.25774856 1.25774856 1.25774856\n",
      "  1.25774856 1.25774856 1.25774856 1.25774856 1.25774856 1.25774856\n",
      "  1.25774856 1.25774856 1.25774856 1.25774856 1.25774856 1.25774856\n",
      "  1.25774856 1.25774856 1.25795065 1.25795065 1.25795065 1.25795065\n",
      "  1.25795065 1.25795065 1.25795065 1.25795065 1.25795065 1.25795065\n",
      "  1.25795065 1.25795065 1.25795065 1.25795065 1.25795065 1.25795065\n",
      "  1.25795065 1.25795065 1.25795065 1.25795065 1.25815274 1.25815274\n",
      "  1.25815274 1.25815274 1.25815274 1.25815274 1.25815274 1.25815274\n",
      "  1.25815274 1.25815274 1.25815274 1.25815274 1.25815274 1.25815274\n",
      "  1.25815274 1.25815274 1.25815274 1.25815274 1.25815274 1.25815274\n",
      "  1.25835483 1.25835483 1.25835483 1.25835483 1.25835483 1.25835483\n",
      "  1.25835483 1.25835483 1.25835483 1.25835483 1.25835483 1.25835483\n",
      "  1.25835483 1.25835483 1.25835483 1.25835483 1.25835483 1.25835483\n",
      "  1.25835483 1.25835483 1.25855692 1.25855692 1.25855692 1.25855692\n",
      "  1.25855692 1.25855692 1.25855692 1.25855692 1.25855692 1.25855692\n",
      "  1.25855692 1.25855692 1.25855692 1.25855692 1.25855692 1.25855692\n",
      "  1.25855692 1.25855692 1.25855692 1.25855692]]\n"
     ]
    },
    {
     "data": {
      "text/plain": [
       "Text(0, 0.5, 'latitude [deg]')"
      ]
     },
     "execution_count": 2,
     "metadata": {},
     "output_type": "execute_result"
    },
    {
     "data": {
      "image/png": "[encoded data removed]",
      "text/plain": [
       "<Figure size 576x576 with 1 Axes>"
      ]
     },
     "metadata": {
      "needs_background": "light"
     },
     "output_type": "display_data"
    }
   ],
   "source": [
    "# plot a grid\n",
    "\n",
    "#latitudes, longitudes = dot_ensemble(np.pi/2-np.pi/8,np.pi/2-np.pi/10,4,num_pts=1e6)\n",
    "latitudes, longitudes = dot_ensemble(25/180*np.pi,np.pi/2-np.pi/10,.11,num_pts=1e6)\n",
    "plt.figure(figsize=(8,8))\n",
    "plt.scatter(longitudes/np.pi*180, latitudes/np.pi*180)\n",
    "#plt.scatter([180/2-180/10],[180/2-180/8],)\n",
    "plt.xlabel(\"longitude [deg]\")\n",
    "plt.ylabel(\"latitude [deg]\")\n",
    "#plt.savefig(f\"{CWD}/analysis/plots/model/dot_ensemble.png\",dpi=300)"
   ]
  },
  {
   "cell_type": "code",
   "execution_count": null,
   "metadata": {},
   "outputs": [],
   "source": [
    "# Plot a model consisting of an ensemble of rotating flaring points on a sphere\n",
    "\n",
    "I = 26.5 * np.pi / 180.\n",
    "phi = np.linspace(0,6*np.pi,2000)\n",
    "ampl = 20\n",
    "fwhm = 3.\n",
    "flare = aflare(phi, 3.1, fwhm, ampl,)\n",
    "\n",
    "lamb, onoff, m = model(phi, latitudes, longitudes, flare, I)"
   ]
  },
  {
   "cell_type": "code",
   "execution_count": null,
   "metadata": {},
   "outputs": [],
   "source": [
    "plt.figure(figsize=(10,4))\n",
    "for l,oo in zip(lamb,onoff):\n",
    "    plt.plot(phi/2/np.pi, l*oo*flare+1, alpha=.1, c=\"grey\")\n",
    "plt.plot(phi/2/np.pi,m+1,c=\"k\",linewidth=4, label=\"model light curve\")#,\\naverage of individual\\ngrid dots (in grey)\")\n",
    "plt.plot(phi/2/np.pi,flare+1, label=\"underlying flare\",c=\"r\",linestyle=\"dashed\",linewidth=4)\n",
    "plt.xlabel(\"time [rotation periods]\",fontsize=20)\n",
    "plt.ylabel(\"rel. flux\",fontsize=20)\n",
    "plt.xlim(0,3)\n",
    "plt.legend(fontsize=20)\n",
    "plt.yscale(\"log\")\n",
    "plt.tight_layout()\n",
    "plt.title(f\"Flare with rel. amplitude={ampl}, and FWHM={fwhm} rotation periods\",fontsize=20)\n",
    "#plt.savefig(f\"{CWD}/analysis/plots/model/rotating_flaring_ensemble_lightcurve.png\",dpi=300);\n"
   ]
  },
  {
   "cell_type": "code",
   "execution_count": null,
   "metadata": {},
   "outputs": [],
   "source": [
    "# create a heatmap of an ensemble of rotating flaring points on a sphere (need the cell above)\n",
    "from matplotlib.colors import LogNorm\n",
    "plt.figure(figsize=(15,10))\n",
    "plt.imshow((lamb*onoff*flare)[:,:], norm=LogNorm(),aspect=\"auto\")\n",
    "plt.colorbar(label=\"flux\")\n",
    "plt.xlabel(\"time\",fontsize=15)\n",
    "plt.ylabel(\"index of grid dot\",fontsize=15)\n",
    "plt.savefig(f\"{CWD}/analysis/plots/model/rotating_flaring_ensemble_heatmap.png\",dpi=300)"
   ]
  },
  {
   "cell_type": "code",
   "execution_count": null,
   "metadata": {},
   "outputs": [],
   "source": [
    "# 10% percent area spot on the stellar surface\n",
    "percent = 10\n",
    "num_pts=1e4\n",
    "indices = np.arange(0, num_pts, dtype=float) + 0.5\n",
    "\n",
    "phi = np.arccos(1 - 2*indices/num_pts) #latitude\n",
    "theta = np.pi * (1 + 5**0.5) * indices  #longitude\n",
    "\n",
    "a = np.where(great_circle_distance(np.pi/3,- np.pi/4, np.pi/2 - phi%(2*np.pi), theta%(np.pi*2))<(percent/180*np.pi))[0]\n",
    "phi2 = phi[a]\n",
    "theta2 = theta[a]\n",
    "\n",
    "x, y, z = np.cos(theta) * np.sin(phi), np.sin(theta) * np.sin(phi), np.cos(phi);\n",
    "x2, y2, z2 = np.cos(theta2) * np.sin(phi2), np.sin(theta2) * np.sin(phi2), np.cos(phi2);\n",
    "ax = plt.figure(figsize=(10,10)).add_subplot(111, projection='3d')\n",
    "ax.scatter(x, y, z, s=.1);\n",
    "ax.scatter(x2, y2, z2, s=3.5, c=\"k\");\n",
    "plt.savefig(f\"{CWD}/analysis/plots/model/10percent_spot_on_a_sphere.png\",dpi=300)"
   ]
  },
  {
   "cell_type": "code",
   "execution_count": null,
   "metadata": {},
   "outputs": [],
   "source": [
    "# plot a rotaionally modulated dot-flare\n",
    "flare = aflare(phi, 1.5, 1.3, 1,)\n",
    "plt.figure(figsize=(8,16))\n",
    "l = 80/180*np.pi\n",
    "I = np.arange(30,91,10)/180*np.pi\n",
    "for i in I:\n",
    "    D = daylength(l,i)\n",
    "    modulation = lambert(phi,i,l)\n",
    "    #plt.plot(phi/2/np.pi,modulation*on_off(D,phi),label=f\"i={i/np.pi*180:.0f}\" + r\"$^{\\circ}$\")\n",
    "    plt.plot(phi/2/np.pi,modulation*on_off(phi,D)*flare + i,label=f\"i={i/np.pi*180:.0f}\" + r\"$^{\\circ}$\",\n",
    "            linewidth=2,)\n",
    "    plt.plot(phi/2/np.pi,flare + i,c=\"grey\",linestyle=\"dotted\")\n",
    "plt.title(r\"bright flaring dot at latitude 80$^{\\circ}$ \",fontsize=15)\n",
    "plt.xlabel(\"time [rotation periods]\",fontsize=15)\n",
    "plt.ylabel(\"flux\",fontsize=15)\n",
    "plt.legend(loc=(1.1,0),fontsize=15)\n",
    "plt.xlim(0,3)\n",
    "plt.tight_layout()\n",
    "#plt.savefig(f\"{CWD}/analysis/plots/model/rotating_bright_dot_flare.png\",dpi=300)"
   ]
  },
  {
   "cell_type": "code",
   "execution_count": null,
   "metadata": {},
   "outputs": [],
   "source": [
    "# plot visibility as a function of day time\n",
    "plt.figure(figsize=(12,4))\n",
    "phi = np.linspace(0,6*np.pi,500) #(longitude)\n",
    "daylengths = np.arange(.1,.91,.2)\n",
    "for d in daylengths:\n",
    "    plt.plot(phi/2/np.pi, on_off(phi,d), linewidth=d*2,c=\"k\", label=f\"day length / Prot={d:.1f}\")\n",
    "plt.legend(loc=(1.05,0))\n",
    "plt.xlabel(\"time [days]\")\n",
    "plt.ylabel(\"visibility\")\n",
    "plt.tight_layout()\n",
    "#plt.savefig(f\"{CWD}/analysis/plots/model/visibility_vs_day.png\",dpi=300)"
   ]
  },
  {
   "cell_type": "code",
   "execution_count": null,
   "metadata": {},
   "outputs": [],
   "source": [
    "# Plot daylengths:\n",
    "\n",
    "I = np.linspace(0,np.pi/2,10)\n",
    "L = np.linspace(-np.pi/2,np.pi/2, 500)[::-1]\n",
    "plt.figure(figsize=(10,6))\n",
    "\n",
    "    \n",
    "for i in I:\n",
    "    dl = []\n",
    "    for l in L:\n",
    "        dl.append(daylength(l,i))\n",
    "    plt.plot(L/np.pi*180,dl,label=f\"i={i/np.pi*180:.1f}\")\n",
    "plt.xlabel(\"latitude \",fontsize=15)\n",
    "plt.ylabel(\"daylength\",fontsize=15)\n",
    "plt.ylim(-.1,1.1)\n",
    "plt.xlim(-90,90)\n",
    "plt.legend(loc=(1.1,0),fontsize=15)\n",
    "plt.tight_layout()\n",
    "#plt.savefig(f\"{CWD}/analysis/plots/model/daylength.png\",dpi=300)"
   ]
  },
  {
   "cell_type": "code",
   "execution_count": null,
   "metadata": {},
   "outputs": [],
   "source": []
  }
 ],
 "metadata": {
  "kernelspec": {
   "display_name": "tessenv",
   "language": "python",
   "name": "tessenv"
  },
  "language_info": {
   "codemirror_mode": {
    "name": "ipython",
    "version": 3
   },
   "file_extension": ".py",
   "mimetype": "text/x-python",
   "name": "python",
   "nbconvert_exporter": "python",
   "pygments_lexer": "ipython3",
   "version": "3.6.8"
  }
 },
 "nbformat": 4,
 "nbformat_minor": 2
}
