{
 "cells": [
  {
   "cell_type": "code",
   "execution_count": 1,
   "metadata": {},
   "outputs": [
    {
     "name": "stderr",
     "output_type": "stream",
     "text": [
      "/usr/lib/python3.6/importlib/_bootstrap.py:219: RuntimeWarning: numpy.ufunc size changed, may indicate binary incompatibility. Expected 192 from C header, got 216 from PyObject\n",
      "  return f(*args, **kwds)\n",
      "/usr/lib/python3.6/importlib/_bootstrap.py:219: RuntimeWarning: numpy.ufunc size changed, may indicate binary incompatibility. Expected 192 from C header, got 216 from PyObject\n",
      "  return f(*args, **kwds)\n",
      "/usr/lib/python3.6/importlib/_bootstrap.py:219: RuntimeWarning: numpy.ufunc size changed, may indicate binary incompatibility. Expected 192 from C header, got 216 from PyObject\n",
      "  return f(*args, **kwds)\n"
     ]
    }
   ],
   "source": [
    "import numpy as np\n",
    "import pandas as pd\n",
    "\n",
    "import matplotlib.pyplot as plt\n",
    "%matplotlib inline\n",
    "\n",
    "from altaipony.fakeflares import aflare\n",
    "\n",
    "import os\n",
    "CWD = \"/\".join(os.getcwd().split(\"/\")[:-2])\n",
    "\n",
    "import pytest\n",
    "\n",
    "from funcs.model import daylength, on_off, lambert\n",
    "from funcs.funcs import no_nan_inf\n",
    "import matplotlib \n",
    "matplotlib.rc('xtick', labelsize=20) \n",
    "matplotlib.rc('ytick', labelsize=20) "
   ]
  },
  {
   "cell_type": "code",
   "execution_count": 3,
   "metadata": {},
   "outputs": [],
   "source": [
    "def great_circle_distance(a, la, b, lb):\n",
    "    \"\"\"Calcultate the angular distance on\n",
    "    a great circle than runs through two points\n",
    "    on a globe at \n",
    "    (latitude, longitude) \n",
    "    (a,la) and \n",
    "    (b, lb).\n",
    "    \n",
    "    See also: https://en.wikipedia.org/wiki/Great-circle_distance\n",
    "    \n",
    "    Parameters:\n",
    "    ------------\n",
    "    a, la, b, lb : float\n",
    "     latitudes and longitudes in rad\n",
    "    \n",
    "    Return:\n",
    "    -------\n",
    "    float - angular distance on a globe in rad\n",
    "    \"\"\"\n",
    "    if no_nan_inf([a, la, b, lb]) == False:\n",
    "        raise ValueError(\"One of your inputs is or contains NaN or Inf.\")\n",
    "        \n",
    "    return np.arccos(np.sin(a) * np.sin(b) + np.cos(a) * np.cos(b) * np.cos(la-lb))"
   ]
  },
  {
   "cell_type": "code",
   "execution_count": 11,
   "metadata": {},
   "outputs": [
    {
     "data": {
      "text/plain": [
       "1.5707963267948966"
      ]
     },
     "execution_count": 11,
     "metadata": {},
     "output_type": "execute_result"
    }
   ],
   "source": [
    "cases = [(0, 0, np.pi, 0, np.pi),\n",
    "         (np.pi/2, 0, np.pi/2, 0, 0),\n",
    "         (0, np.pi/2, 0, 0,np.pi/2)]\n",
    "great_circle_distance(*cases[2][:-1])"
   ]
  },
  {
   "cell_type": "code",
   "execution_count": null,
   "metadata": {},
   "outputs": [],
   "source": [
    "def dot_ensemble(lat, lon, radius, num_pts=1e5):\n",
    "    indices = np.arange(0, num_pts, dtype=float) + 0.5\n",
    "    phi = np.arccos(1 - 2 * indices/num_pts) #latitude\n",
    "    theta = np.pi * (1 + 5**0.5) * indices #longitue\n",
    "    gcs = great_circle_distance(lat, lon,\n",
    "                                np.pi / 2 - phi % (2 * np.pi),\n",
    "                                theta % (np.pi * 2))\n",
    "    a = np.where(gcs < (radius * np.pi / 180))[0]\n",
    "    phi2 = np.pi/2 - phi[a]%(2*np.pi)\n",
    "    theta2 = theta[a]%(np.pi*2)\n",
    "    return phi2, theta2"
   ]
  },
  {
   "cell_type": "code",
   "execution_count": null,
   "metadata": {},
   "outputs": [],
   "source": [
    "def model(phi, latitudes, longitudes, flare, inclination):\n",
    "    \"\"\"Take a flare light curve and a rotating ensemble of latitudes\n",
    "    and longitudes, and let it rotate. \n",
    "    \n",
    "    Parameters:\n",
    "    -----------\n",
    "    phi :  N-array\n",
    "        longitudes to evaluate the model at in rad\n",
    "    latitudes : M-array\n",
    "        latitudes of the spot grid points in rad\n",
    "    longitudes : M-array\n",
    "        longitudes of the spot grid points in rad\n",
    "    flare : N-array\n",
    "        flare shape\n",
    "    inclination : float\n",
    "        inclination in rad\n",
    "    \"\"\"\n",
    "    l = len(latitudes)\n",
    "    assert len(latitudes) == len(longitudes)\n",
    "    latlon = np.concatenate((latitudes.reshape(l,1),\n",
    "                             longitudes.reshape(l,1)),\n",
    "                            axis=1)\n",
    "    \n",
    "    Ds = daylength(latlon[:,0], inclination)\n",
    "    onoff = np.full((latlon.shape[0],phi.shape[0]),0)\n",
    "    \n",
    "    for i,d in enumerate(Ds):\n",
    "        onoff[i,:] = on_off(phi-latlon[i,1], d)\n",
    "        \n",
    "    A = []\n",
    "    for i, ll in enumerate(latlon):\n",
    "        a = lambert(phi-ll[1], I, ll[0])\n",
    "        A.append(a)\n",
    "    lamb = np.array(A)\n",
    "    return lamb, onoff, np.sum(lamb * onoff, axis=0) * flare / l"
   ]
  },
  {
   "cell_type": "markdown",
   "metadata": {},
   "source": [
    "### Plots "
   ]
  },
  {
   "cell_type": "code",
   "execution_count": null,
   "metadata": {
    "scrolled": false
   },
   "outputs": [],
   "source": [
    "# plot a grid\n",
    "\n",
    "#latitudes, longitudes = dot_ensemble(np.pi/2-np.pi/8,np.pi/2-np.pi/10,4,num_pts=1e6)\n",
    "latitudes, longitudes = dot_ensemble(70/180*np.pi,np.pi/2-np.pi/10,3,num_pts=1e6)\n",
    "plt.figure(figsize=(8,8))\n",
    "plt.scatter(longitudes/np.pi*180, latitudes/np.pi*180)\n",
    "#plt.scatter([180/2-180/10],[180/2-180/8],)\n",
    "plt.xlabel(\"longitude [deg]\")\n",
    "plt.ylabel(\"latitude [deg]\")\n",
    "#plt.savefig(f\"{CWD}/analysis/plots/model/dot_ensemble.png\",dpi=300)"
   ]
  },
  {
   "cell_type": "code",
   "execution_count": null,
   "metadata": {},
   "outputs": [],
   "source": [
    "# Plot a model consisting of an ensemble of rotating flaring points on a sphere\n",
    "\n",
    "I = 71 * np.pi / 180.\n",
    "phi = np.linspace(0,6*np.pi,2000)\n",
    "ampl = 20\n",
    "fwhm = 3.\n",
    "flare = aflare(phi, 3.1, fwhm, ampl,)\n",
    "\n",
    "lamb, onoff, m = model(phi, latitudes, longitudes, flare, I)"
   ]
  },
  {
   "cell_type": "code",
   "execution_count": null,
   "metadata": {},
   "outputs": [],
   "source": [
    "plt.figure(figsize=(10,4))\n",
    "for l,oo in zip(lamb,onoff):\n",
    "    plt.plot(phi/2/np.pi, l*oo*flare+1, alpha=.1, c=\"grey\")\n",
    "plt.plot(phi/2/np.pi,m+1,c=\"k\",linewidth=4, label=\"model light curve\")#,\\naverage of individual\\ngrid dots (in grey)\")\n",
    "plt.plot(phi/2/np.pi,flare+1, label=\"underlying flare\",c=\"r\",linestyle=\"dashed\",linewidth=4)\n",
    "plt.xlabel(\"time [rotation periods]\",fontsize=20)\n",
    "plt.ylabel(\"rel. flux\",fontsize=20)\n",
    "plt.xlim(0,3)\n",
    "plt.legend(fontsize=20)\n",
    "plt.yscale(\"log\")\n",
    "plt.tight_layout()\n",
    "plt.title(f\"Flare with rel. amplitude={ampl}, and FWHM={fwhm} rotation periods\",fontsize=20)\n",
    "plt.savefig(f\"{CWD}/analysis/plots/model/rotating_flaring_ensemble_lightcurve.png\",dpi=300);\n"
   ]
  },
  {
   "cell_type": "code",
   "execution_count": null,
   "metadata": {},
   "outputs": [],
   "source": [
    "# create a heatmap of an ensemble of rotating flaring points on a sphere (need the cell above)\n",
    "from matplotlib.colors import LogNorm\n",
    "plt.figure(figsize=(15,10))\n",
    "plt.imshow((lamb*onoff*flare)[:,:], norm=LogNorm(),aspect=\"auto\")\n",
    "plt.colorbar(label=\"flux\")\n",
    "plt.xlabel(\"time\",fontsize=15)\n",
    "plt.ylabel(\"index of grid dot\",fontsize=15)\n",
    "plt.savefig(f\"{CWD}/analysis/plots/model/rotating_flaring_ensemble_heatmap.png\",dpi=300)"
   ]
  },
  {
   "cell_type": "code",
   "execution_count": null,
   "metadata": {},
   "outputs": [],
   "source": [
    "# 10% percent area spot on the stellar surface\n",
    "percent = 10\n",
    "num_pts=1e4\n",
    "indices = np.arange(0, num_pts, dtype=float) + 0.5\n",
    "\n",
    "phi = np.arccos(1 - 2*indices/num_pts) #latitude\n",
    "theta = np.pi * (1 + 5**0.5) * indices  #longitude\n",
    "\n",
    "a = np.where(great_circle_distance(np.pi/3,- np.pi/4, np.pi/2 - phi%(2*np.pi), theta%(np.pi*2))<(percent/180*np.pi))[0]\n",
    "phi2 = phi[a]\n",
    "theta2 = theta[a]\n",
    "\n",
    "x, y, z = np.cos(theta) * np.sin(phi), np.sin(theta) * np.sin(phi), np.cos(phi);\n",
    "x2, y2, z2 = np.cos(theta2) * np.sin(phi2), np.sin(theta2) * np.sin(phi2), np.cos(phi2);\n",
    "ax = plt.figure(figsize=(10,10)).add_subplot(111, projection='3d')\n",
    "ax.scatter(x, y, z, s=.1);\n",
    "ax.scatter(x2, y2, z2, s=3.5, c=\"k\");\n",
    "plt.savefig(f\"{CWD}/analysis/plots/model/10percent_spot_on_a_sphere.png\",dpi=300)"
   ]
  },
  {
   "cell_type": "code",
   "execution_count": null,
   "metadata": {},
   "outputs": [],
   "source": [
    "# plot a rotaionally modulated dot-flare\n",
    "flare = aflare(phi, 1.5, 1.3, 1,)\n",
    "plt.figure(figsize=(8,16))\n",
    "l = 80/180*np.pi\n",
    "I = np.arange(30,91,10)/180*np.pi\n",
    "for i in I:\n",
    "    D = daylength(l,i)\n",
    "    modulation = lambert(phi,i,l)\n",
    "    #plt.plot(phi/2/np.pi,modulation*on_off(D,phi),label=f\"i={i/np.pi*180:.0f}\" + r\"$^{\\circ}$\")\n",
    "    plt.plot(phi/2/np.pi,modulation*on_off(phi,D)*flare + i,label=f\"i={i/np.pi*180:.0f}\" + r\"$^{\\circ}$\",\n",
    "            linewidth=2,)\n",
    "    plt.plot(phi/2/np.pi,flare + i,c=\"grey\",linestyle=\"dotted\")\n",
    "plt.title(r\"bright flaring dot at latitude 80$^{\\circ}$ \",fontsize=15)\n",
    "plt.xlabel(\"time [rotation periods]\",fontsize=15)\n",
    "plt.ylabel(\"flux\",fontsize=15)\n",
    "plt.legend(loc=(1.1,0),fontsize=15)\n",
    "plt.xlim(0,3)\n",
    "plt.tight_layout()\n",
    "#plt.savefig(f\"{CWD}/analysis/plots/model/rotating_bright_dot_flare.png\",dpi=300)"
   ]
  },
  {
   "cell_type": "code",
   "execution_count": null,
   "metadata": {},
   "outputs": [],
   "source": [
    "# plot visibility as a function of day time\n",
    "plt.figure(figsize=(12,4))\n",
    "phi = np.linspace(0,6*np.pi,500) #(longitude)\n",
    "daylengths = np.arange(.1,.91,.2)\n",
    "for d in daylengths:\n",
    "    plt.plot(phi/2/np.pi, on_off(phi,d), linewidth=d*2,c=\"k\", label=f\"day length / Prot={d:.1f}\")\n",
    "plt.legend(loc=(1.05,0))\n",
    "plt.xlabel(\"time [days]\")\n",
    "plt.ylabel(\"visibility\")\n",
    "plt.tight_layout()\n",
    "#plt.savefig(f\"{CWD}/analysis/plots/model/visibility_vs_day.png\",dpi=300)"
   ]
  },
  {
   "cell_type": "code",
   "execution_count": null,
   "metadata": {},
   "outputs": [],
   "source": [
    "# Plot daylengths:\n",
    "\n",
    "I = np.linspace(0,np.pi/2,10)\n",
    "L = np.linspace(-np.pi/2,np.pi/2, 500)[::-1]\n",
    "plt.figure(figsize=(10,6))\n",
    "\n",
    "    \n",
    "for i in I:\n",
    "    dl = []\n",
    "    for l in L:\n",
    "        dl.append(daylength(l,i))\n",
    "    plt.plot(L/np.pi*180,dl,label=f\"i={i/np.pi*180:.1f}\")\n",
    "plt.xlabel(\"latitude \",fontsize=15)\n",
    "plt.ylabel(\"daylength\",fontsize=15)\n",
    "plt.ylim(-.1,1.1)\n",
    "plt.xlim(-90,90)\n",
    "plt.legend(loc=(1.1,0),fontsize=15)\n",
    "plt.tight_layout()\n",
    "#plt.savefig(f\"{CWD}/analysis/plots/model/daylength.png\",dpi=300)"
   ]
  },
  {
   "cell_type": "code",
   "execution_count": null,
   "metadata": {},
   "outputs": [],
   "source": []
  }
 ],
 "metadata": {
  "kernelspec": {
   "display_name": "tessenv",
   "language": "python",
   "name": "tessenv"
  },
  "language_info": {
   "codemirror_mode": {
    "name": "ipython",
    "version": 3
   },
   "file_extension": ".py",
   "mimetype": "text/x-python",
   "name": "python",
   "nbconvert_exporter": "python",
   "pygments_lexer": "ipython3",
   "version": "3.6.8"
  }
 },
 "nbformat": 4,
 "nbformat_minor": 2
}
