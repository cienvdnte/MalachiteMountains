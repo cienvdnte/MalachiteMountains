{
 "cells": [
  {
   "cell_type": "code",
   "execution_count": 32,
   "metadata": {},
   "outputs": [],
   "source": [
    "# basics\n",
    "\n",
    "import numpy as np\n",
    "import pandas as pd\n",
    "\n",
    "# astropy\n",
    "\n",
    "import astropy.units as u\n",
    "from astropy.constants import R_sun\n",
    "\n",
    "# matplotlib\n",
    "\n",
    "import matplotlib.pyplot as plt\n",
    "%matplotlib inline\n",
    "\n",
    "import matplotlib \n",
    "matplotlib.rc('xtick', labelsize=14) \n",
    "matplotlib.rc('ytick', labelsize=14) \n",
    "\n",
    "font = {'weight' : 'normal',\n",
    "        'size'   : 16}\n",
    "\n",
    "matplotlib.rc('font', **font)\n",
    "\n",
    "# data management\n",
    "\n",
    "import time\n",
    "metatstamp = time.strftime(\"%d_%m_%Y\", time.localtime())\n",
    "\n",
    "import os\n",
    "CWD = \"/\".join(os.getcwd().split(\"/\")[:-2])"
   ]
  },
  {
   "cell_type": "markdown",
   "metadata": {},
   "source": [
    "# Compare latitudes with superactive sunspots"
   ]
  },
  {
   "cell_type": "code",
   "execution_count": 33,
   "metadata": {},
   "outputs": [],
   "source": [
    "# solar superactive regions\n",
    "sun =  pd.read_csv(f\"{CWD}/data/solar/sars.csv\", skiprows=6) \n",
    "\n",
    "# results\n",
    "outs = pd.read_csv(f\"{CWD}/analysis/results/mcmc/15_12_2020_GP_mcmcoutput.csv\")\n",
    "\n",
    "# flare latitudes\n",
    "coo = outs[[\"latitude_deg_50\",\"latitude_deg_84\",\"latitude_deg_16\"]]\n",
    "coo = np.sin(coo/180*np.pi)\n",
    "yup, ylow = (coo.latitude_deg_84 - coo.latitude_deg_50,\n",
    "             coo.latitude_deg_50 - coo.latitude_deg_16)"
   ]
  },
  {
   "cell_type": "markdown",
   "metadata": {},
   "source": [
    "# Plot a projected hemisphere"
   ]
  },
  {
   "cell_type": "code",
   "execution_count": 34,
   "metadata": {},
   "outputs": [
    {
     "name": "stderr",
     "output_type": "stream",
     "text": [
      "findfont: Font family ['verdana'] not found. Falling back to DejaVu Sans.\n"
     ]
    },
    {
     "data": {
      "image/png": "[encoded data removed]",
      "text/plain": [
       "<Figure size 633.6x288 with 1 Axes>"
      ]
     },
     "metadata": {
      "needs_background": "light"
     },
     "output_type": "display_data"
    }
   ],
   "source": [
    "plt.figure(figsize=(8.8,4.))\n",
    "\n",
    "# keep the flare longitudes randomly scattered but don't let them go off the hemisphere\n",
    "\n",
    "lim = np.cos(outs.latitude_deg_50/180*np.pi)/4\n",
    "\n",
    "# flares\n",
    "\n",
    "plt.errorbar(-lim + 2*lim*np.random.rand(outs.shape[0]),\n",
    "            coo.latitude_deg_50, yerr=np.array([ylow,yup,]),\n",
    "            label=\"stellar flares\", fmt=\"X\", markersize=10, color=\"b\", capsize=4)\n",
    "\n",
    "# superactive regions\n",
    "\n",
    "plt.scatter(-.8 + 1.6*np.random.rand(sun.shape[0]),\n",
    "            np.sin(sun.lat/180*np.pi),\n",
    "            label=\"solar superactive regions\", marker=\"o\", s=50, c=\"orange\")\n",
    "\n",
    "# hemisphere grid\n",
    "\n",
    "x=np.linspace(0,np.pi,100)\n",
    "plt.plot(np.cos(x), np.sin(x),c=\"k\")\n",
    "plt.plot(np.cos(x),[0]*len(x),c=\"k\")\n",
    "for la in [10,20,30,40,50,60,70,80]:\n",
    "    ra = la/180*np.pi\n",
    "    plt.text(np.cos(ra)+.01,np.sin(ra)+.01,fr\"${la}^\\circ$\")\n",
    "    plt.plot([np.cos(ra),-np.cos(ra)], [np.sin(ra),np.sin(ra)], c=\"grey\", linestyle=\"dashed\")\n",
    "\n",
    "# line of sight    \n",
    "plt.scatter([0],[0],marker=\"x\", s=300, c=\"k\", label=\"line of sight\")\n",
    "\n",
    "# layout\n",
    "\n",
    "plt.ylim(-.1,1.03)\n",
    "plt.xlim(-1,1)\n",
    "plt.axis(\"off\")\n",
    "plt.legend(loc=(1,.75), frameon=False)\n",
    "plt.tight_layout()"
   ]
  },
  {
   "cell_type": "code",
   "execution_count": null,
   "metadata": {},
   "outputs": [],
   "source": []
  },
  {
   "cell_type": "code",
   "execution_count": null,
   "metadata": {},
   "outputs": [],
   "source": []
  }
 ],
 "metadata": {
  "kernelspec": {
   "display_name": "forallpurposes",
   "language": "python",
   "name": "forallpurposes"
  },
  "language_info": {
   "codemirror_mode": {
    "name": "ipython",
    "version": 3
   },
   "file_extension": ".py",
   "mimetype": "text/x-python",
   "name": "python",
   "nbconvert_exporter": "python",
   "pygments_lexer": "ipython3",
   "version": "3.6.9"
  }
 },
 "nbformat": 4,
 "nbformat_minor": 4
}
