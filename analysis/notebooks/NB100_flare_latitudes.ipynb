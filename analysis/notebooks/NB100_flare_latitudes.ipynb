{
 "cells": [
  {
   "cell_type": "code",
   "execution_count": 7,
   "metadata": {},
   "outputs": [],
   "source": [
    "import numpy as np\n",
    "import pandas as pd\n",
    "\n",
    "import emcee\n",
    "import corner\n",
    "\n",
    "import os\n",
    "CWD = \"/\".join(os.getcwd().split(\"/\")[:-2])\n",
    "\n",
    "import matplotlib.pyplot as plt\n",
    "%matplotlib inline\n",
    "\n",
    "import astropy.units as u\n",
    "from astropy.constants import R_sun\n",
    "\n",
    "import matplotlib \n",
    "matplotlib.rc('xtick', labelsize=14) \n",
    "matplotlib.rc('ytick', labelsize=14) \n",
    "\n",
    "font = {'family' : 'courier',\n",
    "        'weight' : 'normal',\n",
    "        'size'   : 14}\n",
    "\n",
    "matplotlib.rc('font', **font)\n",
    "\n",
    "import time\n",
    "tstamp = time.strftime(\"%d_%m_%Y_%H_%M\", time.localtime())\n",
    "\n",
    "def gaussian(x, mu, sig):\n",
    "    return np.exp(-np.power(x - mu, 2.) / (2 * np.power(sig, 2.)))/(sig * np.sqrt(2) * np.pi)\n"
   ]
  },
  {
   "cell_type": "markdown",
   "metadata": {},
   "source": [
    "# Plot Percentiles"
   ]
  },
  {
   "cell_type": "code",
   "execution_count": 2,
   "metadata": {},
   "outputs": [
    {
     "data": {
      "text/plain": [
       "'/home/ekaterina/Documents/001_science/MalachiteMountains'"
      ]
     },
     "execution_count": 2,
     "metadata": {},
     "output_type": "execute_result"
    }
   ],
   "source": [
    "CWD"
   ]
  },
  {
   "cell_type": "code",
   "execution_count": 5,
   "metadata": {},
   "outputs": [],
   "source": [
    "res = pd.read_csv(f\"{CWD}/analysis/results/mcmc/mcmcoutput.csv\", skiprows=11,)\n",
    "res = res[res.index%2==0]\n"
   ]
  },
  {
   "cell_type": "code",
   "execution_count": 6,
   "metadata": {},
   "outputs": [
    {
     "data": {
      "text/html": [
       "<div>\n",
       "<style scoped>\n",
       "    .dataframe tbody tr th:only-of-type {\n",
       "        vertical-align: middle;\n",
       "    }\n",
       "\n",
       "    .dataframe tbody tr th {\n",
       "        vertical-align: top;\n",
       "    }\n",
       "\n",
       "    .dataframe thead th {\n",
       "        text-align: right;\n",
       "    }\n",
       "</style>\n",
       "<table border=\"1\" class=\"dataframe\">\n",
       "  <thead>\n",
       "    <tr style=\"text-align: right;\">\n",
       "      <th></th>\n",
       "      <th>date</th>\n",
       "      <th>ID</th>\n",
       "      <th>burnin</th>\n",
       "      <th>steps</th>\n",
       "      <th>walkers</th>\n",
       "      <th>nparam</th>\n",
       "      <th>t01_p16</th>\n",
       "      <th>t01_p50</th>\n",
       "      <th>t01_p84</th>\n",
       "      <th>theta_a_p16</th>\n",
       "      <th>...</th>\n",
       "      <th>radius_p16</th>\n",
       "      <th>radius_p50</th>\n",
       "      <th>radius_p84</th>\n",
       "      <th>ED_distr1_p16</th>\n",
       "      <th>ED_distr1_p50</th>\n",
       "      <th>ED_distr1_p84</th>\n",
       "      <th>Eflare1_p16</th>\n",
       "      <th>Eflare1_p50</th>\n",
       "      <th>Eflare1_p84</th>\n",
       "      <th>Unnamed: 33</th>\n",
       "    </tr>\n",
       "  </thead>\n",
       "  <tbody>\n",
       "    <tr>\n",
       "      <th>4</th>\n",
       "      <td>11_02_2020_11_16</td>\n",
       "      <td>237880881a</td>\n",
       "      <td>50000</td>\n",
       "      <td>126742</td>\n",
       "      <td>32</td>\n",
       "      <td>10</td>\n",
       "      <td>1331.66400897832</td>\n",
       "      <td>1331.66405852341</td>\n",
       "      <td>1331.66408293647</td>\n",
       "      <td>13.5378094966208</td>\n",
       "      <td>...</td>\n",
       "      <td>46.8267524633738</td>\n",
       "      <td>53.5025151861576</td>\n",
       "      <td>74.6806472911025</td>\n",
       "      <td>6493.35337741692</td>\n",
       "      <td>9288.3462142352</td>\n",
       "      <td>13454.9483964226</td>\n",
       "      <td>5.76005196768358E+034</td>\n",
       "      <td>8.23940324484771E+034</td>\n",
       "      <td>1.19354665426703E+035</td>\n",
       "      <td>NaN</td>\n",
       "    </tr>\n",
       "    <tr>\n",
       "      <th>6</th>\n",
       "      <td>11_02_2020_11_16</td>\n",
       "      <td>237880881b</td>\n",
       "      <td>50000</td>\n",
       "      <td>126742</td>\n",
       "      <td>32</td>\n",
       "      <td>10</td>\n",
       "      <td>1331.82436563852</td>\n",
       "      <td>1331.82462120353</td>\n",
       "      <td>1331.82613215887</td>\n",
       "      <td>40.8909703163573</td>\n",
       "      <td>...</td>\n",
       "      <td>17.1097952600288</td>\n",
       "      <td>19.3717278583333</td>\n",
       "      <td>20.3491014571879</td>\n",
       "      <td>4349.44196217513</td>\n",
       "      <td>5487.60128869995</td>\n",
       "      <td>5992.37039293116</td>\n",
       "      <td>3.85825478398938E+034</td>\n",
       "      <td>4.86788054855767E+034</td>\n",
       "      <td>5.31564553269742E+034</td>\n",
       "      <td>NaN</td>\n",
       "    </tr>\n",
       "    <tr>\n",
       "      <th>20</th>\n",
       "      <td>06_03_2020_10_16</td>\n",
       "      <td>100004076</td>\n",
       "      <td>150000</td>\n",
       "      <td>590751</td>\n",
       "      <td>32</td>\n",
       "      <td>6</td>\n",
       "      <td>1358.51221233685</td>\n",
       "      <td>1358.51274040472</td>\n",
       "      <td>1358.51328990776</td>\n",
       "      <td>-14.5867123740818</td>\n",
       "      <td>...</td>\n",
       "      <td>15.8347733112126</td>\n",
       "      <td>20.5015978036307</td>\n",
       "      <td>32.9827966335637</td>\n",
       "      <td>30931.7893387612</td>\n",
       "      <td>46581.3536108787</td>\n",
       "      <td>114778.001837465</td>\n",
       "      <td>3.46292269637279E+033</td>\n",
       "      <td>5.21494650310258E+033</td>\n",
       "      <td>1.28498013242706E+034</td>\n",
       "      <td>NaN</td>\n",
       "    </tr>\n",
       "    <tr>\n",
       "      <th>24</th>\n",
       "      <td>11_02_2020_10_07</td>\n",
       "      <td>237880881a</td>\n",
       "      <td>34903</td>\n",
       "      <td>1576002</td>\n",
       "      <td>32</td>\n",
       "      <td>9</td>\n",
       "      <td>1331.66385326558</td>\n",
       "      <td>1331.66387122321</td>\n",
       "      <td>1331.66388820846</td>\n",
       "      <td>57.8795686074588</td>\n",
       "      <td>...</td>\n",
       "      <td>42.0206628759492</td>\n",
       "      <td>42.2100433396356</td>\n",
       "      <td>42.333080319898</td>\n",
       "      <td>4939.39368169012</td>\n",
       "      <td>4987.5330189568</td>\n",
       "      <td>5031.50265263991</td>\n",
       "      <td>4.38158261867168E+034</td>\n",
       "      <td>4.42428552859035E+034</td>\n",
       "      <td>4.46328962405442E+034</td>\n",
       "      <td>NaN</td>\n",
       "    </tr>\n",
       "    <tr>\n",
       "      <th>26</th>\n",
       "      <td>11_02_2020_10_07</td>\n",
       "      <td>237880881b</td>\n",
       "      <td>34903</td>\n",
       "      <td>1576002</td>\n",
       "      <td>32</td>\n",
       "      <td>9</td>\n",
       "      <td>1331.82639427697</td>\n",
       "      <td>1331.82654088914</td>\n",
       "      <td>1331.82668586329</td>\n",
       "      <td>57.8795686074588</td>\n",
       "      <td>...</td>\n",
       "      <td>16.7247046012945</td>\n",
       "      <td>16.7956777286697</td>\n",
       "      <td>16.8856247953146</td>\n",
       "      <td>4689.25209389904</td>\n",
       "      <td>4724.91710976565</td>\n",
       "      <td>4772.26816371612</td>\n",
       "      <td>4.15968979054276E+034</td>\n",
       "      <td>4.19132711764934E+034</td>\n",
       "      <td>4.23333076593805E+034</td>\n",
       "      <td>NaN</td>\n",
       "    </tr>\n",
       "    <tr>\n",
       "      <th>30</th>\n",
       "      <td>08_07_2020_11_48</td>\n",
       "      <td>277539431</td>\n",
       "      <td>1861</td>\n",
       "      <td>1013992</td>\n",
       "      <td>32</td>\n",
       "      <td>6</td>\n",
       "      <td>1641.8428495283</td>\n",
       "      <td>1641.84461193767</td>\n",
       "      <td>1641.8458447766</td>\n",
       "      <td>81.6016129258368</td>\n",
       "      <td>...</td>\n",
       "      <td>16.3701682013347</td>\n",
       "      <td>18.0028165265795</td>\n",
       "      <td>19.5463976578376</td>\n",
       "      <td>23679.2336289383</td>\n",
       "      <td>28430.4519399802</td>\n",
       "      <td>33267.9006130536</td>\n",
       "      <td>2.6671583118474E+034</td>\n",
       "      <td>3.20232138377259E+034</td>\n",
       "      <td>3.74719718671053E+034</td>\n",
       "      <td>NaN</td>\n",
       "    </tr>\n",
       "  </tbody>\n",
       "</table>\n",
       "<p>6 rows × 34 columns</p>\n",
       "</div>"
      ],
      "text/plain": [
       "                date          ID  burnin    steps walkers nparam  \\\n",
       "4   11_02_2020_11_16  237880881a   50000   126742      32     10   \n",
       "6   11_02_2020_11_16  237880881b   50000   126742      32     10   \n",
       "20  06_03_2020_10_16   100004076  150000   590751      32      6   \n",
       "24  11_02_2020_10_07  237880881a   34903  1576002      32      9   \n",
       "26  11_02_2020_10_07  237880881b   34903  1576002      32      9   \n",
       "30  08_07_2020_11_48   277539431    1861  1013992      32      6   \n",
       "\n",
       "             t01_p16           t01_p50           t01_p84        theta_a_p16  \\\n",
       "4   1331.66400897832  1331.66405852341  1331.66408293647   13.5378094966208   \n",
       "6   1331.82436563852  1331.82462120353  1331.82613215887   40.8909703163573   \n",
       "20  1358.51221233685  1358.51274040472  1358.51328990776  -14.5867123740818   \n",
       "24  1331.66385326558  1331.66387122321  1331.66388820846   57.8795686074588   \n",
       "26  1331.82639427697  1331.82654088914  1331.82668586329   57.8795686074588   \n",
       "30   1641.8428495283  1641.84461193767   1641.8458447766   81.6016129258368   \n",
       "\n",
       "    ...        radius_p16        radius_p50        radius_p84  \\\n",
       "4   ...  46.8267524633738  53.5025151861576  74.6806472911025   \n",
       "6   ...  17.1097952600288  19.3717278583333  20.3491014571879   \n",
       "20  ...  15.8347733112126  20.5015978036307  32.9827966335637   \n",
       "24  ...  42.0206628759492  42.2100433396356   42.333080319898   \n",
       "26  ...  16.7247046012945  16.7956777286697  16.8856247953146   \n",
       "30  ...  16.3701682013347  18.0028165265795  19.5463976578376   \n",
       "\n",
       "       ED_distr1_p16     ED_distr1_p50     ED_distr1_p84  \\\n",
       "4   6493.35337741692   9288.3462142352  13454.9483964226   \n",
       "6   4349.44196217513  5487.60128869995  5992.37039293116   \n",
       "20  30931.7893387612  46581.3536108787  114778.001837465   \n",
       "24  4939.39368169012   4987.5330189568  5031.50265263991   \n",
       "26  4689.25209389904  4724.91710976565  4772.26816371612   \n",
       "30  23679.2336289383  28430.4519399802  33267.9006130536   \n",
       "\n",
       "              Eflare1_p16            Eflare1_p50            Eflare1_p84  \\\n",
       "4   5.76005196768358E+034  8.23940324484771E+034  1.19354665426703E+035   \n",
       "6   3.85825478398938E+034  4.86788054855767E+034  5.31564553269742E+034   \n",
       "20  3.46292269637279E+033  5.21494650310258E+033  1.28498013242706E+034   \n",
       "24  4.38158261867168E+034  4.42428552859035E+034  4.46328962405442E+034   \n",
       "26  4.15968979054276E+034  4.19132711764934E+034  4.23333076593805E+034   \n",
       "30   2.6671583118474E+034  3.20232138377259E+034  3.74719718671053E+034   \n",
       "\n",
       "   Unnamed: 33  \n",
       "4          NaN  \n",
       "6          NaN  \n",
       "20         NaN  \n",
       "24         NaN  \n",
       "26         NaN  \n",
       "30         NaN  \n",
       "\n",
       "[6 rows x 34 columns]"
      ]
     },
     "execution_count": 6,
     "metadata": {},
     "output_type": "execute_result"
    }
   ],
   "source": [
    "res = res.loc[[4,6,20,24,26,30],]\n",
    "res"
   ]
  },
  {
   "cell_type": "code",
   "execution_count": null,
   "metadata": {},
   "outputs": [],
   "source": [
    "plt.figure(figsize=(8,5))\n",
    "x = np.linspace(0,90,300)\n",
    "for i, row in res.iterrows():\n",
    "    a, up, lo = float(row.theta_a_p50), float(row.theta_a_p84), float(row.theta_a_p16)\n",
    "    print(up-a,a-lo,row.ID,row.nparam)\n",
    "    plt.plot(x, gaussian(x,a,(up-lo)/2), label=f\"{row.ID} ({row.nparam})\")\n",
    "plt.legend(loc=2, frameon=False)\n",
    "plt.xlim(0,90)\n",
    "plt.xlabel(r\"flare latitude $\\theta$ [deg]\")\n",
    "plt.ylabel(r\"probability\")\n",
    "plt.tight_layout()\n",
    "plt.savefig(f\"{CWD}/analysis/plots/flare_latitudes.png\",dpi=300)"
   ]
  },
  {
   "cell_type": "code",
   "execution_count": 13,
   "metadata": {},
   "outputs": [
    {
     "data": {
      "text/html": [
       "<div>\n",
       "<style scoped>\n",
       "    .dataframe tbody tr th:only-of-type {\n",
       "        vertical-align: middle;\n",
       "    }\n",
       "\n",
       "    .dataframe tbody tr th {\n",
       "        vertical-align: top;\n",
       "    }\n",
       "\n",
       "    .dataframe thead th {\n",
       "        text-align: right;\n",
       "    }\n",
       "</style>\n",
       "<table border=\"1\" class=\"dataframe\">\n",
       "  <thead>\n",
       "    <tr style=\"text-align: right;\">\n",
       "      <th></th>\n",
       "      <th>date</th>\n",
       "      <th>ID</th>\n",
       "      <th>burnin</th>\n",
       "      <th>steps</th>\n",
       "      <th>walkers</th>\n",
       "      <th>nparam</th>\n",
       "      <th>t01_p16</th>\n",
       "      <th>t01_p50</th>\n",
       "      <th>t01_p84</th>\n",
       "      <th>theta_a_p16</th>\n",
       "      <th>...</th>\n",
       "      <th>radius_p16</th>\n",
       "      <th>radius_p50</th>\n",
       "      <th>radius_p84</th>\n",
       "      <th>ED_distr1_p16</th>\n",
       "      <th>ED_distr1_p50</th>\n",
       "      <th>ED_distr1_p84</th>\n",
       "      <th>Eflare1_p16</th>\n",
       "      <th>Eflare1_p50</th>\n",
       "      <th>Eflare1_p84</th>\n",
       "      <th>Unnamed: 33</th>\n",
       "    </tr>\n",
       "  </thead>\n",
       "  <tbody>\n",
       "    <tr>\n",
       "      <th>30</th>\n",
       "      <td>08_07_2020_11_48</td>\n",
       "      <td>277539431</td>\n",
       "      <td>1861</td>\n",
       "      <td>1013992</td>\n",
       "      <td>32</td>\n",
       "      <td>6</td>\n",
       "      <td>1641.8428495283</td>\n",
       "      <td>1641.84461193767</td>\n",
       "      <td>1641.8458447766</td>\n",
       "      <td>81.6016129258368</td>\n",
       "      <td>...</td>\n",
       "      <td>16.3701682013347</td>\n",
       "      <td>18.0028165265795</td>\n",
       "      <td>19.5463976578376</td>\n",
       "      <td>23679.2336289383</td>\n",
       "      <td>28430.4519399802</td>\n",
       "      <td>33267.9006130536</td>\n",
       "      <td>2.6671583118474E+034</td>\n",
       "      <td>3.20232138377259E+034</td>\n",
       "      <td>3.74719718671053E+034</td>\n",
       "      <td>NaN</td>\n",
       "    </tr>\n",
       "  </tbody>\n",
       "</table>\n",
       "<p>1 rows × 34 columns</p>\n",
       "</div>"
      ],
      "text/plain": [
       "                date         ID burnin    steps walkers nparam  \\\n",
       "30  08_07_2020_11_48  277539431   1861  1013992      32      6   \n",
       "\n",
       "            t01_p16           t01_p50          t01_p84       theta_a_p16  ...  \\\n",
       "30  1641.8428495283  1641.84461193767  1641.8458447766  81.6016129258368  ...   \n",
       "\n",
       "          radius_p16        radius_p50        radius_p84     ED_distr1_p16  \\\n",
       "30  16.3701682013347  18.0028165265795  19.5463976578376  23679.2336289383   \n",
       "\n",
       "       ED_distr1_p50     ED_distr1_p84           Eflare1_p16  \\\n",
       "30  28430.4519399802  33267.9006130536  2.6671583118474E+034   \n",
       "\n",
       "              Eflare1_p50            Eflare1_p84 Unnamed: 33  \n",
       "30  3.20232138377259E+034  3.74719718671053E+034         NaN  \n",
       "\n",
       "[1 rows x 34 columns]"
      ]
     },
     "execution_count": 13,
     "metadata": {},
     "output_type": "execute_result"
    }
   ],
   "source": [
    "props[props.ID == str(ID)]"
   ]
  },
  {
   "cell_type": "markdown",
   "metadata": {},
   "source": [
    "# Plot Posteriors and Calculate physical properties"
   ]
  },
  {
   "cell_type": "code",
   "execution_count": 9,
   "metadata": {},
   "outputs": [],
   "source": [
    "columns = [\"t0_d\",\"latitude_deg\",\"a\",\"fwhm_d\",\"i_deg\",\"phase_deg\"]\n",
    "#props = pd.read_csv(f\"{CWD}/data/summary/everything.csv\")\n",
    "props = res\n",
    "inits = pd.read_csv(f\"{CWD}/data/summary/inits.csv\")"
   ]
  },
  {
   "cell_type": "code",
   "execution_count": 15,
   "metadata": {},
   "outputs": [],
   "source": [
    "# What dataset do you want to analyse?\n",
    "suffix = \"\"\n",
    "\n",
    "ID = 277539431#237880881#44984200#230120143##212035340 #230120143#\n",
    "tstamp = \"08_07_2020_11_48\"#\"\"11_02_2020_10_07\"#20_02_2020_12_04\"#'13_12_2019_10_18'#'27_01_2020_12_28'#\n",
    "\n",
    "# Pick up the input parameters\n",
    "target = props[props.ID == str(ID)].iloc[0]\n",
    "inits = inits[(inits.ID == str(ID)+suffix) & (inits.tstamp==tstamp)].iloc[0]\n",
    "\n",
    "qlum = inits.qlum_erg_s * u.erg / u.s\n",
    "Fth = inits.Fth * u.erg/ u.cm**2 / u.s\n",
    "median = inits['median']\n",
    "R = inits.R_Rsun * R_sun\n",
    "\n",
    "# Pick up the LC\n",
    "lc = pd.read_csv(f\"{CWD}/data/lcs/{tstamp}_{ID}.csv\")"
   ]
  },
  {
   "cell_type": "code",
   "execution_count": 17,
   "metadata": {},
   "outputs": [],
   "source": [
    "resultframe = pd.read_csv(f\"{CWD}/analysis/results/mcmc/{tstamp}_{target.ID}_converted_mcmc_sample.csv\")\n",
    "\n"
   ]
  },
  {
   "cell_type": "code",
   "execution_count": 19,
   "metadata": {},
   "outputs": [],
   "source": [
    "suffix = \"\"\n",
    "from funcs.model import calculate_angular_radius, calculate_ED\n",
    "\n",
    "percentiles = [16,50,84]\n",
    "\n",
    "resultframe[f\"rad_rsun{suffix}\"] = resultframe.apply(lambda x: calculate_angular_radius(Fth, x[f\"a{suffix}\"], qlum, R), axis=1)\n",
    "\n",
    "resultframe[f\"ED_s{suffix}\"] = resultframe.apply(lambda x: calculate_ED(lc.t.values, \n",
    "                                                                   x[f\"t0_d{suffix}\"], \n",
    "                                                                   x[f\"fwhm_d{suffix}\"], \n",
    "                                                                   x[f\"a{suffix}\"]),\n",
    "                                           axis=1)"
   ]
  },
  {
   "cell_type": "code",
   "execution_count": null,
   "metadata": {},
   "outputs": [],
   "source": []
  },
  {
   "cell_type": "code",
   "execution_count": 20,
   "metadata": {},
   "outputs": [],
   "source": [
    "resultframe.to_csv(f\"{CWD}/analysis/results/mcmc/{target.ID}_{tstamp}_converted_mcmc_sample.csv\", index=False)"
   ]
  },
  {
   "cell_type": "code",
   "execution_count": 16,
   "metadata": {},
   "outputs": [
    {
     "data": {
      "image/png": "[encoded data removed]",
      "text/plain": [
       "<Figure size 432x288 with 1 Axes>"
      ]
     },
     "metadata": {
      "needs_background": "light"
     },
     "output_type": "display_data"
    }
   ],
   "source": [
    "plt.hist(resultframe.rad_rsun.values,bins=100, histtype=\"step\",color=\"k\",linewidth=2);\n",
    "plt.xlabel(\"angular radius [deg]\")\n",
    "radius_p = np.percentile(resultframe.rad_rsun.values, percentiles, axis=0)\n",
    "plt.savefig(f\"{CWD}/analysis/plots/flarefit/{tstamp}_{target.prefix}{target.ID}_active_region_radii.png\",dpi=300)"
   ]
  },
  {
   "cell_type": "code",
   "execution_count": 17,
   "metadata": {},
   "outputs": [
    {
     "data": {
      "image/png": "[encoded data removed]",
      "text/plain": [
       "<Figure size 432x288 with 1 Axes>"
      ]
     },
     "metadata": {
      "needs_background": "light"
     },
     "output_type": "display_data"
    }
   ],
   "source": [
    "ED_distr = resultframe.ED_s.values\n",
    "ED_distr_p = np.percentile(ED_distr, percentiles, axis=0)\n",
    "plt.hist(ED_distr,bins=200, histtype=\"step\",color=\"k\",linewidth=2);\n",
    "plt.xlabel(\"ED [s]\")\n",
    "plt.savefig(f\"{CWD}/analysis/plots/flarefit/{tstamp}_{target.prefix}{target.ID}_flare_ED.png\",dpi=300)"
   ]
  },
  {
   "cell_type": "code",
   "execution_count": null,
   "metadata": {},
   "outputs": [],
   "source": [
    "resultframe = pd.read_csv(f\"{CWD}/analysis/results/mcmc/{target.ID}_{tstamp}_converted_mcmc_sample.csv\")"
   ]
  },
  {
   "cell_type": "code",
   "execution_count": 21,
   "metadata": {},
   "outputs": [],
   "source": [
    "t0_p, theta_a_p, a_p, fwhm_p, i_p, phi0_p = map(lambda v: (v[0], v[1], v[2]),\n",
    "                                                   zip(*np.percentile(resultframe[[\"t0_d\",\"latitude_deg\",\"a\",\"fwhm_d\",\"i_deg\",\"phase_deg\"]].values,\n",
    "                                                                      percentiles,\n",
    "                                                       axis=0)))\n",
    "\n",
    "with open(f\"{CWD}/analysis/results/mcmc/mcmcoutput.csv\",\"a\") as f:\n",
    "    #Add more lines here\n",
    "    \n",
    "    out = f\"{tstamp},{target.ID},\"\n",
    "    firstout = f\"date,ID,\"\n",
    "    for i in ['t0_p', 'theta_a_p', 'a_p', 'fwhm_p', 'i_p', 'phi0_p', 'radius_p', 'ED_distr_p', 'Eflare_p']:\n",
    "        firstout += f\"{i}{percentiles[0]},{i}{percentiles[1]},{i}{percentiles[2]},\"\n",
    "    for i in [t0_p, theta_a_p, a_p, fwhm_p, i_p, phi0_p, radius_p, ED_distr_p, (ED_distr_p*qlum).value ]:\n",
    "        out += f\"{i[0]},{i[1]},{i[2]},\"\n",
    "    out += \"\\n\"\n",
    "    firstout += \"\\n\"\n",
    "    f.write(firstout)\n",
    "    f.write(out)"
   ]
  },
  {
   "cell_type": "code",
   "execution_count": 25,
   "metadata": {},
   "outputs": [
    {
     "data": {
      "text/plain": [
       "17.36111111111111"
      ]
     },
     "execution_count": 25,
     "metadata": {},
     "output_type": "execute_result"
    }
   ],
   "source": [
    "1.5e6/60/60/24"
   ]
  },
  {
   "cell_type": "markdown",
   "metadata": {},
   "source": [
    "# Plot posterior"
   ]
  },
  {
   "cell_type": "code",
   "execution_count": 43,
   "metadata": {},
   "outputs": [
    {
     "name": "stdout",
     "output_type": "stream",
     "text": [
      "Index(['t0_d_a', 't0_d_b', 'latitude_deg', 'a_a', 'a_b', 'fwhm_d_a', 'fwhm_b',\n",
      "       'i_deg', 'phase_deg', 'rad_rsun', 'ED_s', 'rad_rsun_a', 'ED_s_a'],\n",
      "      dtype='object')\n"
     ]
    },
    {
     "data": {
      "text/plain": [
       "<matplotlib.legend.Legend at 0x7f55201a3390>"
      ]
     },
     "execution_count": 43,
     "metadata": {},
     "output_type": "execute_result"
    },
    {
     "data": {
      "image/png": "[encoded data removed]",
      "text/plain": [
       "<Figure size 576x432 with 1 Axes>"
      ]
     },
     "metadata": {
      "needs_background": "light"
     },
     "output_type": "display_data"
    }
   ],
   "source": [
    "\n",
    "\n",
    "bins = 200\n",
    "plt.figure(figsize=(8,6))\n",
    "\n",
    "R = res.loc[[24,30]]\n",
    "\n",
    "for index, row in R.iterrows():\n",
    "    if row.ID[-1] in \"ab\":\n",
    "        suffix = \"\"\n",
    "        ID = row.ID[:-1]\n",
    "        resultframe = pd.read_csv(f\"{CWD}/analysis/results/mcmc/{row.date}_{ID}_converted_mcmc_sample.csv\")\n",
    "        print(resultframe.columns)\n",
    "    else:\n",
    "        suffix = \"\"\n",
    "        ID = row.ID\n",
    "        resultframe = pd.read_csv(f\"{CWD}/analysis/results/mcmc/{row.date}_{ID}_converted_mcmc_sample.csv\")\n",
    "    plt.hist(resultframe[f\"latitude_deg{suffix}\"].values, \n",
    "             histtype=\"step\", linewidth=2, density=True,\n",
    "             label=f\"TIC {ID}\")\n",
    "    \n",
    "plt.xlim(0,90)\n",
    "plt.xlabel(r\"$\\theta_f$ [deg]\")\n",
    "plt.legend()"
   ]
  },
  {
   "cell_type": "code",
   "execution_count": null,
   "metadata": {},
   "outputs": [],
   "source": []
  }
 ],
 "metadata": {
  "kernelspec": {
   "display_name": "forallpurposes",
   "language": "python",
   "name": "forallpurposes"
  },
  "language_info": {
   "codemirror_mode": {
    "name": "ipython",
    "version": 3
   },
   "file_extension": ".py",
   "mimetype": "text/x-python",
   "name": "python",
   "nbconvert_exporter": "python",
   "pygments_lexer": "ipython3",
   "version": "3.6.9"
  }
 },
 "nbformat": 4,
 "nbformat_minor": 4
}
