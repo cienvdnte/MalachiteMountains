{
 "cells": [
  {
   "cell_type": "code",
   "execution_count": 1,
   "metadata": {},
   "outputs": [
    {
     "name": "stderr",
     "output_type": "stream",
     "text": [
      "/usr/lib64/python3.6/importlib/_bootstrap.py:219: RuntimeWarning: numpy.ufunc size changed, may indicate binary incompatibility. Expected 192 from C header, got 216 from PyObject\n",
      "  return f(*args, **kwds)\n",
      "/usr/lib64/python3.6/importlib/_bootstrap.py:219: RuntimeWarning: numpy.ufunc size changed, may indicate binary incompatibility. Expected 192 from C header, got 216 from PyObject\n",
      "  return f(*args, **kwds)\n",
      "/usr/lib64/python3.6/importlib/_bootstrap.py:219: RuntimeWarning: numpy.ufunc size changed, may indicate binary incompatibility. Expected 192 from C header, got 216 from PyObject\n",
      "  return f(*args, **kwds)\n",
      "NumExpr defaulting to 8 threads.\n"
     ]
    }
   ],
   "source": [
    "import matplotlib.pyplot as plt\n",
    "%matplotlib inline\n",
    "\n",
    "from astropy.constants import R_sun, R_jup\n",
    "import astropy.units as u\n",
    "\n",
    "import os\n",
    "import copy\n",
    "\n",
    "import numpy as np\n",
    "import pandas as pd\n",
    "\n",
    "from funcs.model import full_model_2flares2ars, aflare, calculate_specific_flare_flux, aflare, calculate_angular_radius\n",
    "from funcs.flarefit import log_probability, log_probability_2flares2ars\n",
    "\n",
    "CWD = \"/\".join(os.getcwd().split(\"/\")[:-2])\n",
    "\n",
    "import warnings\n",
    "warnings.simplefilter(\"ignore\")\n",
    "\n",
    "import pytest\n",
    "import emcee\n",
    "import corner\n",
    "\n",
    "import time\n",
    "tstamp = time.strftime(\"%d_%m_%Y_%H_%M\", time.localtime())"
   ]
  },
  {
   "cell_type": "code",
   "execution_count": 2,
   "metadata": {},
   "outputs": [],
   "source": [
    "tstamp = '13_01_2020_11_28'"
   ]
  },
  {
   "cell_type": "code",
   "execution_count": 3,
   "metadata": {
    "scrolled": true
   },
   "outputs": [],
   "source": [
    "def get_incl(lcs):\n",
    "    v_rot = lcs['rad'].values*2*np.pi*R_sun / (lcs['Prot_d'].values*u.d)\n",
    "    vsini = lcs['vsini_kms'].values*u.km/u.s\n",
    "    e_vsini = lcs['e_vsini_kms'].values*u.km/u.s\n",
    "    sini = (vsini / v_rot ).decompose()\n",
    "    #print(sini.decompose(), v_rot.to(\"km/s\"))\n",
    "    # set values larger than 1 to 1 (must be due to uncertainties in Rstar or vsini):\n",
    "    #sini[sini.decompose() > 1] = 1.\n",
    "    incl = np.arcsin(sini.decompose())\n",
    "    lcs[\"incl\"] = incl\n",
    "    lcs[\"incl_err\"] = (e_vsini / (v_rot * np.sqrt(1. - sini**2))).decompose()\n",
    "    return lcs"
   ]
  },
  {
   "cell_type": "code",
   "execution_count": 4,
   "metadata": {},
   "outputs": [
    {
     "data": {
      "text/plain": [
       "(<<class 'astropy.constants.iau2015.IAU2015'> name='Nominal Jupiter equatorial radius' value=71492000.0 uncertainty=0.0 unit='m' reference='IAU 2015 Resolution B 3'>,\n",
       " <<class 'astropy.constants.iau2015.IAU2015'> name='Nominal solar radius' value=695700000.0 uncertainty=0.0 unit='m' reference='IAU 2015 Resolution B 3'>)"
      ]
     },
     "execution_count": 4,
     "metadata": {},
     "output_type": "execute_result"
    }
   ],
   "source": [
    "R_jup,R_sun"
   ]
  },
  {
   "cell_type": "code",
   "execution_count": 5,
   "metadata": {},
   "outputs": [
    {
     "data": {
      "text/plain": [
       "(rad            0    0.215802\n",
       " dtype: float64\n",
       " Prot_d         0    0.118333\n",
       " dtype: float64\n",
       " vsini_kms          0    49.2\n",
       " dtype: float64\n",
       " e_vsini_kms         0    4.9\n",
       " dtype: float64\n",
       " incl               [0.5624355126392725 rad]\n",
       " incl_err              [0.06277851710766706]\n",
       " dtype: object, array([0.21580164]))"
      ]
     },
     "execution_count": 5,
     "metadata": {},
     "output_type": "execute_result"
    }
   ],
   "source": [
    "lcs = pd.Series({\"rad\":pd.Series([(2.1*R_jup/R_sun).decompose().value]),\n",
    "                \"Prot_d\":pd.Series([2.84/24]),\n",
    "                \"vsini_kms\":pd.Series([49.2]),\n",
    "                \"e_vsini_kms\":pd.Series([4.9]),})\n",
    "get_incl(lcs), lcs.rad.values"
   ]
  },
  {
   "cell_type": "code",
   "execution_count": 6,
   "metadata": {},
   "outputs": [
    {
     "data": {
      "text/html": [
       "<div>\n",
       "<style scoped>\n",
       "    .dataframe tbody tr th:only-of-type {\n",
       "        vertical-align: middle;\n",
       "    }\n",
       "\n",
       "    .dataframe tbody tr th {\n",
       "        vertical-align: top;\n",
       "    }\n",
       "\n",
       "    .dataframe thead th {\n",
       "        text-align: right;\n",
       "    }\n",
       "</style>\n",
       "<table border=\"1\" class=\"dataframe\">\n",
       "  <thead>\n",
       "    <tr style=\"text-align: right;\">\n",
       "      <th></th>\n",
       "      <th>prefix</th>\n",
       "      <th>ID</th>\n",
       "      <th>ED</th>\n",
       "      <th>e_ED</th>\n",
       "      <th>t0</th>\n",
       "      <th>e_t0</th>\n",
       "      <th>dur</th>\n",
       "      <th>e_dur</th>\n",
       "      <th>ampl</th>\n",
       "      <th>e_ampl</th>\n",
       "      <th>Prot</th>\n",
       "      <th>theta_a_init</th>\n",
       "    </tr>\n",
       "  </thead>\n",
       "  <tbody>\n",
       "    <tr>\n",
       "      <th>0</th>\n",
       "      <td>TIC</td>\n",
       "      <td>237880881</td>\n",
       "      <td>6020</td>\n",
       "      <td>298</td>\n",
       "      <td>1331.82418</td>\n",
       "      <td>0.00194</td>\n",
       "      <td>0.77347</td>\n",
       "      <td>0.02975</td>\n",
       "      <td>0.46626</td>\n",
       "      <td>0.01576</td>\n",
       "      <td>8.43</td>\n",
       "      <td>60.0</td>\n",
       "    </tr>\n",
       "    <tr>\n",
       "      <th>1</th>\n",
       "      <td>KIC</td>\n",
       "      <td>100004076</td>\n",
       "      <td>10414</td>\n",
       "      <td>886</td>\n",
       "      <td>1358.52754</td>\n",
       "      <td>0.00072</td>\n",
       "      <td>0.49377</td>\n",
       "      <td>0.02388</td>\n",
       "      <td>0.79166</td>\n",
       "      <td>0.06277</td>\n",
       "      <td>8.88</td>\n",
       "      <td>70.0</td>\n",
       "    </tr>\n",
       "    <tr>\n",
       "      <th>2</th>\n",
       "      <td>TIC</td>\n",
       "      <td>44984200</td>\n",
       "      <td>3809</td>\n",
       "      <td>135</td>\n",
       "      <td>1588.02740</td>\n",
       "      <td>0.00106</td>\n",
       "      <td>0.65066</td>\n",
       "      <td>0.03073</td>\n",
       "      <td>0.29153</td>\n",
       "      <td>0.00868</td>\n",
       "      <td>2.71</td>\n",
       "      <td>NaN</td>\n",
       "    </tr>\n",
       "    <tr>\n",
       "      <th>3</th>\n",
       "      <td>TIC</td>\n",
       "      <td>277539431</td>\n",
       "      <td>4495</td>\n",
       "      <td>394</td>\n",
       "      <td>1641.86831</td>\n",
       "      <td>0.00291</td>\n",
       "      <td>0.89720</td>\n",
       "      <td>0.08459</td>\n",
       "      <td>0.35356</td>\n",
       "      <td>0.03025</td>\n",
       "      <td>4.56</td>\n",
       "      <td>NaN</td>\n",
       "    </tr>\n",
       "    <tr>\n",
       "      <th>4</th>\n",
       "      <td>EPIC</td>\n",
       "      <td>212035340</td>\n",
       "      <td>1954494</td>\n",
       "      <td>483655</td>\n",
       "      <td>3437.83750</td>\n",
       "      <td>0.00029</td>\n",
       "      <td>0.05795</td>\n",
       "      <td>0.00631</td>\n",
       "      <td>29.07702</td>\n",
       "      <td>2.06769</td>\n",
       "      <td>4.63</td>\n",
       "      <td>NaN</td>\n",
       "    </tr>\n",
       "  </tbody>\n",
       "</table>\n",
       "</div>"
      ],
      "text/plain": [
       "  prefix         ID       ED    e_ED          t0     e_t0      dur    e_dur  \\\n",
       "0    TIC  237880881     6020     298  1331.82418  0.00194  0.77347  0.02975   \n",
       "1    KIC  100004076    10414     886  1358.52754  0.00072  0.49377  0.02388   \n",
       "2    TIC   44984200     3809     135  1588.02740  0.00106  0.65066  0.03073   \n",
       "3    TIC  277539431     4495     394  1641.86831  0.00291  0.89720  0.08459   \n",
       "4   EPIC  212035340  1954494  483655  3437.83750  0.00029  0.05795  0.00631   \n",
       "\n",
       "       ampl   e_ampl  Prot  theta_a_init  \n",
       "0   0.46626  0.01576  8.43          60.0  \n",
       "1   0.79166  0.06277  8.88          70.0  \n",
       "2   0.29153  0.00868  2.71           NaN  \n",
       "3   0.35356  0.03025  4.56           NaN  \n",
       "4  29.07702  2.06769  4.63           NaN  "
      ]
     },
     "execution_count": 6,
     "metadata": {},
     "output_type": "execute_result"
    }
   ],
   "source": [
    "lcs = pd.read_csv(f\"{CWD}/data/summary/lcs.csv\")\n",
    "guesses = pd.read_csv(f\"{CWD}/data/summary/results.csv\")\n",
    "props = pd.read_csv(f\"{CWD}/data/summary/properties.csv\")\n",
    "#lcs.ID = lcs.ID.astype(int)\n",
    "#guesses.ID = guesses.ID.astype(int)\n",
    "guesses"
   ]
  },
  {
   "cell_type": "code",
   "execution_count": 7,
   "metadata": {},
   "outputs": [],
   "source": [
    "lcs = lcs.merge(guesses, on=[\"ID\",\"prefix\"], how=\"outer\")\n",
    "lcs = lcs.merge(props, left_on=\"ID\", right_on=\"id\")"
   ]
  },
  {
   "cell_type": "code",
   "execution_count": null,
   "metadata": {},
   "outputs": [],
   "source": []
  },
  {
   "cell_type": "code",
   "execution_count": 8,
   "metadata": {},
   "outputs": [
    {
     "data": {
      "text/html": [
       "<div>\n",
       "<style scoped>\n",
       "    .dataframe tbody tr th:only-of-type {\n",
       "        vertical-align: middle;\n",
       "    }\n",
       "\n",
       "    .dataframe tbody tr th {\n",
       "        vertical-align: top;\n",
       "    }\n",
       "\n",
       "    .dataframe thead th {\n",
       "        text-align: right;\n",
       "    }\n",
       "</style>\n",
       "<table border=\"1\" class=\"dataframe\">\n",
       "  <thead>\n",
       "    <tr style=\"text-align: right;\">\n",
       "      <th></th>\n",
       "      <th>ID</th>\n",
       "      <th>QCS</th>\n",
       "      <th>typ</th>\n",
       "      <th>cadence_min</th>\n",
       "      <th>mission</th>\n",
       "      <th>prefix</th>\n",
       "      <th>origin</th>\n",
       "      <th>h_mission</th>\n",
       "      <th>SpT</th>\n",
       "      <th>view_start</th>\n",
       "      <th>...</th>\n",
       "      <th>dist_err</th>\n",
       "      <th>dist_source</th>\n",
       "      <th>rad</th>\n",
       "      <th>tflux</th>\n",
       "      <th>tlum</th>\n",
       "      <th>kflux</th>\n",
       "      <th>klum</th>\n",
       "      <th>gmag</th>\n",
       "      <th>jmag</th>\n",
       "      <th>kmag</th>\n",
       "    </tr>\n",
       "  </thead>\n",
       "  <tbody>\n",
       "    <tr>\n",
       "      <th>0</th>\n",
       "      <td>100004076</td>\n",
       "      <td>14</td>\n",
       "      <td>slc</td>\n",
       "      <td>1</td>\n",
       "      <td>kep</td>\n",
       "      <td>KIC</td>\n",
       "      <td>generic</td>\n",
       "      <td>Kepler</td>\n",
       "      <td>L1</td>\n",
       "      <td>1356.50</td>\n",
       "      <td>...</td>\n",
       "      <td>0.038400</td>\n",
       "      <td>gaia</td>\n",
       "      <td>0.108176</td>\n",
       "      <td>3.319760e-12</td>\n",
       "      <td>1.119535e+29</td>\n",
       "      <td>6.712990e-13</td>\n",
       "      <td>2.263849e+28</td>\n",
       "      <td>17.8356</td>\n",
       "      <td>13.078</td>\n",
       "      <td>11.771</td>\n",
       "    </tr>\n",
       "    <tr>\n",
       "      <th>1</th>\n",
       "      <td>212035340</td>\n",
       "      <td>18</td>\n",
       "      <td>llc</td>\n",
       "      <td>30</td>\n",
       "      <td>ktwo</td>\n",
       "      <td>EPIC</td>\n",
       "      <td>generic</td>\n",
       "      <td>K2</td>\n",
       "      <td>M8</td>\n",
       "      <td>3437.00</td>\n",
       "      <td>...</td>\n",
       "      <td>20.512900</td>\n",
       "      <td>mk_dupuy2012</td>\n",
       "      <td>0.115204</td>\n",
       "      <td>6.546160e-13</td>\n",
       "      <td>8.406482e+29</td>\n",
       "      <td>1.394100e-13</td>\n",
       "      <td>1.790276e+29</td>\n",
       "      <td>19.5667</td>\n",
       "      <td>15.894</td>\n",
       "      <td>14.884</td>\n",
       "    </tr>\n",
       "    <tr>\n",
       "      <th>2</th>\n",
       "      <td>237880881</td>\n",
       "      <td>1</td>\n",
       "      <td>slc</td>\n",
       "      <td>2</td>\n",
       "      <td>tess</td>\n",
       "      <td>TIC</td>\n",
       "      <td>generic</td>\n",
       "      <td>TESS</td>\n",
       "      <td>M5</td>\n",
       "      <td>1331.00</td>\n",
       "      <td>...</td>\n",
       "      <td>0.143774</td>\n",
       "      <td>gaia</td>\n",
       "      <td>0.275151</td>\n",
       "      <td>3.492650e-11</td>\n",
       "      <td>8.870689e+30</td>\n",
       "      <td>1.272670e-11</td>\n",
       "      <td>3.232358e+30</td>\n",
       "      <td>14.9796</td>\n",
       "      <td>11.530</td>\n",
       "      <td>10.636</td>\n",
       "    </tr>\n",
       "    <tr>\n",
       "      <th>3</th>\n",
       "      <td>44984200</td>\n",
       "      <td>10</td>\n",
       "      <td>slc</td>\n",
       "      <td>2</td>\n",
       "      <td>tess</td>\n",
       "      <td>TIC</td>\n",
       "      <td>custom</td>\n",
       "      <td>TESS</td>\n",
       "      <td>M6</td>\n",
       "      <td>1587.25</td>\n",
       "      <td>...</td>\n",
       "      <td>0.027472</td>\n",
       "      <td>gaia</td>\n",
       "      <td>0.142339</td>\n",
       "      <td>6.305290e-11</td>\n",
       "      <td>9.308451e+29</td>\n",
       "      <td>2.018160e-11</td>\n",
       "      <td>2.979395e+29</td>\n",
       "      <td>14.4115</td>\n",
       "      <td>10.309</td>\n",
       "      <td>9.268</td>\n",
       "    </tr>\n",
       "    <tr>\n",
       "      <th>4</th>\n",
       "      <td>277539431</td>\n",
       "      <td>12</td>\n",
       "      <td>slc</td>\n",
       "      <td>2</td>\n",
       "      <td>tess</td>\n",
       "      <td>TIC</td>\n",
       "      <td>custom</td>\n",
       "      <td>TESS</td>\n",
       "      <td>M7</td>\n",
       "      <td>1641.00</td>\n",
       "      <td>...</td>\n",
       "      <td>0.106872</td>\n",
       "      <td>gaia</td>\n",
       "      <td>0.145216</td>\n",
       "      <td>5.011190e-11</td>\n",
       "      <td>1.126370e+30</td>\n",
       "      <td>1.380730e-11</td>\n",
       "      <td>3.103479e+29</td>\n",
       "      <td>14.7381</td>\n",
       "      <td>10.630</td>\n",
       "      <td>9.666</td>\n",
       "    </tr>\n",
       "    <tr>\n",
       "      <th>5</th>\n",
       "      <td>300741820</td>\n",
       "      <td>8</td>\n",
       "      <td>slc</td>\n",
       "      <td>2</td>\n",
       "      <td>tess</td>\n",
       "      <td>TIC</td>\n",
       "      <td>generic</td>\n",
       "      <td>TESS</td>\n",
       "      <td>M6</td>\n",
       "      <td>1522.00</td>\n",
       "      <td>...</td>\n",
       "      <td>4.409260</td>\n",
       "      <td>mk_dupuy2012</td>\n",
       "      <td>0.127594</td>\n",
       "      <td>2.711650e-11</td>\n",
       "      <td>1.608939e+30</td>\n",
       "      <td>8.679300e-12</td>\n",
       "      <td>5.149798e+29</td>\n",
       "      <td>15.3277</td>\n",
       "      <td>11.959</td>\n",
       "      <td>11.126</td>\n",
       "    </tr>\n",
       "  </tbody>\n",
       "</table>\n",
       "<p>6 rows × 54 columns</p>\n",
       "</div>"
      ],
      "text/plain": [
       "          ID  QCS  typ  cadence_min mission prefix   origin h_mission SpT  \\\n",
       "0  100004076   14  slc            1     kep    KIC  generic    Kepler  L1   \n",
       "1  212035340   18  llc           30    ktwo   EPIC  generic        K2  M8   \n",
       "2  237880881    1  slc            2    tess    TIC  generic      TESS  M5   \n",
       "3   44984200   10  slc            2    tess    TIC   custom      TESS  M6   \n",
       "4  277539431   12  slc            2    tess    TIC   custom      TESS  M7   \n",
       "5  300741820    8  slc            2    tess    TIC  generic      TESS  M6   \n",
       "\n",
       "   view_start  ...   dist_err   dist_source       rad         tflux  \\\n",
       "0     1356.50  ...   0.038400          gaia  0.108176  3.319760e-12   \n",
       "1     3437.00  ...  20.512900  mk_dupuy2012  0.115204  6.546160e-13   \n",
       "2     1331.00  ...   0.143774          gaia  0.275151  3.492650e-11   \n",
       "3     1587.25  ...   0.027472          gaia  0.142339  6.305290e-11   \n",
       "4     1641.00  ...   0.106872          gaia  0.145216  5.011190e-11   \n",
       "5     1522.00  ...   4.409260  mk_dupuy2012  0.127594  2.711650e-11   \n",
       "\n",
       "           tlum         kflux          klum     gmag    jmag    kmag  \n",
       "0  1.119535e+29  6.712990e-13  2.263849e+28  17.8356  13.078  11.771  \n",
       "1  8.406482e+29  1.394100e-13  1.790276e+29  19.5667  15.894  14.884  \n",
       "2  8.870689e+30  1.272670e-11  3.232358e+30  14.9796  11.530  10.636  \n",
       "3  9.308451e+29  2.018160e-11  2.979395e+29  14.4115  10.309   9.268  \n",
       "4  1.126370e+30  1.380730e-11  3.103479e+29  14.7381  10.630   9.666  \n",
       "5  1.608939e+30  8.679300e-12  5.149798e+29  15.3277  11.959  11.126  \n",
       "\n",
       "[6 rows x 54 columns]"
      ]
     },
     "execution_count": 8,
     "metadata": {},
     "output_type": "execute_result"
    }
   ],
   "source": [
    "lcs"
   ]
  },
  {
   "cell_type": "code",
   "execution_count": 9,
   "metadata": {},
   "outputs": [
    {
     "data": {
      "text/plain": [
       "ID                            237880881\n",
       "QCS                                   1\n",
       "typ                                 slc\n",
       "cadence_min                           2\n",
       "mission                            tess\n",
       "prefix                              TIC\n",
       "origin                          generic\n",
       "h_mission                          TESS\n",
       "SpT                                  M5\n",
       "view_start                         1331\n",
       "view_stop                        1333.5\n",
       "view_min                            560\n",
       "view_max                            700\n",
       "BJDoff                          2457000\n",
       "tstart                           1331.7\n",
       "ampl_min                            NaN\n",
       "ampl_max                            NaN\n",
       "RA                               19.528\n",
       "Dec                            -62.9831\n",
       "J                                 11.53\n",
       "R                                   NaN\n",
       "Gaia_G                          14.9796\n",
       "vsini_kms                          14.4\n",
       "e_vsini_kms                         2.6\n",
       "Prot_d                          0.35125\n",
       "sini                                NaN\n",
       "Ref                            Kraus+14\n",
       "identifier      2MASS J01180670-6258591\n",
       "Rstar                             0.199\n",
       "ED                                 6020\n",
       "e_ED                                298\n",
       "t0                              1331.82\n",
       "e_t0                            0.00194\n",
       "dur                             0.77347\n",
       "e_dur                           0.02975\n",
       "ampl                            0.46626\n",
       "e_ampl                          0.01576\n",
       "Prot                               8.43\n",
       "theta_a_init                         60\n",
       "idtyp                              tess\n",
       "id                            237880881\n",
       "st                                   M5\n",
       "desig_2mass            01180670-6258591\n",
       "dist                            46.0681\n",
       "dist_err                       0.143774\n",
       "dist_source                        gaia\n",
       "rad                            0.275151\n",
       "tflux                       3.49265e-11\n",
       "tlum                        8.87069e+30\n",
       "kflux                       1.27267e-11\n",
       "klum                        3.23236e+30\n",
       "gmag                            14.9796\n",
       "jmag                              11.53\n",
       "kmag                             10.636\n",
       "incl                           0.371856\n",
       "incl_err                      0.0704167\n",
       "Name: 2, dtype: object"
      ]
     },
     "execution_count": 9,
     "metadata": {},
     "output_type": "execute_result"
    }
   ],
   "source": [
    "lcs = get_incl(lcs)\n",
    "lcs.to_csv(f\"{CWD}/data/summary/everything.csv\", index=False)\n",
    "target = lcs.iloc[2]\n",
    "target"
   ]
  },
  {
   "cell_type": "code",
   "execution_count": 10,
   "metadata": {
    "scrolled": true
   },
   "outputs": [],
   "source": [
    "# from altaipony.altai import find_iterative_median\n",
    "# from altaipony.flarelc import FlareLightCurve\n",
    "# from funcs.custom_detrending import refine_detrended_flux_err\n",
    "# from funcs.multiperiod import remove_sinusoidal\n",
    "# from funcs.helper import fetch_lightcurve\n",
    "\n",
    "# flck = fetch_lightcurve(target)\n",
    "\n",
    "# t, sflux, model, period = remove_sinusoidal(target, plot=True, save=False)\n",
    "# print(t)\n",
    "# F = FlareLightCurve(time=t, detrended_flux=sflux, \n",
    "#                     detrended_flux_err=np.array(len(t)*[np.nanmean(flck.flux_err)]))\n",
    "# print(F.detrended_flux_err)\n",
    "# flcd = refine_detrended_flux_err(F, mask_pos_outliers_sigma=1.5, \n",
    "#                                      std_rolling_window_length=15, pad=25)\n",
    "\n",
    "# choice = (t > target.view_start) & (t < target.view_stop) \n",
    "# # only one flare in TIC 237 : + 1.56 - 1.\n",
    "# t = t[choice]\n",
    "# flux = sflux[choice]\n",
    "# flux_err = np.nanmean(flcd.detrended_flux_err)\n",
    "# median = np.nanmean(find_iterative_median(F).it_med)\n",
    "# phi = (t - t[0])/target.Prot_d * 2 * np.pi\n",
    "\n",
    "# pd.DataFrame({\"phi\":phi,\"flux\":flux, \"t\":t,\n",
    "#               \"flux_err\":flux_err, \"median_\":median}).to_csv(f\"{CWD}/data/lcs/{tstamp}_{target.ID}.csv\",\n",
    "#                                                              index=False)\n",
    "# median"
   ]
  },
  {
   "cell_type": "code",
   "execution_count": 11,
   "metadata": {},
   "outputs": [
    {
     "data": {
      "text/plain": [
       "(10, 25)"
      ]
     },
     "execution_count": 11,
     "metadata": {},
     "output_type": "execute_result"
    },
    {
     "data": {
      "image/png": "[encoded data removed]",
      "text/plain": [
       "<Figure size 432x288 with 1 Axes>"
      ]
     },
     "metadata": {
      "needs_background": "light"
     },
     "output_type": "display_data"
    }
   ],
   "source": [
    "\n",
    "#\n",
    "lc = pd.read_csv(f\"{CWD}/data/lcs/{tstamp}_{target.ID}.csv\")\n",
    "phi = lc.phi.values\n",
    "flux = lc.flux.values\n",
    "flux_err = lc.flux_err.values\n",
    "t= lc.t.values\n",
    "median = lc.median_[0]\n",
    "median\n",
    "plt.plot(phi,flux)\n",
    "plt.xlim(10,25)"
   ]
  },
  {
   "cell_type": "code",
   "execution_count": 12,
   "metadata": {
    "scrolled": true
   },
   "outputs": [
    {
     "name": "stdout",
     "output_type": "stream",
     "text": [
      "20.9253963026697\n",
      "11.485683712824796\n"
     ]
    },
    {
     "data": {
      "text/plain": [
       "((0.8552113334772214, 1.0297442586766543),\n",
       " 0.3718561470554695,\n",
       " (11.8, 14.724101266474062))"
      ]
     },
     "execution_count": 12,
     "metadata": {},
     "output_type": "execute_result"
    }
   ],
   "source": [
    "\n",
    "phi_a = (11.8,(target.t0 - t[0])/target.Prot_d * 2 * np.pi)\n",
    "theta_a = (49*np.pi/180, 59*np.pi/180)\n",
    "a = (1.5, target.ampl)\n",
    "fwhm = (0.5, target.dur /target.Prot_d * 2 * np.pi/5)\n",
    "i_mu = target.incl\n",
    "i_sigma = target.incl_err\n",
    "qlum = target.tlum * u.erg/u.s\n",
    "R = target.rad * R_sun\n",
    "phi0 = 240 * np.pi / 180\n",
    "Fth = calculate_specific_flare_flux(\"TESS\", flaret=1e4)\n",
    "phi_a_max = (phi[-1], phi[-1])\n",
    "for _a in a:\n",
    "    radius = calculate_angular_radius(Fth, _a, qlum, R)\n",
    "    print(radius)\n",
    "theta_a, i_mu, phi_a\n"
   ]
  },
  {
   "cell_type": "code",
   "execution_count": 13,
   "metadata": {},
   "outputs": [
    {
     "data": {
      "text/plain": [
       "(600, 1000)"
      ]
     },
     "execution_count": 13,
     "metadata": {},
     "output_type": "execute_result"
    },
    {
     "data": {
      "image/png": "[encoded data removed]",
      "text/plain": [
       "<Figure size 432x288 with 1 Axes>"
      ]
     },
     "metadata": {
      "needs_background": "light"
     },
     "output_type": "display_data"
    }
   ],
   "source": [
    "plt.plot(phi,flux)\n",
    "for i in range(0,360,20):\n",
    "    plt.plot(phi, full_model_2flares2ars(phi_a, theta_a, a, fwhm, i_mu, phi0=i * np.pi / 180,\n",
    "               phi=phi, num_pts=50, qlum=qlum,\n",
    "               Fth=Fth, R=R, median=median), c=\"r\", alpha=1,)\n",
    "plt.plot(phi, full_model_2flares2ars(phi_a, theta_a, a, fwhm, i_mu, phi0=240 * np.pi / 180,\n",
    "           phi=phi, num_pts=50, qlum=qlum,\n",
    "           Fth=Fth, R=R, median=median), c=\"k\", alpha=1,)\n",
    "plt.ylim(600,1000)"
   ]
  },
  {
   "cell_type": "markdown",
   "metadata": {},
   "source": [
    "### Save inits"
   ]
  },
  {
   "cell_type": "code",
   "execution_count": 14,
   "metadata": {},
   "outputs": [],
   "source": [
    "with open(f\"{CWD}/data/summary/inits.csv\", \"a\") as f:\n",
    "    firstout = \"date,ID,phi_a,theta_a,a,fwhm,Fth,phi0,i_mu,i_sigma,radius_deg,R_Rsun,qlum_erg_s,median\\n\"\n",
    "    out = (f\"{tstamp},{target.ID},{phi_a},{theta_a},{a},{fwhm},{Fth.value},\"\\\n",
    "           f\"{phi0},{i_mu},{i_sigma},{radius},{(R/R_sun).value},{qlum.value},{median}\\n\")\n",
    "    f.write(firstout)\n",
    "    f.write(out)"
   ]
  },
  {
   "cell_type": "markdown",
   "metadata": {},
   "source": [
    "## Run MCMC"
   ]
  },
  {
   "cell_type": "code",
   "execution_count": 15,
   "metadata": {},
   "outputs": [],
   "source": [
    "\n",
    "inits = np.array([*phi_a, *theta_a, *a, *fwhm, i_mu, phi0]) \n",
    "pos = inits * (1. + 1e-3 * np.random.randn(32, 10))\n",
    "nwalkers, ndim = pos.shape\n",
    "\n",
    "# Set up the backend\n",
    "# Don't forget to clear it in case the file already exists\n",
    "filename = f\"{CWD}/analysis/results/mcmc/{tstamp}_{target.ID}_MCMC.h5\"\n",
    "backend = emcee.backends.HDFBackend(filename)\n",
    "backend.reset(nwalkers, ndim)\n",
    "\n",
    "\n",
    "sampler = emcee.EnsembleSampler(nwalkers, ndim, log_probability_2flares2ars,\n",
    "                                args=(phi, flux, flux_err, qlum, Fth, R, median, {\"i_mu\":i_mu,\n",
    "                                      \"i_sigma\":i_sigma, \"theta_a_min\":0, \"phi_a_max\":phi_a_max}),\n",
    "                                backend=backend)"
   ]
  },
  {
   "cell_type": "code",
   "execution_count": 16,
   "metadata": {
    "scrolled": true
   },
   "outputs": [
    {
     "name": "stderr",
     "output_type": "stream",
     "text": [
      "100%|██████████| 50/50 [03:20<00:00,  4.01s/it]\n"
     ]
    }
   ],
   "source": [
    "\n",
    "sampler.run_mcmc(pos, 50, progress=True, store=True);"
   ]
  },
  {
   "cell_type": "code",
   "execution_count": 29,
   "metadata": {},
   "outputs": [
    {
     "name": "stdout",
     "output_type": "stream",
     "text": [
      "Initial size: 11635\n"
     ]
    }
   ],
   "source": [
    "filename = f\"{CWD}/analysis/results/mcmc/{tstamp}_{target.ID}_MCMC.h5\"\n",
    "\n",
    "new_backend = emcee.backends.HDFBackend(filename)\n",
    "print(\"Initial size: {0}\".format(new_backend.iteration))"
   ]
  },
  {
   "cell_type": "code",
   "execution_count": 30,
   "metadata": {},
   "outputs": [
    {
     "data": {
      "text/plain": [
       "('13_01_2020_11_28', 237880881)"
      ]
     },
     "execution_count": 30,
     "metadata": {},
     "output_type": "execute_result"
    }
   ],
   "source": [
    "tstamp, target.ID"
   ]
  },
  {
   "cell_type": "code",
   "execution_count": null,
   "metadata": {},
   "outputs": [
    {
     "name": "stderr",
     "output_type": "stream",
     "text": [
      "  0%|          | 20/50000 [03:22<141:56:08, 10.22s/it]"
     ]
    },
    {
     "name": "stdout",
     "output_type": "stream",
     "text": [
      "INF PRIOR\n"
     ]
    },
    {
     "name": "stderr",
     "output_type": "stream",
     "text": [
      "  0%|          | 26/50000 [04:22<140:22:14, 10.11s/it]"
     ]
    },
    {
     "name": "stdout",
     "output_type": "stream",
     "text": [
      "INF PRIOR\n"
     ]
    },
    {
     "name": "stderr",
     "output_type": "stream",
     "text": [
      "  0%|          | 28/50000 [04:42<140:37:01, 10.13s/it]"
     ]
    },
    {
     "name": "stdout",
     "output_type": "stream",
     "text": [
      "INF PRIOR\n"
     ]
    },
    {
     "name": "stderr",
     "output_type": "stream",
     "text": [
      "  0%|          | 30/50000 [05:02<139:02:57, 10.02s/it]"
     ]
    },
    {
     "name": "stdout",
     "output_type": "stream",
     "text": [
      "INF PRIOR\n"
     ]
    },
    {
     "name": "stderr",
     "output_type": "stream",
     "text": [
      "  0%|          | 38/50000 [06:22<138:46:13, 10.00s/it]"
     ]
    },
    {
     "name": "stdout",
     "output_type": "stream",
     "text": [
      "INF PRIOR\n"
     ]
    },
    {
     "name": "stderr",
     "output_type": "stream",
     "text": [
      "  0%|          | 47/50000 [07:54<140:10:18, 10.10s/it]"
     ]
    },
    {
     "name": "stdout",
     "output_type": "stream",
     "text": [
      "INF PRIOR\n"
     ]
    },
    {
     "name": "stderr",
     "output_type": "stream",
     "text": [
      "  0%|          | 49/50000 [08:13<136:52:30,  9.86s/it]"
     ]
    },
    {
     "name": "stdout",
     "output_type": "stream",
     "text": [
      "INF PRIOR\n"
     ]
    },
    {
     "name": "stderr",
     "output_type": "stream",
     "text": [
      "  0%|          | 53/50000 [08:53<140:36:45, 10.13s/it]"
     ]
    },
    {
     "name": "stdout",
     "output_type": "stream",
     "text": [
      "INF PRIOR\n"
     ]
    },
    {
     "name": "stderr",
     "output_type": "stream",
     "text": [
      "  0%|          | 64/50000 [10:46<145:39:51, 10.50s/it]"
     ]
    },
    {
     "name": "stdout",
     "output_type": "stream",
     "text": [
      "INF PRIOR\n"
     ]
    },
    {
     "name": "stderr",
     "output_type": "stream",
     "text": [
      "  0%|          | 73/50000 [12:18<142:29:12, 10.27s/it]"
     ]
    },
    {
     "name": "stdout",
     "output_type": "stream",
     "text": [
      "INF PRIOR\n"
     ]
    },
    {
     "name": "stderr",
     "output_type": "stream",
     "text": [
      "  0%|          | 80/50000 [13:28<142:06:08, 10.25s/it]"
     ]
    },
    {
     "name": "stdout",
     "output_type": "stream",
     "text": [
      "LOG L ERROR\n",
      "Inclination must be in [0,pi/2]\n"
     ]
    },
    {
     "name": "stderr",
     "output_type": "stream",
     "text": [
      "  0%|          | 119/50000 [20:12<139:58:27, 10.10s/it]"
     ]
    },
    {
     "name": "stdout",
     "output_type": "stream",
     "text": [
      "INF PRIOR\n"
     ]
    },
    {
     "name": "stderr",
     "output_type": "stream",
     "text": [
      "  0%|          | 123/50000 [20:55<143:39:50, 10.37s/it]"
     ]
    },
    {
     "name": "stdout",
     "output_type": "stream",
     "text": [
      "INF PRIOR\n"
     ]
    },
    {
     "name": "stderr",
     "output_type": "stream",
     "text": [
      "\r",
      "  0%|          | 124/50000 [21:04<138:22:50,  9.99s/it]"
     ]
    },
    {
     "name": "stdout",
     "output_type": "stream",
     "text": [
      "LOG L ERROR\n",
      "Inclination must be in [0,pi/2]\n"
     ]
    },
    {
     "name": "stderr",
     "output_type": "stream",
     "text": [
      "  0%|          | 132/50000 [22:23<136:35:43,  9.86s/it]"
     ]
    },
    {
     "name": "stdout",
     "output_type": "stream",
     "text": [
      "INF PRIOR\n"
     ]
    },
    {
     "name": "stderr",
     "output_type": "stream",
     "text": [
      "  0%|          | 142/50000 [24:03<138:05:39,  9.97s/it]"
     ]
    },
    {
     "name": "stdout",
     "output_type": "stream",
     "text": [
      "INF PRIOR\n",
      "INF PRIOR\n"
     ]
    },
    {
     "name": "stderr",
     "output_type": "stream",
     "text": [
      "  0%|          | 144/50000 [24:22<133:23:18,  9.63s/it]"
     ]
    },
    {
     "name": "stdout",
     "output_type": "stream",
     "text": [
      "INF PRIOR\n"
     ]
    },
    {
     "name": "stderr",
     "output_type": "stream",
     "text": [
      "  0%|          | 153/50000 [25:51<139:58:36, 10.11s/it]"
     ]
    },
    {
     "name": "stdout",
     "output_type": "stream",
     "text": [
      "INF PRIOR\n"
     ]
    },
    {
     "name": "stderr",
     "output_type": "stream",
     "text": [
      "  0%|          | 164/50000 [27:41<138:25:06, 10.00s/it]"
     ]
    },
    {
     "name": "stdout",
     "output_type": "stream",
     "text": [
      "INF PRIOR\n"
     ]
    },
    {
     "name": "stderr",
     "output_type": "stream",
     "text": [
      "  0%|          | 171/50000 [28:51<138:43:40, 10.02s/it]"
     ]
    },
    {
     "name": "stdout",
     "output_type": "stream",
     "text": [
      "INF PRIOR\n"
     ]
    },
    {
     "name": "stderr",
     "output_type": "stream",
     "text": [
      "  0%|          | 179/50000 [30:13<138:52:38, 10.04s/it]"
     ]
    },
    {
     "name": "stdout",
     "output_type": "stream",
     "text": [
      "INF PRIOR\n"
     ]
    },
    {
     "name": "stderr",
     "output_type": "stream",
     "text": [
      "  0%|          | 185/50000 [31:12<137:25:14,  9.93s/it]"
     ]
    },
    {
     "name": "stdout",
     "output_type": "stream",
     "text": [
      "INF PRIOR\n"
     ]
    },
    {
     "name": "stderr",
     "output_type": "stream",
     "text": [
      "  0%|          | 192/50000 [32:25<142:16:41, 10.28s/it]"
     ]
    },
    {
     "name": "stdout",
     "output_type": "stream",
     "text": [
      "INF PRIOR\n"
     ]
    },
    {
     "name": "stderr",
     "output_type": "stream",
     "text": [
      "  0%|          | 194/50000 [32:44<135:42:13,  9.81s/it]"
     ]
    },
    {
     "name": "stdout",
     "output_type": "stream",
     "text": [
      "INF PRIOR\n"
     ]
    },
    {
     "name": "stderr",
     "output_type": "stream",
     "text": [
      "  0%|          | 212/50000 [35:51<142:19:41, 10.29s/it]"
     ]
    },
    {
     "name": "stdout",
     "output_type": "stream",
     "text": [
      "INF PRIOR\n"
     ]
    },
    {
     "name": "stderr",
     "output_type": "stream",
     "text": [
      "  0%|          | 234/50000 [39:36<141:19:15, 10.22s/it]"
     ]
    },
    {
     "name": "stdout",
     "output_type": "stream",
     "text": [
      "INF PRIOR\n"
     ]
    },
    {
     "name": "stderr",
     "output_type": "stream",
     "text": [
      "  0%|          | 250/50000 [42:21<143:55:08, 10.41s/it]"
     ]
    },
    {
     "name": "stdout",
     "output_type": "stream",
     "text": [
      "INF PRIOR\n"
     ]
    },
    {
     "name": "stderr",
     "output_type": "stream",
     "text": [
      "  1%|          | 266/50000 [45:07<143:21:20, 10.38s/it]"
     ]
    },
    {
     "name": "stdout",
     "output_type": "stream",
     "text": [
      "INF PRIOR\n"
     ]
    },
    {
     "name": "stderr",
     "output_type": "stream",
     "text": [
      "  1%|          | 273/50000 [46:17<139:57:45, 10.13s/it]"
     ]
    },
    {
     "name": "stdout",
     "output_type": "stream",
     "text": [
      "INF PRIOR\n"
     ]
    },
    {
     "name": "stderr",
     "output_type": "stream",
     "text": [
      "  1%|          | 280/50000 [47:28<139:08:59, 10.08s/it]"
     ]
    },
    {
     "name": "stdout",
     "output_type": "stream",
     "text": [
      "INF PRIOR\n"
     ]
    },
    {
     "name": "stderr",
     "output_type": "stream",
     "text": [
      "  1%|          | 283/50000 [47:58<139:32:11, 10.10s/it]"
     ]
    },
    {
     "name": "stdout",
     "output_type": "stream",
     "text": [
      "INF PRIOR\n"
     ]
    },
    {
     "name": "stderr",
     "output_type": "stream",
     "text": [
      "\r",
      "  1%|          | 284/50000 [48:08<136:38:16,  9.89s/it]"
     ]
    },
    {
     "name": "stdout",
     "output_type": "stream",
     "text": [
      "INF PRIOR\n"
     ]
    },
    {
     "name": "stderr",
     "output_type": "stream",
     "text": [
      "  1%|          | 299/50000 [50:41<141:20:11, 10.24s/it]"
     ]
    },
    {
     "name": "stdout",
     "output_type": "stream",
     "text": [
      "INF PRIOR\n"
     ]
    },
    {
     "name": "stderr",
     "output_type": "stream",
     "text": [
      "  1%|          | 312/50000 [52:56<145:33:01, 10.55s/it]"
     ]
    },
    {
     "name": "stdout",
     "output_type": "stream",
     "text": [
      "INF PRIOR\n"
     ]
    },
    {
     "name": "stderr",
     "output_type": "stream",
     "text": [
      "  1%|          | 317/50000 [53:47<144:08:04, 10.44s/it]"
     ]
    },
    {
     "name": "stdout",
     "output_type": "stream",
     "text": [
      "INF PRIOR\n"
     ]
    },
    {
     "name": "stderr",
     "output_type": "stream",
     "text": [
      "  1%|          | 323/50000 [54:48<138:43:25, 10.05s/it]"
     ]
    },
    {
     "name": "stdout",
     "output_type": "stream",
     "text": [
      "INF PRIOR\n"
     ]
    },
    {
     "name": "stderr",
     "output_type": "stream",
     "text": [
      "\r",
      "  1%|          | 324/50000 [54:57<137:08:03,  9.94s/it]"
     ]
    },
    {
     "name": "stdout",
     "output_type": "stream",
     "text": [
      "INF PRIOR\n"
     ]
    },
    {
     "name": "stderr",
     "output_type": "stream",
     "text": [
      "\r",
      "  1%|          | 325/50000 [55:07<135:51:04,  9.85s/it]"
     ]
    },
    {
     "name": "stdout",
     "output_type": "stream",
     "text": [
      "INF PRIOR\n"
     ]
    },
    {
     "name": "stderr",
     "output_type": "stream",
     "text": [
      "  1%|          | 329/50000 [55:48<139:11:50, 10.09s/it]"
     ]
    },
    {
     "name": "stdout",
     "output_type": "stream",
     "text": [
      "INF PRIOR\n"
     ]
    },
    {
     "name": "stderr",
     "output_type": "stream",
     "text": [
      "  1%|          | 338/50000 [57:18<136:37:38,  9.90s/it]"
     ]
    },
    {
     "name": "stdout",
     "output_type": "stream",
     "text": [
      "INF PRIOR\n"
     ]
    },
    {
     "name": "stderr",
     "output_type": "stream",
     "text": [
      "\r",
      "  1%|          | 339/50000 [57:28<136:26:29,  9.89s/it]"
     ]
    },
    {
     "name": "stdout",
     "output_type": "stream",
     "text": [
      "INF PRIOR\n"
     ]
    },
    {
     "name": "stderr",
     "output_type": "stream",
     "text": [
      "  1%|          | 342/50000 [57:58<137:11:11,  9.95s/it]"
     ]
    },
    {
     "name": "stdout",
     "output_type": "stream",
     "text": [
      "INF PRIOR\n"
     ]
    },
    {
     "name": "stderr",
     "output_type": "stream",
     "text": [
      "  1%|          | 364/50000 [1:01:46<144:22:41, 10.47s/it]"
     ]
    },
    {
     "name": "stdout",
     "output_type": "stream",
     "text": [
      "INF PRIOR\n"
     ]
    },
    {
     "name": "stderr",
     "output_type": "stream",
     "text": [
      "  1%|          | 377/50000 [1:04:02<149:59:22, 10.88s/it]"
     ]
    },
    {
     "name": "stdout",
     "output_type": "stream",
     "text": [
      "INF PRIOR\n"
     ]
    },
    {
     "name": "stderr",
     "output_type": "stream",
     "text": [
      "  1%|          | 385/50000 [1:05:26<141:55:58, 10.30s/it]"
     ]
    },
    {
     "name": "stdout",
     "output_type": "stream",
     "text": [
      "INF PRIOR\n"
     ]
    },
    {
     "name": "stderr",
     "output_type": "stream",
     "text": [
      "\r",
      "  1%|          | 386/50000 [1:05:36<142:22:56, 10.33s/it]"
     ]
    },
    {
     "name": "stdout",
     "output_type": "stream",
     "text": [
      "INF PRIOR\n"
     ]
    },
    {
     "name": "stderr",
     "output_type": "stream",
     "text": [
      "  1%|          | 397/50000 [1:07:29<141:08:11, 10.24s/it]"
     ]
    },
    {
     "name": "stdout",
     "output_type": "stream",
     "text": [
      "INF PRIOR\n",
      "INF PRIOR\n"
     ]
    },
    {
     "name": "stderr",
     "output_type": "stream",
     "text": [
      "  1%|          | 404/50000 [1:08:40<140:24:26, 10.19s/it]"
     ]
    },
    {
     "name": "stdout",
     "output_type": "stream",
     "text": [
      "LOG L ERROR\n",
      "Inclination must be in [0,pi/2]\n"
     ]
    },
    {
     "name": "stderr",
     "output_type": "stream",
     "text": [
      "  1%|          | 409/50000 [1:09:31<142:17:29, 10.33s/it]"
     ]
    },
    {
     "name": "stdout",
     "output_type": "stream",
     "text": [
      "INF PRIOR\n"
     ]
    },
    {
     "name": "stderr",
     "output_type": "stream",
     "text": [
      "  1%|          | 415/50000 [1:10:33<141:41:40, 10.29s/it]"
     ]
    },
    {
     "name": "stdout",
     "output_type": "stream",
     "text": [
      "INF PRIOR\n"
     ]
    },
    {
     "name": "stderr",
     "output_type": "stream",
     "text": [
      "  1%|          | 417/50000 [1:10:53<141:22:33, 10.26s/it]"
     ]
    },
    {
     "name": "stdout",
     "output_type": "stream",
     "text": [
      "INF PRIOR\n"
     ]
    },
    {
     "name": "stderr",
     "output_type": "stream",
     "text": [
      "\r",
      "  1%|          | 418/50000 [1:11:03<138:33:39, 10.06s/it]"
     ]
    },
    {
     "name": "stdout",
     "output_type": "stream",
     "text": [
      "LOG L ERROR\n",
      "Inclination must be in [0,pi/2]\n"
     ]
    },
    {
     "name": "stderr",
     "output_type": "stream",
     "text": [
      "  1%|          | 431/50000 [1:13:22<150:38:15, 10.94s/it]"
     ]
    },
    {
     "name": "stdout",
     "output_type": "stream",
     "text": [
      "INF PRIOR\n"
     ]
    },
    {
     "name": "stderr",
     "output_type": "stream",
     "text": [
      "  1%|          | 446/50000 [1:15:57<141:23:17, 10.27s/it]"
     ]
    },
    {
     "name": "stdout",
     "output_type": "stream",
     "text": [
      "INF PRIOR\n"
     ]
    },
    {
     "name": "stderr",
     "output_type": "stream",
     "text": [
      "  1%|          | 452/50000 [1:16:57<139:07:36, 10.11s/it]"
     ]
    },
    {
     "name": "stdout",
     "output_type": "stream",
     "text": [
      "INF PRIOR\n"
     ]
    },
    {
     "name": "stderr",
     "output_type": "stream",
     "text": [
      "  1%|          | 456/50000 [1:17:39<142:46:38, 10.37s/it]"
     ]
    },
    {
     "name": "stdout",
     "output_type": "stream",
     "text": [
      "INF PRIOR\n"
     ]
    },
    {
     "name": "stderr",
     "output_type": "stream",
     "text": [
      "  1%|          | 469/50000 [1:19:56<145:03:05, 10.54s/it]"
     ]
    },
    {
     "name": "stdout",
     "output_type": "stream",
     "text": [
      "INF PRIOR\n"
     ]
    },
    {
     "name": "stderr",
     "output_type": "stream",
     "text": [
      "  1%|          | 483/50000 [1:22:18<140:32:01, 10.22s/it]"
     ]
    },
    {
     "name": "stdout",
     "output_type": "stream",
     "text": [
      "INF PRIOR\n"
     ]
    },
    {
     "name": "stderr",
     "output_type": "stream",
     "text": [
      "  1%|          | 491/50000 [1:23:39<141:47:54, 10.31s/it]"
     ]
    },
    {
     "name": "stdout",
     "output_type": "stream",
     "text": [
      "INF PRIOR\n"
     ]
    },
    {
     "name": "stderr",
     "output_type": "stream",
     "text": [
      "  1%|          | 493/50000 [1:23:59<139:44:47, 10.16s/it]"
     ]
    },
    {
     "name": "stdout",
     "output_type": "stream",
     "text": [
      "INF PRIOR\n"
     ]
    },
    {
     "name": "stderr",
     "output_type": "stream",
     "text": [
      "  1%|          | 501/50000 [1:25:21<142:06:38, 10.34s/it]"
     ]
    },
    {
     "name": "stdout",
     "output_type": "stream",
     "text": [
      "INF PRIOR\n"
     ]
    },
    {
     "name": "stderr",
     "output_type": "stream",
     "text": [
      "  1%|          | 503/50000 [1:25:40<137:03:40,  9.97s/it]"
     ]
    }
   ],
   "source": [
    "new_sampler = emcee.EnsembleSampler(nwalkers, ndim, log_probability_2flares2ars, \n",
    "                                    args=(phi, flux, flux_err, qlum, Fth, R, median, {\"i_mu\":i_mu,\n",
    "                                      \"i_sigma\":i_sigma, \"theta_a_min\":0, \"phi_a_max\":phi_a_max}),\n",
    "                                    backend=new_backend)\n",
    "new_sampler.run_mcmc(None, 50000, progress=True, store=True)\n",
    "print(\"Final size: {0}\".format(new_backend.iteration))"
   ]
  },
  {
   "cell_type": "code",
   "execution_count": 20,
   "metadata": {},
   "outputs": [],
   "source": [
    "# DEPRECATED SNIPPETS\n",
    "# def t0_ED(x):\n",
    "#     return ED(flc.time, x, dur_mcmc[0], ampl_mcmc[0], median)\n",
    "# def dur_ED(x):\n",
    "#     return ED(flc.time, t0_mcmc[0], x, ampl_mcmc[0], median)\n",
    "# def ampl_ED(x):\n",
    "#     return ED(flc.time, t0_mcmc[0], dur_mcmc[0], x, median)\n",
    "# def median_ED(x):\n",
    "#     return ED(flc.time, t0_mcmc[0], dur_mcmc[0], ampl_mcmc[0], x)\n",
    "# E_t0 = np.sum(derivative(t0_ED, t0_mcmc[0], dx=e_t0/10.)**2 * e_t0**2)\n",
    "# E_dur = np.sum(derivative(dur_ED, dur_mcmc[0], dx=e_dur/10.)**2 * e_dur**2)\n",
    "# E_ampl = np.sum(derivative(ampl_ED, ampl_mcmc[0], dx=e_ampl/10.)**2 * e_ampl**2)\n",
    "# E_median = np.sum(derivative(median_ED, median, dx=e_median/10.)**2 * e_median**2)\n",
    "# np.sqrt(E_t0 + E_dur + E_ampl + E_median), E_t0, E_dur, E_ampl, E_median\n",
    "\n",
    "# check_e_median = ED(flc.time, t0_mcmc[0], dur_mcmc[0], ampl_mcmc[0], median)**2 / median**2 * e_median**2\n",
    "# assert E_median == pytest.approx(E_median,rel=1e-4)\n",
    "# e_median, median\n",
    "\n",
    "# EDval = ED(flc.time, t0_mcmc[0], dur_mcmc[0], ampl_mcmc[0], median)\n",
    "# e_ED = np.sqrt(E_t0 + E_dur + E_ampl + E_median)\n",
    "# EDval,e_ED"
   ]
  },
  {
   "cell_type": "code",
   "execution_count": null,
   "metadata": {},
   "outputs": [],
   "source": []
  }
 ],
 "metadata": {
  "kernelspec": {
   "display_name": "flaresinclustersii",
   "language": "python",
   "name": "flaresinclustersii"
  },
  "language_info": {
   "codemirror_mode": {
    "name": "ipython",
    "version": 3
   },
   "file_extension": ".py",
   "mimetype": "text/x-python",
   "name": "python",
   "nbconvert_exporter": "python",
   "pygments_lexer": "ipython3",
   "version": "3.6.9"
  }
 },
 "nbformat": 4,
 "nbformat_minor": 1
}
